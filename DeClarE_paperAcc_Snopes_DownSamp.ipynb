{
  "nbformat": 4,
  "nbformat_minor": 0,
  "metadata": {
    "colab": {
      "name": "DeClarE_paperAcc_Snopes_DownSamp.ipynb",
      "version": "0.3.2",
      "provenance": [],
      "collapsed_sections": []
    },
    "kernelspec": {
      "name": "python3",
      "display_name": "Python 3"
    }
  },
  "cells": [
    {
      "cell_type": "markdown",
      "metadata": {
        "id": "W7N948yCBkZp",
        "colab_type": "text"
      },
      "source": [
        "# DeClarE Model on Snopes dataset"
      ]
    },
    {
      "cell_type": "markdown",
      "metadata": {
        "id": "3Dk8OpodBouT",
        "colab_type": "text"
      },
      "source": [
        "The DeClarE model is a state of the art fake news detection model that uses Depp learning techniques to classify any input article as being fake or not. This model proposed by Popat et al.(2018) provides a nodel approach to input analysis. As opossed to other fake news detectin models, DeClarE uses external sources to the art as well for classification. It uses the claim text as well as the article and claim source. So in total the model take four inputs including the article itself. The code for DeClarE which is used as the base here can be found at https://github.com/connectsoumya/declare/blob/master/network.py."
      ]
    },
    {
      "cell_type": "markdown",
      "metadata": {
        "id": "xRT7UP4iYRC4",
        "colab_type": "text"
      },
      "source": [
        "## All imports"
      ]
    },
    {
      "cell_type": "code",
      "metadata": {
        "id": "ukVbZwiRoimc",
        "colab_type": "code",
        "outputId": "d816e639-e1cf-41a2-c095-3ccb2fd38e37",
        "colab": {
          "base_uri": "https://localhost:8080/",
          "height": 245
        }
      },
      "source": [
        "# Needed for weights visualization\n",
        "!pip install keract"
      ],
      "execution_count": 0,
      "outputs": [
        {
          "output_type": "stream",
          "text": [
            "Collecting keract\n",
            "  Downloading https://files.pythonhosted.org/packages/28/0d/73750585db779643331c2fc5c10f85377068857e036a8dd629ca64ac1ff7/keract-2.6.2-py2.py3-none-any.whl\n",
            "Requirement already satisfied: numpy in /usr/local/lib/python3.6/dist-packages (from keract) (1.16.4)\n",
            "Requirement already satisfied: keras in /usr/local/lib/python3.6/dist-packages (from keract) (2.2.4)\n",
            "Requirement already satisfied: six>=1.9.0 in /usr/local/lib/python3.6/dist-packages (from keras->keract) (1.12.0)\n",
            "Requirement already satisfied: pyyaml in /usr/local/lib/python3.6/dist-packages (from keras->keract) (3.13)\n",
            "Requirement already satisfied: keras-preprocessing>=1.0.5 in /usr/local/lib/python3.6/dist-packages (from keras->keract) (1.1.0)\n",
            "Requirement already satisfied: h5py in /usr/local/lib/python3.6/dist-packages (from keras->keract) (2.8.0)\n",
            "Requirement already satisfied: scipy>=0.14 in /usr/local/lib/python3.6/dist-packages (from keras->keract) (1.3.1)\n",
            "Requirement already satisfied: keras-applications>=1.0.6 in /usr/local/lib/python3.6/dist-packages (from keras->keract) (1.0.8)\n",
            "Installing collected packages: keract\n",
            "Successfully installed keract-2.6.2\n"
          ],
          "name": "stdout"
        }
      ]
    },
    {
      "cell_type": "code",
      "metadata": {
        "id": "lpydgJ44izGA",
        "colab_type": "code",
        "outputId": "78c47e5d-6529-4b9e-914f-52bc2640e3b9",
        "colab": {
          "base_uri": "https://localhost:8080/",
          "height": 35
        }
      },
      "source": [
        "# The model used in this notebook is a modified version of https://github.com/connectsoumya/declare/blob/master/network.py\n",
        "# All imports\n",
        "import json\n",
        "import pandas as pd\n",
        "import numpy as np\n",
        "from numpy import array\n",
        "from numpy import asarray\n",
        "from numpy import zeros\n",
        "import gzip\n",
        "import spacy\n",
        "from IPython.display import HTML\n",
        "\n",
        "from sklearn.base import BaseEstimator, TransformerMixin\n",
        "from sklearn.model_selection import train_test_split\n",
        "from sklearn.base import BaseEstimator\n",
        "from sklearn import preprocessing\n",
        "from sklearn import svm, datasets\n",
        "from sklearn.model_selection import train_test_split\n",
        "from sklearn.metrics import confusion_matrix\n",
        "from sklearn.utils.multiclass import unique_labels\n",
        "\n",
        "from sklearn.metrics import classification_report\n",
        "from sklearn.metrics import confusion_matrix\n",
        "from sklearn.metrics import precision_score\n",
        "from sklearn.metrics import recall_score\n",
        "from sklearn.metrics import accuracy_score\n",
        "from sklearn.metrics import fbeta_score\n",
        "from sklearn.metrics import roc_curve, auc\n",
        "\n",
        "from keras.preprocessing.text import Tokenizer\n",
        "from keras.preprocessing.sequence import pad_sequences\n",
        "from keras.utils import plot_model\n",
        "from keras.utils import np_utils\n",
        "from keras.models import Model\n",
        "from keras.layers import Input\n",
        "from keras.layers import Dense\n",
        "from keras.layers import Flatten\n",
        "from keras.layers import Average, Embedding, RepeatVector\n",
        "from keras.layers.pooling import MaxPooling2D , GlobalMaxPooling1D\n",
        "from keras.layers.merge import concatenate\n",
        "\n",
        "from keras.layers import Bidirectional\n",
        "from keras.layers import LSTM\n",
        "from keras.layers import Activation\n",
        "from keras.layers import Dot, Average\n",
        "from keras.backend import mean, expand_dims, gradients, function, tile\n",
        "from keras.layers import Lambda\n",
        "from keras.regularizers import l2,l1\n",
        "from keras.layers import Dropout\n",
        "from keras.optimizers import SGD, Adam\n",
        "from keract import get_activations\n",
        "import matplotlib.pyplot as plt\n",
        "import os\n",
        "import shutil\n",
        "import smart_open\n",
        "from sys import platform\n",
        "from scipy import spatial\n",
        "import gensim\n",
        "from gensim.models.keyedvectors import KeyedVectors"
      ],
      "execution_count": 0,
      "outputs": [
        {
          "output_type": "stream",
          "text": [
            "Using TensorFlow backend.\n"
          ],
          "name": "stderr"
        }
      ]
    },
    {
      "cell_type": "code",
      "metadata": {
        "id": "VHKLOGVbTbv8",
        "colab_type": "code",
        "colab": {}
      },
      "source": [
        "# Random seed set to ensure that code provides the same output whenever randomisation is done.\n",
        "seed = 7\n",
        "np.random.seed(seed)"
      ],
      "execution_count": 0,
      "outputs": []
    },
    {
      "cell_type": "code",
      "metadata": {
        "id": "mM3-4JWuTmog",
        "colab_type": "code",
        "outputId": "8bff2c53-7598-4af5-f19f-14957aa0b7ab",
        "colab": {
          "base_uri": "https://localhost:8080/",
          "height": 277
        }
      },
      "source": [
        "# Get the Snopes Dataset from the location provided in the DeClarE paper.\n",
        "!wget http://resources.mpi-inf.mpg.de/impact/dl_cred_analysis/Snopes.zip\n",
        "!unzip Snopes.zip"
      ],
      "execution_count": 0,
      "outputs": [
        {
          "output_type": "stream",
          "text": [
            "--2019-08-20 13:06:40--  http://resources.mpi-inf.mpg.de/impact/dl_cred_analysis/Snopes.zip\n",
            "Resolving resources.mpi-inf.mpg.de (resources.mpi-inf.mpg.de)... 139.19.206.46\n",
            "Connecting to resources.mpi-inf.mpg.de (resources.mpi-inf.mpg.de)|139.19.206.46|:80... connected.\n",
            "HTTP request sent, awaiting response... 200 OK\n",
            "Length: 5559754 (5.3M) [application/zip]\n",
            "Saving to: ‘Snopes.zip’\n",
            "\n",
            "Snopes.zip          100%[===================>]   5.30M  4.47MB/s    in 1.2s    \n",
            "\n",
            "2019-08-20 13:06:42 (4.47 MB/s) - ‘Snopes.zip’ saved [5559754/5559754]\n",
            "\n",
            "Archive:  Snopes.zip\n",
            "   creating: Snopes/\n",
            "  inflating: Snopes/README           \n",
            "  inflating: Snopes/snopes.tsv       \n"
          ],
          "name": "stdout"
        }
      ]
    },
    {
      "cell_type": "code",
      "metadata": {
        "id": "bvDx2dxVTpOx",
        "colab_type": "code",
        "outputId": "8ea01aa1-18fc-4bfa-de5b-2b5d555802cd",
        "colab": {
          "base_uri": "https://localhost:8080/",
          "height": 451
        }
      },
      "source": [
        "# Download the Glove.zip file and expand it.\n",
        "!wget http://nlp.stanford.edu/data/glove.6B.zip\n",
        "!unzip glove*.zip"
      ],
      "execution_count": 0,
      "outputs": [
        {
          "output_type": "stream",
          "text": [
            "--2019-08-20 13:06:46--  http://nlp.stanford.edu/data/glove.6B.zip\n",
            "Resolving nlp.stanford.edu (nlp.stanford.edu)... 171.64.67.140\n",
            "Connecting to nlp.stanford.edu (nlp.stanford.edu)|171.64.67.140|:80... connected.\n",
            "HTTP request sent, awaiting response... 302 Found\n",
            "Location: https://nlp.stanford.edu/data/glove.6B.zip [following]\n",
            "--2019-08-20 13:06:46--  https://nlp.stanford.edu/data/glove.6B.zip\n",
            "Connecting to nlp.stanford.edu (nlp.stanford.edu)|171.64.67.140|:443... connected.\n",
            "HTTP request sent, awaiting response... 301 Moved Permanently\n",
            "Location: http://downloads.cs.stanford.edu/nlp/data/glove.6B.zip [following]\n",
            "--2019-08-20 13:06:46--  http://downloads.cs.stanford.edu/nlp/data/glove.6B.zip\n",
            "Resolving downloads.cs.stanford.edu (downloads.cs.stanford.edu)... 171.64.64.22\n",
            "Connecting to downloads.cs.stanford.edu (downloads.cs.stanford.edu)|171.64.64.22|:80... connected.\n",
            "HTTP request sent, awaiting response... 200 OK\n",
            "Length: 862182613 (822M) [application/zip]\n",
            "Saving to: ‘glove.6B.zip’\n",
            "\n",
            "glove.6B.zip        100%[===================>] 822.24M  28.8MB/s    in 23s     \n",
            "\n",
            "2019-08-20 13:07:09 (35.5 MB/s) - ‘glove.6B.zip’ saved [862182613/862182613]\n",
            "\n",
            "Archive:  glove.6B.zip\n",
            "  inflating: glove.6B.50d.txt        \n",
            "  inflating: glove.6B.100d.txt       \n",
            "  inflating: glove.6B.200d.txt       \n",
            "  inflating: glove.6B.300d.txt       \n"
          ],
          "name": "stdout"
        }
      ]
    },
    {
      "cell_type": "markdown",
      "metadata": {
        "id": "hREDkXvRYV3r",
        "colab_type": "text"
      },
      "source": [
        "## Snopes Data Load"
      ]
    },
    {
      "cell_type": "code",
      "metadata": {
        "id": "XgdrJq7cT0iM",
        "colab_type": "code",
        "colab": {}
      },
      "source": [
        "# Loading the Snopes csv file\n",
        "facts=list()\n",
        "\n",
        "fact=pd.read_csv('./Snopes/snopes.tsv', delimiter = '\\t', names = ['cred_label','claim_id','claim_text','article','article_source'])"
      ],
      "execution_count": 0,
      "outputs": []
    },
    {
      "cell_type": "code",
      "metadata": {
        "id": "pyOzBsLmT3u1",
        "colab_type": "code",
        "outputId": "a27490d9-161f-4be0-9f8f-3985aaa251d4",
        "colab": {
          "base_uri": "https://localhost:8080/",
          "height": 289
        }
      },
      "source": [
        "# The structure of the snopes.tsv file is following: <cred_label>\\t<claim_id>\\t<claim_text>\\t<article>\\t<article_source>\n",
        "fact.head()"
      ],
      "execution_count": 0,
      "outputs": [
        {
          "output_type": "execute_result",
          "data": {
            "text/html": [
              "<div>\n",
              "<style scoped>\n",
              "    .dataframe tbody tr th:only-of-type {\n",
              "        vertical-align: middle;\n",
              "    }\n",
              "\n",
              "    .dataframe tbody tr th {\n",
              "        vertical-align: top;\n",
              "    }\n",
              "\n",
              "    .dataframe thead th {\n",
              "        text-align: right;\n",
              "    }\n",
              "</style>\n",
              "<table border=\"1\" class=\"dataframe\">\n",
              "  <thead>\n",
              "    <tr style=\"text-align: right;\">\n",
              "      <th></th>\n",
              "      <th>cred_label</th>\n",
              "      <th>claim_id</th>\n",
              "      <th>claim_text</th>\n",
              "      <th>article</th>\n",
              "      <th>article_source</th>\n",
              "    </tr>\n",
              "  </thead>\n",
              "  <tbody>\n",
              "    <tr>\n",
              "      <th>0</th>\n",
              "      <td>true</td>\n",
              "      <td>politics_christmas_bestbuy</td>\n",
              "      <td>best buy chain eschewing use word christmas 20...</td>\n",
              "      <td>there are several holidays throughout that tim...</td>\n",
              "      <td>www.godlikeproductions.com</td>\n",
              "    </tr>\n",
              "    <tr>\n",
              "      <th>1</th>\n",
              "      <td>true</td>\n",
              "      <td>politics_christmas_bestbuy</td>\n",
              "      <td>best buy chain eschewing use word christmas 20...</td>\n",
              "      <td>defenses against same photographs show images ...</td>\n",
              "      <td>www.sjpba.net</td>\n",
              "    </tr>\n",
              "    <tr>\n",
              "      <th>2</th>\n",
              "      <td>true</td>\n",
              "      <td>politics_christmas_bestbuy</td>\n",
              "      <td>best buy chain eschewing use word christmas 20...</td>\n",
              "      <td>the best that life could think out we extended...</td>\n",
              "      <td>www.englisher.net</td>\n",
              "    </tr>\n",
              "    <tr>\n",
              "      <th>3</th>\n",
              "      <td>true</td>\n",
              "      <td>politics_christmas_bestbuy</td>\n",
              "      <td>best buy chain eschewing use word christmas 20...</td>\n",
              "      <td>this entry november 19 2006 published 9 years ...</td>\n",
              "      <td>rss2.com</td>\n",
              "    </tr>\n",
              "    <tr>\n",
              "      <th>4</th>\n",
              "      <td>true</td>\n",
              "      <td>politics_christmas_bestbuy</td>\n",
              "      <td>best buy chain eschewing use word christmas 20...</td>\n",
              "      <td>place he will not do either said snape the ord...</td>\n",
              "      <td>www.englisher.net</td>\n",
              "    </tr>\n",
              "  </tbody>\n",
              "</table>\n",
              "</div>"
            ],
            "text/plain": [
              "  cred_label  ...              article_source\n",
              "0       true  ...  www.godlikeproductions.com\n",
              "1       true  ...               www.sjpba.net\n",
              "2       true  ...           www.englisher.net\n",
              "3       true  ...                    rss2.com\n",
              "4       true  ...           www.englisher.net\n",
              "\n",
              "[5 rows x 5 columns]"
            ]
          },
          "metadata": {
            "tags": []
          },
          "execution_count": 7
        }
      ]
    },
    {
      "cell_type": "code",
      "metadata": {
        "id": "7U7F_OG6T6bq",
        "colab_type": "code",
        "outputId": "7b99048f-a264-4e1c-8201-f9a240ab96db",
        "colab": {
          "base_uri": "https://localhost:8080/",
          "height": 260
        }
      },
      "source": [
        "# Get the data statistics\n",
        "label_counts = fact['cred_label'].value_counts()\n",
        "print(label_counts.describe())\n",
        "top_labels = label_counts.nlargest(10)\n",
        "top_labels_list = top_labels.index.tolist()\n",
        "print(top_labels)"
      ],
      "execution_count": 0,
      "outputs": [
        {
          "output_type": "stream",
          "text": [
            "count        4.000000\n",
            "mean      7310.500000\n",
            "std       9874.341176\n",
            "min        144.000000\n",
            "25%        395.250000\n",
            "50%       3921.000000\n",
            "75%      10836.250000\n",
            "max      21256.000000\n",
            "Name: cred_label, dtype: float64\n",
            "false           21256\n",
            "true             7363\n",
            "mostly false      479\n",
            "mostly true       144\n",
            "Name: cred_label, dtype: int64\n"
          ],
          "name": "stdout"
        }
      ]
    },
    {
      "cell_type": "markdown",
      "metadata": {
        "id": "zInUMfGpYr1o",
        "colab_type": "text"
      },
      "source": [
        "## Pre-Process the data"
      ]
    },
    {
      "cell_type": "code",
      "metadata": {
        "id": "p2jVqsLAT6eY",
        "colab_type": "code",
        "outputId": "f37fc19c-f9dc-4c37-91ab-247df21090b7",
        "colab": {
          "base_uri": "https://localhost:8080/",
          "height": 225
        }
      },
      "source": [
        "# Convert the credibility labels to binary labels where 0 is false and 1 is true.\n",
        "claim_label = fact['cred_label']\n",
        "# {'False', 'Half-True', 'Mostly False', 'Mostly True', 'Pants on Fire!', 'True'}\n",
        "claim_label = [1 if tuple == 'true'  or tuple == 'mostly true' else 0 for tuple in claim_label]\n",
        "\n",
        "col = ['claim_label']\n",
        "lbl = pd.DataFrame(claim_label,columns=col)\n",
        "label_counts = lbl['claim_label'].value_counts()\n",
        "print(label_counts.describe())\n",
        "top_labels = label_counts.nlargest(10)\n",
        "top_labels_list = top_labels.index.tolist()\n",
        "print(top_labels)"
      ],
      "execution_count": 0,
      "outputs": [
        {
          "output_type": "stream",
          "text": [
            "count        2.000000\n",
            "mean     14621.000000\n",
            "std      10060.715283\n",
            "min       7507.000000\n",
            "25%      11064.000000\n",
            "50%      14621.000000\n",
            "75%      18178.000000\n",
            "max      21735.000000\n",
            "Name: claim_label, dtype: float64\n",
            "0    21735\n",
            "1     7507\n",
            "Name: claim_label, dtype: int64\n"
          ],
          "name": "stdout"
        }
      ]
    },
    {
      "cell_type": "code",
      "metadata": {
        "id": "qZlYgsqPOHPx",
        "colab_type": "code",
        "colab": {}
      },
      "source": [
        "# Add the binary labels to the datafarme\n",
        "fact['bin_cred_label'] = claim_label"
      ],
      "execution_count": 0,
      "outputs": []
    },
    {
      "cell_type": "code",
      "metadata": {
        "id": "_kmZdh7AebPs",
        "colab_type": "code",
        "colab": {}
      },
      "source": [
        "# As can be seen from the statistics above, class 0 has 3 times more data than class 1\n",
        "# Method to divide input data into true and false dataframes and return them\n",
        "def divide_truefalse(fact):\n",
        "  col = ['cred_label','claim_id','claim_text','article','article_source','bin_cred_label']\n",
        "  true_data= list()\n",
        "  false_data=list()\n",
        "  for index, row in fact.iterrows():\n",
        "    if row['cred_label'] == 'true' or row['cred_label'] == 'mostly true':\n",
        "      true_data.append(row)\n",
        "    else:\n",
        "      false_data.append(row)\n",
        "\n",
        "  data_frame_true = pd.DataFrame(true_data,columns=col)\n",
        "  data_frame_false = pd.DataFrame(false_data,columns=col)\n",
        "  return data_frame_true,data_frame_false"
      ],
      "execution_count": 0,
      "outputs": []
    },
    {
      "cell_type": "code",
      "metadata": {
        "id": "m0TcIOziecIh",
        "colab_type": "code",
        "colab": {}
      },
      "source": [
        "# Divide the Snopes data\n",
        "fact_true,fact_false = divide_truefalse(fact)"
      ],
      "execution_count": 0,
      "outputs": []
    },
    {
      "cell_type": "code",
      "metadata": {
        "id": "PA5ZoVhyefQr",
        "colab_type": "code",
        "colab": {}
      },
      "source": [
        "# Get only the top 8000 false claims and remove the rest\n",
        "top = fact_false.head(8000)\n",
        "frame = [fact_true,top]\n",
        "fact = pd.concat(frame)"
      ],
      "execution_count": 0,
      "outputs": []
    },
    {
      "cell_type": "code",
      "metadata": {
        "id": "TzISEdAfen67",
        "colab_type": "code",
        "outputId": "6f5edb03-f415-446f-bc9a-dcd45600c66f",
        "colab": {
          "base_uri": "https://localhost:8080/",
          "height": 225
        }
      },
      "source": [
        "# Convert label to binary and check the datafarme statistics again\n",
        "claim_label = fact['cred_label']\n",
        "# {'false', 'mostly false', 'mostly true', 'true'}\n",
        "claim_label = [1 if tuple == 'true' or tuple == 'mostly true' else 0 for tuple in claim_label]\n",
        "\n",
        "col = ['claim_label']\n",
        "lbl = pd.DataFrame(claim_label,columns=col)\n",
        "label_counts = lbl['claim_label'].value_counts()\n",
        "print(label_counts.describe())\n",
        "top_labels = label_counts.nlargest(10)\n",
        "top_labels_list = top_labels.index.tolist()\n",
        "print(top_labels)"
      ],
      "execution_count": 0,
      "outputs": [
        {
          "output_type": "stream",
          "text": [
            "count       2.000000\n",
            "mean     7753.500000\n",
            "std       348.603643\n",
            "min      7507.000000\n",
            "25%      7630.250000\n",
            "50%      7753.500000\n",
            "75%      7876.750000\n",
            "max      8000.000000\n",
            "Name: claim_label, dtype: float64\n",
            "0    8000\n",
            "1    7507\n",
            "Name: claim_label, dtype: int64\n"
          ],
          "name": "stdout"
        }
      ]
    },
    {
      "cell_type": "markdown",
      "metadata": {
        "id": "TFbvI4f2beb7",
        "colab_type": "text"
      },
      "source": [
        "## Create Training and Test Data for the model"
      ]
    },
    {
      "cell_type": "code",
      "metadata": {
        "id": "Y9z-kvW6T6iQ",
        "colab_type": "code",
        "colab": {}
      },
      "source": [
        "# Get Train, Test and validation\n",
        "input_train_in,input_test,label_train_in,label_test = train_test_split(fact, claim_label, test_size=0.2, random_state=8)"
      ],
      "execution_count": 0,
      "outputs": []
    },
    {
      "cell_type": "code",
      "metadata": {
        "id": "hcwwpFRK5X9a",
        "colab_type": "code",
        "outputId": "62181700-1b99-4abd-9d0a-961a54f046ec",
        "colab": {
          "base_uri": "https://localhost:8080/",
          "height": 52
        }
      },
      "source": [
        "# Code to check how many unique claims are present in the test set.\n",
        "# Code found here: https://stackoverflow.com/questions/23460345/selecting-unique-rows-between-two-dataframes-in-pandas\n",
        "unique_test = input_test[~input_test['claim_text'].isin(input_train_in['claim_text'])]\n",
        "uniq_set=set(unique_test['claim_text'].tolist())\n",
        "print(\"There are %d unique claims in the test set\" % (len(uniq_set)))\n",
        "print(\"Total unique rows are %d\"%(len(unique_test)))"
      ],
      "execution_count": 0,
      "outputs": [
        {
          "output_type": "stream",
          "text": [
            "There are 69 unique claims in the test set\n",
            "Total unique rows are 87\n"
          ],
          "name": "stdout"
        }
      ]
    },
    {
      "cell_type": "code",
      "metadata": {
        "id": "nfeSBGilJqwG",
        "colab_type": "code",
        "outputId": "1520f42d-7aa1-4045-e511-0be90a2a6069",
        "colab": {
          "base_uri": "https://localhost:8080/",
          "height": 225
        }
      },
      "source": [
        "# Get the claim division for the unique test data.\n",
        "label_counts_uq = unique_test['bin_cred_label'].value_counts()\n",
        "print(label_counts_uq.describe())\n",
        "top_labels_uq = label_counts_uq.nlargest(5)\n",
        "top_labels_list_uq = top_labels_uq.index.tolist()\n",
        "print(top_labels_uq)"
      ],
      "execution_count": 0,
      "outputs": [
        {
          "output_type": "stream",
          "text": [
            "count     2.000000\n",
            "mean     43.500000\n",
            "std      12.020815\n",
            "min      35.000000\n",
            "25%      39.250000\n",
            "50%      43.500000\n",
            "75%      47.750000\n",
            "max      52.000000\n",
            "Name: bin_cred_label, dtype: float64\n",
            "1    52\n",
            "0    35\n",
            "Name: bin_cred_label, dtype: int64\n"
          ],
          "name": "stdout"
        }
      ]
    },
    {
      "cell_type": "code",
      "metadata": {
        "id": "m52mEgHCT6aO",
        "colab_type": "code",
        "colab": {}
      },
      "source": [
        "input_train,input_val,label_train,label_val = train_test_split(input_train_in, label_train_in, test_size=0.2, random_state=8)"
      ],
      "execution_count": 0,
      "outputs": []
    },
    {
      "cell_type": "code",
      "metadata": {
        "id": "4xkuSLQYUM_T",
        "colab_type": "code",
        "outputId": "aaa55335-35ce-403c-cdfb-18628d69ebbc",
        "colab": {
          "base_uri": "https://localhost:8080/",
          "height": 35
        }
      },
      "source": [
        "print(len(input_test))\n",
        "# Training data columns as list\n",
        "clm_list = input_train['claim_text'].tolist()\n",
        "art_list = input_train['article'].tolist()\n",
        "art_src_list = input_train['article_source'].tolist()\n",
        "\n",
        "# Test data columns as list\n",
        "test_clm_list = input_test['claim_text'].tolist()\n",
        "test_art_list = input_test['article'].tolist()\n",
        "test_art_src_list = input_test['article_source'].tolist()"
      ],
      "execution_count": 0,
      "outputs": [
        {
          "output_type": "stream",
          "text": [
            "3102\n"
          ],
          "name": "stdout"
        }
      ]
    },
    {
      "cell_type": "code",
      "metadata": {
        "id": "hgivlDWNUN89",
        "colab_type": "code",
        "colab": {}
      },
      "source": [
        "#Validation data columns as list\n",
        "val_clm_list = input_val['claim_text'].tolist()\n",
        "val_art_list = input_val['article'].tolist()\n",
        "val_art_src_list = input_val['article_source'].tolist()"
      ],
      "execution_count": 0,
      "outputs": []
    },
    {
      "cell_type": "code",
      "metadata": {
        "id": "w4wguQaoUaNc",
        "colab_type": "code",
        "colab": {}
      },
      "source": [
        "# For training data\n",
        "# Article and claim embedding i.e. word embedding. Here the text to sequence conversions occurs.\n",
        "t = Tokenizer()\n",
        "t.fit_on_texts(clm_list + art_list)\n",
        "encoded_claim = t.texts_to_sequences(clm_list)\n",
        "encoded_art = t.texts_to_sequences(art_list)\n",
        "\n",
        "max_len = max(encoded_claim, key=len)\n",
        "max_len_c = 100\n",
        "padded_claim = pad_sequences(encoded_claim, maxlen=max_len_c, padding='post')\n",
        "\n",
        "max_len = max(encoded_art, key=len)\n",
        "max_len_a = 100\n",
        "padded_art = pad_sequences(encoded_art, maxlen=max_len_a, padding='post')"
      ],
      "execution_count": 0,
      "outputs": []
    },
    {
      "cell_type": "code",
      "metadata": {
        "id": "bl8Q-IjLUbKS",
        "colab_type": "code",
        "colab": {}
      },
      "source": [
        "# Get the embedding matrix of the vocabulary from Glove 100.\n",
        "vocab_size = len(t.word_index) + 1\n",
        "embedding_dim = 100\n",
        "word_index = t.word_index\n",
        "def create_embed_matrix(vocab_size, embedding_dim,word_index):\n",
        "  embedding_matrix = np.zeros((vocab_size, embedding_dim))\n",
        "  with open('glove.6B.100d.txt') as f:\n",
        "        for line in f:\n",
        "            word, *vector = line.split()\n",
        "            if word in word_index:\n",
        "                idx = word_index[word] \n",
        "                embedding_matrix[idx] = np.array(\n",
        "                    vector, dtype=np.float32)[:embedding_dim]\n",
        "  return embedding_matrix\n",
        "embedding_matrix = create_embed_matrix(vocab_size, embedding_dim, word_index)"
      ],
      "execution_count": 0,
      "outputs": []
    },
    {
      "cell_type": "code",
      "metadata": {
        "id": "a42FYiyQfu9J",
        "colab_type": "code",
        "outputId": "31d02181-a692-4864-c904-2d3f75ed8d42",
        "colab": {
          "base_uri": "https://localhost:8080/",
          "height": 35
        }
      },
      "source": [
        "# To find how many words of the input text the embedding contains \n",
        "nonzero_elements = np.count_nonzero(np.count_nonzero(embedding_matrix, axis=1))\n",
        "nonzero_elements / vocab_size"
      ],
      "execution_count": 0,
      "outputs": [
        {
          "output_type": "execute_result",
          "data": {
            "text/plain": [
              "0.9999732391350888"
            ]
          },
          "metadata": {
            "tags": []
          },
          "execution_count": 23
        }
      ]
    },
    {
      "cell_type": "code",
      "metadata": {
        "id": "J9W51MAVUmFa",
        "colab_type": "code",
        "colab": {}
      },
      "source": [
        "# For article source embedding    \n",
        "t_asrc = Tokenizer()\n",
        "t_asrc.fit_on_texts(art_src_list)\n",
        "encoded_art_src = t_asrc.texts_to_sequences(art_src_list)\n",
        "\n",
        "max_len = max(encoded_art_src, key=len)\n",
        "max_len_as = 4\n",
        "padded_art_src = pad_sequences(encoded_art_src, maxlen=max_len_as, padding='post')\n",
        "# Create embedding matrix for article source\n",
        "vocab_size_asrc = len(t_asrc.word_index) + 1\n",
        "embedding_matrix_asrc = create_embed_matrix(vocab_size_asrc, 4, t_asrc.word_index)"
      ],
      "execution_count": 0,
      "outputs": []
    },
    {
      "cell_type": "code",
      "metadata": {
        "id": "sw73_gMeUuAC",
        "colab_type": "code",
        "colab": {}
      },
      "source": [
        "# Validation data\n",
        "# Claim and article\n",
        "\n",
        "encoded_claim_val = t.texts_to_sequences(val_clm_list)\n",
        "encoded_art_val = t.texts_to_sequences(val_art_list)\n",
        "\n",
        "max_len_val = max(encoded_claim_val, key=len)\n",
        "max_len_c_val = 100\n",
        "padded_claim_val = pad_sequences(encoded_claim_val, maxlen=max_len_c_val, padding='post')\n",
        "\n",
        "max_len_val = max(encoded_art_val, key=len)\n",
        "max_len_a_val = 100\n",
        "padded_art_val = pad_sequences(encoded_art_val, maxlen=max_len_a_val, padding='post')\n",
        "\n",
        "# Article Sources data\n",
        "encoded_art_src_val = t_asrc.texts_to_sequences(val_art_src_list)\n",
        "\n",
        "max_len_val = max(encoded_art_src_val, key=len)\n",
        "max_len_as_val = 4\n",
        "padded_art_src_val = pad_sequences(encoded_art_src_val, maxlen=max_len_as_val, padding='post')"
      ],
      "execution_count": 0,
      "outputs": []
    },
    {
      "cell_type": "code",
      "metadata": {
        "id": "Uwr47By2Uw-F",
        "colab_type": "code",
        "colab": {}
      },
      "source": [
        "# Test Data\n",
        "# Claim and article\n",
        "\n",
        "encoded_claim_test = t.texts_to_sequences(test_clm_list)\n",
        "encoded_art_test = t.texts_to_sequences(test_art_list)\n",
        "\n",
        "max_len_test = max(encoded_claim_test, key=len)\n",
        "max_len_c_test = 100\n",
        "padded_claim_test = pad_sequences(encoded_claim_test, maxlen=max_len_c_test, padding='post')\n",
        "\n",
        "max_len_test = max(encoded_art_test, key=len)\n",
        "max_len_a_test = 100\n",
        "padded_art_test = pad_sequences(encoded_art_test, maxlen=max_len_a_test, padding='post')\n",
        "\n",
        "# Article ources data\n",
        "encoded_art_src_test = t_asrc.texts_to_sequences(test_art_src_list)\n",
        "\n",
        "max_len_test = max(encoded_art_src_test, key=len)\n",
        "max_len_as_test = 4\n",
        "padded_art_src_test = pad_sequences(encoded_art_src_test, maxlen=max_len_as_test, padding='post')"
      ],
      "execution_count": 0,
      "outputs": []
    },
    {
      "cell_type": "code",
      "metadata": {
        "id": "KB4R2w6lfa1C",
        "colab_type": "code",
        "colab": {}
      },
      "source": [
        "# Method to plot the accuracy and los graph from the history object. Code found in https://realpython.com/python-keras-text-classification/\n",
        "plt.style.use('ggplot')\n",
        "\n",
        "def plot_history(history):\n",
        "    acc = history.history['acc']\n",
        "    val_acc = history.history['val_acc']\n",
        "    loss = history.history['loss']\n",
        "    val_loss = history.history['val_loss']\n",
        "    x = range(1, len(acc) + 1)\n",
        "\n",
        "    plt.figure(figsize=(12, 5))\n",
        "    plt.subplot(1, 2, 1)\n",
        "    plt.plot(x, acc, 'b', label='Training acc')\n",
        "    plt.plot(x, val_acc, 'r', label='Validation acc')\n",
        "    plt.title('Training and validation accuracy')\n",
        "    plt.legend()\n",
        "    plt.subplot(1, 2, 2)\n",
        "    plt.plot(x, loss, 'b', label='Training loss')\n",
        "    plt.plot(x, val_loss, 'r', label='Validation loss')\n",
        "    plt.title('Training and validation loss')\n",
        "    plt.legend()"
      ],
      "execution_count": 0,
      "outputs": []
    },
    {
      "cell_type": "markdown",
      "metadata": {
        "id": "dAivGn08c0di",
        "colab_type": "text"
      },
      "source": [
        "## Bi-LSTM- Simple DeClarE (lr=0.002 & 0.0001)"
      ]
    },
    {
      "cell_type": "code",
      "metadata": {
        "id": "mO9qNUaRczJ9",
        "colab_type": "code",
        "outputId": "c4d25d5f-8282-42b6-c40b-2a7dfbc33505",
        "colab": {
          "base_uri": "https://localhost:8080/",
          "height": 364
        }
      },
      "source": [
        "# # This DeCalrE model only uses Bi-LSTM called Simple DeClarE\n",
        "lstm_op_dim = 64\n",
        "art_wrd1 = Input(shape=(max_len_a,))\n",
        "art_wrd_emb1 = Embedding(vocab_size, 100, input_length=max_len_a, weights=[embedding_matrix], trainable=False)(art_wrd1) # article embedding\n",
        "lstm_op2 = Bidirectional(LSTM(lstm_op_dim, return_sequences=True, recurrent_regularizer=l2(0.00001), kernel_regularizer=l2(0.01)),\n",
        "                         merge_mode='concat')(art_wrd_emb1) # Bi-LSTM layer\n",
        "# Fatten layer\n",
        "flat = Flatten()(lstm_op2)\n",
        "# Article source embedding\n",
        "art_src1 = Input(shape = (max_len_as,))\n",
        "art_src_emb1 = Embedding(vocab_size_asrc, 4, input_length=max_len_as, weights=[embedding_matrix_asrc], trainable=False)(art_src1)\n",
        "art_src_emb_flatten1 = Flatten()(art_src_emb1)\n",
        "\n",
        "# End dense layers\n",
        "dense1 = Dense(8, activation='relu',kernel_regularizer=l2(0.01))(flat)\n",
        "dense1 = Dense(1, activation='sigmoid',kernel_regularizer=l2(0.01))(dense1)\n",
        "\n",
        "model_lstm2 = Model(inputs=art_wrd1, outputs=dense1)\n",
        "adam = Adam(lr=0.0001)\n",
        "#adam = Adam(lr=0.002) # Also used in the second pass\n",
        "model_lstm2.compile(optimizer=adam,\n",
        "                     loss='binary_crossentropy',\n",
        "                     metrics=['accuracy'])\n",
        "print(model_lstm2.summary())"
      ],
      "execution_count": 0,
      "outputs": [
        {
          "output_type": "stream",
          "text": [
            "_________________________________________________________________\n",
            "Layer (type)                 Output Shape              Param #   \n",
            "=================================================================\n",
            "input_10 (InputLayer)        (None, 100)               0         \n",
            "_________________________________________________________________\n",
            "embedding_10 (Embedding)     (None, 100, 100)          3736800   \n",
            "_________________________________________________________________\n",
            "bidirectional_5 (Bidirection (None, 100, 128)          84480     \n",
            "_________________________________________________________________\n",
            "flatten_10 (Flatten)         (None, 12800)             0         \n",
            "_________________________________________________________________\n",
            "dense_13 (Dense)             (None, 8)                 102408    \n",
            "_________________________________________________________________\n",
            "dense_14 (Dense)             (None, 1)                 9         \n",
            "=================================================================\n",
            "Total params: 3,923,697\n",
            "Trainable params: 186,897\n",
            "Non-trainable params: 3,736,800\n",
            "_________________________________________________________________\n",
            "None\n"
          ],
          "name": "stdout"
        }
      ]
    },
    {
      "cell_type": "code",
      "metadata": {
        "id": "Lv_VmYukdHwh",
        "colab_type": "code",
        "outputId": "18e7ff18-f364-49d1-986e-2e75465ad8f8",
        "colab": {
          "base_uri": "https://localhost:8080/",
          "height": 1000
        }
      },
      "source": [
        "# Train model with lr = 0.002\n",
        "history_002 = model_lstm2.fit(padded_art, label_train,\n",
        "                    epochs=30,\n",
        "                    validation_data=(padded_art_val, label_val),\n",
        "                    batch_size=100)"
      ],
      "execution_count": 0,
      "outputs": [
        {
          "output_type": "stream",
          "text": [
            "Train on 9924 samples, validate on 2481 samples\n",
            "Epoch 1/30\n",
            "9924/9924 [==============================] - 33s 3ms/step - loss: 1.3777 - acc: 0.5088 - val_loss: 0.7306 - val_acc: 0.5155\n",
            "Epoch 2/30\n",
            "9924/9924 [==============================] - 30s 3ms/step - loss: 0.7132 - acc: 0.5134 - val_loss: 0.7042 - val_acc: 0.5155\n",
            "Epoch 3/30\n",
            "9924/9924 [==============================] - 30s 3ms/step - loss: 0.7017 - acc: 0.5154 - val_loss: 0.6996 - val_acc: 0.5155\n",
            "Epoch 4/30\n",
            "9924/9924 [==============================] - 30s 3ms/step - loss: 0.6986 - acc: 0.5154 - val_loss: 0.6977 - val_acc: 0.5155\n",
            "Epoch 5/30\n",
            "9924/9924 [==============================] - 30s 3ms/step - loss: 0.6972 - acc: 0.5154 - val_loss: 0.6966 - val_acc: 0.5155\n",
            "Epoch 6/30\n",
            "9924/9924 [==============================] - 30s 3ms/step - loss: 0.6962 - acc: 0.5154 - val_loss: 0.6957 - val_acc: 0.5155\n",
            "Epoch 7/30\n",
            "9924/9924 [==============================] - 30s 3ms/step - loss: 0.6954 - acc: 0.5154 - val_loss: 0.6950 - val_acc: 0.5155\n",
            "Epoch 8/30\n",
            "9924/9924 [==============================] - 30s 3ms/step - loss: 0.6948 - acc: 0.5154 - val_loss: 0.6945 - val_acc: 0.5155\n",
            "Epoch 9/30\n",
            "9924/9924 [==============================] - 30s 3ms/step - loss: 0.6943 - acc: 0.5154 - val_loss: 0.6940 - val_acc: 0.5155\n",
            "Epoch 10/30\n",
            "9924/9924 [==============================] - 30s 3ms/step - loss: 0.6939 - acc: 0.5154 - val_loss: 0.6937 - val_acc: 0.5155\n",
            "Epoch 11/30\n",
            "9924/9924 [==============================] - 30s 3ms/step - loss: 0.6936 - acc: 0.5154 - val_loss: 0.6934 - val_acc: 0.5155\n",
            "Epoch 12/30\n",
            "9924/9924 [==============================] - 30s 3ms/step - loss: 0.6933 - acc: 0.5154 - val_loss: 0.6932 - val_acc: 0.5155\n",
            "Epoch 13/30\n",
            "9924/9924 [==============================] - 30s 3ms/step - loss: 0.6932 - acc: 0.5154 - val_loss: 0.6931 - val_acc: 0.5155\n",
            "Epoch 14/30\n",
            "9924/9924 [==============================] - 30s 3ms/step - loss: 0.6931 - acc: 0.5154 - val_loss: 0.6930 - val_acc: 0.5155\n",
            "Epoch 15/30\n",
            "9924/9924 [==============================] - 30s 3ms/step - loss: 0.6930 - acc: 0.5154 - val_loss: 0.6929 - val_acc: 0.5155\n",
            "Epoch 16/30\n",
            "9924/9924 [==============================] - 30s 3ms/step - loss: 0.6929 - acc: 0.5154 - val_loss: 0.6928 - val_acc: 0.5155\n",
            "Epoch 17/30\n",
            "9924/9924 [==============================] - 30s 3ms/step - loss: 0.6929 - acc: 0.5154 - val_loss: 0.6928 - val_acc: 0.5155\n",
            "Epoch 18/30\n",
            "9924/9924 [==============================] - 30s 3ms/step - loss: 0.6928 - acc: 0.5154 - val_loss: 0.6928 - val_acc: 0.5155\n",
            "Epoch 19/30\n",
            "9924/9924 [==============================] - 30s 3ms/step - loss: 0.6928 - acc: 0.5154 - val_loss: 0.6928 - val_acc: 0.5155\n",
            "Epoch 20/30\n",
            "9924/9924 [==============================] - 30s 3ms/step - loss: 0.6929 - acc: 0.5154 - val_loss: 0.6927 - val_acc: 0.5155\n",
            "Epoch 21/30\n",
            "9924/9924 [==============================] - 30s 3ms/step - loss: 0.6928 - acc: 0.5154 - val_loss: 0.6927 - val_acc: 0.5155\n",
            "Epoch 22/30\n",
            "9924/9924 [==============================] - 30s 3ms/step - loss: 0.6928 - acc: 0.5154 - val_loss: 0.6927 - val_acc: 0.5155\n",
            "Epoch 23/30\n",
            "9924/9924 [==============================] - 30s 3ms/step - loss: 0.6928 - acc: 0.5154 - val_loss: 0.6927 - val_acc: 0.5155\n",
            "Epoch 24/30\n",
            "9924/9924 [==============================] - 30s 3ms/step - loss: 0.6928 - acc: 0.5154 - val_loss: 0.6927 - val_acc: 0.5155\n",
            "Epoch 25/30\n",
            "9924/9924 [==============================] - 30s 3ms/step - loss: 0.6928 - acc: 0.5154 - val_loss: 0.6927 - val_acc: 0.5155\n",
            "Epoch 26/30\n",
            "9924/9924 [==============================] - 30s 3ms/step - loss: 0.6927 - acc: 0.5154 - val_loss: 0.6927 - val_acc: 0.5155\n",
            "Epoch 27/30\n",
            "9924/9924 [==============================] - 30s 3ms/step - loss: 0.6927 - acc: 0.5154 - val_loss: 0.6927 - val_acc: 0.5155\n",
            "Epoch 28/30\n",
            "9924/9924 [==============================] - 30s 3ms/step - loss: 0.6927 - acc: 0.5154 - val_loss: 0.6927 - val_acc: 0.5155\n",
            "Epoch 29/30\n",
            "9924/9924 [==============================] - 30s 3ms/step - loss: 0.6928 - acc: 0.5154 - val_loss: 0.6927 - val_acc: 0.5155\n",
            "Epoch 30/30\n",
            "9924/9924 [==============================] - 30s 3ms/step - loss: 0.6927 - acc: 0.5154 - val_loss: 0.6927 - val_acc: 0.5155\n"
          ],
          "name": "stdout"
        }
      ]
    },
    {
      "cell_type": "code",
      "metadata": {
        "id": "vzq4SKS_SRTV",
        "colab_type": "code",
        "outputId": "baced5a2-ca27-4cd8-96e4-75b356017e0d",
        "colab": {
          "base_uri": "https://localhost:8080/",
          "height": 1000
        }
      },
      "source": [
        "# Train model with lr=0.0001\n",
        "history_001 = model_lstm2.fit(padded_art, label_train,\n",
        "                    epochs=30,\n",
        "                    validation_data=(padded_art_val, label_val),\n",
        "                    batch_size=100)"
      ],
      "execution_count": 0,
      "outputs": [
        {
          "output_type": "stream",
          "text": [
            "Train on 9924 samples, validate on 2481 samples\n",
            "Epoch 1/30\n",
            "9924/9924 [==============================] - 35s 4ms/step - loss: 3.4270 - acc: 0.5460 - val_loss: 3.0983 - val_acc: 0.5941\n",
            "Epoch 2/30\n",
            "9924/9924 [==============================] - 30s 3ms/step - loss: 2.8326 - acc: 0.6225 - val_loss: 2.5814 - val_acc: 0.6417\n",
            "Epoch 3/30\n",
            "9924/9924 [==============================] - 30s 3ms/step - loss: 2.3750 - acc: 0.6449 - val_loss: 2.1818 - val_acc: 0.6590\n",
            "Epoch 4/30\n",
            "9924/9924 [==============================] - 30s 3ms/step - loss: 2.0228 - acc: 0.6609 - val_loss: 1.8777 - val_acc: 0.6606\n",
            "Epoch 5/30\n",
            "9924/9924 [==============================] - 30s 3ms/step - loss: 1.7512 - acc: 0.6736 - val_loss: 1.6469 - val_acc: 0.6638\n",
            "Epoch 6/30\n",
            "9924/9924 [==============================] - 30s 3ms/step - loss: 1.5357 - acc: 0.6786 - val_loss: 1.4512 - val_acc: 0.6703\n",
            "Epoch 7/30\n",
            "9924/9924 [==============================] - 30s 3ms/step - loss: 1.3610 - acc: 0.6907 - val_loss: 1.3065 - val_acc: 0.6715\n",
            "Epoch 8/30\n",
            "9924/9924 [==============================] - 30s 3ms/step - loss: 1.2279 - acc: 0.6918 - val_loss: 1.1897 - val_acc: 0.6780\n",
            "Epoch 9/30\n",
            "9924/9924 [==============================] - 30s 3ms/step - loss: 1.1214 - acc: 0.6961 - val_loss: 1.0904 - val_acc: 0.6780\n",
            "Epoch 10/30\n",
            "9924/9924 [==============================] - 30s 3ms/step - loss: 1.0446 - acc: 0.6929 - val_loss: 1.0164 - val_acc: 0.6687\n",
            "Epoch 11/30\n",
            "9924/9924 [==============================] - 30s 3ms/step - loss: 0.9678 - acc: 0.7082 - val_loss: 0.9629 - val_acc: 0.6804\n",
            "Epoch 12/30\n",
            "9924/9924 [==============================] - 30s 3ms/step - loss: 0.9125 - acc: 0.7141 - val_loss: 0.9114 - val_acc: 0.6792\n",
            "Epoch 13/30\n",
            "9924/9924 [==============================] - 30s 3ms/step - loss: 0.8719 - acc: 0.7109 - val_loss: 0.8730 - val_acc: 0.6800\n",
            "Epoch 14/30\n",
            "9924/9924 [==============================] - 30s 3ms/step - loss: 0.8333 - acc: 0.7185 - val_loss: 0.8511 - val_acc: 0.6892\n",
            "Epoch 15/30\n",
            "9924/9924 [==============================] - 30s 3ms/step - loss: 0.8071 - acc: 0.7222 - val_loss: 0.8751 - val_acc: 0.6554\n",
            "Epoch 16/30\n",
            "9924/9924 [==============================] - 30s 3ms/step - loss: 0.7926 - acc: 0.7165 - val_loss: 0.8009 - val_acc: 0.6969\n",
            "Epoch 17/30\n",
            "9924/9924 [==============================] - 30s 3ms/step - loss: 0.7655 - acc: 0.7259 - val_loss: 0.7887 - val_acc: 0.6937\n",
            "Epoch 18/30\n",
            "9924/9924 [==============================] - 30s 3ms/step - loss: 0.7473 - acc: 0.7311 - val_loss: 0.7850 - val_acc: 0.7005\n",
            "Epoch 19/30\n",
            "9924/9924 [==============================] - 30s 3ms/step - loss: 0.7413 - acc: 0.7261 - val_loss: 0.7628 - val_acc: 0.6957\n",
            "Epoch 20/30\n",
            "9924/9924 [==============================] - 30s 3ms/step - loss: 0.7339 - acc: 0.7274 - val_loss: 0.7594 - val_acc: 0.7070\n",
            "Epoch 21/30\n",
            "9924/9924 [==============================] - 30s 3ms/step - loss: 0.7163 - acc: 0.7368 - val_loss: 0.7459 - val_acc: 0.7094\n",
            "Epoch 22/30\n",
            "9924/9924 [==============================] - 30s 3ms/step - loss: 0.7060 - acc: 0.7382 - val_loss: 0.7402 - val_acc: 0.7086\n",
            "Epoch 23/30\n",
            "9924/9924 [==============================] - 30s 3ms/step - loss: 0.7001 - acc: 0.7389 - val_loss: 0.7314 - val_acc: 0.7070\n",
            "Epoch 24/30\n",
            "9924/9924 [==============================] - 30s 3ms/step - loss: 0.6902 - acc: 0.7441 - val_loss: 0.7321 - val_acc: 0.7126\n",
            "Epoch 25/30\n",
            "9924/9924 [==============================] - 30s 3ms/step - loss: 0.6852 - acc: 0.7462 - val_loss: 0.7209 - val_acc: 0.7211\n",
            "Epoch 26/30\n",
            "9924/9924 [==============================] - 30s 3ms/step - loss: 0.6775 - acc: 0.7471 - val_loss: 0.7456 - val_acc: 0.6925\n",
            "Epoch 27/30\n",
            "9924/9924 [==============================] - 30s 3ms/step - loss: 0.6727 - acc: 0.7496 - val_loss: 0.7168 - val_acc: 0.7247\n",
            "Epoch 28/30\n",
            "9924/9924 [==============================] - 30s 3ms/step - loss: 0.6698 - acc: 0.7453 - val_loss: 0.7278 - val_acc: 0.7054\n",
            "Epoch 29/30\n",
            "9924/9924 [==============================] - 30s 3ms/step - loss: 0.6619 - acc: 0.7553 - val_loss: 0.7208 - val_acc: 0.7098\n",
            "Epoch 30/30\n",
            "9924/9924 [==============================] - 30s 3ms/step - loss: 0.6539 - acc: 0.7597 - val_loss: 0.7044 - val_acc: 0.7299\n"
          ],
          "name": "stdout"
        }
      ]
    },
    {
      "cell_type": "code",
      "metadata": {
        "id": "e3iSNHfmdP7G",
        "colab_type": "code",
        "outputId": "d82d7a06-a6ad-4640-bed9-23060610e484",
        "colab": {
          "base_uri": "https://localhost:8080/",
          "height": 709
        }
      },
      "source": [
        "# Plot the accuracy and loss graphs for when lr = 0.0001 and 0.002\n",
        "loss, accuracy = model_lstm2.evaluate(padded_art_val, label_val, verbose=False)\n",
        "print(\"Validation Accuracy: {:.4f}\".format(accuracy))\n",
        "loss, accuracy = model_lstm2.evaluate(padded_art_test,label_test)\n",
        "print(\"Testing Accuracy:  {:.4f}\".format(accuracy))\n",
        "plot_history(history_001)\n",
        "plot_history(history_002)"
      ],
      "execution_count": 0,
      "outputs": [
        {
          "output_type": "stream",
          "text": [
            "Validation Accuracy: 0.7299\n",
            "3102/3102 [==============================] - 4s 1ms/step\n",
            "Testing Accuracy:  0.7166\n"
          ],
          "name": "stdout"
        },
        {
          "output_type": "display_data",
          "data": {
            "image/png": "[encoded data removed]",
            "text/plain": [
              "<Figure size 864x360 with 2 Axes>"
            ]
          },
          "metadata": {
            "tags": []
          }
        },
        {
          "output_type": "display_data",
          "data": {
            "image/png": "[encoded data removed]",
            "text/plain": [
              "<Figure size 864x360 with 2 Axes>"
            ]
          },
          "metadata": {
            "tags": []
          }
        }
      ]
    },
    {
      "cell_type": "code",
      "metadata": {
        "id": "SonDZ8LMdSl9",
        "colab_type": "code",
        "colab": {}
      },
      "source": [
        "# Predict the test data when lr=0.0001\n",
        "y_pred = model_lstm2.predict(padded_art_test)"
      ],
      "execution_count": 0,
      "outputs": []
    },
    {
      "cell_type": "markdown",
      "metadata": {
        "id": "jLrAEhwZdY12",
        "colab_type": "text"
      },
      "source": [
        "### Misc functions"
      ]
    },
    {
      "cell_type": "code",
      "metadata": {
        "id": "ebLaas6OdWJs",
        "colab_type": "code",
        "colab": {}
      },
      "source": [
        "# Convert the predicted values to 0 or 1\n",
        "def get_proper_labels(y_pred):\n",
        "  prop_label = [1 if tuple>=0.5 else 0 for tuple in y_pred]\n",
        "  return prop_label"
      ],
      "execution_count": 0,
      "outputs": []
    },
    {
      "cell_type": "code",
      "metadata": {
        "id": "Wnfv0tvudb7U",
        "colab_type": "code",
        "colab": {}
      },
      "source": [
        "# Method to plot the confusion matrix. Code taken from https://scikit-learn.org/stable/auto_examples/model_selection/plot_confusion_matrix.html\n",
        "def plot_confusion_matrix(y_true, y_pred, classes,\n",
        "                          normalize=False,\n",
        "                          title=None,\n",
        "                          cmap=plt.cm.Greens):\n",
        "    \"\"\"\n",
        "    This function prints and plots the confusion matrix.\n",
        "    Normalization can be applied by setting `normalize=True`.\n",
        "    \"\"\"\n",
        "    if not title:\n",
        "        if normalize:\n",
        "            title = 'Normalized confusion matrix'\n",
        "        else:\n",
        "            title = 'Confusion matrix, without normalization'\n",
        "\n",
        "    # Compute confusion matrix\n",
        "    cm = confusion_matrix(y_true, y_pred)\n",
        "    if normalize:\n",
        "        cm = cm.astype('float') / cm.sum(axis=1)[:, np.newaxis]\n",
        "        print(\"Normalized confusion matrix\")\n",
        "    else:\n",
        "        print('Confusion matrix, without normalization')\n",
        "\n",
        "    print(cm)\n",
        "\n",
        "    fig, ax = plt.subplots()\n",
        "    im = ax.imshow(cm, interpolation='nearest', cmap=cmap)\n",
        "    ax.figure.colorbar(im, ax=ax)\n",
        "    # We want to show all ticks...\n",
        "    ax.set(xticks=np.arange(cm.shape[1]),\n",
        "           yticks=np.arange(cm.shape[0]),\n",
        "           # ... and label them with the respective list entries\n",
        "           xticklabels=['False','True'], yticklabels=['False','True'],\n",
        "           title=title,\n",
        "           ylabel='True label',\n",
        "           xlabel='Predicted label')\n",
        "\n",
        "    # Rotate the tick labels and set their alignment.\n",
        "    plt.setp(ax.get_xticklabels(), rotation=45, ha=\"right\",\n",
        "             rotation_mode=\"anchor\")\n",
        "    plt.grid(False)\n",
        "\n",
        "    # Loop over data dimensions and create text annotations.\n",
        "    fmt = '.2f' if normalize else 'd'\n",
        "    thresh = cm.max() / 2.\n",
        "    for i in range(cm.shape[0]):\n",
        "        for j in range(cm.shape[1]):\n",
        "            ax.text(j, i, format(cm[i, j], fmt),\n",
        "                    ha=\"center\", va=\"center\",\n",
        "                    color=\"white\" if cm[i, j] > thresh else \"black\")\n",
        "    fig.tight_layout()\n",
        "    return ax"
      ],
      "execution_count": 0,
      "outputs": []
    },
    {
      "cell_type": "code",
      "metadata": {
        "id": "8klSG7zZdh6O",
        "colab_type": "code",
        "colab": {}
      },
      "source": [
        "# Code taken from Lab5 of TaD by Jeff Dalton. This method returns the accuarcy, precision, recall and F1 measure values for an input.\n",
        "def evaluation_summary(description, predictions, true_labels):\n",
        "  print(\"Evaluation for: \" + description)\n",
        "  precision = precision_score(predictions, true_labels, average='macro')\n",
        "  recall = recall_score(predictions, true_labels, average='macro')\n",
        "  accuracy = accuracy_score(predictions, true_labels)\n",
        "  f1 = fbeta_score(predictions, true_labels, 1, average='macro') #1 means f_1 measure\n",
        "  print(\"Classifier '%s' has Acc=%0.4f P=%0.4f R=%0.4f F1=%0.4f\" % (description,accuracy,precision,recall,f1))\n",
        "  print(classification_report(predictions, true_labels, digits=3))\n",
        "  print('\\nConfusion matrix:\\n',confusion_matrix(true_labels, predictions))\n",
        "  return precision,recall,accuracy,f1"
      ],
      "execution_count": 0,
      "outputs": []
    },
    {
      "cell_type": "markdown",
      "metadata": {
        "id": "7nmnzA9Ldl8g",
        "colab_type": "text"
      },
      "source": [
        "### Model Evaluation"
      ]
    },
    {
      "cell_type": "code",
      "metadata": {
        "id": "Kd54lN3YdoB4",
        "colab_type": "code",
        "colab": {}
      },
      "source": [
        "# Get the binary values of the predicted data \n",
        "y_pred_bin = get_proper_labels(y_pred)"
      ],
      "execution_count": 0,
      "outputs": []
    },
    {
      "cell_type": "code",
      "metadata": {
        "id": "17_0GUfZdrTz",
        "colab_type": "code",
        "outputId": "0173d7b9-d828-42f1-b933-9e5fed0b7ff8",
        "colab": {
          "base_uri": "https://localhost:8080/",
          "height": 699
        }
      },
      "source": [
        "# When lr=0.0001\n",
        "plot_confusion_matrix(label_test,y_pred_bin,[0,1])\n",
        "plot_confusion_matrix(label_test,y_pred_bin,[0,1], normalize=True)"
      ],
      "execution_count": 0,
      "outputs": [
        {
          "output_type": "stream",
          "text": [
            "Confusion matrix, without normalization\n",
            "[[1153  453]\n",
            " [ 426 1070]]\n",
            "Normalized confusion matrix\n",
            "[[0.71793275 0.28206725]\n",
            " [0.28475936 0.71524064]]\n"
          ],
          "name": "stdout"
        },
        {
          "output_type": "execute_result",
          "data": {
            "text/plain": [
              "<matplotlib.axes._subplots.AxesSubplot at 0x7fdf38f3a828>"
            ]
          },
          "metadata": {
            "tags": []
          },
          "execution_count": 69
        },
        {
          "output_type": "display_data",
          "data": {
            "image/png": "[encoded data removed]",
            "text/plain": [
              "<Figure size 432x288 with 2 Axes>"
            ]
          },
          "metadata": {
            "tags": []
          }
        },
        {
          "output_type": "display_data",
          "data": {
            "image/png": "[encoded data removed]",
            "text/plain": [
              "<Figure size 432x288 with 2 Axes>"
            ]
          },
          "metadata": {
            "tags": []
          }
        }
      ]
    },
    {
      "cell_type": "code",
      "metadata": {
        "id": "qHRhqEcyTH4e",
        "colab_type": "code",
        "outputId": "0e9fde85-707f-4f0c-9581-b714772c8ee1",
        "colab": {
          "base_uri": "https://localhost:8080/",
          "height": 277
        }
      },
      "source": [
        "# When lr=0.0001\n",
        "basic_p,basc_r,basic_a,basic_f1 = evaluation_summary(\"DeClare-Basic\", y_pred_bin, label_test)"
      ],
      "execution_count": 0,
      "outputs": [
        {
          "output_type": "stream",
          "text": [
            "Evaluation for: DeClare-Basic\n",
            "Classifier 'DeClare-Basic' has Acc=0.7166 P=0.7166 R=0.7164 F1=0.7164\n",
            "              precision    recall  f1-score   support\n",
            "\n",
            "           0      0.718     0.730     0.724      1579\n",
            "           1      0.715     0.703     0.709      1523\n",
            "\n",
            "    accuracy                          0.717      3102\n",
            "   macro avg      0.717     0.716     0.716      3102\n",
            "weighted avg      0.717     0.717     0.717      3102\n",
            "\n",
            "\n",
            "Confusion matrix:\n",
            " [[1153  453]\n",
            " [ 426 1070]]\n"
          ],
          "name": "stdout"
        }
      ]
    },
    {
      "cell_type": "code",
      "metadata": {
        "id": "sv0p7NMeTM0k",
        "colab_type": "code",
        "outputId": "3d050224-409f-4e34-939d-7e9cc10a00d5",
        "colab": {
          "base_uri": "https://localhost:8080/",
          "height": 35
        }
      },
      "source": [
        "# Calculate the AUC value of the result when lr=0.0001\n",
        "fpr, tpr, thresholds = roc_curve(label_test, y_pred_bin)\n",
        "auc_basic = auc(fpr, tpr)\n",
        "print(\"DeClarE Basic AUC-\",auc_basic)"
      ],
      "execution_count": 0,
      "outputs": [
        {
          "output_type": "stream",
          "text": [
            "DeClarE Basic AUC- 0.7165866969452788\n"
          ],
          "name": "stdout"
        }
      ]
    },
    {
      "cell_type": "code",
      "metadata": {
        "id": "yY-4Z1-scaD-",
        "colab_type": "code",
        "colab": {}
      },
      "source": [
        "#Predict the test data when lr=0.002\n",
        "y_pred = model_lstm2.predict(padded_art_test)"
      ],
      "execution_count": 0,
      "outputs": []
    },
    {
      "cell_type": "code",
      "metadata": {
        "id": "INInmBbacaRg",
        "colab_type": "code",
        "outputId": "b3c6db27-d7ab-41fd-eb3e-431f27f22b49",
        "colab": {
          "base_uri": "https://localhost:8080/",
          "height": 699
        }
      },
      "source": [
        "#When lr=0.02\n",
        "y_pred_bin = get_proper_labels(y_pred)\n",
        "plot_confusion_matrix(label_test,y_pred_bin,[0,1])\n",
        "plot_confusion_matrix(label_test,y_pred_bin,[0,1], normalize=True)"
      ],
      "execution_count": 0,
      "outputs": [
        {
          "output_type": "stream",
          "text": [
            "Confusion matrix, without normalization\n",
            "[[1606    0]\n",
            " [1496    0]]\n",
            "Normalized confusion matrix\n",
            "[[1. 0.]\n",
            " [1. 0.]]\n"
          ],
          "name": "stdout"
        },
        {
          "output_type": "execute_result",
          "data": {
            "text/plain": [
              "<matplotlib.axes._subplots.AxesSubplot at 0x7fdf3f2ce2e8>"
            ]
          },
          "metadata": {
            "tags": []
          },
          "execution_count": 35
        },
        {
          "output_type": "display_data",
          "data": {
            "image/png": "[encoded data removed]",
            "text/plain": [
              "<Figure size 432x288 with 2 Axes>"
            ]
          },
          "metadata": {
            "tags": []
          }
        },
        {
          "output_type": "display_data",
          "data": {
            "image/png": "[encoded data removed]",
            "text/plain": [
              "<Figure size 432x288 with 2 Axes>"
            ]
          },
          "metadata": {
            "tags": []
          }
        }
      ]
    },
    {
      "cell_type": "code",
      "metadata": {
        "id": "whzw9SofdwvK",
        "colab_type": "code",
        "outputId": "6b416423-7b2f-44f2-a2bc-cf961c7f7fd6",
        "colab": {
          "base_uri": "https://localhost:8080/",
          "height": 401
        }
      },
      "source": [
        "# This is the outcome when lr=0.002\n",
        "basic_p,basc_r,basic_a,basic_f1 = evaluation_summary(\"DeClare-Basic\", y_pred_bin, label_test)"
      ],
      "execution_count": 0,
      "outputs": [
        {
          "output_type": "stream",
          "text": [
            "Evaluation for: DeClare-Basic\n",
            "Classifier 'DeClare-Basic' has Acc=0.5177 P=0.5000 R=0.2589 F1=0.3411\n",
            "              precision    recall  f1-score   support\n",
            "\n",
            "           0      1.000     0.518     0.682      3102\n",
            "           1      0.000     0.000     0.000         0\n",
            "\n",
            "    accuracy                          0.518      3102\n",
            "   macro avg      0.500     0.259     0.341      3102\n",
            "weighted avg      1.000     0.518     0.682      3102\n",
            "\n",
            "\n",
            "Confusion matrix:\n",
            " [[1606    0]\n",
            " [1496    0]]\n"
          ],
          "name": "stdout"
        },
        {
          "output_type": "stream",
          "text": [
            "/usr/local/lib/python3.6/dist-packages/sklearn/metrics/classification.py:1439: UndefinedMetricWarning: Recall is ill-defined and being set to 0.0 in labels with no true samples.\n",
            "  'recall', 'true', average, warn_for)\n",
            "/usr/local/lib/python3.6/dist-packages/sklearn/metrics/classification.py:1439: UndefinedMetricWarning: F-score is ill-defined and being set to 0.0 in labels with no true samples.\n",
            "  'recall', 'true', average, warn_for)\n",
            "/usr/local/lib/python3.6/dist-packages/sklearn/metrics/classification.py:1439: UndefinedMetricWarning: Recall and F-score are ill-defined and being set to 0.0 in labels with no true samples.\n",
            "  'recall', 'true', average, warn_for)\n"
          ],
          "name": "stderr"
        }
      ]
    },
    {
      "cell_type": "code",
      "metadata": {
        "id": "dQdSrXnjd3NC",
        "colab_type": "code",
        "outputId": "fda6c941-f4a7-4dc0-a6dd-e6834ac9052f",
        "colab": {
          "base_uri": "https://localhost:8080/",
          "height": 35
        }
      },
      "source": [
        "#When lr=0.002\n",
        "fpr, tpr, thresholds = roc_curve(label_test, y_pred_bin)\n",
        "auc_basic = auc(fpr, tpr)\n",
        "print(\"DeClarE Basic AUC-\",auc_basic)"
      ],
      "execution_count": 0,
      "outputs": [
        {
          "output_type": "stream",
          "text": [
            "DeClarE Basic AUC- 0.5\n"
          ],
          "name": "stdout"
        }
      ]
    },
    {
      "cell_type": "markdown",
      "metadata": {
        "id": "tmONtc92cCh3",
        "colab_type": "text"
      },
      "source": [
        "## DeClarE Simple + Attn (lr=0.002 & 0.0001)"
      ]
    },
    {
      "cell_type": "code",
      "metadata": {
        "id": "MQ3av-Ery18j",
        "colab_type": "code",
        "outputId": "a6579279-675b-4146-e8cd-2dc77d8358c5",
        "colab": {
          "base_uri": "https://localhost:8080/",
          "height": 849
        }
      },
      "source": [
        "# DeClarE model- Simple + Attention\n",
        "lstm_op_dim = 64\n",
        "\n",
        "clm_wrd = Input(shape=(max_len_c,))\n",
        "clm_wrd_emb = Embedding(vocab_size, 100, input_length=max_len_c, weights=[embedding_matrix], trainable=False)(clm_wrd) # claim embedding\n",
        "mean_clm_wrd_emb = Lambda(lambda xin: mean(xin, axis=1))(clm_wrd_emb) #Average of the embedding using lambda \n",
        "mean_clm_wrd_emb_exp = RepeatVector(100)(mean_clm_wrd_emb) # Repeat vector to increase the matrix size for flatten\n",
        "mean_clm_wrd_emb_flat = Flatten()(mean_clm_wrd_emb_exp) # Flatten layer\n",
        "\n",
        "art_wrd1 = Input(shape=(max_len_a,))\n",
        "art_wrd_emb1 = Embedding(vocab_size, 100, input_length=max_len_a, weights=[embedding_matrix], trainable=False)(art_wrd1) # article embedding\n",
        "art_wrd_emb_flat = Flatten()(art_wrd_emb1) # Flatten layer\n",
        "\n",
        "ip_to_dense = concatenate(axis=-1, inputs = [mean_clm_wrd_emb_flat, art_wrd_emb_flat]) # concatenation of article and claim embedding\n",
        "# Attention mechanism\n",
        "attn_weights = Dense(128, activation='tanh')(ip_to_dense)\n",
        "attn_weights = Activation('softmax')(attn_weights)\n",
        "\n",
        "model_attn_wts = Model(inputs=[clm_wrd, art_wrd1], outputs=attn_weights)\n",
        "# Bi-LSTM on article embedding\n",
        "lstm_op2 = Bidirectional(LSTM(lstm_op_dim, return_sequences=True, recurrent_regularizer=l2(0.00001), kernel_regularizer=l2(0.01)),\n",
        "                         merge_mode='concat')(art_wrd_emb1)\n",
        "model_lstm = Model(inputs=art_wrd1, outputs=lstm_op2)\n",
        "\n",
        "# Dot product of output of attention mechanism and Bi-LSTM\n",
        "inner_pdt = Dot(axes=-1)([model_attn_wts.output, model_lstm.output])\n",
        "inner_pdt = RepeatVector(3)(inner_pdt)\n",
        "mean_dim = Lambda(lambda xin: mean(xin, axis=-1))(inner_pdt)\n",
        "\n",
        "# End dense layers\n",
        "dense1 = Dense(8, activation='relu',kernel_regularizer=l2(0.01))(mean_dim)\n",
        "drop1 = Dropout(rate = 0.2)(dense1)\n",
        "dense1 = Dense(8, activation='relu',kernel_regularizer=l2(0.01))(drop1)\n",
        "dense1 = Dense(1, activation='sigmoid',kernel_regularizer=l2(0.01))(dense1)\n",
        "\n",
        "model_dec1 = Model(inputs=[clm_wrd,art_wrd1], outputs=dense1)\n",
        "#adam = Adam(lr=0.002) # Also used on the second pass\n",
        "adam = Adam(lr=0.0001)\n",
        "model_dec1.compile(optimizer=adam,\n",
        "                     loss='binary_crossentropy',\n",
        "                     metrics=['accuracy'])\n",
        "print(model_dec1.summary())"
      ],
      "execution_count": 0,
      "outputs": [
        {
          "output_type": "stream",
          "text": [
            "__________________________________________________________________________________________________\n",
            "Layer (type)                    Output Shape         Param #     Connected to                     \n",
            "==================================================================================================\n",
            "input_12 (InputLayer)           (None, 100)          0                                            \n",
            "__________________________________________________________________________________________________\n",
            "embedding_12 (Embedding)        (None, 100, 100)     3736800     input_12[0][0]                   \n",
            "__________________________________________________________________________________________________\n",
            "lambda_5 (Lambda)               (None, 100)          0           embedding_12[0][0]               \n",
            "__________________________________________________________________________________________________\n",
            "input_13 (InputLayer)           (None, 100)          0                                            \n",
            "__________________________________________________________________________________________________\n",
            "repeat_vector_5 (RepeatVector)  (None, 100, 100)     0           lambda_5[0][0]                   \n",
            "__________________________________________________________________________________________________\n",
            "embedding_13 (Embedding)        (None, 100, 100)     3736800     input_13[0][0]                   \n",
            "__________________________________________________________________________________________________\n",
            "flatten_12 (Flatten)            (None, 10000)        0           repeat_vector_5[0][0]            \n",
            "__________________________________________________________________________________________________\n",
            "flatten_13 (Flatten)            (None, 10000)        0           embedding_13[0][0]               \n",
            "__________________________________________________________________________________________________\n",
            "concatenate_5 (Concatenate)     (None, 20000)        0           flatten_12[0][0]                 \n",
            "                                                                 flatten_13[0][0]                 \n",
            "__________________________________________________________________________________________________\n",
            "dense_15 (Dense)                (None, 128)          2560128     concatenate_5[0][0]              \n",
            "__________________________________________________________________________________________________\n",
            "activation_3 (Activation)       (None, 128)          0           dense_15[0][0]                   \n",
            "__________________________________________________________________________________________________\n",
            "bidirectional_6 (Bidirectional) (None, 100, 128)     84480       embedding_13[0][0]               \n",
            "__________________________________________________________________________________________________\n",
            "dot_3 (Dot)                     (None, 100)          0           activation_3[0][0]               \n",
            "                                                                 bidirectional_6[0][0]            \n",
            "__________________________________________________________________________________________________\n",
            "repeat_vector_6 (RepeatVector)  (None, 3, 100)       0           dot_3[0][0]                      \n",
            "__________________________________________________________________________________________________\n",
            "lambda_6 (Lambda)               (None, 3)            0           repeat_vector_6[0][0]            \n",
            "__________________________________________________________________________________________________\n",
            "dense_16 (Dense)                (None, 8)            32          lambda_6[0][0]                   \n",
            "__________________________________________________________________________________________________\n",
            "dropout_3 (Dropout)             (None, 8)            0           dense_16[0][0]                   \n",
            "__________________________________________________________________________________________________\n",
            "dense_17 (Dense)                (None, 8)            72          dropout_3[0][0]                  \n",
            "__________________________________________________________________________________________________\n",
            "dense_18 (Dense)                (None, 1)            9           dense_17[0][0]                   \n",
            "==================================================================================================\n",
            "Total params: 10,118,321\n",
            "Trainable params: 2,644,721\n",
            "Non-trainable params: 7,473,600\n",
            "__________________________________________________________________________________________________\n",
            "None\n"
          ],
          "name": "stdout"
        }
      ]
    },
    {
      "cell_type": "code",
      "metadata": {
        "id": "nhM0tQOycvRu",
        "colab_type": "code",
        "colab": {}
      },
      "source": [
        "# Get the image of the model structure as PNG\n",
        "plot_model(model_dec1, to_file='declare_art_cl.png')"
      ],
      "execution_count": 0,
      "outputs": []
    },
    {
      "cell_type": "code",
      "metadata": {
        "id": "Xg6qmOKOTbay",
        "colab_type": "code",
        "outputId": "ac0224ab-6874-480c-8b6c-411bb4df083e",
        "colab": {
          "base_uri": "https://localhost:8080/",
          "height": 1000
        }
      },
      "source": [
        "# Model training when lr=0.0001\n",
        "history3 = model_dec1.fit([padded_claim,padded_art], label_train,\n",
        "                    epochs=30,\n",
        "                    validation_data=([padded_claim_val,padded_art_val], label_val),\n",
        "                    batch_size=100)"
      ],
      "execution_count": 0,
      "outputs": [
        {
          "output_type": "stream",
          "text": [
            "Train on 9924 samples, validate on 2481 samples\n",
            "Epoch 1/30\n",
            "9924/9924 [==============================] - 41s 4ms/step - loss: 3.4183 - acc: 0.5161 - val_loss: 3.1164 - val_acc: 0.5155\n",
            "Epoch 2/30\n",
            "9924/9924 [==============================] - 36s 4ms/step - loss: 2.8653 - acc: 0.5138 - val_loss: 2.6237 - val_acc: 0.5155\n",
            "Epoch 3/30\n",
            "9924/9924 [==============================] - 36s 4ms/step - loss: 2.4218 - acc: 0.5154 - val_loss: 2.2274 - val_acc: 0.5155\n",
            "Epoch 4/30\n",
            "9924/9924 [==============================] - 35s 4ms/step - loss: 2.0651 - acc: 0.5154 - val_loss: 1.9089 - val_acc: 0.5155\n",
            "Epoch 5/30\n",
            "9924/9924 [==============================] - 35s 4ms/step - loss: 1.7788 - acc: 0.5154 - val_loss: 1.6536 - val_acc: 0.5155\n",
            "Epoch 6/30\n",
            "9924/9924 [==============================] - 36s 4ms/step - loss: 1.5497 - acc: 0.5154 - val_loss: 1.4499 - val_acc: 0.5155\n",
            "Epoch 7/30\n",
            "9924/9924 [==============================] - 36s 4ms/step - loss: 1.3673 - acc: 0.5154 - val_loss: 1.2882 - val_acc: 0.5155\n",
            "Epoch 8/30\n",
            "9924/9924 [==============================] - 36s 4ms/step - loss: 1.2230 - acc: 0.5154 - val_loss: 1.1607 - val_acc: 0.5155\n",
            "Epoch 9/30\n",
            "9924/9924 [==============================] - 36s 4ms/step - loss: 1.1096 - acc: 0.5154 - val_loss: 1.0608 - val_acc: 0.5155\n",
            "Epoch 10/30\n",
            "9924/9924 [==============================] - 36s 4ms/step - loss: 1.0210 - acc: 0.5154 - val_loss: 0.9831 - val_acc: 0.5155\n",
            "Epoch 11/30\n",
            "9924/9924 [==============================] - 36s 4ms/step - loss: 0.9523 - acc: 0.5154 - val_loss: 0.9232 - val_acc: 0.5155\n",
            "Epoch 12/30\n",
            "9924/9924 [==============================] - 35s 4ms/step - loss: 0.8995 - acc: 0.5154 - val_loss: 0.8772 - val_acc: 0.5155\n",
            "Epoch 13/30\n",
            "9924/9924 [==============================] - 35s 4ms/step - loss: 0.8555 - acc: 0.5154 - val_loss: 0.8380 - val_acc: 0.5155\n",
            "Epoch 14/30\n",
            "9924/9924 [==============================] - 36s 4ms/step - loss: 0.8124 - acc: 0.5168 - val_loss: 0.8033 - val_acc: 0.5155\n",
            "Epoch 15/30\n",
            "9924/9924 [==============================] - 36s 4ms/step - loss: 0.7722 - acc: 0.6245 - val_loss: 0.7791 - val_acc: 0.5848\n",
            "Epoch 16/30\n",
            "9924/9924 [==============================] - 35s 4ms/step - loss: 0.7377 - acc: 0.7175 - val_loss: 0.7593 - val_acc: 0.6207\n",
            "Epoch 17/30\n",
            "9924/9924 [==============================] - 36s 4ms/step - loss: 0.7039 - acc: 0.7603 - val_loss: 0.7455 - val_acc: 0.6219\n",
            "Epoch 18/30\n",
            "9924/9924 [==============================] - 36s 4ms/step - loss: 0.6732 - acc: 0.8187 - val_loss: 0.7337 - val_acc: 0.6401\n",
            "Epoch 19/30\n",
            "9924/9924 [==============================] - 36s 4ms/step - loss: 0.6420 - acc: 0.8599 - val_loss: 0.7258 - val_acc: 0.6417\n",
            "Epoch 20/30\n",
            "9924/9924 [==============================] - 36s 4ms/step - loss: 0.6126 - acc: 0.8891 - val_loss: 0.7152 - val_acc: 0.6598\n",
            "Epoch 21/30\n",
            "9924/9924 [==============================] - 35s 4ms/step - loss: 0.5804 - acc: 0.9102 - val_loss: 0.7140 - val_acc: 0.6570\n",
            "Epoch 22/30\n",
            "9924/9924 [==============================] - 36s 4ms/step - loss: 0.5514 - acc: 0.9218 - val_loss: 0.7130 - val_acc: 0.6602\n",
            "Epoch 23/30\n",
            "9924/9924 [==============================] - 36s 4ms/step - loss: 0.5227 - acc: 0.9384 - val_loss: 0.7268 - val_acc: 0.6505\n",
            "Epoch 24/30\n",
            "9924/9924 [==============================] - 36s 4ms/step - loss: 0.4933 - acc: 0.9499 - val_loss: 0.7275 - val_acc: 0.6518\n",
            "Epoch 25/30\n",
            "9924/9924 [==============================] - 36s 4ms/step - loss: 0.4677 - acc: 0.9587 - val_loss: 0.7128 - val_acc: 0.6659\n",
            "Epoch 26/30\n",
            "9924/9924 [==============================] - 36s 4ms/step - loss: 0.4411 - acc: 0.9627 - val_loss: 0.7286 - val_acc: 0.6554\n",
            "Epoch 27/30\n",
            "9924/9924 [==============================] - 36s 4ms/step - loss: 0.4158 - acc: 0.9702 - val_loss: 0.7390 - val_acc: 0.6562\n",
            "Epoch 28/30\n",
            "9924/9924 [==============================] - 36s 4ms/step - loss: 0.3936 - acc: 0.9743 - val_loss: 0.7379 - val_acc: 0.6655\n",
            "Epoch 29/30\n",
            "9924/9924 [==============================] - 36s 4ms/step - loss: 0.3711 - acc: 0.9787 - val_loss: 0.7598 - val_acc: 0.6574\n",
            "Epoch 30/30\n",
            "9924/9924 [==============================] - 36s 4ms/step - loss: 0.3533 - acc: 0.9809 - val_loss: 0.7527 - val_acc: 0.6683\n"
          ],
          "name": "stdout"
        }
      ]
    },
    {
      "cell_type": "code",
      "metadata": {
        "id": "hIz4ZE-Vgkkf",
        "colab_type": "code",
        "outputId": "f70083f9-3d94-4e1f-b7f4-a7b373ef87b0",
        "colab": {
          "base_uri": "https://localhost:8080/",
          "height": 1000
        }
      },
      "source": [
        "# Model training when lr=0.002\n",
        "history3_02 = model_dec1.fit([padded_claim,padded_art], label_train,\n",
        "                    epochs=30,\n",
        "                    validation_data=([padded_claim_val,padded_art_val], label_val),\n",
        "                    batch_size=100)"
      ],
      "execution_count": 0,
      "outputs": [
        {
          "output_type": "stream",
          "text": [
            "Train on 9924 samples, validate on 2481 samples\n",
            "Epoch 1/30\n",
            "9924/9924 [==============================] - 39s 4ms/step - loss: 1.3192 - acc: 0.5149 - val_loss: 0.7439 - val_acc: 0.5155\n",
            "Epoch 2/30\n",
            "9924/9924 [==============================] - 36s 4ms/step - loss: 0.7242 - acc: 0.5154 - val_loss: 0.7100 - val_acc: 0.5155\n",
            "Epoch 3/30\n",
            "9924/9924 [==============================] - 36s 4ms/step - loss: 0.7032 - acc: 0.5154 - val_loss: 0.6982 - val_acc: 0.5155\n",
            "Epoch 4/30\n",
            "9924/9924 [==============================] - 36s 4ms/step - loss: 0.6960 - acc: 0.5154 - val_loss: 0.6943 - val_acc: 0.5155\n",
            "Epoch 5/30\n",
            "9924/9924 [==============================] - 36s 4ms/step - loss: 0.6937 - acc: 0.5154 - val_loss: 0.6931 - val_acc: 0.5155\n",
            "Epoch 6/30\n",
            "9924/9924 [==============================] - 36s 4ms/step - loss: 0.6930 - acc: 0.5154 - val_loss: 0.6928 - val_acc: 0.5155\n",
            "Epoch 7/30\n",
            "9924/9924 [==============================] - 36s 4ms/step - loss: 0.6928 - acc: 0.5154 - val_loss: 0.6927 - val_acc: 0.5155\n",
            "Epoch 8/30\n",
            "9924/9924 [==============================] - 36s 4ms/step - loss: 0.6927 - acc: 0.5154 - val_loss: 0.6927 - val_acc: 0.5155\n",
            "Epoch 9/30\n",
            "9924/9924 [==============================] - 35s 4ms/step - loss: 0.6927 - acc: 0.5154 - val_loss: 0.6927 - val_acc: 0.5155\n",
            "Epoch 10/30\n",
            "9924/9924 [==============================] - 35s 4ms/step - loss: 0.6927 - acc: 0.5154 - val_loss: 0.6927 - val_acc: 0.5155\n",
            "Epoch 11/30\n",
            "9924/9924 [==============================] - 35s 4ms/step - loss: 0.6927 - acc: 0.5154 - val_loss: 0.6927 - val_acc: 0.5155\n",
            "Epoch 12/30\n",
            "9924/9924 [==============================] - 35s 4ms/step - loss: 0.6927 - acc: 0.5154 - val_loss: 0.6927 - val_acc: 0.5155\n",
            "Epoch 13/30\n",
            "9924/9924 [==============================] - 36s 4ms/step - loss: 0.6927 - acc: 0.5154 - val_loss: 0.6927 - val_acc: 0.5155\n",
            "Epoch 14/30\n",
            "9924/9924 [==============================] - 36s 4ms/step - loss: 0.6927 - acc: 0.5154 - val_loss: 0.6927 - val_acc: 0.5155\n",
            "Epoch 15/30\n",
            "9924/9924 [==============================] - 36s 4ms/step - loss: 0.6927 - acc: 0.5154 - val_loss: 0.6927 - val_acc: 0.5155\n",
            "Epoch 16/30\n",
            "9924/9924 [==============================] - 36s 4ms/step - loss: 0.6927 - acc: 0.5154 - val_loss: 0.6927 - val_acc: 0.5155\n",
            "Epoch 17/30\n",
            "9924/9924 [==============================] - 36s 4ms/step - loss: 0.6927 - acc: 0.5154 - val_loss: 0.6927 - val_acc: 0.5155\n",
            "Epoch 18/30\n",
            "9924/9924 [==============================] - 36s 4ms/step - loss: 0.6927 - acc: 0.5154 - val_loss: 0.6927 - val_acc: 0.5155\n",
            "Epoch 19/30\n",
            "9924/9924 [==============================] - 36s 4ms/step - loss: 0.6927 - acc: 0.5154 - val_loss: 0.6927 - val_acc: 0.5155\n",
            "Epoch 20/30\n",
            "9924/9924 [==============================] - 35s 4ms/step - loss: 0.6928 - acc: 0.5154 - val_loss: 0.6927 - val_acc: 0.5155\n",
            "Epoch 21/30\n",
            "9924/9924 [==============================] - 35s 4ms/step - loss: 0.6927 - acc: 0.5154 - val_loss: 0.6927 - val_acc: 0.5155\n",
            "Epoch 22/30\n",
            "9924/9924 [==============================] - 36s 4ms/step - loss: 0.6927 - acc: 0.5154 - val_loss: 0.6927 - val_acc: 0.5155\n",
            "Epoch 23/30\n",
            "9924/9924 [==============================] - 36s 4ms/step - loss: 0.6927 - acc: 0.5154 - val_loss: 0.6927 - val_acc: 0.5155\n",
            "Epoch 24/30\n",
            "9924/9924 [==============================] - 36s 4ms/step - loss: 0.6927 - acc: 0.5154 - val_loss: 0.6927 - val_acc: 0.5155\n",
            "Epoch 25/30\n",
            "9924/9924 [==============================] - 36s 4ms/step - loss: 0.6927 - acc: 0.5154 - val_loss: 0.6927 - val_acc: 0.5155\n",
            "Epoch 26/30\n",
            "9924/9924 [==============================] - 36s 4ms/step - loss: 0.6927 - acc: 0.5154 - val_loss: 0.6927 - val_acc: 0.5155\n",
            "Epoch 27/30\n",
            "9924/9924 [==============================] - 36s 4ms/step - loss: 0.6927 - acc: 0.5154 - val_loss: 0.6927 - val_acc: 0.5155\n",
            "Epoch 28/30\n",
            "9924/9924 [==============================] - 36s 4ms/step - loss: 0.6927 - acc: 0.5154 - val_loss: 0.6927 - val_acc: 0.5155\n",
            "Epoch 29/30\n",
            "9924/9924 [==============================] - 36s 4ms/step - loss: 0.6927 - acc: 0.5154 - val_loss: 0.6927 - val_acc: 0.5155\n",
            "Epoch 30/30\n",
            "9924/9924 [==============================] - 36s 4ms/step - loss: 0.6927 - acc: 0.5154 - val_loss: 0.6927 - val_acc: 0.5155\n"
          ],
          "name": "stdout"
        }
      ]
    },
    {
      "cell_type": "code",
      "metadata": {
        "colab_type": "code",
        "id": "FXIxKesQhRi9",
        "outputId": "47e31156-71d4-4b9a-e8a9-ab42aa4f0e20",
        "colab": {
          "base_uri": "https://localhost:8080/",
          "height": 727
        }
      },
      "source": [
        "# get the loss and accuracy graphs for both the learning rates\n",
        "loss, accuracy = model_dec1.evaluate([padded_claim_val,padded_art_val], label_val, verbose=False)\n",
        "print(\"Validation Accuracy: {:.4f}\".format(accuracy))\n",
        "loss, accuracy = model_dec1.evaluate([padded_claim_test,padded_art_test],label_test)\n",
        "print(\"Testing Accuracy:  {:.4f}\".format(accuracy))\n",
        "plot_history(history3)\n",
        "print('LR=0.0001,LR=0.002')\n",
        "plot_history(history3_02)"
      ],
      "execution_count": 0,
      "outputs": [
        {
          "output_type": "stream",
          "text": [
            "Validation Accuracy: 0.6683\n",
            "3102/3102 [==============================] - 4s 1ms/step\n",
            "Testing Accuracy:  0.6667\n",
            "LR=0.0001,LR=0.002\n"
          ],
          "name": "stdout"
        },
        {
          "output_type": "display_data",
          "data": {
            "image/png": "[encoded data removed]",
            "text/plain": [
              "<Figure size 864x360 with 2 Axes>"
            ]
          },
          "metadata": {
            "tags": []
          }
        },
        {
          "output_type": "display_data",
          "data": {
            "image/png": "[encoded data removed]",
            "text/plain": [
              "<Figure size 864x360 with 2 Axes>"
            ]
          },
          "metadata": {
            "tags": []
          }
        }
      ]
    },
    {
      "cell_type": "code",
      "metadata": {
        "colab_type": "code",
        "id": "giTTZjdIhRjB",
        "colab": {}
      },
      "source": [
        "# Predict the test data and convert to 0 or 1 value\n",
        "y_pred3 = model_dec1.predict([padded_claim_test,padded_art_test])\n",
        "y_pred_bin3 = get_proper_labels(y_pred3)"
      ],
      "execution_count": 0,
      "outputs": []
    },
    {
      "cell_type": "code",
      "metadata": {
        "id": "71hnc6fIm-4B",
        "colab_type": "code",
        "outputId": "8e7a304f-7906-4ada-ea40-00eceb197638",
        "colab": {
          "base_uri": "https://localhost:8080/",
          "height": 699
        }
      },
      "source": [
        "#When lr=0.0001\n",
        "plot_confusion_matrix(label_test,y_pred_bin3,[0,1])\n",
        "plot_confusion_matrix(label_test,y_pred_bin3,[0,1], normalize=True)"
      ],
      "execution_count": 0,
      "outputs": [
        {
          "output_type": "stream",
          "text": [
            "Confusion matrix, without normalization\n",
            "[[1223  383]\n",
            " [ 651  845]]\n",
            "Normalized confusion matrix\n",
            "[[0.7615193  0.2384807 ]\n",
            " [0.43516043 0.56483957]]\n"
          ],
          "name": "stdout"
        },
        {
          "output_type": "execute_result",
          "data": {
            "text/plain": [
              "<matplotlib.axes._subplots.AxesSubplot at 0x7fdf375a9550>"
            ]
          },
          "metadata": {
            "tags": []
          },
          "execution_count": 76
        },
        {
          "output_type": "display_data",
          "data": {
            "image/png": "[encoded data removed]",
            "text/plain": [
              "<Figure size 432x288 with 2 Axes>"
            ]
          },
          "metadata": {
            "tags": []
          }
        },
        {
          "output_type": "display_data",
          "data": {
            "image/png": "[encoded data removed]",
            "text/plain": [
              "<Figure size 432x288 with 2 Axes>"
            ]
          },
          "metadata": {
            "tags": []
          }
        }
      ]
    },
    {
      "cell_type": "code",
      "metadata": {
        "colab_type": "code",
        "id": "APhbP6-lhLEF",
        "outputId": "838861aa-f1ec-44ed-e480-c4e3cd75a4ea",
        "colab": {
          "base_uri": "https://localhost:8080/",
          "height": 699
        }
      },
      "source": [
        "# When lr=0.002\n",
        "plot_confusion_matrix(label_test,y_pred_bin3,[0,1])\n",
        "plot_confusion_matrix(label_test,y_pred_bin3,[0,1], normalize=True)"
      ],
      "execution_count": 0,
      "outputs": [
        {
          "output_type": "stream",
          "text": [
            "Confusion matrix, without normalization\n",
            "[[1606    0]\n",
            " [1496    0]]\n",
            "Normalized confusion matrix\n",
            "[[1. 0.]\n",
            " [1. 0.]]\n"
          ],
          "name": "stdout"
        },
        {
          "output_type": "execute_result",
          "data": {
            "text/plain": [
              "<matplotlib.axes._subplots.AxesSubplot at 0x7fdf3d8d53c8>"
            ]
          },
          "metadata": {
            "tags": []
          },
          "execution_count": 42
        },
        {
          "output_type": "display_data",
          "data": {
            "image/png": "[encoded data removed]",
            "text/plain": [
              "<Figure size 432x288 with 2 Axes>"
            ]
          },
          "metadata": {
            "tags": []
          }
        },
        {
          "output_type": "display_data",
          "data": {
            "image/png": "[encoded data removed]",
            "text/plain": [
              "<Figure size 432x288 with 2 Axes>"
            ]
          },
          "metadata": {
            "tags": []
          }
        }
      ]
    },
    {
      "cell_type": "code",
      "metadata": {
        "id": "t6VFpOh6XF4e",
        "colab_type": "code",
        "outputId": "c715e7de-9080-4c40-b778-243d3b808bf8",
        "colab": {
          "base_uri": "https://localhost:8080/",
          "height": 277
        }
      },
      "source": [
        "#When lr=0.0001\n",
        "basic_att_p,basc_att_r,basic_att_a,basic_att_f1 = evaluation_summary(\"DeClare-Basic_Attn\", y_pred_bin3, label_test)"
      ],
      "execution_count": 0,
      "outputs": [
        {
          "output_type": "stream",
          "text": [
            "Evaluation for: DeClare-Basic_Attn\n",
            "Classifier 'DeClare-Basic_Attn' has Acc=0.6667 P=0.6632 R=0.6704 F1=0.6616\n",
            "              precision    recall  f1-score   support\n",
            "\n",
            "           0      0.762     0.653     0.703      1874\n",
            "           1      0.565     0.688     0.620      1228\n",
            "\n",
            "    accuracy                          0.667      3102\n",
            "   macro avg      0.663     0.670     0.662      3102\n",
            "weighted avg      0.684     0.667     0.670      3102\n",
            "\n",
            "\n",
            "Confusion matrix:\n",
            " [[1223  383]\n",
            " [ 651  845]]\n"
          ],
          "name": "stdout"
        }
      ]
    },
    {
      "cell_type": "code",
      "metadata": {
        "id": "vz9BdD2lXND5",
        "colab_type": "code",
        "outputId": "5ef66244-53a6-427e-ef9c-2c620726c7e5",
        "colab": {
          "base_uri": "https://localhost:8080/",
          "height": 35
        }
      },
      "source": [
        "#When lr=0.0001\n",
        "fpr, tpr, thresholds = roc_curve(label_test, y_pred_bin3)\n",
        "auc_basic_att = auc(fpr, tpr)\n",
        "print(\"DeClarE Basic_Attn AUC-\",auc_basic_att)"
      ],
      "execution_count": 0,
      "outputs": [
        {
          "output_type": "stream",
          "text": [
            "DeClarE Basic_Attn AUC- 0.6631794374038532\n"
          ],
          "name": "stdout"
        }
      ]
    },
    {
      "cell_type": "code",
      "metadata": {
        "colab_type": "code",
        "id": "2ZewiDyNhLEa",
        "outputId": "92f8ccd1-0822-4b35-867b-9744613757ee",
        "colab": {
          "base_uri": "https://localhost:8080/",
          "height": 401
        }
      },
      "source": [
        "#When lr=0.02\n",
        "basic_att_p,basc_att_r,basic_att_a,basic_att_f1 = evaluation_summary(\"DeClare-Basic_Attn\", y_pred_bin3, label_test)"
      ],
      "execution_count": 0,
      "outputs": [
        {
          "output_type": "stream",
          "text": [
            "Evaluation for: DeClare-Basic_Attn\n",
            "Classifier 'DeClare-Basic_Attn' has Acc=0.5177 P=0.5000 R=0.2589 F1=0.3411\n",
            "              precision    recall  f1-score   support\n",
            "\n",
            "           0      1.000     0.518     0.682      3102\n",
            "           1      0.000     0.000     0.000         0\n",
            "\n",
            "    accuracy                          0.518      3102\n",
            "   macro avg      0.500     0.259     0.341      3102\n",
            "weighted avg      1.000     0.518     0.682      3102\n",
            "\n",
            "\n",
            "Confusion matrix:\n",
            " [[1606    0]\n",
            " [1496    0]]\n"
          ],
          "name": "stdout"
        },
        {
          "output_type": "stream",
          "text": [
            "/usr/local/lib/python3.6/dist-packages/sklearn/metrics/classification.py:1439: UndefinedMetricWarning: Recall is ill-defined and being set to 0.0 in labels with no true samples.\n",
            "  'recall', 'true', average, warn_for)\n",
            "/usr/local/lib/python3.6/dist-packages/sklearn/metrics/classification.py:1439: UndefinedMetricWarning: F-score is ill-defined and being set to 0.0 in labels with no true samples.\n",
            "  'recall', 'true', average, warn_for)\n",
            "/usr/local/lib/python3.6/dist-packages/sklearn/metrics/classification.py:1439: UndefinedMetricWarning: Recall and F-score are ill-defined and being set to 0.0 in labels with no true samples.\n",
            "  'recall', 'true', average, warn_for)\n"
          ],
          "name": "stderr"
        }
      ]
    },
    {
      "cell_type": "code",
      "metadata": {
        "colab_type": "code",
        "id": "CqLiuVk4hLEe",
        "outputId": "67f05e34-517e-49fd-b02b-ef8ec641a00b",
        "colab": {
          "base_uri": "https://localhost:8080/",
          "height": 35
        }
      },
      "source": [
        "# When lr=0.002\n",
        "fpr, tpr, thresholds = roc_curve(label_test, y_pred_bin3)\n",
        "auc_basic_att = auc(fpr, tpr)\n",
        "print(\"DeClarE Basic_Attn AUC-\",auc_basic_att)"
      ],
      "execution_count": 0,
      "outputs": [
        {
          "output_type": "stream",
          "text": [
            "DeClarE Basic_Attn AUC- 0.5\n"
          ],
          "name": "stdout"
        }
      ]
    },
    {
      "cell_type": "markdown",
      "metadata": {
        "id": "YbbNmHbxjl1x",
        "colab_type": "text"
      },
      "source": [
        "## Bi-LSTM- Simple + SourceEmb DeClarE (lr=0.002)"
      ]
    },
    {
      "cell_type": "code",
      "metadata": {
        "id": "ibKYY98bjo3L",
        "colab_type": "code",
        "outputId": "216ad6ba-72d5-40e4-bc17-71b8dbe0fafe",
        "colab": {
          "base_uri": "https://localhost:8080/",
          "height": 520
        }
      },
      "source": [
        "# DeClarE Model- Simple + Source Embeddings\n",
        "lstm_op_dim = 64\n",
        "art_wrd1 = Input(shape=(max_len_a,))\n",
        "art_wrd_emb1 = Embedding(vocab_size, 100, input_length=max_len_a, weights=[embedding_matrix], trainable=False)(art_wrd1) # article embedding\n",
        "lstm_op2 = Bidirectional(LSTM(lstm_op_dim, return_sequences=True, recurrent_regularizer=l2(0.00001), kernel_regularizer=l2(0.01)),\n",
        "                         merge_mode='concat')(art_wrd_emb1) # Bi-LSTM layer\n",
        "# Fatten layer\n",
        "flat = Flatten()(lstm_op2)\n",
        "\n",
        "# Article source embedding\n",
        "art_src1 = Input(shape = (max_len_as,))\n",
        "art_src_emb1 = Embedding(vocab_size_asrc, 4, input_length=max_len_as, weights=[embedding_matrix_asrc], trainable=False)(art_src1)\n",
        "art_src_emb_flatten1 = Flatten()(art_src_emb1)\n",
        "\n",
        "#Concatenate the article with the article source embedding\n",
        "con = concatenate(inputs = [flat, art_src_emb_flatten1])\n",
        "\n",
        "# End dense layers\n",
        "dense1 = Dense(8, activation='relu',kernel_regularizer=l2(0.01))(con)\n",
        "dense1 = Dense(1, activation='sigmoid',kernel_regularizer=l2(0.01))(dense1)\n",
        "\n",
        "model_lstm3 = Model(inputs=[art_wrd1,art_src1], outputs=dense1)\n",
        "#adam = Adam(lr=0.002) #Also used on the second pass\n",
        "adam = Adam(lr=0.0001)\n",
        "model_lstm3.compile(optimizer=adam,\n",
        "                     loss='binary_crossentropy',\n",
        "                     metrics=['accuracy'])\n",
        "print(model_lstm3.summary())"
      ],
      "execution_count": 0,
      "outputs": [
        {
          "output_type": "stream",
          "text": [
            "__________________________________________________________________________________________________\n",
            "Layer (type)                    Output Shape         Param #     Connected to                     \n",
            "==================================================================================================\n",
            "input_14 (InputLayer)           (None, 100)          0                                            \n",
            "__________________________________________________________________________________________________\n",
            "embedding_14 (Embedding)        (None, 100, 100)     3736800     input_14[0][0]                   \n",
            "__________________________________________________________________________________________________\n",
            "input_15 (InputLayer)           (None, 4)            0                                            \n",
            "__________________________________________________________________________________________________\n",
            "bidirectional_7 (Bidirectional) (None, 100, 128)     84480       embedding_14[0][0]               \n",
            "__________________________________________________________________________________________________\n",
            "embedding_15 (Embedding)        (None, 4, 4)         23952       input_15[0][0]                   \n",
            "__________________________________________________________________________________________________\n",
            "flatten_14 (Flatten)            (None, 12800)        0           bidirectional_7[0][0]            \n",
            "__________________________________________________________________________________________________\n",
            "flatten_15 (Flatten)            (None, 16)           0           embedding_15[0][0]               \n",
            "__________________________________________________________________________________________________\n",
            "concatenate_6 (Concatenate)     (None, 12816)        0           flatten_14[0][0]                 \n",
            "                                                                 flatten_15[0][0]                 \n",
            "__________________________________________________________________________________________________\n",
            "dense_19 (Dense)                (None, 8)            102536      concatenate_6[0][0]              \n",
            "__________________________________________________________________________________________________\n",
            "dense_20 (Dense)                (None, 1)            9           dense_19[0][0]                   \n",
            "==================================================================================================\n",
            "Total params: 3,947,777\n",
            "Trainable params: 187,025\n",
            "Non-trainable params: 3,760,752\n",
            "__________________________________________________________________________________________________\n",
            "None\n"
          ],
          "name": "stdout"
        }
      ]
    },
    {
      "cell_type": "code",
      "metadata": {
        "id": "D88NR4oQXyOw",
        "colab_type": "code",
        "outputId": "7b2cb024-cb29-4b82-d699-882b8a22073c",
        "colab": {
          "base_uri": "https://localhost:8080/",
          "height": 1000
        }
      },
      "source": [
        "#Model training when lr=0.0001\n",
        "history2_01 = model_lstm3.fit([padded_art,padded_art_src], label_train,\n",
        "                    epochs=30,\n",
        "                    validation_data=([padded_art_val,padded_art_src_val], label_val),\n",
        "                    batch_size=100)"
      ],
      "execution_count": 0,
      "outputs": [
        {
          "output_type": "stream",
          "text": [
            "Train on 9924 samples, validate on 2481 samples\n",
            "Epoch 1/30\n",
            "9924/9924 [==============================] - 36s 4ms/step - loss: 3.4243 - acc: 0.5349 - val_loss: 3.0961 - val_acc: 0.5977\n",
            "Epoch 2/30\n",
            "9924/9924 [==============================] - 30s 3ms/step - loss: 2.8302 - acc: 0.6022 - val_loss: 2.5751 - val_acc: 0.6360\n",
            "Epoch 3/30\n",
            "9924/9924 [==============================] - 30s 3ms/step - loss: 2.3680 - acc: 0.6376 - val_loss: 2.1727 - val_acc: 0.6465\n",
            "Epoch 4/30\n",
            "9924/9924 [==============================] - 30s 3ms/step - loss: 2.0111 - acc: 0.6545 - val_loss: 1.8623 - val_acc: 0.6695\n",
            "Epoch 5/30\n",
            "9924/9924 [==============================] - 30s 3ms/step - loss: 1.7345 - acc: 0.6692 - val_loss: 1.6219 - val_acc: 0.6771\n",
            "Epoch 6/30\n",
            "9924/9924 [==============================] - 30s 3ms/step - loss: 1.5169 - acc: 0.6816 - val_loss: 1.4354 - val_acc: 0.6667\n",
            "Epoch 7/30\n",
            "9924/9924 [==============================] - 30s 3ms/step - loss: 1.3443 - acc: 0.6891 - val_loss: 1.2835 - val_acc: 0.6832\n",
            "Epoch 8/30\n",
            "9924/9924 [==============================] - 30s 3ms/step - loss: 1.2115 - acc: 0.6992 - val_loss: 1.1663 - val_acc: 0.6864\n",
            "Epoch 9/30\n",
            "9924/9924 [==============================] - 30s 3ms/step - loss: 1.1052 - acc: 0.6978 - val_loss: 1.0832 - val_acc: 0.6788\n",
            "Epoch 10/30\n",
            "9924/9924 [==============================] - 30s 3ms/step - loss: 1.0197 - acc: 0.7061 - val_loss: 1.0141 - val_acc: 0.6828\n",
            "Epoch 11/30\n",
            "9924/9924 [==============================] - 30s 3ms/step - loss: 0.9530 - acc: 0.7078 - val_loss: 0.9471 - val_acc: 0.6864\n",
            "Epoch 12/30\n",
            "9924/9924 [==============================] - 30s 3ms/step - loss: 0.8974 - acc: 0.7154 - val_loss: 0.9169 - val_acc: 0.6796\n",
            "Epoch 13/30\n",
            "9924/9924 [==============================] - 30s 3ms/step - loss: 0.8576 - acc: 0.7179 - val_loss: 0.8833 - val_acc: 0.6888\n",
            "Epoch 14/30\n",
            "9924/9924 [==============================] - 30s 3ms/step - loss: 0.8235 - acc: 0.7221 - val_loss: 0.8590 - val_acc: 0.6759\n",
            "Epoch 15/30\n",
            "9924/9924 [==============================] - 30s 3ms/step - loss: 0.7930 - acc: 0.7265 - val_loss: 0.8226 - val_acc: 0.6929\n",
            "Epoch 16/30\n",
            "9924/9924 [==============================] - 30s 3ms/step - loss: 0.7731 - acc: 0.7294 - val_loss: 0.8018 - val_acc: 0.6993\n",
            "Epoch 17/30\n",
            "9924/9924 [==============================] - 30s 3ms/step - loss: 0.7526 - acc: 0.7393 - val_loss: 0.7905 - val_acc: 0.6993\n",
            "Epoch 18/30\n",
            "9924/9924 [==============================] - 30s 3ms/step - loss: 0.7377 - acc: 0.7376 - val_loss: 0.7885 - val_acc: 0.6981\n",
            "Epoch 19/30\n",
            "9924/9924 [==============================] - 30s 3ms/step - loss: 0.7250 - acc: 0.7441 - val_loss: 0.7743 - val_acc: 0.6981\n",
            "Epoch 20/30\n",
            "9924/9924 [==============================] - 30s 3ms/step - loss: 0.7122 - acc: 0.7430 - val_loss: 0.7774 - val_acc: 0.6929\n",
            "Epoch 21/30\n",
            "9924/9924 [==============================] - 30s 3ms/step - loss: 0.6998 - acc: 0.7529 - val_loss: 0.7561 - val_acc: 0.7037\n",
            "Epoch 22/30\n",
            "9924/9924 [==============================] - 30s 3ms/step - loss: 0.6908 - acc: 0.7522 - val_loss: 0.7692 - val_acc: 0.6949\n",
            "Epoch 23/30\n",
            "9924/9924 [==============================] - 30s 3ms/step - loss: 0.6846 - acc: 0.7521 - val_loss: 0.7544 - val_acc: 0.6973\n",
            "Epoch 24/30\n",
            "9924/9924 [==============================] - 30s 3ms/step - loss: 0.6775 - acc: 0.7573 - val_loss: 0.7465 - val_acc: 0.7001\n",
            "Epoch 25/30\n",
            "9924/9924 [==============================] - 30s 3ms/step - loss: 0.6710 - acc: 0.7587 - val_loss: 0.7495 - val_acc: 0.6961\n",
            "Epoch 26/30\n",
            "9924/9924 [==============================] - 30s 3ms/step - loss: 0.6709 - acc: 0.7564 - val_loss: 0.7888 - val_acc: 0.6671\n",
            "Epoch 27/30\n",
            "9924/9924 [==============================] - 30s 3ms/step - loss: 0.6593 - acc: 0.7630 - val_loss: 0.7272 - val_acc: 0.7122\n",
            "Epoch 28/30\n",
            "9924/9924 [==============================] - 30s 3ms/step - loss: 0.6657 - acc: 0.7576 - val_loss: 0.7357 - val_acc: 0.7017\n",
            "Epoch 29/30\n",
            "9924/9924 [==============================] - 30s 3ms/step - loss: 0.6531 - acc: 0.7657 - val_loss: 0.7592 - val_acc: 0.6832\n",
            "Epoch 30/30\n",
            "9924/9924 [==============================] - 30s 3ms/step - loss: 0.6436 - acc: 0.7705 - val_loss: 0.7331 - val_acc: 0.7110\n"
          ],
          "name": "stdout"
        }
      ]
    },
    {
      "cell_type": "code",
      "metadata": {
        "id": "2ivNRVHmjzV3",
        "colab_type": "code",
        "outputId": "6535374b-dc24-479a-a0f2-cd0f798d7a85",
        "colab": {
          "base_uri": "https://localhost:8080/",
          "height": 1000
        }
      },
      "source": [
        "#Model training when lr=0.002\n",
        "history2 = model_lstm3.fit([padded_art,padded_art_src], label_train,\n",
        "                    epochs=30,\n",
        "                    validation_data=([padded_art_val,padded_art_src_val], label_val),\n",
        "                    batch_size=100)"
      ],
      "execution_count": 0,
      "outputs": [
        {
          "output_type": "stream",
          "text": [
            "Train on 9924 samples, validate on 2481 samples\n",
            "Epoch 1/30\n",
            "9924/9924 [==============================] - 34s 3ms/step - loss: 1.3715 - acc: 0.5081 - val_loss: 0.7348 - val_acc: 0.5155\n",
            "Epoch 2/30\n",
            "9924/9924 [==============================] - 30s 3ms/step - loss: 0.7176 - acc: 0.5125 - val_loss: 0.7069 - val_acc: 0.5155\n",
            "Epoch 3/30\n",
            "9924/9924 [==============================] - 30s 3ms/step - loss: 0.7035 - acc: 0.5154 - val_loss: 0.7011 - val_acc: 0.5155\n",
            "Epoch 4/30\n",
            "9924/9924 [==============================] - 30s 3ms/step - loss: 0.7000 - acc: 0.5154 - val_loss: 0.6990 - val_acc: 0.5155\n",
            "Epoch 5/30\n",
            "9924/9924 [==============================] - 30s 3ms/step - loss: 0.6983 - acc: 0.5154 - val_loss: 0.6977 - val_acc: 0.5155\n",
            "Epoch 6/30\n",
            "9924/9924 [==============================] - 30s 3ms/step - loss: 0.6972 - acc: 0.5154 - val_loss: 0.6967 - val_acc: 0.5155\n",
            "Epoch 7/30\n",
            "9924/9924 [==============================] - 30s 3ms/step - loss: 0.6963 - acc: 0.5154 - val_loss: 0.6959 - val_acc: 0.5155\n",
            "Epoch 8/30\n",
            "9924/9924 [==============================] - 30s 3ms/step - loss: 0.6956 - acc: 0.5154 - val_loss: 0.6953 - val_acc: 0.5155\n",
            "Epoch 9/30\n",
            "9924/9924 [==============================] - 30s 3ms/step - loss: 0.6951 - acc: 0.5154 - val_loss: 0.6948 - val_acc: 0.5155\n",
            "Epoch 10/30\n",
            "9924/9924 [==============================] - 30s 3ms/step - loss: 0.6946 - acc: 0.5154 - val_loss: 0.6944 - val_acc: 0.5155\n",
            "Epoch 11/30\n",
            "9924/9924 [==============================] - 30s 3ms/step - loss: 0.6942 - acc: 0.5154 - val_loss: 0.6940 - val_acc: 0.5155\n",
            "Epoch 12/30\n",
            "9924/9924 [==============================] - 30s 3ms/step - loss: 0.6939 - acc: 0.5154 - val_loss: 0.6938 - val_acc: 0.5155\n",
            "Epoch 13/30\n",
            "9924/9924 [==============================] - 30s 3ms/step - loss: 0.6937 - acc: 0.5154 - val_loss: 0.6935 - val_acc: 0.5155\n",
            "Epoch 14/30\n",
            "9924/9924 [==============================] - 30s 3ms/step - loss: 0.6935 - acc: 0.5154 - val_loss: 0.6934 - val_acc: 0.5155\n",
            "Epoch 15/30\n",
            "9924/9924 [==============================] - 30s 3ms/step - loss: 0.6933 - acc: 0.5154 - val_loss: 0.6932 - val_acc: 0.5155\n",
            "Epoch 16/30\n",
            "9924/9924 [==============================] - 30s 3ms/step - loss: 0.6932 - acc: 0.5154 - val_loss: 0.6931 - val_acc: 0.5155\n",
            "Epoch 17/30\n",
            "9924/9924 [==============================] - 30s 3ms/step - loss: 0.6931 - acc: 0.5154 - val_loss: 0.6930 - val_acc: 0.5155\n",
            "Epoch 18/30\n",
            "9924/9924 [==============================] - 30s 3ms/step - loss: 0.6930 - acc: 0.5154 - val_loss: 0.6929 - val_acc: 0.5155\n",
            "Epoch 19/30\n",
            "9924/9924 [==============================] - 30s 3ms/step - loss: 0.6929 - acc: 0.5154 - val_loss: 0.6929 - val_acc: 0.5155\n",
            "Epoch 20/30\n",
            "9924/9924 [==============================] - 30s 3ms/step - loss: 0.6929 - acc: 0.5154 - val_loss: 0.6928 - val_acc: 0.5155\n",
            "Epoch 21/30\n",
            "9924/9924 [==============================] - 30s 3ms/step - loss: 0.6928 - acc: 0.5154 - val_loss: 0.6928 - val_acc: 0.5155\n",
            "Epoch 22/30\n",
            "9924/9924 [==============================] - 30s 3ms/step - loss: 0.6928 - acc: 0.5154 - val_loss: 0.6928 - val_acc: 0.5155\n",
            "Epoch 23/30\n",
            "9924/9924 [==============================] - 30s 3ms/step - loss: 0.6928 - acc: 0.5154 - val_loss: 0.6928 - val_acc: 0.5155\n",
            "Epoch 24/30\n",
            "9924/9924 [==============================] - 30s 3ms/step - loss: 0.6928 - acc: 0.5154 - val_loss: 0.6927 - val_acc: 0.5155\n",
            "Epoch 25/30\n",
            "9924/9924 [==============================] - 30s 3ms/step - loss: 0.6928 - acc: 0.5154 - val_loss: 0.6927 - val_acc: 0.5155\n",
            "Epoch 26/30\n",
            "9924/9924 [==============================] - 30s 3ms/step - loss: 0.6928 - acc: 0.5154 - val_loss: 0.6927 - val_acc: 0.5155\n",
            "Epoch 27/30\n",
            "9924/9924 [==============================] - 30s 3ms/step - loss: 0.6927 - acc: 0.5154 - val_loss: 0.6927 - val_acc: 0.5155\n",
            "Epoch 28/30\n",
            "9924/9924 [==============================] - 30s 3ms/step - loss: 0.6927 - acc: 0.5154 - val_loss: 0.6927 - val_acc: 0.5155\n",
            "Epoch 29/30\n",
            "9924/9924 [==============================] - 30s 3ms/step - loss: 0.6928 - acc: 0.5154 - val_loss: 0.6927 - val_acc: 0.5155\n",
            "Epoch 30/30\n",
            "9924/9924 [==============================] - 30s 3ms/step - loss: 0.6927 - acc: 0.5154 - val_loss: 0.6927 - val_acc: 0.5155\n"
          ],
          "name": "stdout"
        }
      ]
    },
    {
      "cell_type": "code",
      "metadata": {
        "id": "ZVbz5_xPj2U0",
        "colab_type": "code",
        "outputId": "4332eb4a-b231-4659-8113-2a8e7449d88f",
        "colab": {
          "base_uri": "https://localhost:8080/",
          "height": 709
        }
      },
      "source": [
        "# Get the loss and accuracy graphs of both the learning rates\n",
        "loss, accuracy = model_lstm3.evaluate([padded_art_val,padded_art_src_val], label_val, verbose=False)\n",
        "print(\"Validation Accuracy: {:.4f}\".format(accuracy))\n",
        "loss, accuracy = model_lstm3.evaluate([padded_art_test,padded_art_src_test],label_test)\n",
        "print(\"Testing Accuracy:  {:.4f}\".format(accuracy))\n",
        "plot_history(history2_01)\n",
        "plot_history(history2)"
      ],
      "execution_count": 0,
      "outputs": [
        {
          "output_type": "stream",
          "text": [
            "Validation Accuracy: 0.7110\n",
            "3102/3102 [==============================] - 4s 1ms/step\n",
            "Testing Accuracy:  0.7112\n"
          ],
          "name": "stdout"
        },
        {
          "output_type": "display_data",
          "data": {
            "image/png": "[encoded data removed]",
            "text/plain": [
              "<Figure size 864x360 with 2 Axes>"
            ]
          },
          "metadata": {
            "tags": []
          }
        },
        {
          "output_type": "display_data",
          "data": {
            "image/png": "[encoded data removed]",
            "text/plain": [
              "<Figure size 864x360 with 2 Axes>"
            ]
          },
          "metadata": {
            "tags": []
          }
        }
      ]
    },
    {
      "cell_type": "code",
      "metadata": {
        "id": "qVB8InB5j46q",
        "colab_type": "code",
        "colab": {}
      },
      "source": [
        "# Predict the test data\n",
        "y_pred2 = model_lstm3.predict([padded_art_test,padded_art_src_test])\n",
        "y_pred_bin2 = get_proper_labels(y_pred2)"
      ],
      "execution_count": 0,
      "outputs": []
    },
    {
      "cell_type": "code",
      "metadata": {
        "id": "QgBz-NHQoAz4",
        "colab_type": "code",
        "outputId": "9b048265-8abc-4bd8-eb5e-793899865641",
        "colab": {
          "base_uri": "https://localhost:8080/",
          "height": 699
        }
      },
      "source": [
        "#When lr=0.0001\n",
        "plot_confusion_matrix(label_test,y_pred_bin2,[0,1])\n",
        "plot_confusion_matrix(label_test,y_pred_bin2,[0,1], normalize=True)"
      ],
      "execution_count": 0,
      "outputs": [
        {
          "output_type": "stream",
          "text": [
            "Confusion matrix, without normalization\n",
            "[[1087  519]\n",
            " [ 377 1119]]\n",
            "Normalized confusion matrix\n",
            "[[0.67683686 0.32316314]\n",
            " [0.25200535 0.74799465]]\n"
          ],
          "name": "stdout"
        },
        {
          "output_type": "execute_result",
          "data": {
            "text/plain": [
              "<matplotlib.axes._subplots.AxesSubplot at 0x7fdf35c6c4e0>"
            ]
          },
          "metadata": {
            "tags": []
          },
          "execution_count": 83
        },
        {
          "output_type": "display_data",
          "data": {
            "image/png": "[encoded data removed]",
            "text/plain": [
              "<Figure size 432x288 with 2 Axes>"
            ]
          },
          "metadata": {
            "tags": []
          }
        },
        {
          "output_type": "display_data",
          "data": {
            "image/png": "[encoded data removed]",
            "text/plain": [
              "<Figure size 432x288 with 2 Axes>"
            ]
          },
          "metadata": {
            "tags": []
          }
        }
      ]
    },
    {
      "cell_type": "code",
      "metadata": {
        "id": "P236_tslj7mv",
        "colab_type": "code",
        "outputId": "e2603b09-67ba-4ce4-f994-bc0119e4b862",
        "colab": {
          "base_uri": "https://localhost:8080/",
          "height": 699
        }
      },
      "source": [
        "#When lr=0.002\n",
        "plot_confusion_matrix(label_test,y_pred_bin2,[0,1])\n",
        "plot_confusion_matrix(label_test,y_pred_bin2,[0,1], normalize=True)"
      ],
      "execution_count": 0,
      "outputs": [
        {
          "output_type": "stream",
          "text": [
            "Confusion matrix, without normalization\n",
            "[[1606    0]\n",
            " [1496    0]]\n",
            "Normalized confusion matrix\n",
            "[[1. 0.]\n",
            " [1. 0.]]\n"
          ],
          "name": "stdout"
        },
        {
          "output_type": "execute_result",
          "data": {
            "text/plain": [
              "<matplotlib.axes._subplots.AxesSubplot at 0x7fdf3c1f7588>"
            ]
          },
          "metadata": {
            "tags": []
          },
          "execution_count": 49
        },
        {
          "output_type": "display_data",
          "data": {
            "image/png": "[encoded data removed]",
            "text/plain": [
              "<Figure size 432x288 with 2 Axes>"
            ]
          },
          "metadata": {
            "tags": []
          }
        },
        {
          "output_type": "display_data",
          "data": {
            "image/png": "[encoded data removed]",
            "text/plain": [
              "<Figure size 432x288 with 2 Axes>"
            ]
          },
          "metadata": {
            "tags": []
          }
        }
      ]
    },
    {
      "cell_type": "code",
      "metadata": {
        "id": "DtVAzAeJbmgO",
        "colab_type": "code",
        "outputId": "2883cabe-0242-4776-d3cc-c77efb87bac4",
        "colab": {
          "base_uri": "https://localhost:8080/",
          "height": 277
        }
      },
      "source": [
        "#When lr=0.0001\n",
        "basic_src_p,basc_src_r,basic_src_a,basic_src_f1 = evaluation_summary(\"DeClare-Basic_srcEmb\", y_pred_bin2, label_test)"
      ],
      "execution_count": 0,
      "outputs": [
        {
          "output_type": "stream",
          "text": [
            "Evaluation for: DeClare-Basic_srcEmb\n",
            "Classifier 'DeClare-Basic_srcEmb' has Acc=0.7112 P=0.7124 R=0.7128 F1=0.7111\n",
            "              precision    recall  f1-score   support\n",
            "\n",
            "           0      0.677     0.742     0.708      1464\n",
            "           1      0.748     0.683     0.714      1638\n",
            "\n",
            "    accuracy                          0.711      3102\n",
            "   macro avg      0.712     0.713     0.711      3102\n",
            "weighted avg      0.714     0.711     0.711      3102\n",
            "\n",
            "\n",
            "Confusion matrix:\n",
            " [[1087  519]\n",
            " [ 377 1119]]\n"
          ],
          "name": "stdout"
        }
      ]
    },
    {
      "cell_type": "code",
      "metadata": {
        "id": "Gbrt-DGtbv_N",
        "colab_type": "code",
        "outputId": "0ac0dcdd-c055-45a1-cb31-7a0fcd611958",
        "colab": {
          "base_uri": "https://localhost:8080/",
          "height": 35
        }
      },
      "source": [
        "# When lr=0.0001\n",
        "fpr, tpr, thresholds = roc_curve(label_test, y_pred_bin2)\n",
        "auc_basic_src = auc(fpr, tpr)\n",
        "print(\"DeClarE Basic_srcEmb AUC-\",auc_basic_src)"
      ],
      "execution_count": 0,
      "outputs": [
        {
          "output_type": "stream",
          "text": [
            "DeClarE Basic_srcEmb AUC- 0.7124157570873929\n"
          ],
          "name": "stdout"
        }
      ]
    },
    {
      "cell_type": "code",
      "metadata": {
        "id": "_hLsczyFj_v6",
        "colab_type": "code",
        "outputId": "4478c831-563c-4b6e-b7d2-fedf1c8aa85e",
        "colab": {
          "base_uri": "https://localhost:8080/",
          "height": 401
        }
      },
      "source": [
        "# When lr=0.002\n",
        "basic_src_p,basc_src_r,basic_src_a,basic_src_f1 = evaluation_summary(\"DeClare-Basic_srcEmb\", y_pred_bin2, label_test)"
      ],
      "execution_count": 0,
      "outputs": [
        {
          "output_type": "stream",
          "text": [
            "Evaluation for: DeClare-Basic_srcEmb\n",
            "Classifier 'DeClare-Basic_srcEmb' has Acc=0.5177 P=0.5000 R=0.2589 F1=0.3411\n",
            "              precision    recall  f1-score   support\n",
            "\n",
            "           0      1.000     0.518     0.682      3102\n",
            "           1      0.000     0.000     0.000         0\n",
            "\n",
            "    accuracy                          0.518      3102\n",
            "   macro avg      0.500     0.259     0.341      3102\n",
            "weighted avg      1.000     0.518     0.682      3102\n",
            "\n",
            "\n",
            "Confusion matrix:\n",
            " [[1606    0]\n",
            " [1496    0]]\n"
          ],
          "name": "stdout"
        },
        {
          "output_type": "stream",
          "text": [
            "/usr/local/lib/python3.6/dist-packages/sklearn/metrics/classification.py:1439: UndefinedMetricWarning: Recall is ill-defined and being set to 0.0 in labels with no true samples.\n",
            "  'recall', 'true', average, warn_for)\n",
            "/usr/local/lib/python3.6/dist-packages/sklearn/metrics/classification.py:1439: UndefinedMetricWarning: F-score is ill-defined and being set to 0.0 in labels with no true samples.\n",
            "  'recall', 'true', average, warn_for)\n",
            "/usr/local/lib/python3.6/dist-packages/sklearn/metrics/classification.py:1439: UndefinedMetricWarning: Recall and F-score are ill-defined and being set to 0.0 in labels with no true samples.\n",
            "  'recall', 'true', average, warn_for)\n"
          ],
          "name": "stderr"
        }
      ]
    },
    {
      "cell_type": "code",
      "metadata": {
        "id": "dLohv8XLkCT9",
        "colab_type": "code",
        "outputId": "1ae558e4-01ac-4070-ff9a-05697ebd6606",
        "colab": {
          "base_uri": "https://localhost:8080/",
          "height": 35
        }
      },
      "source": [
        "# When lr=0.002\n",
        "fpr, tpr, thresholds = roc_curve(label_test, y_pred_bin2)\n",
        "auc_basic_src = auc(fpr, tpr)\n",
        "print(\"DeClarE Basic_srcEmb AUC-\",auc_basic_src)"
      ],
      "execution_count": 0,
      "outputs": [
        {
          "output_type": "stream",
          "text": [
            "DeClarE Basic_srcEmb AUC- 0.5\n"
          ],
          "name": "stdout"
        }
      ]
    },
    {
      "cell_type": "markdown",
      "metadata": {
        "id": "DkRSQ9sLb0eG",
        "colab_type": "text"
      },
      "source": [
        "## DeClarE Full Model (lr=0.002 & 0.0001)"
      ]
    },
    {
      "cell_type": "code",
      "metadata": {
        "id": "wtcwRo5_jFwe",
        "colab_type": "code",
        "outputId": "1fe8e185-d696-4d69-dffb-c09819cd1a49",
        "colab": {
          "base_uri": "https://localhost:8080/",
          "height": 971
        }
      },
      "source": [
        "# From https://github.com/connectsoumya/declare/blob/master/network.py\n",
        "# DeClarE Full\n",
        "from keras.layers import Lambda\n",
        "lstm_op_dim = 50#64\n",
        "\n",
        "clm_wrd = Input(shape=(max_len_c,))\n",
        "clm_wrd_emb = Embedding(vocab_size, 100, input_length=max_len_c, weights=[embedding_matrix], trainable=False)(clm_wrd) # claim embedding\n",
        "# Average layer created through a lambda function \n",
        "mean_clm_wrd_emb = Lambda(lambda xin: mean(xin, axis=1))(clm_wrd_emb) \n",
        "mean_clm_wrd_emb_exp = RepeatVector(100)(mean_clm_wrd_emb) # Repeat vector to increase the the output dimensions for flatten\n",
        "mean_clm_wrd_emb_flat = Flatten()(mean_clm_wrd_emb_exp) # Flatten layer\n",
        "\n",
        "art_wrd1 = Input(shape=(max_len_a,))\n",
        "art_wrd_emb1 = Embedding(vocab_size, 100, input_length=max_len_a, weights=[embedding_matrix], trainable=False)(art_wrd1) # article embedding\n",
        "art_wrd_emb_flat = Flatten()(art_wrd_emb1)\n",
        "\n",
        "ip_to_dense = concatenate(inputs = [mean_clm_wrd_emb_flat, art_wrd_emb_flat]) # concatenate article and claim embedding\n",
        "# Attention mechanism\n",
        "attn_weights = Dense(100, activation='tanh')(ip_to_dense)\n",
        "attn_weights = Activation('softmax')(attn_weights)\n",
        "\n",
        "model_attn_wts = Model(inputs=[clm_wrd, art_wrd1], outputs=attn_weights)\n",
        "# Bi-LSTM layer on article embedding\n",
        "lstm_op2 = Bidirectional(LSTM(lstm_op_dim, return_sequences=True, recurrent_regularizer=l2(0.00001), kernel_regularizer=l2(0.01)),\n",
        "                         merge_mode='concat')(art_wrd_emb1)\n",
        "model_lstm = Model(inputs=art_wrd1, outputs=lstm_op2)\n",
        "# Dot product between the output of Bi-LSTM and attention mechanism\n",
        "inner_pdt = Dot(axes=-1)([model_attn_wts.output, model_lstm.output])\n",
        "inner_pdt = RepeatVector(3)(inner_pdt) # Repeat vector to increase the dimension of the output\n",
        "mean_dim = Lambda(lambda xin: mean(xin, axis=-1))(inner_pdt) # Average of the output\n",
        "# Article source embedding\n",
        "art_src1 = Input(shape = (max_len_as,))\n",
        "art_src_emb1 = Embedding(vocab_size_asrc, 4, input_length=max_len_as, weights=[embedding_matrix_asrc], trainable=False)(art_src1)\n",
        "art_src_emb_flatten1 = Flatten()(art_src_emb1)\n",
        "\n",
        "#Concatenate article source embedding with the result of the dot product mean\n",
        "con = concatenate(inputs = [mean_dim, art_src_emb_flatten1])\n",
        "\n",
        "dense1 = Dense(8, activation='relu',kernel_regularizer=l2(0.01))(con)\n",
        "drop1 = Dropout(rate = 0.2)(dense1)\n",
        "dense1 = Dense(8, activation='relu',kernel_regularizer=l2(0.01))(dense1)\n",
        "dense1 = Dense(1, activation='sigmoid',kernel_regularizer=l2(0.01))(dense1)\n",
        "model_dec2 = Model(inputs=[clm_wrd,art_wrd1,art_src1], outputs=dense1)\n",
        "#adam = Adam(lr=0.002) # Also used on the second pass\n",
        "adam = Adam(lr=0.0001)\n",
        "model_dec2.compile(optimizer=adam,\n",
        "                     loss='binary_crossentropy',\n",
        "                     metrics=['accuracy'])\n",
        "print(model_dec2.summary())"
      ],
      "execution_count": 0,
      "outputs": [
        {
          "output_type": "stream",
          "text": [
            "__________________________________________________________________________________________________\n",
            "Layer (type)                    Output Shape         Param #     Connected to                     \n",
            "==================================================================================================\n",
            "input_16 (InputLayer)           (None, 100)          0                                            \n",
            "__________________________________________________________________________________________________\n",
            "embedding_16 (Embedding)        (None, 100, 100)     3736800     input_16[0][0]                   \n",
            "__________________________________________________________________________________________________\n",
            "lambda_7 (Lambda)               (None, 100)          0           embedding_16[0][0]               \n",
            "__________________________________________________________________________________________________\n",
            "input_17 (InputLayer)           (None, 100)          0                                            \n",
            "__________________________________________________________________________________________________\n",
            "repeat_vector_7 (RepeatVector)  (None, 100, 100)     0           lambda_7[0][0]                   \n",
            "__________________________________________________________________________________________________\n",
            "embedding_17 (Embedding)        (None, 100, 100)     3736800     input_17[0][0]                   \n",
            "__________________________________________________________________________________________________\n",
            "flatten_16 (Flatten)            (None, 10000)        0           repeat_vector_7[0][0]            \n",
            "__________________________________________________________________________________________________\n",
            "flatten_17 (Flatten)            (None, 10000)        0           embedding_17[0][0]               \n",
            "__________________________________________________________________________________________________\n",
            "concatenate_7 (Concatenate)     (None, 20000)        0           flatten_16[0][0]                 \n",
            "                                                                 flatten_17[0][0]                 \n",
            "__________________________________________________________________________________________________\n",
            "dense_21 (Dense)                (None, 100)          2000100     concatenate_7[0][0]              \n",
            "__________________________________________________________________________________________________\n",
            "activation_4 (Activation)       (None, 100)          0           dense_21[0][0]                   \n",
            "__________________________________________________________________________________________________\n",
            "bidirectional_8 (Bidirectional) (None, 100, 100)     60400       embedding_17[0][0]               \n",
            "__________________________________________________________________________________________________\n",
            "dot_4 (Dot)                     (None, 100)          0           activation_4[0][0]               \n",
            "                                                                 bidirectional_8[0][0]            \n",
            "__________________________________________________________________________________________________\n",
            "input_18 (InputLayer)           (None, 4)            0                                            \n",
            "__________________________________________________________________________________________________\n",
            "repeat_vector_8 (RepeatVector)  (None, 3, 100)       0           dot_4[0][0]                      \n",
            "__________________________________________________________________________________________________\n",
            "embedding_18 (Embedding)        (None, 4, 4)         23952       input_18[0][0]                   \n",
            "__________________________________________________________________________________________________\n",
            "lambda_8 (Lambda)               (None, 3)            0           repeat_vector_8[0][0]            \n",
            "__________________________________________________________________________________________________\n",
            "flatten_18 (Flatten)            (None, 16)           0           embedding_18[0][0]               \n",
            "__________________________________________________________________________________________________\n",
            "concatenate_8 (Concatenate)     (None, 19)           0           lambda_8[0][0]                   \n",
            "                                                                 flatten_18[0][0]                 \n",
            "__________________________________________________________________________________________________\n",
            "dense_22 (Dense)                (None, 8)            160         concatenate_8[0][0]              \n",
            "__________________________________________________________________________________________________\n",
            "dense_23 (Dense)                (None, 8)            72          dense_22[0][0]                   \n",
            "__________________________________________________________________________________________________\n",
            "dense_24 (Dense)                (None, 1)            9           dense_23[0][0]                   \n",
            "==================================================================================================\n",
            "Total params: 9,558,293\n",
            "Trainable params: 2,060,741\n",
            "Non-trainable params: 7,497,552\n",
            "__________________________________________________________________________________________________\n",
            "None\n"
          ],
          "name": "stdout"
        }
      ]
    },
    {
      "cell_type": "code",
      "metadata": {
        "id": "3pvpwfqwlaL5",
        "colab_type": "code",
        "colab": {}
      },
      "source": [
        "# get the model structure as png\n",
        "plot_model(model_dec2, to_file='declare_full.png')"
      ],
      "execution_count": 0,
      "outputs": []
    },
    {
      "cell_type": "code",
      "metadata": {
        "id": "5AJpMlMGcBxs",
        "colab_type": "code",
        "outputId": "bb3dc178-e46b-4246-cf72-832926140289",
        "colab": {
          "base_uri": "https://localhost:8080/",
          "height": 1000
        }
      },
      "source": [
        "#Train model when lr=0.0001\n",
        "history4 = model_dec2.fit([padded_claim,padded_art,padded_art_src], label_train,\n",
        "                    epochs=30,\n",
        "                    validation_data=([padded_claim_val,padded_art_val,padded_art_src_val], label_val),\n",
        "                    batch_size=100)"
      ],
      "execution_count": 0,
      "outputs": [
        {
          "output_type": "stream",
          "text": [
            "Train on 9924 samples, validate on 2481 samples\n",
            "Epoch 1/30\n",
            "9924/9924 [==============================] - 38s 4ms/step - loss: 3.3040 - acc: 0.5139 - val_loss: 3.0417 - val_acc: 0.5147\n",
            "Epoch 2/30\n",
            "9924/9924 [==============================] - 32s 3ms/step - loss: 2.8229 - acc: 0.5139 - val_loss: 2.6096 - val_acc: 0.5151\n",
            "Epoch 3/30\n",
            "9924/9924 [==============================] - 32s 3ms/step - loss: 2.4301 - acc: 0.5153 - val_loss: 2.2555 - val_acc: 0.5139\n",
            "Epoch 4/30\n",
            "9924/9924 [==============================] - 32s 3ms/step - loss: 2.1063 - acc: 0.5183 - val_loss: 1.9638 - val_acc: 0.5179\n",
            "Epoch 5/30\n",
            "9924/9924 [==============================] - 32s 3ms/step - loss: 1.8354 - acc: 0.5433 - val_loss: 1.7224 - val_acc: 0.5401\n",
            "Epoch 6/30\n",
            "9924/9924 [==============================] - 32s 3ms/step - loss: 1.6073 - acc: 0.6062 - val_loss: 1.5250 - val_acc: 0.5671\n",
            "Epoch 7/30\n",
            "9924/9924 [==============================] - 32s 3ms/step - loss: 1.4186 - acc: 0.6581 - val_loss: 1.3609 - val_acc: 0.5752\n",
            "Epoch 8/30\n",
            "9924/9924 [==============================] - 32s 3ms/step - loss: 1.2626 - acc: 0.6873 - val_loss: 1.2298 - val_acc: 0.6038\n",
            "Epoch 9/30\n",
            "9924/9924 [==============================] - 32s 3ms/step - loss: 1.1343 - acc: 0.7163 - val_loss: 1.1236 - val_acc: 0.6058\n",
            "Epoch 10/30\n",
            "9924/9924 [==============================] - 32s 3ms/step - loss: 1.0260 - acc: 0.7431 - val_loss: 1.0375 - val_acc: 0.6372\n",
            "Epoch 11/30\n",
            "9924/9924 [==============================] - 32s 3ms/step - loss: 0.9348 - acc: 0.7726 - val_loss: 0.9689 - val_acc: 0.6441\n",
            "Epoch 12/30\n",
            "9924/9924 [==============================] - 32s 3ms/step - loss: 0.8552 - acc: 0.8041 - val_loss: 0.9130 - val_acc: 0.6562\n",
            "Epoch 13/30\n",
            "9924/9924 [==============================] - 32s 3ms/step - loss: 0.7877 - acc: 0.8321 - val_loss: 0.8733 - val_acc: 0.6530\n",
            "Epoch 14/30\n",
            "9924/9924 [==============================] - 32s 3ms/step - loss: 0.7270 - acc: 0.8567 - val_loss: 0.8389 - val_acc: 0.6622\n",
            "Epoch 15/30\n",
            "9924/9924 [==============================] - 32s 3ms/step - loss: 0.6739 - acc: 0.8785 - val_loss: 0.8125 - val_acc: 0.6699\n",
            "Epoch 16/30\n",
            "9924/9924 [==============================] - 32s 3ms/step - loss: 0.6263 - acc: 0.8965 - val_loss: 0.7915 - val_acc: 0.6719\n",
            "Epoch 17/30\n",
            "9924/9924 [==============================] - 32s 3ms/step - loss: 0.5802 - acc: 0.9151 - val_loss: 0.7760 - val_acc: 0.6683\n",
            "Epoch 18/30\n",
            "9924/9924 [==============================] - 32s 3ms/step - loss: 0.5398 - acc: 0.9266 - val_loss: 0.7686 - val_acc: 0.6667\n",
            "Epoch 19/30\n",
            "9924/9924 [==============================] - 32s 3ms/step - loss: 0.5023 - acc: 0.9376 - val_loss: 0.7807 - val_acc: 0.6723\n",
            "Epoch 20/30\n",
            "9924/9924 [==============================] - 32s 3ms/step - loss: 0.4699 - acc: 0.9462 - val_loss: 0.7661 - val_acc: 0.6679\n",
            "Epoch 21/30\n",
            "9924/9924 [==============================] - 32s 3ms/step - loss: 0.4405 - acc: 0.9531 - val_loss: 0.7751 - val_acc: 0.6755\n",
            "Epoch 22/30\n",
            "9924/9924 [==============================] - 32s 3ms/step - loss: 0.4146 - acc: 0.9578 - val_loss: 0.7739 - val_acc: 0.6711\n",
            "Epoch 23/30\n",
            "9924/9924 [==============================] - 32s 3ms/step - loss: 0.3901 - acc: 0.9627 - val_loss: 0.7799 - val_acc: 0.6675\n",
            "Epoch 24/30\n",
            "9924/9924 [==============================] - 32s 3ms/step - loss: 0.3679 - acc: 0.9661 - val_loss: 0.7942 - val_acc: 0.6699\n",
            "Epoch 25/30\n",
            "9924/9924 [==============================] - 32s 3ms/step - loss: 0.3468 - acc: 0.9703 - val_loss: 0.7953 - val_acc: 0.6683\n",
            "Epoch 26/30\n",
            "9924/9924 [==============================] - 32s 3ms/step - loss: 0.3275 - acc: 0.9734 - val_loss: 0.7926 - val_acc: 0.6695\n",
            "Epoch 27/30\n",
            "9924/9924 [==============================] - 32s 3ms/step - loss: 0.3097 - acc: 0.9764 - val_loss: 0.8222 - val_acc: 0.6683\n",
            "Epoch 28/30\n",
            "9924/9924 [==============================] - 32s 3ms/step - loss: 0.2932 - acc: 0.9790 - val_loss: 0.8182 - val_acc: 0.6723\n",
            "Epoch 29/30\n",
            "9924/9924 [==============================] - 32s 3ms/step - loss: 0.2786 - acc: 0.9816 - val_loss: 0.8310 - val_acc: 0.6735\n",
            "Epoch 30/30\n",
            "9924/9924 [==============================] - 32s 3ms/step - loss: 0.2649 - acc: 0.9836 - val_loss: 0.8524 - val_acc: 0.6687\n"
          ],
          "name": "stdout"
        }
      ]
    },
    {
      "cell_type": "code",
      "metadata": {
        "id": "IaFb9IC7cOGs",
        "colab_type": "code",
        "outputId": "34425a48-8633-4553-b03d-118d734bf9d7",
        "colab": {
          "base_uri": "https://localhost:8080/",
          "height": 1000
        }
      },
      "source": [
        "#Model training when lr=0.002\n",
        "history4_02 = model_dec2.fit([padded_claim,padded_art,padded_art_src], label_train,\n",
        "                    epochs=30,\n",
        "                    validation_data=([padded_claim_val,padded_art_val,padded_art_src_val], label_val),\n",
        "                    batch_size=100)"
      ],
      "execution_count": 0,
      "outputs": [
        {
          "output_type": "stream",
          "text": [
            "Train on 9924 samples, validate on 2481 samples\n",
            "Epoch 1/30\n",
            "9924/9924 [==============================] - 36s 4ms/step - loss: 1.3687 - acc: 0.5182 - val_loss: 0.7601 - val_acc: 0.5127\n",
            "Epoch 2/30\n",
            "9924/9924 [==============================] - 32s 3ms/step - loss: 0.7303 - acc: 0.5161 - val_loss: 0.7113 - val_acc: 0.5155\n",
            "Epoch 3/30\n",
            "9924/9924 [==============================] - 32s 3ms/step - loss: 0.7032 - acc: 0.5154 - val_loss: 0.6978 - val_acc: 0.5155\n",
            "Epoch 4/30\n",
            "9924/9924 [==============================] - 32s 3ms/step - loss: 0.6956 - acc: 0.5154 - val_loss: 0.6941 - val_acc: 0.5155\n",
            "Epoch 5/30\n",
            "9924/9924 [==============================] - 32s 3ms/step - loss: 0.6935 - acc: 0.5154 - val_loss: 0.6930 - val_acc: 0.5155\n",
            "Epoch 6/30\n",
            "9924/9924 [==============================] - 32s 3ms/step - loss: 0.6929 - acc: 0.5154 - val_loss: 0.6928 - val_acc: 0.5155\n",
            "Epoch 7/30\n",
            "9924/9924 [==============================] - 32s 3ms/step - loss: 0.6928 - acc: 0.5154 - val_loss: 0.6927 - val_acc: 0.5155\n",
            "Epoch 8/30\n",
            "9924/9924 [==============================] - 32s 3ms/step - loss: 0.6927 - acc: 0.5154 - val_loss: 0.6927 - val_acc: 0.5155\n",
            "Epoch 9/30\n",
            "9924/9924 [==============================] - 32s 3ms/step - loss: 0.6927 - acc: 0.5154 - val_loss: 0.6927 - val_acc: 0.5155\n",
            "Epoch 10/30\n",
            "9924/9924 [==============================] - 32s 3ms/step - loss: 0.6927 - acc: 0.5154 - val_loss: 0.6927 - val_acc: 0.5155\n",
            "Epoch 11/30\n",
            "9924/9924 [==============================] - 32s 3ms/step - loss: 0.6927 - acc: 0.5154 - val_loss: 0.6927 - val_acc: 0.5155\n",
            "Epoch 12/30\n",
            "9924/9924 [==============================] - 32s 3ms/step - loss: 0.6927 - acc: 0.5154 - val_loss: 0.6927 - val_acc: 0.5155\n",
            "Epoch 13/30\n",
            "9924/9924 [==============================] - 32s 3ms/step - loss: 0.6927 - acc: 0.5154 - val_loss: 0.6927 - val_acc: 0.5155\n",
            "Epoch 14/30\n",
            "9924/9924 [==============================] - 32s 3ms/step - loss: 0.6927 - acc: 0.5154 - val_loss: 0.6927 - val_acc: 0.5155\n",
            "Epoch 15/30\n",
            "9924/9924 [==============================] - 32s 3ms/step - loss: 0.6927 - acc: 0.5154 - val_loss: 0.6927 - val_acc: 0.5155\n",
            "Epoch 16/30\n",
            "9924/9924 [==============================] - 32s 3ms/step - loss: 0.6927 - acc: 0.5154 - val_loss: 0.6927 - val_acc: 0.5155\n",
            "Epoch 17/30\n",
            "9924/9924 [==============================] - 32s 3ms/step - loss: 0.6928 - acc: 0.5154 - val_loss: 0.6927 - val_acc: 0.5155\n",
            "Epoch 18/30\n",
            "9924/9924 [==============================] - 32s 3ms/step - loss: 0.6927 - acc: 0.5154 - val_loss: 0.6927 - val_acc: 0.5155\n",
            "Epoch 19/30\n",
            "9924/9924 [==============================] - 32s 3ms/step - loss: 0.6927 - acc: 0.5154 - val_loss: 0.6927 - val_acc: 0.5155\n",
            "Epoch 20/30\n",
            "9924/9924 [==============================] - 32s 3ms/step - loss: 0.6927 - acc: 0.5154 - val_loss: 0.6927 - val_acc: 0.5155\n",
            "Epoch 21/30\n",
            "9924/9924 [==============================] - 32s 3ms/step - loss: 0.6927 - acc: 0.5154 - val_loss: 0.6927 - val_acc: 0.5155\n",
            "Epoch 22/30\n",
            "9924/9924 [==============================] - 32s 3ms/step - loss: 0.6927 - acc: 0.5154 - val_loss: 0.6927 - val_acc: 0.5155\n",
            "Epoch 23/30\n",
            "9924/9924 [==============================] - 32s 3ms/step - loss: 0.6927 - acc: 0.5154 - val_loss: 0.6927 - val_acc: 0.5155\n",
            "Epoch 24/30\n",
            "9924/9924 [==============================] - 32s 3ms/step - loss: 0.6927 - acc: 0.5154 - val_loss: 0.6927 - val_acc: 0.5155\n",
            "Epoch 25/30\n",
            "9924/9924 [==============================] - 32s 3ms/step - loss: 0.6927 - acc: 0.5154 - val_loss: 0.6927 - val_acc: 0.5155\n",
            "Epoch 26/30\n",
            "9924/9924 [==============================] - 32s 3ms/step - loss: 0.6927 - acc: 0.5154 - val_loss: 0.6927 - val_acc: 0.5155\n",
            "Epoch 27/30\n",
            "9924/9924 [==============================] - 32s 3ms/step - loss: 0.6927 - acc: 0.5154 - val_loss: 0.6927 - val_acc: 0.5155\n",
            "Epoch 28/30\n",
            "9924/9924 [==============================] - 32s 3ms/step - loss: 0.6927 - acc: 0.5154 - val_loss: 0.6927 - val_acc: 0.5155\n",
            "Epoch 29/30\n",
            "9924/9924 [==============================] - 32s 3ms/step - loss: 0.6927 - acc: 0.5154 - val_loss: 0.6927 - val_acc: 0.5155\n",
            "Epoch 30/30\n",
            "9924/9924 [==============================] - 32s 3ms/step - loss: 0.6927 - acc: 0.5154 - val_loss: 0.6927 - val_acc: 0.5155\n"
          ],
          "name": "stdout"
        }
      ]
    },
    {
      "cell_type": "code",
      "metadata": {
        "id": "H14DvYBC0n3p",
        "colab_type": "code",
        "outputId": "cbb35ed0-5f5c-42e7-b04b-348fba3512cd",
        "colab": {
          "base_uri": "https://localhost:8080/",
          "height": 709
        }
      },
      "source": [
        "# Get the loss and accuracy graphs for both learning rates\n",
        "loss, accuracy = model_dec2.evaluate([padded_claim_val,padded_art_val,padded_art_src_val], label_val, verbose=False)\n",
        "print(\"Validation Accuracy: {:.4f}\".format(accuracy))\n",
        "loss, accuracy = model_dec2.evaluate([padded_claim_test,padded_art_test,padded_art_src_test],label_test)\n",
        "print(\"Testing Accuracy:  {:.4f}\".format(accuracy))\n",
        "plot_history(history4)\n",
        "plot_history(history4_02)"
      ],
      "execution_count": 0,
      "outputs": [
        {
          "output_type": "stream",
          "text": [
            "Validation Accuracy: 0.6687\n",
            "3102/3102 [==============================] - 4s 1ms/step\n",
            "Testing Accuracy:  0.6605\n"
          ],
          "name": "stdout"
        },
        {
          "output_type": "display_data",
          "data": {
            "image/png": "[encoded data removed]",
            "text/plain": [
              "<Figure size 864x360 with 2 Axes>"
            ]
          },
          "metadata": {
            "tags": []
          }
        },
        {
          "output_type": "display_data",
          "data": {
            "image/png": "[encoded data removed]",
            "text/plain": [
              "<Figure size 864x360 with 2 Axes>"
            ]
          },
          "metadata": {
            "tags": []
          }
        }
      ]
    },
    {
      "cell_type": "code",
      "metadata": {
        "id": "D9TJjIjv0q1A",
        "colab_type": "code",
        "colab": {}
      },
      "source": [
        "# Predict for the test data and convert the result to either 0 or 1\n",
        "y_pred4 = model_dec2.predict([padded_claim_test,padded_art_test,padded_art_src_test])\n",
        "y_pred_bin4 = get_proper_labels(y_pred4)"
      ],
      "execution_count": 0,
      "outputs": []
    },
    {
      "cell_type": "code",
      "metadata": {
        "id": "An4oQZoNo1fw",
        "colab_type": "code",
        "outputId": "fe8b58c9-0ea9-41f8-fb54-3d808411ffe4",
        "colab": {
          "base_uri": "https://localhost:8080/",
          "height": 699
        }
      },
      "source": [
        "# When lr=0.0001\n",
        "plot_confusion_matrix(label_test,y_pred_bin4,[0,1])\n",
        "plot_confusion_matrix(label_test,y_pred_bin4,[0,1], normalize=True)"
      ],
      "execution_count": 0,
      "outputs": [
        {
          "output_type": "stream",
          "text": [
            "Confusion matrix, without normalization\n",
            "[[1186  420]\n",
            " [ 633  863]]\n",
            "Normalized confusion matrix\n",
            "[[0.7384807  0.2615193 ]\n",
            " [0.42312834 0.57687166]]\n"
          ],
          "name": "stdout"
        },
        {
          "output_type": "execute_result",
          "data": {
            "text/plain": [
              "<matplotlib.axes._subplots.AxesSubplot at 0x7fdf344f5a20>"
            ]
          },
          "metadata": {
            "tags": []
          },
          "execution_count": 90
        },
        {
          "output_type": "display_data",
          "data": {
            "image/png": "[encoded data removed]",
            "text/plain": [
              "<Figure size 432x288 with 2 Axes>"
            ]
          },
          "metadata": {
            "tags": []
          }
        },
        {
          "output_type": "display_data",
          "data": {
            "image/png": "[encoded data removed]",
            "text/plain": [
              "<Figure size 432x288 with 2 Axes>"
            ]
          },
          "metadata": {
            "tags": []
          }
        }
      ]
    },
    {
      "cell_type": "code",
      "metadata": {
        "id": "iUmE1f-OfHzq",
        "colab_type": "code",
        "outputId": "0851fa8a-324c-4ac8-c9a5-b138ae88d768",
        "colab": {
          "base_uri": "https://localhost:8080/",
          "height": 699
        }
      },
      "source": [
        "#When lr=0.002\n",
        "plot_confusion_matrix(label_test,y_pred_bin4,[0,1])\n",
        "plot_confusion_matrix(label_test,y_pred_bin4,[0,1], normalize=True)"
      ],
      "execution_count": 0,
      "outputs": [
        {
          "output_type": "stream",
          "text": [
            "Confusion matrix, without normalization\n",
            "[[1606    0]\n",
            " [1496    0]]\n",
            "Normalized confusion matrix\n",
            "[[1. 0.]\n",
            " [1. 0.]]\n"
          ],
          "name": "stdout"
        },
        {
          "output_type": "execute_result",
          "data": {
            "text/plain": [
              "<matplotlib.axes._subplots.AxesSubplot at 0x7fdf3a7e25c0>"
            ]
          },
          "metadata": {
            "tags": []
          },
          "execution_count": 56
        },
        {
          "output_type": "display_data",
          "data": {
            "image/png": "[encoded data removed]",
            "text/plain": [
              "<Figure size 432x288 with 2 Axes>"
            ]
          },
          "metadata": {
            "tags": []
          }
        },
        {
          "output_type": "display_data",
          "data": {
            "image/png": "[encoded data removed]",
            "text/plain": [
              "<Figure size 432x288 with 2 Axes>"
            ]
          },
          "metadata": {
            "tags": []
          }
        }
      ]
    },
    {
      "cell_type": "code",
      "metadata": {
        "id": "mxjf7FUvetmW",
        "colab_type": "code",
        "outputId": "0efc462b-3be4-475a-835e-4ede5d2f7e27",
        "colab": {
          "base_uri": "https://localhost:8080/",
          "height": 277
        }
      },
      "source": [
        "#When lr=0.0001\n",
        "decalre_p,declare_r,declare_a,declare_f1 = evaluation_summary(\"DeClarE-Full\", y_pred_bin4, label_test)"
      ],
      "execution_count": 0,
      "outputs": [
        {
          "output_type": "stream",
          "text": [
            "Evaluation for: DeClarE-Full\n",
            "Classifier 'DeClarE-Full' has Acc=0.6605 P=0.6577 R=0.6623 F1=0.6568\n",
            "              precision    recall  f1-score   support\n",
            "\n",
            "           0      0.738     0.652     0.693      1819\n",
            "           1      0.577     0.673     0.621      1283\n",
            "\n",
            "    accuracy                          0.661      3102\n",
            "   macro avg      0.658     0.662     0.657      3102\n",
            "weighted avg      0.672     0.661     0.663      3102\n",
            "\n",
            "\n",
            "Confusion matrix:\n",
            " [[1186  420]\n",
            " [ 633  863]]\n"
          ],
          "name": "stdout"
        }
      ]
    },
    {
      "cell_type": "code",
      "metadata": {
        "id": "KzwWH52ne4vM",
        "colab_type": "code",
        "outputId": "9982b7f3-40c6-42fe-bee2-d63c7d333e1a",
        "colab": {
          "base_uri": "https://localhost:8080/",
          "height": 35
        }
      },
      "source": [
        "#When lr=0.0001\n",
        "fpr, tpr, thresholds = roc_curve(label_test, y_pred_bin4)\n",
        "auc_declare = auc(fpr, tpr)\n",
        "print(\"DeClarE Full AUC-\",auc_declare)"
      ],
      "execution_count": 0,
      "outputs": [
        {
          "output_type": "stream",
          "text": [
            "DeClarE Full AUC- 0.6576761775694089\n"
          ],
          "name": "stdout"
        }
      ]
    },
    {
      "cell_type": "code",
      "metadata": {
        "id": "LTuFWVgVk-jh",
        "colab_type": "code",
        "outputId": "e358f864-09d3-431a-f614-b2777da80f52",
        "colab": {
          "base_uri": "https://localhost:8080/",
          "height": 401
        }
      },
      "source": [
        "#When lr=0.002\n",
        "decalre_p,declare_r,declare_a,declare_f1 = evaluation_summary(\"DeClarE-Full\", y_pred_bin4, label_test)"
      ],
      "execution_count": 0,
      "outputs": [
        {
          "output_type": "stream",
          "text": [
            "Evaluation for: DeClarE-Full\n",
            "Classifier 'DeClarE-Full' has Acc=0.5177 P=0.5000 R=0.2589 F1=0.3411\n",
            "              precision    recall  f1-score   support\n",
            "\n",
            "           0      1.000     0.518     0.682      3102\n",
            "           1      0.000     0.000     0.000         0\n",
            "\n",
            "    accuracy                          0.518      3102\n",
            "   macro avg      0.500     0.259     0.341      3102\n",
            "weighted avg      1.000     0.518     0.682      3102\n",
            "\n",
            "\n",
            "Confusion matrix:\n",
            " [[1606    0]\n",
            " [1496    0]]\n"
          ],
          "name": "stdout"
        },
        {
          "output_type": "stream",
          "text": [
            "/usr/local/lib/python3.6/dist-packages/sklearn/metrics/classification.py:1439: UndefinedMetricWarning: Recall is ill-defined and being set to 0.0 in labels with no true samples.\n",
            "  'recall', 'true', average, warn_for)\n",
            "/usr/local/lib/python3.6/dist-packages/sklearn/metrics/classification.py:1439: UndefinedMetricWarning: F-score is ill-defined and being set to 0.0 in labels with no true samples.\n",
            "  'recall', 'true', average, warn_for)\n",
            "/usr/local/lib/python3.6/dist-packages/sklearn/metrics/classification.py:1439: UndefinedMetricWarning: Recall and F-score are ill-defined and being set to 0.0 in labels with no true samples.\n",
            "  'recall', 'true', average, warn_for)\n"
          ],
          "name": "stderr"
        }
      ]
    },
    {
      "cell_type": "code",
      "metadata": {
        "id": "zFRPuAp9lBtE",
        "colab_type": "code",
        "outputId": "3db3c5a8-fd55-4be0-aee5-9f58cb423465",
        "colab": {
          "base_uri": "https://localhost:8080/",
          "height": 35
        }
      },
      "source": [
        "#When lr=0.002\n",
        "fpr, tpr, thresholds = roc_curve(label_test, y_pred_bin4)\n",
        "auc_declare = auc(fpr, tpr)\n",
        "print(\"DeClarE Full AUC-\",auc_declare)"
      ],
      "execution_count": 0,
      "outputs": [
        {
          "output_type": "stream",
          "text": [
            "DeClarE Full AUC- 0.5\n"
          ],
          "name": "stdout"
        }
      ]
    },
    {
      "cell_type": "code",
      "metadata": {
        "id": "qAVPpD_AlEpg",
        "colab_type": "code",
        "colab": {}
      },
      "source": [
        "# Visulaisation\n",
        "#Creates and HTML file which show the attention weights visulaization on the article. This code taken from: https://github.com/kaushalshetty/Structured-Self-Attention/blob/master\n",
        "\n",
        "def createHTML(texts, weights, fileName):\n",
        "    \"\"\"\n",
        "    Creates a html file with text heat.\n",
        "\tweights: attention weights for visualizing\n",
        "\ttexts: text on which attention weights are to be visualized\n",
        "    \"\"\"\n",
        "    fileName = \"visualization/\"+fileName\n",
        "    fOut = open(fileName, \"w\", encoding=\"utf-8\")\n",
        "    part1 = \"\"\"\n",
        "    <html lang=\"en\">\n",
        "    <head>\n",
        "    <meta http-equiv=\"content-type\" content=\"text/html; charset=utf-8\">\n",
        "    <style>\n",
        "    body {\n",
        "    font-family: Sans-Serif;\n",
        "    }\n",
        "    </style>\n",
        "    </head>\n",
        "    <body>\n",
        "    <h3>\n",
        "    Heatmaps\n",
        "    </h3>\n",
        "    </body>\n",
        "    <script>\n",
        "    \"\"\"\n",
        "    part2 = \"\"\"\n",
        "    var color = \"255,0,0\";\n",
        "    var ngram_length = 3;\n",
        "    var half_ngram = 1;\n",
        "    for (var k=0; k < any_text.length; k++) {\n",
        "    var tokens = any_text[k].split(\" \");\n",
        "    var intensity = new Array(tokens.length);\n",
        "    var max_intensity = Number.MIN_SAFE_INTEGER;\n",
        "    var min_intensity = Number.MAX_SAFE_INTEGER;\n",
        "    for (var i = 0; i < intensity.length; i++) {\n",
        "    intensity[i] = 0.0;\n",
        "    for (var j = -half_ngram; j < ngram_length-half_ngram; j++) {\n",
        "    if (i+j < intensity.length && i+j > -1) {\n",
        "    intensity[i] += trigram_weights[k][i + j];\n",
        "    }\n",
        "    }\n",
        "    if (i == 0 || i == intensity.length-1) {\n",
        "    intensity[i] /= 2.0;\n",
        "    } else {\n",
        "    intensity[i] /= 3.0;\n",
        "    }\n",
        "    if (intensity[i] > max_intensity) {\n",
        "    max_intensity = intensity[i];\n",
        "    }\n",
        "    if (intensity[i] < min_intensity) {\n",
        "    min_intensity = intensity[i];\n",
        "    }\n",
        "    }\n",
        "    var denominator = max_intensity - min_intensity;\n",
        "    for (var i = 0; i < intensity.length; i++) {\n",
        "    intensity[i] = (intensity[i] - min_intensity) / denominator;\n",
        "    }\n",
        "    if (k%2 == 0) {\n",
        "    var heat_text = \"<p><br><b>Example:</b><br>\";\n",
        "    } else {\n",
        "    var heat_text = \"<b>Example:</b><br>\";\n",
        "    }\n",
        "    var space = \"\";\n",
        "    for (var i = 0; i < tokens.length; i++) {\n",
        "    heat_text += \"<span style='background-color:rgba(\" + color + \",\" + intensity[i] + \")'>\" + space + tokens[i] + \"</span>\";\n",
        "    if (space == \"\") {\n",
        "    space = \" \";\n",
        "    }\n",
        "    }\n",
        "    //heat_text += \"<p>\";\n",
        "    document.body.innerHTML += heat_text;\n",
        "    }\n",
        "    </script>\n",
        "    </html>\"\"\"\n",
        "    putQuote = lambda x: \"\\\"%s\\\"\"%x\n",
        "    textsString = \"var any_text = [%s];\\n\"%(\",\".join(map(putQuote, texts)))\n",
        "    weightsString = \"var trigram_weights = [%s];\\n\"%(\",\".join(map(str,weights)))\n",
        "    fOut.write(part1)\n",
        "    fOut.write(textsString)\n",
        "    fOut.write(weightsString)\n",
        "    fOut.write(part2)\n",
        "    fOut.close()\n",
        "  \n",
        "    return"
      ],
      "execution_count": 0,
      "outputs": []
    },
    {
      "cell_type": "code",
      "metadata": {
        "id": "FLXpBiu2lHh8",
        "colab_type": "code",
        "colab": {}
      },
      "source": [
        "# Create a new directory called visualization \n",
        "!mkdir visualization"
      ],
      "execution_count": 0,
      "outputs": []
    },
    {
      "cell_type": "code",
      "metadata": {
        "id": "kspdos94lKlB",
        "colab_type": "code",
        "colab": {}
      },
      "source": [
        "#Method to process the article and the attention weights then create the HTML file.\n",
        "def visualize_attention(wts,x_test_pad,word_to_id,filename):\n",
        "    wts_add = wts\n",
        "    wts_add_list = wts_add.tolist()\n",
        "    id_to_word = {v:k for k,v in word_to_id.items()}\n",
        "    text= []\n",
        "    for test in x_test_pad:\n",
        "        line=list()\n",
        "        for i in test:\n",
        "          if i == 0.0:\n",
        "            word = '<UNK>'\n",
        "          else:\n",
        "            word = id_to_word.get(i)\n",
        "          line.append(word)\n",
        "        text.append(\" \".join(line))\n",
        "    \n",
        "    createHTML(text, wts_add_list, filename)\n",
        "    print(\"Attention visualization created for {} samples\".format(len(x_test_pad)))\n",
        "    return"
      ],
      "execution_count": 0,
      "outputs": []
    },
    {
      "cell_type": "code",
      "metadata": {
        "id": "okCEharFlNKZ",
        "colab_type": "code",
        "colab": {}
      },
      "source": [
        "# Get the activations of all layers of the model\n",
        "test_last_idx = 15\n",
        "activations = get_activations(model_dec2, [padded_claim_test[:test_last_idx,:],padded_art_test[:test_last_idx,:],\n",
        "                                           padded_art_src_test[:test_last_idx,:]])"
      ],
      "execution_count": 0,
      "outputs": []
    },
    {
      "cell_type": "code",
      "metadata": {
        "id": "BgLM4g7MlQBG",
        "colab_type": "code",
        "outputId": "8fcf3a50-839d-49b7-a09a-51d8bbdf9366",
        "colab": {
          "base_uri": "https://localhost:8080/",
          "height": 399
        }
      },
      "source": [
        "# Display the layer structures\n",
        "from keract import display_activations\n",
        "display_activations(activations, cmap=\"gray\", save=False)"
      ],
      "execution_count": 0,
      "outputs": [
        {
          "output_type": "stream",
          "text": [
            "input_9:0 (15, 100) -> Skipped. First dimension is not 1.\n",
            "input_10:0 (15, 100) -> Skipped. First dimension is not 1.\n",
            "input_11:0 (15, 4) -> Skipped. First dimension is not 1.\n",
            "embedding_9/embedding_lookup/Identity:0 (15, 100, 100) -> Skipped. First dimension is not 1.\n",
            "lambda_3/Mean:0 (15, 100) -> Skipped. First dimension is not 1.\n",
            "repeat_vector_3/Tile:0 (15, 100, 100) -> Skipped. First dimension is not 1.\n",
            "embedding_10/embedding_lookup/Identity:0 (15, 100, 100) -> Skipped. First dimension is not 1.\n",
            "flatten_9/Reshape:0 (15, 10000) -> Skipped. First dimension is not 1.\n",
            "flatten_10/Reshape:0 (15, 10000) -> Skipped. First dimension is not 1.\n",
            "concatenate_4/concat:0 (15, 20000) -> Skipped. First dimension is not 1.\n",
            "dense_11/Tanh:0 (15, 100) -> Skipped. First dimension is not 1.\n",
            "activation_2/Softmax:0 (15, 100) -> Skipped. First dimension is not 1.\n",
            "bidirectional_5/concat:0 (15, 100, 100) -> Skipped. First dimension is not 1.\n",
            "dot_2/Squeeze:0 (15, 100) -> Skipped. First dimension is not 1.\n",
            "repeat_vector_4/Tile:0 (15, 3, 100) -> Skipped. First dimension is not 1.\n",
            "embedding_11/embedding_lookup/Identity:0 (15, 4, 4) -> Skipped. First dimension is not 1.\n",
            "lambda_4/Mean:0 (15, 3) -> Skipped. First dimension is not 1.\n",
            "flatten_11/Reshape:0 (15, 16) -> Skipped. First dimension is not 1.\n",
            "concatenate_5/concat:0 (15, 19) -> Skipped. First dimension is not 1.\n",
            "dense_12/Relu:0 (15, 8) -> Skipped. First dimension is not 1.\n",
            "dense_13/Relu:0 (15, 8) -> Skipped. First dimension is not 1.\n",
            "dense_14/Sigmoid:0 (15, 1) -> Skipped. First dimension is not 1.\n"
          ],
          "name": "stdout"
        }
      ]
    },
    {
      "cell_type": "code",
      "metadata": {
        "id": "s3XS8yLPlWHt",
        "colab_type": "code",
        "outputId": "34a15a79-c4cb-461c-f06e-59c162bf0e64",
        "colab": {
          "base_uri": "https://localhost:8080/",
          "height": 35
        }
      },
      "source": [
        "# get weights of the activation layer\n",
        "wts = activations.get('activation_2/Softmax:0')\n",
        "wts.shape"
      ],
      "execution_count": 0,
      "outputs": [
        {
          "output_type": "execute_result",
          "data": {
            "text/plain": [
              "(15, 100)"
            ]
          },
          "metadata": {
            "tags": []
          },
          "execution_count": 69
        }
      ]
    },
    {
      "cell_type": "code",
      "metadata": {
        "id": "KE40-fOllXLd",
        "colab_type": "code",
        "outputId": "a414cdab-6c40-48f6-d2cd-c514a6da2d76",
        "colab": {
          "base_uri": "https://localhost:8080/",
          "height": 35
        }
      },
      "source": [
        "# Create the weight visualization HTML file\n",
        "word_to_id = t.word_index\n",
        "visualize_attention(wts,padded_art_test[:test_last_idx,:],word_to_id,filename='declare_snp.html')"
      ],
      "execution_count": 0,
      "outputs": [
        {
          "output_type": "stream",
          "text": [
            "Attention visualization created for 15 samples\n"
          ],
          "name": "stdout"
        }
      ]
    },
    {
      "cell_type": "markdown",
      "metadata": {
        "id": "W7HT6Wv5ngq1",
        "colab_type": "text"
      },
      "source": [
        "## Testing for Unique Claims"
      ]
    },
    {
      "cell_type": "markdown",
      "metadata": {
        "id": "ZFfNvRJpKy82",
        "colab_type": "text"
      },
      "source": [
        "Due to the problem of experimental bias introduced into the model, we test the performance of the Hybrid model on unique claims. This bias is introduced because a claim can be associated with many articles and hence can be repeated in traning and test data making it seen data for the model when testing."
      ]
    },
    {
      "cell_type": "code",
      "metadata": {
        "id": "SbgawmEFnk9G",
        "colab_type": "code",
        "outputId": "e9f63f39-6068-4ef0-a522-28bb027e8014",
        "colab": {
          "base_uri": "https://localhost:8080/",
          "height": 462
        }
      },
      "source": [
        "# For the Full DeClarE model when lr=0.0001\n",
        "input_test['model_pred_01'] = y_pred_bin4\n",
        "input_test.head()"
      ],
      "execution_count": 0,
      "outputs": [
        {
          "output_type": "stream",
          "text": [
            "/usr/local/lib/python3.6/dist-packages/ipykernel_launcher.py:1: SettingWithCopyWarning: \n",
            "A value is trying to be set on a copy of a slice from a DataFrame.\n",
            "Try using .loc[row_indexer,col_indexer] = value instead\n",
            "\n",
            "See the caveats in the documentation: http://pandas.pydata.org/pandas-docs/stable/indexing.html#indexing-view-versus-copy\n",
            "  \"\"\"Entry point for launching an IPython kernel.\n"
          ],
          "name": "stderr"
        },
        {
          "output_type": "execute_result",
          "data": {
            "text/html": [
              "<div>\n",
              "<style scoped>\n",
              "    .dataframe tbody tr th:only-of-type {\n",
              "        vertical-align: middle;\n",
              "    }\n",
              "\n",
              "    .dataframe tbody tr th {\n",
              "        vertical-align: top;\n",
              "    }\n",
              "\n",
              "    .dataframe thead th {\n",
              "        text-align: right;\n",
              "    }\n",
              "</style>\n",
              "<table border=\"1\" class=\"dataframe\">\n",
              "  <thead>\n",
              "    <tr style=\"text-align: right;\">\n",
              "      <th></th>\n",
              "      <th>cred_label</th>\n",
              "      <th>claim_id</th>\n",
              "      <th>claim_text</th>\n",
              "      <th>article</th>\n",
              "      <th>article_source</th>\n",
              "      <th>bin_cred_label</th>\n",
              "      <th>model_pred</th>\n",
              "      <th>model_pred_01</th>\n",
              "    </tr>\n",
              "  </thead>\n",
              "  <tbody>\n",
              "    <tr>\n",
              "      <th>651</th>\n",
              "      <td>false</td>\n",
              "      <td>politics_religion_marines</td>\n",
              "      <td>aclu objected us marine prayer session constit...</td>\n",
              "      <td>money out of the found by report spam use the ...</td>\n",
              "      <td>ennals.org</td>\n",
              "      <td>0</td>\n",
              "      <td>0</td>\n",
              "      <td>0</td>\n",
              "    </tr>\n",
              "    <tr>\n",
              "      <th>2123</th>\n",
              "      <td>false</td>\n",
              "      <td>politics_satire_palinczech</td>\n",
              "      <td>sarah palin called invasion czech republic res...</td>\n",
              "      <td>p v m tt historia ja tiede jump to navigation ...</td>\n",
              "      <td>www.tiede.fi</td>\n",
              "      <td>0</td>\n",
              "      <td>0</td>\n",
              "      <td>0</td>\n",
              "    </tr>\n",
              "    <tr>\n",
              "      <th>7418</th>\n",
              "      <td>false</td>\n",
              "      <td>invisible-art</td>\n",
              "      <td>new york artist named lana creates sells invis...</td>\n",
              "      <td>paying millions user name remember me password...</td>\n",
              "      <td>www.thephora.net</td>\n",
              "      <td>0</td>\n",
              "      <td>0</td>\n",
              "      <td>0</td>\n",
              "    </tr>\n",
              "    <tr>\n",
              "      <th>3383</th>\n",
              "      <td>false</td>\n",
              "      <td>crime_warnings_burundanga</td>\n",
              "      <td>criminals us using business cards incapacitate...</td>\n",
              "      <td>and slipping you a card when they offer their ...</td>\n",
              "      <td>groups.yahoo.com</td>\n",
              "      <td>0</td>\n",
              "      <td>0</td>\n",
              "      <td>0</td>\n",
              "    </tr>\n",
              "    <tr>\n",
              "      <th>19246</th>\n",
              "      <td>true</td>\n",
              "      <td>photos_accident_pushcar</td>\n",
              "      <td>video shows truck pushing automobile trapped f...</td>\n",
              "      <td>tanker truck at truck pushes car down highway ...</td>\n",
              "      <td>evyryl.prv.pl</td>\n",
              "      <td>1</td>\n",
              "      <td>0</td>\n",
              "      <td>1</td>\n",
              "    </tr>\n",
              "  </tbody>\n",
              "</table>\n",
              "</div>"
            ],
            "text/plain": [
              "      cred_label                    claim_id  ... model_pred model_pred_01\n",
              "651        false   politics_religion_marines  ...          0             0\n",
              "2123       false  politics_satire_palinczech  ...          0             0\n",
              "7418       false               invisible-art  ...          0             0\n",
              "3383       false   crime_warnings_burundanga  ...          0             0\n",
              "19246       true     photos_accident_pushcar  ...          0             1\n",
              "\n",
              "[5 rows x 8 columns]"
            ]
          },
          "metadata": {
            "tags": []
          },
          "execution_count": 93
        }
      ]
    },
    {
      "cell_type": "code",
      "metadata": {
        "id": "RNTdiBYunrZt",
        "colab_type": "code",
        "outputId": "d0485436-a440-4c62-91be-b4af1ef01d60",
        "colab": {
          "base_uri": "https://localhost:8080/",
          "height": 289
        }
      },
      "source": [
        "#When lr=0.002\n",
        "unique_test_or = input_test[~input_test['claim_text'].isin(input_train_in['claim_text'])]\n",
        "unique_test_or.head()"
      ],
      "execution_count": 0,
      "outputs": [
        {
          "output_type": "execute_result",
          "data": {
            "text/html": [
              "<div>\n",
              "<style scoped>\n",
              "    .dataframe tbody tr th:only-of-type {\n",
              "        vertical-align: middle;\n",
              "    }\n",
              "\n",
              "    .dataframe tbody tr th {\n",
              "        vertical-align: top;\n",
              "    }\n",
              "\n",
              "    .dataframe thead th {\n",
              "        text-align: right;\n",
              "    }\n",
              "</style>\n",
              "<table border=\"1\" class=\"dataframe\">\n",
              "  <thead>\n",
              "    <tr style=\"text-align: right;\">\n",
              "      <th></th>\n",
              "      <th>cred_label</th>\n",
              "      <th>claim_id</th>\n",
              "      <th>claim_text</th>\n",
              "      <th>article</th>\n",
              "      <th>article_source</th>\n",
              "      <th>bin_cred_label</th>\n",
              "      <th>model_pred</th>\n",
              "    </tr>\n",
              "  </thead>\n",
              "  <tbody>\n",
              "    <tr>\n",
              "      <th>6157</th>\n",
              "      <td>true</td>\n",
              "      <td>holidays_christmas_photos_decorations</td>\n",
              "      <td>photograph shows holiday display depicting hom...</td>\n",
              "      <td>the legends information and misinformation tha...</td>\n",
              "      <td>www.sjpba.net</td>\n",
              "      <td>1</td>\n",
              "      <td>0</td>\n",
              "    </tr>\n",
              "    <tr>\n",
              "      <th>23491</th>\n",
              "      <td>mostly true</td>\n",
              "      <td>trayvon-martin-space-camp</td>\n",
              "      <td>photograph shows shooting victim trayvon marti...</td>\n",
              "      <td>read more false george zimmerman found dead fo...</td>\n",
              "      <td>hoax.trendolizer.com</td>\n",
              "      <td>1</td>\n",
              "      <td>0</td>\n",
              "    </tr>\n",
              "    <tr>\n",
              "      <th>9511</th>\n",
              "      <td>true</td>\n",
              "      <td>politics_war_onleave</td>\n",
              "      <td>civilians give seats commercial flight soldier...</td>\n",
              "      <td>offline quote quick reply remove advertisement...</td>\n",
              "      <td>www.puff.com</td>\n",
              "      <td>1</td>\n",
              "      <td>0</td>\n",
              "    </tr>\n",
              "    <tr>\n",
              "      <th>5648</th>\n",
              "      <td>true</td>\n",
              "      <td>humor_mediagoofs_sixpence2</td>\n",
              "      <td>urban myths board game fell joke using nursery...</td>\n",
              "      <td>a true legend a red indicates a false one and ...</td>\n",
              "      <td>www.j-dubbstheater.com</td>\n",
              "      <td>1</td>\n",
              "      <td>0</td>\n",
              "    </tr>\n",
              "    <tr>\n",
              "      <th>27614</th>\n",
              "      <td>true</td>\n",
              "      <td>politics_obama_photos_crashers</td>\n",
              "      <td>photograph shows barack obama posing couple cr...</td>\n",
              "      <td>comment culture travel life women fashion luxu...</td>\n",
              "      <td>www.telegraph.co.uk</td>\n",
              "      <td>1</td>\n",
              "      <td>0</td>\n",
              "    </tr>\n",
              "  </tbody>\n",
              "</table>\n",
              "</div>"
            ],
            "text/plain": [
              "        cred_label  ... model_pred\n",
              "6157          true  ...          0\n",
              "23491  mostly true  ...          0\n",
              "9511          true  ...          0\n",
              "5648          true  ...          0\n",
              "27614         true  ...          0\n",
              "\n",
              "[5 rows x 7 columns]"
            ]
          },
          "metadata": {
            "tags": []
          },
          "execution_count": 60
        }
      ]
    },
    {
      "cell_type": "code",
      "metadata": {
        "id": "PPoeQqpspfGw",
        "colab_type": "code",
        "outputId": "b78bc2b3-5baf-4fb6-94ab-14d939f3d63a",
        "colab": {
          "base_uri": "https://localhost:8080/",
          "height": 445
        }
      },
      "source": [
        "#When lr=0.0001\n",
        "unique_test_or1 = input_test[~input_test['claim_text'].isin(input_train_in['claim_text'])]\n",
        "unique_test_or1.head()"
      ],
      "execution_count": 0,
      "outputs": [
        {
          "output_type": "execute_result",
          "data": {
            "text/html": [
              "<div>\n",
              "<style scoped>\n",
              "    .dataframe tbody tr th:only-of-type {\n",
              "        vertical-align: middle;\n",
              "    }\n",
              "\n",
              "    .dataframe tbody tr th {\n",
              "        vertical-align: top;\n",
              "    }\n",
              "\n",
              "    .dataframe thead th {\n",
              "        text-align: right;\n",
              "    }\n",
              "</style>\n",
              "<table border=\"1\" class=\"dataframe\">\n",
              "  <thead>\n",
              "    <tr style=\"text-align: right;\">\n",
              "      <th></th>\n",
              "      <th>cred_label</th>\n",
              "      <th>claim_id</th>\n",
              "      <th>claim_text</th>\n",
              "      <th>article</th>\n",
              "      <th>article_source</th>\n",
              "      <th>bin_cred_label</th>\n",
              "      <th>model_pred</th>\n",
              "      <th>model_pred_01</th>\n",
              "    </tr>\n",
              "  </thead>\n",
              "  <tbody>\n",
              "    <tr>\n",
              "      <th>6157</th>\n",
              "      <td>true</td>\n",
              "      <td>holidays_christmas_photos_decorations</td>\n",
              "      <td>photograph shows holiday display depicting hom...</td>\n",
              "      <td>the legends information and misinformation tha...</td>\n",
              "      <td>www.sjpba.net</td>\n",
              "      <td>1</td>\n",
              "      <td>0</td>\n",
              "      <td>1</td>\n",
              "    </tr>\n",
              "    <tr>\n",
              "      <th>23491</th>\n",
              "      <td>mostly true</td>\n",
              "      <td>trayvon-martin-space-camp</td>\n",
              "      <td>photograph shows shooting victim trayvon marti...</td>\n",
              "      <td>read more false george zimmerman found dead fo...</td>\n",
              "      <td>hoax.trendolizer.com</td>\n",
              "      <td>1</td>\n",
              "      <td>0</td>\n",
              "      <td>1</td>\n",
              "    </tr>\n",
              "    <tr>\n",
              "      <th>9511</th>\n",
              "      <td>true</td>\n",
              "      <td>politics_war_onleave</td>\n",
              "      <td>civilians give seats commercial flight soldier...</td>\n",
              "      <td>offline quote quick reply remove advertisement...</td>\n",
              "      <td>www.puff.com</td>\n",
              "      <td>1</td>\n",
              "      <td>0</td>\n",
              "      <td>1</td>\n",
              "    </tr>\n",
              "    <tr>\n",
              "      <th>5648</th>\n",
              "      <td>true</td>\n",
              "      <td>humor_mediagoofs_sixpence2</td>\n",
              "      <td>urban myths board game fell joke using nursery...</td>\n",
              "      <td>a true legend a red indicates a false one and ...</td>\n",
              "      <td>www.j-dubbstheater.com</td>\n",
              "      <td>1</td>\n",
              "      <td>0</td>\n",
              "      <td>0</td>\n",
              "    </tr>\n",
              "    <tr>\n",
              "      <th>27614</th>\n",
              "      <td>true</td>\n",
              "      <td>politics_obama_photos_crashers</td>\n",
              "      <td>photograph shows barack obama posing couple cr...</td>\n",
              "      <td>comment culture travel life women fashion luxu...</td>\n",
              "      <td>www.telegraph.co.uk</td>\n",
              "      <td>1</td>\n",
              "      <td>0</td>\n",
              "      <td>1</td>\n",
              "    </tr>\n",
              "  </tbody>\n",
              "</table>\n",
              "</div>"
            ],
            "text/plain": [
              "        cred_label  ... model_pred_01\n",
              "6157          true  ...             1\n",
              "23491  mostly true  ...             1\n",
              "9511          true  ...             1\n",
              "5648          true  ...             0\n",
              "27614         true  ...             1\n",
              "\n",
              "[5 rows x 8 columns]"
            ]
          },
          "metadata": {
            "tags": []
          },
          "execution_count": 94
        }
      ]
    },
    {
      "cell_type": "code",
      "metadata": {
        "id": "BBEVj4mZpnmH",
        "colab_type": "code",
        "outputId": "4e3053c9-451b-4a86-cfe0-ec09ecbb02e2",
        "colab": {
          "base_uri": "https://localhost:8080/",
          "height": 699
        }
      },
      "source": [
        "#When lr=0.0001\n",
        "bin_pred1=unique_test_or1['bin_cred_label'].tolist()\n",
        "pred_val1=unique_test_or1['model_pred_01'].tolist()\n",
        "plot_confusion_matrix(bin_pred,pred_val,[0,1])\n",
        "plot_confusion_matrix(bin_pred,pred_val,[0,1], normalize=True)"
      ],
      "execution_count": 0,
      "outputs": [
        {
          "output_type": "stream",
          "text": [
            "Confusion matrix, without normalization\n",
            "[[35  0]\n",
            " [52  0]]\n",
            "Normalized confusion matrix\n",
            "[[1. 0.]\n",
            " [1. 0.]]\n"
          ],
          "name": "stdout"
        },
        {
          "output_type": "execute_result",
          "data": {
            "text/plain": [
              "<matplotlib.axes._subplots.AxesSubplot at 0x7fdf34589390>"
            ]
          },
          "metadata": {
            "tags": []
          },
          "execution_count": 95
        },
        {
          "output_type": "display_data",
          "data": {
            "image/png": "[encoded data removed]",
            "text/plain": [
              "<Figure size 432x288 with 2 Axes>"
            ]
          },
          "metadata": {
            "tags": []
          }
        },
        {
          "output_type": "display_data",
          "data": {
            "image/png": "[encoded data removed]",
            "text/plain": [
              "<Figure size 432x288 with 2 Axes>"
            ]
          },
          "metadata": {
            "tags": []
          }
        }
      ]
    },
    {
      "cell_type": "code",
      "metadata": {
        "id": "MpCb0LQOprsH",
        "colab_type": "code",
        "outputId": "e386c80e-3ca8-4f93-c53b-f16277592f3b",
        "colab": {
          "base_uri": "https://localhost:8080/",
          "height": 401
        }
      },
      "source": [
        "#When lr=0.0001\n",
        "uq_p,uq_r,uq_a,uq_f1 = evaluation_summary(\"Self Attention-Full\", pred_val, bin_pred)"
      ],
      "execution_count": 0,
      "outputs": [
        {
          "output_type": "stream",
          "text": [
            "Evaluation for: Self Attention-Full\n",
            "Classifier 'Self Attention-Full' has Acc=0.4023 P=0.5000 R=0.2011 F1=0.2869\n",
            "              precision    recall  f1-score   support\n",
            "\n",
            "           0      1.000     0.402     0.574        87\n",
            "           1      0.000     0.000     0.000         0\n",
            "\n",
            "    accuracy                          0.402        87\n",
            "   macro avg      0.500     0.201     0.287        87\n",
            "weighted avg      1.000     0.402     0.574        87\n",
            "\n",
            "\n",
            "Confusion matrix:\n",
            " [[35  0]\n",
            " [52  0]]\n"
          ],
          "name": "stdout"
        },
        {
          "output_type": "stream",
          "text": [
            "/usr/local/lib/python3.6/dist-packages/sklearn/metrics/classification.py:1439: UndefinedMetricWarning: Recall is ill-defined and being set to 0.0 in labels with no true samples.\n",
            "  'recall', 'true', average, warn_for)\n",
            "/usr/local/lib/python3.6/dist-packages/sklearn/metrics/classification.py:1439: UndefinedMetricWarning: F-score is ill-defined and being set to 0.0 in labels with no true samples.\n",
            "  'recall', 'true', average, warn_for)\n",
            "/usr/local/lib/python3.6/dist-packages/sklearn/metrics/classification.py:1439: UndefinedMetricWarning: Recall and F-score are ill-defined and being set to 0.0 in labels with no true samples.\n",
            "  'recall', 'true', average, warn_for)\n"
          ],
          "name": "stderr"
        }
      ]
    },
    {
      "cell_type": "code",
      "metadata": {
        "id": "O2nGkmSppxjc",
        "colab_type": "code",
        "outputId": "6d28d602-b48c-4044-c3d9-6eb55ccac209",
        "colab": {
          "base_uri": "https://localhost:8080/",
          "height": 35
        }
      },
      "source": [
        "#When lr=0.0001\n",
        "fpr, tpr, thresholds = roc_curve(bin_pred, pred_val)\n",
        "auc_basic = auc(fpr, tpr)\n",
        "print(\"Self Attention-Full AUC-\",auc_basic)"
      ],
      "execution_count": 0,
      "outputs": [
        {
          "output_type": "stream",
          "text": [
            "Self Attention-Full AUC- 0.5\n"
          ],
          "name": "stdout"
        }
      ]
    },
    {
      "cell_type": "code",
      "metadata": {
        "id": "D3RkjQnynye1",
        "colab_type": "code",
        "outputId": "eb2bb4f0-09cf-4582-97c2-6fa7e949dd2e",
        "colab": {
          "base_uri": "https://localhost:8080/",
          "height": 699
        }
      },
      "source": [
        "#When lr=0.002\n",
        "bin_pred=unique_test_or['bin_cred_label'].tolist()\n",
        "pred_val=unique_test_or['model_pred'].tolist()\n",
        "plot_confusion_matrix(bin_pred,pred_val,[0,1])\n",
        "plot_confusion_matrix(bin_pred,pred_val,[0,1], normalize=True)"
      ],
      "execution_count": 0,
      "outputs": [
        {
          "output_type": "stream",
          "text": [
            "Confusion matrix, without normalization\n",
            "[[35  0]\n",
            " [52  0]]\n",
            "Normalized confusion matrix\n",
            "[[1. 0.]\n",
            " [1. 0.]]\n"
          ],
          "name": "stdout"
        },
        {
          "output_type": "execute_result",
          "data": {
            "text/plain": [
              "<matplotlib.axes._subplots.AxesSubplot at 0x7fdf3a844c88>"
            ]
          },
          "metadata": {
            "tags": []
          },
          "execution_count": 61
        },
        {
          "output_type": "display_data",
          "data": {
            "image/png": "[encoded data removed]",
            "text/plain": [
              "<Figure size 432x288 with 2 Axes>"
            ]
          },
          "metadata": {
            "tags": []
          }
        },
        {
          "output_type": "display_data",
          "data": {
            "image/png": "[encoded data removed]",
            "text/plain": [
              "<Figure size 432x288 with 2 Axes>"
            ]
          },
          "metadata": {
            "tags": []
          }
        }
      ]
    },
    {
      "cell_type": "code",
      "metadata": {
        "id": "SbcPrcqfn00m",
        "colab_type": "code",
        "outputId": "a754f956-196a-4d7c-ccb8-5225380c75bf",
        "colab": {
          "base_uri": "https://localhost:8080/",
          "height": 401
        }
      },
      "source": [
        "#When lr=0.002\n",
        "uq_p,uq_r,uq_a,uq_f1 = evaluation_summary(\"Self Attention-Full\", pred_val, bin_pred)"
      ],
      "execution_count": 0,
      "outputs": [
        {
          "output_type": "stream",
          "text": [
            "Evaluation for: Self Attention-Full\n",
            "Classifier 'Self Attention-Full' has Acc=0.4023 P=0.5000 R=0.2011 F1=0.2869\n",
            "              precision    recall  f1-score   support\n",
            "\n",
            "           0      1.000     0.402     0.574        87\n",
            "           1      0.000     0.000     0.000         0\n",
            "\n",
            "    accuracy                          0.402        87\n",
            "   macro avg      0.500     0.201     0.287        87\n",
            "weighted avg      1.000     0.402     0.574        87\n",
            "\n",
            "\n",
            "Confusion matrix:\n",
            " [[35  0]\n",
            " [52  0]]\n"
          ],
          "name": "stdout"
        },
        {
          "output_type": "stream",
          "text": [
            "/usr/local/lib/python3.6/dist-packages/sklearn/metrics/classification.py:1439: UndefinedMetricWarning: Recall is ill-defined and being set to 0.0 in labels with no true samples.\n",
            "  'recall', 'true', average, warn_for)\n",
            "/usr/local/lib/python3.6/dist-packages/sklearn/metrics/classification.py:1439: UndefinedMetricWarning: F-score is ill-defined and being set to 0.0 in labels with no true samples.\n",
            "  'recall', 'true', average, warn_for)\n",
            "/usr/local/lib/python3.6/dist-packages/sklearn/metrics/classification.py:1439: UndefinedMetricWarning: Recall and F-score are ill-defined and being set to 0.0 in labels with no true samples.\n",
            "  'recall', 'true', average, warn_for)\n"
          ],
          "name": "stderr"
        }
      ]
    },
    {
      "cell_type": "code",
      "metadata": {
        "id": "wIzF2FkQn3lW",
        "colab_type": "code",
        "outputId": "ea32475d-d7f1-4ea0-a2ed-157836f0aaf9",
        "colab": {
          "base_uri": "https://localhost:8080/",
          "height": 35
        }
      },
      "source": [
        "#When lr=0.002\n",
        "fpr, tpr, thresholds = roc_curve(bin_pred, pred_val)\n",
        "auc_basic = auc(fpr, tpr)\n",
        "print(\"Self Attention-Full AUC-\",auc_basic)"
      ],
      "execution_count": 0,
      "outputs": [
        {
          "output_type": "stream",
          "text": [
            "Self Attention-Full AUC- 0.5\n"
          ],
          "name": "stdout"
        }
      ]
    },
    {
      "cell_type": "code",
      "metadata": {
        "id": "dAo8yDWYn9Cn",
        "colab_type": "code",
        "outputId": "9e38ae36-242c-425f-9bfd-0e2c0e7362d8",
        "colab": {
          "base_uri": "https://localhost:8080/",
          "height": 1000
        }
      },
      "source": [
        "incorrect = unique_test_or[unique_test_or['bin_cred_label']!=unique_test_or['model_pred'].astype(int)]\n",
        "incorrect"
      ],
      "execution_count": 0,
      "outputs": [
        {
          "output_type": "execute_result",
          "data": {
            "text/html": [
              "<div>\n",
              "<style scoped>\n",
              "    .dataframe tbody tr th:only-of-type {\n",
              "        vertical-align: middle;\n",
              "    }\n",
              "\n",
              "    .dataframe tbody tr th {\n",
              "        vertical-align: top;\n",
              "    }\n",
              "\n",
              "    .dataframe thead th {\n",
              "        text-align: right;\n",
              "    }\n",
              "</style>\n",
              "<table border=\"1\" class=\"dataframe\">\n",
              "  <thead>\n",
              "    <tr style=\"text-align: right;\">\n",
              "      <th></th>\n",
              "      <th>cred_label</th>\n",
              "      <th>claim_id</th>\n",
              "      <th>claim_text</th>\n",
              "      <th>article</th>\n",
              "      <th>article_source</th>\n",
              "      <th>sim</th>\n",
              "      <th>bin_cred_label</th>\n",
              "      <th>model_pred</th>\n",
              "    </tr>\n",
              "  </thead>\n",
              "  <tbody>\n",
              "    <tr>\n",
              "      <th>13103</th>\n",
              "      <td>true</td>\n",
              "      <td>radiotv_tv_marykay</td>\n",
              "      <td>early tv sitcom mary kay johnny first televisi...</td>\n",
              "      <td>who was the 1st married couple on tv to sleep ...</td>\n",
              "      <td>www.carfas.com</td>\n",
              "      <td>0.266778</td>\n",
              "      <td>1</td>\n",
              "      <td>0</td>\n",
              "    </tr>\n",
              "    <tr>\n",
              "      <th>168</th>\n",
              "      <td>false</td>\n",
              "      <td>food_warnings_kraftgmo</td>\n",
              "      <td>kraft macaroni cheese products carry warning l...</td>\n",
              "      <td>false rumor kraft macaroni cheese products car...</td>\n",
              "      <td>www.reddit.com</td>\n",
              "      <td>0.466861</td>\n",
              "      <td>0</td>\n",
              "      <td>1</td>\n",
              "    </tr>\n",
              "    <tr>\n",
              "      <th>17171</th>\n",
              "      <td>true</td>\n",
              "      <td>photos_people_peppers</td>\n",
              "      <td>photograph shows man named brian peppers regis...</td>\n",
              "      <td>brian peppers registered sex offender in ohio ...</td>\n",
              "      <td>hedonistica.com</td>\n",
              "      <td>0.280117</td>\n",
              "      <td>1</td>\n",
              "      <td>0</td>\n",
              "    </tr>\n",
              "    <tr>\n",
              "      <th>19963</th>\n",
              "      <td>true</td>\n",
              "      <td>politics_religion_walmarthalal</td>\n",
              "      <td>ohio walmart store begun selling halal meat</td>\n",
              "      <td>walmart to start selling halal meat in ohio we...</td>\n",
              "      <td>www.weaselzippers.us</td>\n",
              "      <td>0.333472</td>\n",
              "      <td>1</td>\n",
              "      <td>0</td>\n",
              "    </tr>\n",
              "    <tr>\n",
              "      <th>17799</th>\n",
              "      <td>true</td>\n",
              "      <td>business_hidden_tombihn</td>\n",
              "      <td>washing instruction tags tom bihn bags carried...</td>\n",
              "      <td>washing instruction tags on tom bihn bags carr...</td>\n",
              "      <td>www.abovetopsecret.com</td>\n",
              "      <td>0.420175</td>\n",
              "      <td>1</td>\n",
              "      <td>0</td>\n",
              "    </tr>\n",
              "    <tr>\n",
              "      <th>22115</th>\n",
              "      <td>true</td>\n",
              "      <td>luck_bennett</td>\n",
              "      <td>woman killed husband bidding play bridge hand ...</td>\n",
              "      <td>views mel mcconaghy home uncategorized true or...</td>\n",
              "      <td>www.northernstar-online.com</td>\n",
              "      <td>0.291788</td>\n",
              "      <td>1</td>\n",
              "      <td>0</td>\n",
              "    </tr>\n",
              "    <tr>\n",
              "      <th>6174</th>\n",
              "      <td>true</td>\n",
              "      <td>facebook-firearms-gun-sales-policy</td>\n",
              "      <td>facebook banned sale firearms</td>\n",
              "      <td>private sale of firearms now banned on faceboo...</td>\n",
              "      <td>www.socialsongbird.com</td>\n",
              "      <td>0.466861</td>\n",
              "      <td>1</td>\n",
              "      <td>0</td>\n",
              "    </tr>\n",
              "    <tr>\n",
              "      <th>9635</th>\n",
              "      <td>false</td>\n",
              "      <td>autos_law_strobe</td>\n",
              "      <td>flashing cars high beams traffic signal cause ...</td>\n",
              "      <td>does flashing your high beams trigger a red li...</td>\n",
              "      <td>www.quora.com</td>\n",
              "      <td>0.212210</td>\n",
              "      <td>0</td>\n",
              "      <td>1</td>\n",
              "    </tr>\n",
              "    <tr>\n",
              "      <th>23172</th>\n",
              "      <td>false</td>\n",
              "      <td>Politics_satire_july4</td>\n",
              "      <td>president obama advised group college students...</td>\n",
              "      <td>president obama advised a group of college stu...</td>\n",
              "      <td>www.reddit.com</td>\n",
              "      <td>0.466861</td>\n",
              "      <td>0</td>\n",
              "      <td>1</td>\n",
              "    </tr>\n",
              "    <tr>\n",
              "      <th>19573</th>\n",
              "      <td>true</td>\n",
              "      <td>language_document_hiringwomen</td>\n",
              "      <td>transportation magazine ran guide hiring women...</td>\n",
              "      <td>snopes transportation magazine ran a guide to ...</td>\n",
              "      <td>www.bagofnothing.com</td>\n",
              "      <td>0.466861</td>\n",
              "      <td>1</td>\n",
              "      <td>0</td>\n",
              "    </tr>\n",
              "    <tr>\n",
              "      <th>25196</th>\n",
              "      <td>true</td>\n",
              "      <td>politics_war_hj20</td>\n",
              "      <td>resolution introduced house representatives se...</td>\n",
              "      <td>house report authorization for use of military...</td>\n",
              "      <td>www.gpo.gov</td>\n",
              "      <td>0.297094</td>\n",
              "      <td>1</td>\n",
              "      <td>0</td>\n",
              "    </tr>\n",
              "    <tr>\n",
              "      <th>23448</th>\n",
              "      <td>true</td>\n",
              "      <td>politics_crime_bernardo</td>\n",
              "      <td>film serial killers paul bernardo karla homolk...</td>\n",
              "      <td>to be found for tammy lyn homolka 164 comments...</td>\n",
              "      <td>darkerinthelight.wordpress.com</td>\n",
              "      <td>0.291788</td>\n",
              "      <td>1</td>\n",
              "      <td>0</td>\n",
              "    </tr>\n",
              "    <tr>\n",
              "      <th>19825</th>\n",
              "      <td>false</td>\n",
              "      <td>politics_immigration_thanksgiving</td>\n",
              "      <td>president obama plans issue executive order ch...</td>\n",
              "      <td>white house task force wants obama to change t...</td>\n",
              "      <td>joemiller.us</td>\n",
              "      <td>0.233431</td>\n",
              "      <td>0</td>\n",
              "      <td>1</td>\n",
              "    </tr>\n",
              "    <tr>\n",
              "      <th>14905</th>\n",
              "      <td>true</td>\n",
              "      <td>photos_animals_rupert</td>\n",
              "      <td>photographs show rupert deer delivered caesare...</td>\n",
              "      <td>rupert who was delivered by caesarean section ...</td>\n",
              "      <td>www.dailymail.co.uk</td>\n",
              "      <td>0.266778</td>\n",
              "      <td>1</td>\n",
              "      <td>0</td>\n",
              "    </tr>\n",
              "    <tr>\n",
              "      <th>11014</th>\n",
              "      <td>true</td>\n",
              "      <td>inboxer_outrage_penn</td>\n",
              "      <td>actor sean penn published letter president geo...</td>\n",
              "      <td>sean penn in iraq iraq 2002 baghdad george w b...</td>\n",
              "      <td>home.arcor.de</td>\n",
              "      <td>0.339535</td>\n",
              "      <td>1</td>\n",
              "      <td>0</td>\n",
              "    </tr>\n",
              "    <tr>\n",
              "      <th>11666</th>\n",
              "      <td>true</td>\n",
              "      <td>photos_animals_christian</td>\n",
              "      <td>video clip shows reunion two men christian lio...</td>\n",
              "      <td>popular lion reunion video are the two men a g...</td>\n",
              "      <td>www.datalounge.com</td>\n",
              "      <td>0.233431</td>\n",
              "      <td>1</td>\n",
              "      <td>0</td>\n",
              "    </tr>\n",
              "    <tr>\n",
              "      <th>4179</th>\n",
              "      <td>true</td>\n",
              "      <td>inboxer_outrage_prayer</td>\n",
              "      <td>principal jody mcloud roane county high school...</td>\n",
              "      <td>by school principal jody mcleod it has always ...</td>\n",
              "      <td>villapuk.freewebtools.com</td>\n",
              "      <td>0.217869</td>\n",
              "      <td>1</td>\n",
              "      <td>0</td>\n",
              "    </tr>\n",
              "    <tr>\n",
              "      <th>9964</th>\n",
              "      <td>true</td>\n",
              "      <td>photos_animals_blackfawn</td>\n",
              "      <td>photographs show black deer fawn</td>\n",
              "      <td>black tail deer fawn related posts to black ta...</td>\n",
              "      <td>jualpulsa.info</td>\n",
              "      <td>0.280117</td>\n",
              "      <td>1</td>\n",
              "      <td>0</td>\n",
              "    </tr>\n",
              "    <tr>\n",
              "      <th>24286</th>\n",
              "      <td>false</td>\n",
              "      <td>photos_natural_irene</td>\n",
              "      <td>photograph shows hurricane irene hitting coast...</td>\n",
              "      <td>kill devil hills north carolina as hurricane i...</td>\n",
              "      <td>www.dailymail.co.uk</td>\n",
              "      <td>0.233431</td>\n",
              "      <td>0</td>\n",
              "      <td>1</td>\n",
              "    </tr>\n",
              "    <tr>\n",
              "      <th>5109</th>\n",
              "      <td>true</td>\n",
              "      <td>horrors_parental_chubbybunny</td>\n",
              "      <td>child suffocated playing chubby bunny game</td>\n",
              "      <td>his the information about the chubby bunny gam...</td>\n",
              "      <td>vividskyjh.gq</td>\n",
              "      <td>0.233431</td>\n",
              "      <td>1</td>\n",
              "      <td>0</td>\n",
              "    </tr>\n",
              "    <tr>\n",
              "      <th>9176</th>\n",
              "      <td>true</td>\n",
              "      <td>politics_soapbox_kiesling</td>\n",
              "      <td>letter resignation submitted secretary state c...</td>\n",
              "      <td>to access full functionality us diplomat resig...</td>\n",
              "      <td>hyeforum.com</td>\n",
              "      <td>0.233431</td>\n",
              "      <td>1</td>\n",
              "      <td>0</td>\n",
              "    </tr>\n",
              "    <tr>\n",
              "      <th>8457</th>\n",
              "      <td>true</td>\n",
              "      <td>humor_mediagoofs_cnnobits</td>\n",
              "      <td>technical glitch cnn web site revealed obituar...</td>\n",
              "      <td>til technical glitch on cnn web site revealed ...</td>\n",
              "      <td>www.reddit.com</td>\n",
              "      <td>0.466861</td>\n",
              "      <td>1</td>\n",
              "      <td>0</td>\n",
              "    </tr>\n",
              "    <tr>\n",
              "      <th>6067</th>\n",
              "      <td>true</td>\n",
              "      <td>horrors_ghosts_deadcall</td>\n",
              "      <td>mans cell phone placed calls loved ones demise</td>\n",
              "      <td>cell phone placed calls to mans loved ones aft...</td>\n",
              "      <td>www.visajourney.com</td>\n",
              "      <td>0.408504</td>\n",
              "      <td>1</td>\n",
              "      <td>0</td>\n",
              "    </tr>\n",
              "    <tr>\n",
              "      <th>8857</th>\n",
              "      <td>true</td>\n",
              "      <td>history_titanic_gigantic</td>\n",
              "      <td>sister ship olympic titanic originally intende...</td>\n",
              "      <td>line sister ship of rms olympic and rms titani...</td>\n",
              "      <td>www.jeepshoe.net</td>\n",
              "      <td>0.233431</td>\n",
              "      <td>1</td>\n",
              "      <td>0</td>\n",
              "    </tr>\n",
              "    <tr>\n",
              "      <th>17112</th>\n",
              "      <td>true</td>\n",
              "      <td>inboxer_outrage_unvote</td>\n",
              "      <td>states consistently vote us united nations</td>\n",
              "      <td>states consistently vote against the us in the...</td>\n",
              "      <td>www.thepowerhour.com</td>\n",
              "      <td>0.466861</td>\n",
              "      <td>1</td>\n",
              "      <td>0</td>\n",
              "    </tr>\n",
              "    <tr>\n",
              "      <th>18126</th>\n",
              "      <td>true</td>\n",
              "      <td>business_taxes_excise</td>\n",
              "      <td>special onetime federal excise tax credit 2006...</td>\n",
              "      <td>jacksonville florida real estate blog special ...</td>\n",
              "      <td>www.bringyouhome.com</td>\n",
              "      <td>0.311241</td>\n",
              "      <td>1</td>\n",
              "      <td>0</td>\n",
              "    </tr>\n",
              "    <tr>\n",
              "      <th>1314</th>\n",
              "      <td>false</td>\n",
              "      <td>pregnant_overdue</td>\n",
              "      <td>overdue pregnant women induce labor eating spe...</td>\n",
              "      <td>atlanta restaurants eggplant parmigiana guaran...</td>\n",
              "      <td>www.fark.com</td>\n",
              "      <td>0.291788</td>\n",
              "      <td>0</td>\n",
              "      <td>1</td>\n",
              "    </tr>\n",
              "    <tr>\n",
              "      <th>1267</th>\n",
              "      <td>true</td>\n",
              "      <td>music_songs_tears</td>\n",
              "      <td>eric clapton song tears heaven tribute conor c...</td>\n",
              "      <td>right by nirvana hace 8 a os 1 0 300 enviar n ...</td>\n",
              "      <td>mx.answers.yahoo.com</td>\n",
              "      <td>0.215474</td>\n",
              "      <td>1</td>\n",
              "      <td>0</td>\n",
              "    </tr>\n",
              "    <tr>\n",
              "      <th>21722</th>\n",
              "      <td>true</td>\n",
              "      <td>politics_medical_heavymetal</td>\n",
              "      <td>2007 man sweden received disability payments a...</td>\n",
              "      <td>swedish man s heavy metal addiction is a disab...</td>\n",
              "      <td>wetpig.com</td>\n",
              "      <td>0.233431</td>\n",
              "      <td>1</td>\n",
              "      <td>0</td>\n",
              "    </tr>\n",
              "    <tr>\n",
              "      <th>8798</th>\n",
              "      <td>true</td>\n",
              "      <td>politics_bush_hager</td>\n",
              "      <td>president bush appointed w david hager physici...</td>\n",
              "      <td>claim w david hager a physician and antiaborti...</td>\n",
              "      <td>cadaly.blogspot.com</td>\n",
              "      <td>0.323212</td>\n",
              "      <td>1</td>\n",
              "      <td>0</td>\n",
              "    </tr>\n",
              "    <tr>\n",
              "      <th>6775</th>\n",
              "      <td>true</td>\n",
              "      <td>photos_patriotic_floralflag</td>\n",
              "      <td>photograph shows 740 x 390 floral flag made la...</td>\n",
              "      <td>pro and con 1807 pro and con 1807 posted a 740...</td>\n",
              "      <td>prophecycorner.theforeverfamily.com</td>\n",
              "      <td>0.311241</td>\n",
              "      <td>1</td>\n",
              "      <td>0</td>\n",
              "    </tr>\n",
              "    <tr>\n",
              "      <th>18393</th>\n",
              "      <td>true</td>\n",
              "      <td>horrors_parental_babyoil</td>\n",
              "      <td>infants died suffered debilitating respiration...</td>\n",
              "      <td>58 times in 55 posts baby oil hazard cases of ...</td>\n",
              "      <td>www.bingochatter.com</td>\n",
              "      <td>0.207494</td>\n",
              "      <td>1</td>\n",
              "      <td>0</td>\n",
              "    </tr>\n",
              "    <tr>\n",
              "      <th>420</th>\n",
              "      <td>true</td>\n",
              "      <td>john-lennon-gun-death-rate</td>\n",
              "      <td>11 million deaths us since john lennon killed ...</td>\n",
              "      <td>over 11 million deaths in the us since john le...</td>\n",
              "      <td>www.coolrocketry.com</td>\n",
              "      <td>0.297094</td>\n",
              "      <td>1</td>\n",
              "      <td>0</td>\n",
              "    </tr>\n",
              "    <tr>\n",
              "      <th>13987</th>\n",
              "      <td>true</td>\n",
              "      <td>photos_animals_playgroundbears</td>\n",
              "      <td>photographs show four black bears cavorting ba...</td>\n",
              "      <td>untitled document claim photographs show black...</td>\n",
              "      <td>www.ducoclam.com</td>\n",
              "      <td>0.311241</td>\n",
              "      <td>1</td>\n",
              "      <td>0</td>\n",
              "    </tr>\n",
              "    <tr>\n",
              "      <th>17239</th>\n",
              "      <td>true</td>\n",
              "      <td>photos_animals_camelshadows</td>\n",
              "      <td>photograph shows overhead view shadows cast ca...</td>\n",
              "      <td>herd of camels view of shadows cast by camel s...</td>\n",
              "      <td>www.timepass.today</td>\n",
              "      <td>0.291788</td>\n",
              "      <td>1</td>\n",
              "      <td>0</td>\n",
              "    </tr>\n",
              "    <tr>\n",
              "      <th>15535</th>\n",
              "      <td>true</td>\n",
              "      <td>critters_crusader_dogflu</td>\n",
              "      <td>virus deadly dogs spreading canine population us</td>\n",
              "      <td>deadly mystery flu spreading among us dog popu...</td>\n",
              "      <td>rense.com</td>\n",
              "      <td>0.266778</td>\n",
              "      <td>1</td>\n",
              "      <td>0</td>\n",
              "    </tr>\n",
              "    <tr>\n",
              "      <th>17108</th>\n",
              "      <td>false</td>\n",
              "      <td>photos_architecture_prison</td>\n",
              "      <td>photographs show new cook county correctional ...</td>\n",
              "      <td>photographs show the new very comfortable cook...</td>\n",
              "      <td>www.reddit.com</td>\n",
              "      <td>0.424419</td>\n",
              "      <td>0</td>\n",
              "      <td>1</td>\n",
              "    </tr>\n",
              "    <tr>\n",
              "      <th>11863</th>\n",
              "      <td>true</td>\n",
              "      <td>movies_actors_bogartbirthday</td>\n",
              "      <td>actor humphrey bogart born christmas day</td>\n",
              "      <td>the petrified forest in 1936 xmas trivia who w...</td>\n",
              "      <td>christmasss.web.fc2.com</td>\n",
              "      <td>0.233431</td>\n",
              "      <td>1</td>\n",
              "      <td>0</td>\n",
              "    </tr>\n",
              "    <tr>\n",
              "      <th>5065</th>\n",
              "      <td>true</td>\n",
              "      <td>photos_signs_receipt</td>\n",
              "      <td>photograph shows grocery receipt steak lobster...</td>\n",
              "      <td>steak 255 pm view website porterhouse steak an...</td>\n",
              "      <td>www.wopular.com</td>\n",
              "      <td>0.207494</td>\n",
              "      <td>1</td>\n",
              "      <td>0</td>\n",
              "    </tr>\n",
              "    <tr>\n",
              "      <th>6223</th>\n",
              "      <td>true</td>\n",
              "      <td>crime_deserts_streaker</td>\n",
              "      <td>three streakers car stolen running nude restau...</td>\n",
              "      <td>thread streakers car stolen thread tools show ...</td>\n",
              "      <td>badgerandblade.com</td>\n",
              "      <td>0.200083</td>\n",
              "      <td>1</td>\n",
              "      <td>0</td>\n",
              "    </tr>\n",
              "    <tr>\n",
              "      <th>11782</th>\n",
              "      <td>true</td>\n",
              "      <td>business_taxes_dependents</td>\n",
              "      <td>several million fewer dependents claimed feder...</td>\n",
              "      <td>untitled several million fewer dependents were...</td>\n",
              "      <td>www.ducoclam.com</td>\n",
              "      <td>0.245716</td>\n",
              "      <td>1</td>\n",
              "      <td>0</td>\n",
              "    </tr>\n",
              "    <tr>\n",
              "      <th>894</th>\n",
              "      <td>true</td>\n",
              "      <td>politics_obama_lottery</td>\n",
              "      <td>numbers 666 winning combination illinois lotte...</td>\n",
              "      <td>terms highlight matches 666 in an illinois lot...</td>\n",
              "      <td>www.godlikeproductions.com</td>\n",
              "      <td>0.280117</td>\n",
              "      <td>1</td>\n",
              "      <td>0</td>\n",
              "    </tr>\n",
              "    <tr>\n",
              "      <th>6931</th>\n",
              "      <td>mostly true</td>\n",
              "      <td>politics_crime_newsom</td>\n",
              "      <td>account describes rapes murders christopher ne...</td>\n",
              "      <td>murders of channon christian and christopher n...</td>\n",
              "      <td>en.wikipedia.org</td>\n",
              "      <td>0.291788</td>\n",
              "      <td>1</td>\n",
              "      <td>0</td>\n",
              "    </tr>\n",
              "    <tr>\n",
              "      <th>13270</th>\n",
              "      <td>true</td>\n",
              "      <td>medical_homecure_lice</td>\n",
              "      <td>using gasoline get rid lice dangerous</td>\n",
              "      <td>lice live on yoga mats does gasoline lice trea...</td>\n",
              "      <td>www.rocketswag.com</td>\n",
              "      <td>0.233431</td>\n",
              "      <td>1</td>\n",
              "      <td>0</td>\n",
              "    </tr>\n",
              "    <tr>\n",
              "      <th>9512</th>\n",
              "      <td>true</td>\n",
              "      <td>crime_warnings_kryptonite</td>\n",
              "      <td>kryptonite brand locks picked ordinary bic pens</td>\n",
              "      <td>kryptonite brand locks can be picked with ordi...</td>\n",
              "      <td>assemblergames.com</td>\n",
              "      <td>0.466861</td>\n",
              "      <td>1</td>\n",
              "      <td>0</td>\n",
              "    </tr>\n",
              "    <tr>\n",
              "      <th>7759</th>\n",
              "      <td>false</td>\n",
              "      <td>media_notnews_marcusbachmann</td>\n",
              "      <td>marcus bachmann refused service indiana dress ...</td>\n",
              "      <td>mode 1 marcus bachmann refused service in indi...</td>\n",
              "      <td>www.conservativeunderground.com</td>\n",
              "      <td>0.381977</td>\n",
              "      <td>0</td>\n",
              "      <td>1</td>\n",
              "    </tr>\n",
              "    <tr>\n",
              "      <th>21546</th>\n",
              "      <td>true</td>\n",
              "      <td>photos_military_embrace</td>\n",
              "      <td>photograph shows tearful world war ii veteran ...</td>\n",
              "      <td>photograph shows a tearful veteran hugging a w...</td>\n",
              "      <td>www.liveleak.com</td>\n",
              "      <td>0.280117</td>\n",
              "      <td>1</td>\n",
              "      <td>0</td>\n",
              "    </tr>\n",
              "    <tr>\n",
              "      <th>29155</th>\n",
              "      <td>true</td>\n",
              "      <td>politics_obama_taster</td>\n",
              "      <td>food tasters work behalf us presidents</td>\n",
              "      <td>til that food tasters work on behalf of us pre...</td>\n",
              "      <td>www.reddit.com</td>\n",
              "      <td>0.466861</td>\n",
              "      <td>1</td>\n",
              "      <td>0</td>\n",
              "    </tr>\n",
              "  </tbody>\n",
              "</table>\n",
              "</div>"
            ],
            "text/plain": [
              "        cred_label  ... model_pred\n",
              "13103         true  ...          0\n",
              "168          false  ...          1\n",
              "17171         true  ...          0\n",
              "19963         true  ...          0\n",
              "17799         true  ...          0\n",
              "22115         true  ...          0\n",
              "6174          true  ...          0\n",
              "9635         false  ...          1\n",
              "23172        false  ...          1\n",
              "19573         true  ...          0\n",
              "25196         true  ...          0\n",
              "23448         true  ...          0\n",
              "19825        false  ...          1\n",
              "14905         true  ...          0\n",
              "11014         true  ...          0\n",
              "11666         true  ...          0\n",
              "4179          true  ...          0\n",
              "9964          true  ...          0\n",
              "24286        false  ...          1\n",
              "5109          true  ...          0\n",
              "9176          true  ...          0\n",
              "8457          true  ...          0\n",
              "6067          true  ...          0\n",
              "8857          true  ...          0\n",
              "17112         true  ...          0\n",
              "18126         true  ...          0\n",
              "1314         false  ...          1\n",
              "1267          true  ...          0\n",
              "21722         true  ...          0\n",
              "8798          true  ...          0\n",
              "6775          true  ...          0\n",
              "18393         true  ...          0\n",
              "420           true  ...          0\n",
              "13987         true  ...          0\n",
              "17239         true  ...          0\n",
              "15535         true  ...          0\n",
              "17108        false  ...          1\n",
              "11863         true  ...          0\n",
              "5065          true  ...          0\n",
              "6223          true  ...          0\n",
              "11782         true  ...          0\n",
              "894           true  ...          0\n",
              "6931   mostly true  ...          0\n",
              "13270         true  ...          0\n",
              "9512          true  ...          0\n",
              "7759         false  ...          1\n",
              "21546         true  ...          0\n",
              "29155         true  ...          0\n",
              "\n",
              "[48 rows x 8 columns]"
            ]
          },
          "metadata": {
            "tags": []
          },
          "execution_count": 81
        }
      ]
    },
    {
      "cell_type": "code",
      "metadata": {
        "id": "nLFbavcDn_69",
        "colab_type": "code",
        "colab": {}
      },
      "source": [
        "# Write to csv\n",
        "unique_test_or.to_csv('declare_snopes.csv', sep='\\t')"
      ],
      "execution_count": 0,
      "outputs": []
    },
    {
      "cell_type": "markdown",
      "metadata": {
        "id": "6-ZOHl6lLby_",
        "colab_type": "text"
      },
      "source": [
        "## Bibliography"
      ]
    },
    {
      "cell_type": "markdown",
      "metadata": {
        "id": "a57maoo-LeUt",
        "colab_type": "text"
      },
      "source": [
        "Kashyap Popat, Subhabrata Mukherjee, Andrew Yates and Gerhard Weikum, <i>DeClarE: Debunking Fake News and False Claims using Evidence-Aware Deep Learning</i>, Proceedings of the 2018 Conference on Empirical Methods in Natural Language Processing, Pages 22-32, 2018."
      ]
    }
  ]
}