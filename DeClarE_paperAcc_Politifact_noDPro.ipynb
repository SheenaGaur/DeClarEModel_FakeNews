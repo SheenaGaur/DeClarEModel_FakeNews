{
  "nbformat": 4,
  "nbformat_minor": 0,
  "metadata": {
    "colab": {
      "name": "DeClarE_paperAcc_Politifact_noDPro.ipynb",
      "version": "0.3.2",
      "provenance": [],
      "collapsed_sections": []
    },
    "kernelspec": {
      "name": "python3",
      "display_name": "Python 3"
    }
  },
  "cells": [
    {
      "cell_type": "markdown",
      "metadata": {
        "id": "kJjGQTqBzxRj",
        "colab_type": "text"
      },
      "source": [
        "# DeClarE Model on PolitiFact dataset"
      ]
    },
    {
      "cell_type": "markdown",
      "metadata": {
        "id": "hZEuhx8V0BIY",
        "colab_type": "text"
      },
      "source": [
        "The DeClarE model is a state of the art fake news detection model that uses Depp learning techniques to classify any input article as being fake or not. This model proposed by Popat et al.(2018) provides a nodel approach to input analysis. As opossed to other fake news detectin models, DeClarE uses external sources to the art as well for classification. It uses the claim text as well as the article and claim source. So in total the model take four inputs including the article itself. The code for DeClarE which is used as the base here can be found at https://github.com/connectsoumya/declare/blob/master/network.py. "
      ]
    },
    {
      "cell_type": "markdown",
      "metadata": {
        "id": "xRT7UP4iYRC4",
        "colab_type": "text"
      },
      "source": [
        "## All imports"
      ]
    },
    {
      "cell_type": "code",
      "metadata": {
        "id": "ukVbZwiRoimc",
        "colab_type": "code",
        "outputId": "7c6057ed-b6c1-4be0-976c-882f45c679d2",
        "colab": {
          "base_uri": "https://localhost:8080/",
          "height": 173
        }
      },
      "source": [
        "# Needed for weights visualization\n",
        "!pip install keract"
      ],
      "execution_count": 0,
      "outputs": [
        {
          "output_type": "stream",
          "text": [
            "Requirement already satisfied: keract in /usr/local/lib/python3.6/dist-packages (2.6.2)\n",
            "Requirement already satisfied: numpy in /usr/local/lib/python3.6/dist-packages (from keract) (1.16.4)\n",
            "Requirement already satisfied: keras in /usr/local/lib/python3.6/dist-packages (from keract) (2.2.4)\n",
            "Requirement already satisfied: scipy>=0.14 in /usr/local/lib/python3.6/dist-packages (from keras->keract) (1.3.1)\n",
            "Requirement already satisfied: keras-applications>=1.0.6 in /usr/local/lib/python3.6/dist-packages (from keras->keract) (1.0.8)\n",
            "Requirement already satisfied: keras-preprocessing>=1.0.5 in /usr/local/lib/python3.6/dist-packages (from keras->keract) (1.1.0)\n",
            "Requirement already satisfied: pyyaml in /usr/local/lib/python3.6/dist-packages (from keras->keract) (3.13)\n",
            "Requirement already satisfied: six>=1.9.0 in /usr/local/lib/python3.6/dist-packages (from keras->keract) (1.12.0)\n",
            "Requirement already satisfied: h5py in /usr/local/lib/python3.6/dist-packages (from keras->keract) (2.8.0)\n"
          ],
          "name": "stdout"
        }
      ]
    },
    {
      "cell_type": "code",
      "metadata": {
        "id": "lpydgJ44izGA",
        "colab_type": "code",
        "outputId": "ff6a7480-84ae-4a1f-fc56-7353eb894cb2",
        "colab": {
          "base_uri": "https://localhost:8080/",
          "height": 35
        }
      },
      "source": [
        "# The model used in this notebook is a modified version of https://github.com/connectsoumya/declare/blob/master/network.py\n",
        "# All imports\n",
        "import json\n",
        "import pandas as pd\n",
        "import numpy as np\n",
        "from numpy import array\n",
        "from numpy import asarray\n",
        "from numpy import zeros\n",
        "import gzip\n",
        "import spacy\n",
        "from IPython.display import HTML\n",
        "\n",
        "from sklearn.base import BaseEstimator, TransformerMixin\n",
        "from sklearn.model_selection import train_test_split\n",
        "from sklearn.base import BaseEstimator\n",
        "from sklearn import preprocessing\n",
        "from sklearn import svm, datasets\n",
        "from sklearn.model_selection import train_test_split\n",
        "from sklearn.metrics import confusion_matrix\n",
        "from sklearn.utils.multiclass import unique_labels\n",
        "\n",
        "from sklearn.metrics import classification_report, accuracy_score\n",
        "from sklearn.metrics import confusion_matrix\n",
        "from sklearn.metrics import precision_score\n",
        "from sklearn.metrics import recall_score\n",
        "from sklearn.metrics import accuracy_score\n",
        "from sklearn.metrics import fbeta_score\n",
        "from sklearn.metrics import roc_curve, auc\n",
        "\n",
        "from keras.preprocessing.text import Tokenizer\n",
        "from keras.preprocessing.sequence import pad_sequences\n",
        "from keras.utils import plot_model\n",
        "from keras.utils import np_utils\n",
        "from keras.models import Model\n",
        "from keras.layers import Input\n",
        "from keras.layers import Dense\n",
        "from keras.layers import Flatten\n",
        "from keras.layers import Average, Embedding, RepeatVector\n",
        "from keras.layers.pooling import MaxPooling2D , GlobalMaxPooling1D\n",
        "from keras.layers.merge import concatenate\n",
        "\n",
        "from keras.layers import Bidirectional\n",
        "from keras.layers import LSTM\n",
        "from keras.layers import Activation\n",
        "from keras.layers import Dot, Average\n",
        "from keras.backend import mean, expand_dims, gradients, function, tile\n",
        "from keras.layers import Lambda\n",
        "from keras.regularizers import l2,l1\n",
        "from keras.layers import Dropout\n",
        "from keras.optimizers import SGD, Adam\n",
        "from keract import get_activations\n",
        "import matplotlib.pyplot as plt\n",
        "import os\n",
        "import shutil\n",
        "import smart_open\n",
        "from sys import platform\n",
        "from scipy import spatial\n",
        "import gensim\n",
        "from gensim.models.keyedvectors import KeyedVectors"
      ],
      "execution_count": 0,
      "outputs": [
        {
          "output_type": "stream",
          "text": [
            "Using TensorFlow backend.\n"
          ],
          "name": "stderr"
        }
      ]
    },
    {
      "cell_type": "code",
      "metadata": {
        "id": "VHKLOGVbTbv8",
        "colab_type": "code",
        "colab": {}
      },
      "source": [
        "# Random seed set to ensure that code provides the same output whenever randomisation is done.\n",
        "seed = 7\n",
        "np.random.seed(seed)"
      ],
      "execution_count": 0,
      "outputs": []
    },
    {
      "cell_type": "code",
      "metadata": {
        "id": "mM3-4JWuTmog",
        "colab_type": "code",
        "outputId": "90ae5a3b-96e9-48f5-8250-c736e760107f",
        "colab": {
          "base_uri": "https://localhost:8080/",
          "height": 277
        }
      },
      "source": [
        "# Get the PolitiFact Dataset from the location provided in the DeClarE paper.\n",
        "!wget http://resources.mpi-inf.mpg.de/impact/dl_cred_analysis/PolitiFact.zip\n",
        "!unzip PolitiFact.zip"
      ],
      "execution_count": 0,
      "outputs": [
        {
          "output_type": "stream",
          "text": [
            "--2019-08-16 11:43:29--  http://resources.mpi-inf.mpg.de/impact/dl_cred_analysis/PolitiFact.zip\n",
            "Resolving resources.mpi-inf.mpg.de (resources.mpi-inf.mpg.de)... 139.19.206.46\n",
            "Connecting to resources.mpi-inf.mpg.de (resources.mpi-inf.mpg.de)|139.19.206.46|:80... connected.\n",
            "HTTP request sent, awaiting response... 200 OK\n",
            "Length: 4976217 (4.7M) [application/zip]\n",
            "Saving to: ‘PolitiFact.zip’\n",
            "\n",
            "PolitiFact.zip      100%[===================>]   4.75M  3.51MB/s    in 1.4s    \n",
            "\n",
            "2019-08-16 11:43:31 (3.51 MB/s) - ‘PolitiFact.zip’ saved [4976217/4976217]\n",
            "\n",
            "Archive:  PolitiFact.zip\n",
            "   creating: PolitiFact/\n",
            "  inflating: PolitiFact/README       \n",
            "  inflating: PolitiFact/politifact.tsv  \n"
          ],
          "name": "stdout"
        }
      ]
    },
    {
      "cell_type": "code",
      "metadata": {
        "id": "bvDx2dxVTpOx",
        "colab_type": "code",
        "outputId": "a299a999-3e15-4952-8afe-93b8c02b204d",
        "colab": {
          "base_uri": "https://localhost:8080/",
          "height": 451
        }
      },
      "source": [
        "# Download the Glove.zip file and expand it.\n",
        "!wget http://nlp.stanford.edu/data/glove.6B.zip\n",
        "!unzip glove*.zip"
      ],
      "execution_count": 0,
      "outputs": [
        {
          "output_type": "stream",
          "text": [
            "--2019-08-16 11:43:44--  http://nlp.stanford.edu/data/glove.6B.zip\n",
            "Resolving nlp.stanford.edu (nlp.stanford.edu)... 171.64.67.140\n",
            "Connecting to nlp.stanford.edu (nlp.stanford.edu)|171.64.67.140|:80... connected.\n",
            "HTTP request sent, awaiting response... 302 Found\n",
            "Location: https://nlp.stanford.edu/data/glove.6B.zip [following]\n",
            "--2019-08-16 11:43:44--  https://nlp.stanford.edu/data/glove.6B.zip\n",
            "Connecting to nlp.stanford.edu (nlp.stanford.edu)|171.64.67.140|:443... connected.\n",
            "HTTP request sent, awaiting response... 301 Moved Permanently\n",
            "Location: http://downloads.cs.stanford.edu/nlp/data/glove.6B.zip [following]\n",
            "--2019-08-16 11:43:44--  http://downloads.cs.stanford.edu/nlp/data/glove.6B.zip\n",
            "Resolving downloads.cs.stanford.edu (downloads.cs.stanford.edu)... 171.64.64.22\n",
            "Connecting to downloads.cs.stanford.edu (downloads.cs.stanford.edu)|171.64.64.22|:80... connected.\n",
            "HTTP request sent, awaiting response... 200 OK\n",
            "Length: 862182613 (822M) [application/zip]\n",
            "Saving to: ‘glove.6B.zip’\n",
            "\n",
            "glove.6B.zip        100%[===================>] 822.24M  90.6MB/s    in 9.7s    \n",
            "\n",
            "2019-08-16 11:43:54 (85.1 MB/s) - ‘glove.6B.zip’ saved [862182613/862182613]\n",
            "\n",
            "Archive:  glove.6B.zip\n",
            "  inflating: glove.6B.50d.txt        \n",
            "  inflating: glove.6B.100d.txt       \n",
            "  inflating: glove.6B.200d.txt       \n",
            "  inflating: glove.6B.300d.txt       \n"
          ],
          "name": "stdout"
        }
      ]
    },
    {
      "cell_type": "markdown",
      "metadata": {
        "id": "hREDkXvRYV3r",
        "colab_type": "text"
      },
      "source": [
        "## Politifact Data Load"
      ]
    },
    {
      "cell_type": "code",
      "metadata": {
        "id": "XgdrJq7cT0iM",
        "colab_type": "code",
        "colab": {}
      },
      "source": [
        "# Loading the Politifact csv file\n",
        "facts=list()\n",
        "fact=pd.read_csv('./PolitiFact/politifact.tsv', delimiter = '\\t', names = ['cred_label','claim_id','claim_text','claim_source','article','article_source'])"
      ],
      "execution_count": 0,
      "outputs": []
    },
    {
      "cell_type": "code",
      "metadata": {
        "id": "pyOzBsLmT3u1",
        "colab_type": "code",
        "outputId": "774fce0e-10d2-4fca-96b8-2940e27d1c74",
        "colab": {
          "base_uri": "https://localhost:8080/",
          "height": 289
        }
      },
      "source": [
        "# The structure of the politifact.tsv file is following: <cred_label>\\t<claim_id>\\t<claim_text>\\t<claim_source>\\t<evidence>\\t<evidence_source>\n",
        "fact.head()"
      ],
      "execution_count": 0,
      "outputs": [
        {
          "output_type": "execute_result",
          "data": {
            "text/html": [
              "<div>\n",
              "<style scoped>\n",
              "    .dataframe tbody tr th:only-of-type {\n",
              "        vertical-align: middle;\n",
              "    }\n",
              "\n",
              "    .dataframe tbody tr th {\n",
              "        vertical-align: top;\n",
              "    }\n",
              "\n",
              "    .dataframe thead th {\n",
              "        text-align: right;\n",
              "    }\n",
              "</style>\n",
              "<table border=\"1\" class=\"dataframe\">\n",
              "  <thead>\n",
              "    <tr style=\"text-align: right;\">\n",
              "      <th></th>\n",
              "      <th>cred_label</th>\n",
              "      <th>claim_id</th>\n",
              "      <th>claim_text</th>\n",
              "      <th>claim_source</th>\n",
              "      <th>article</th>\n",
              "      <th>article_source</th>\n",
              "    </tr>\n",
              "  </thead>\n",
              "  <tbody>\n",
              "    <tr>\n",
              "      <th>0</th>\n",
              "      <td>True</td>\n",
              "      <td>2012_oct_08_barack-obama_obama-says-tax-code-r...</td>\n",
              "      <td>federal tax code loopholes giving incentives c...</td>\n",
              "      <td>barack obama</td>\n",
              "      <td>for firms moving overseas in order to create a...</td>\n",
              "      <td>foxnews.com</td>\n",
              "    </tr>\n",
              "    <tr>\n",
              "      <th>1</th>\n",
              "      <td>True</td>\n",
              "      <td>2012_oct_08_barack-obama_obama-says-tax-code-r...</td>\n",
              "      <td>federal tax code loopholes giving incentives c...</td>\n",
              "      <td>barack obama</td>\n",
              "      <td>get a tax break specifically by outsourcing jo...</td>\n",
              "      <td>newslines.org</td>\n",
              "    </tr>\n",
              "    <tr>\n",
              "      <th>2</th>\n",
              "      <td>True</td>\n",
              "      <td>2012_oct_08_barack-obama_obama-says-tax-code-r...</td>\n",
              "      <td>federal tax code loopholes giving incentives c...</td>\n",
              "      <td>barack obama</td>\n",
              "      <td>confusing clashes over taxes in wednesday s pr...</td>\n",
              "      <td>wsj.com</td>\n",
              "    </tr>\n",
              "    <tr>\n",
              "      <th>3</th>\n",
              "      <td>True</td>\n",
              "      <td>2012_oct_08_barack-obama_obama-says-tax-code-r...</td>\n",
              "      <td>federal tax code loopholes giving incentives c...</td>\n",
              "      <td>barack obama</td>\n",
              "      <td>support on this bill in a time of tight budget...</td>\n",
              "      <td>senate.gov</td>\n",
              "    </tr>\n",
              "    <tr>\n",
              "      <th>4</th>\n",
              "      <td>True</td>\n",
              "      <td>2012_oct_08_barack-obama_obama-says-tax-code-r...</td>\n",
              "      <td>federal tax code loopholes giving incentives c...</td>\n",
              "      <td>barack obama</td>\n",
              "      <td>tax a lower rate for american manufacturing an...</td>\n",
              "      <td>archives.gov</td>\n",
              "    </tr>\n",
              "  </tbody>\n",
              "</table>\n",
              "</div>"
            ],
            "text/plain": [
              "  cred_label  ... article_source\n",
              "0       True  ...    foxnews.com\n",
              "1       True  ...  newslines.org\n",
              "2       True  ...        wsj.com\n",
              "3       True  ...     senate.gov\n",
              "4       True  ...   archives.gov\n",
              "\n",
              "[5 rows x 6 columns]"
            ]
          },
          "metadata": {
            "tags": []
          },
          "execution_count": 6
        }
      ]
    },
    {
      "cell_type": "code",
      "metadata": {
        "id": "7U7F_OG6T6bq",
        "colab_type": "code",
        "outputId": "c82b7a09-4ce8-4f90-8d66-a55828f0581b",
        "colab": {
          "base_uri": "https://localhost:8080/",
          "height": 295
        }
      },
      "source": [
        "# Get the data statistics\n",
        "label_counts = fact['cred_label'].value_counts()\n",
        "print(label_counts.describe())\n",
        "top_labels = label_counts.nlargest(10)\n",
        "top_labels_list = top_labels.index.tolist()\n",
        "print(top_labels)"
      ],
      "execution_count": 0,
      "outputs": [
        {
          "output_type": "stream",
          "text": [
            "count       6.000000\n",
            "mean     4926.000000\n",
            "std       900.529178\n",
            "min      3461.000000\n",
            "25%      4550.750000\n",
            "50%      5091.500000\n",
            "75%      5390.000000\n",
            "max      6052.000000\n",
            "Name: cred_label, dtype: float64\n",
            "False             6052\n",
            "Half-True         5467\n",
            "Mostly True       5159\n",
            "Mostly False      5024\n",
            "True              4393\n",
            "Pants on Fire!    3461\n",
            "Name: cred_label, dtype: int64\n"
          ],
          "name": "stdout"
        }
      ]
    },
    {
      "cell_type": "markdown",
      "metadata": {
        "id": "zInUMfGpYr1o",
        "colab_type": "text"
      },
      "source": [
        "## Pre-Process the data"
      ]
    },
    {
      "cell_type": "code",
      "metadata": {
        "id": "p2jVqsLAT6eY",
        "colab_type": "code",
        "outputId": "0fa3e545-b86a-4d0e-f91e-054d534550cb",
        "colab": {
          "base_uri": "https://localhost:8080/",
          "height": 225
        }
      },
      "source": [
        "# Convert the credibility labels to binary labels where 0 is false and 1 is true.\n",
        "claim_label = fact['cred_label']\n",
        "# {'False', 'Half-True', 'Mostly False', 'Mostly True', 'Pants on Fire!', 'True'}\n",
        "claim_label = [1 if tuple == 'True'  or tuple == 'Half-True' or tuple == 'Mostly True' else 0 for tuple in claim_label]\n",
        "\n",
        "col = ['claim_label']\n",
        "lbl = pd.DataFrame(claim_label,columns=col)\n",
        "label_counts = lbl['claim_label'].value_counts()\n",
        "print(label_counts.describe())\n",
        "top_labels = label_counts.nlargest(10)\n",
        "top_labels_list = top_labels.index.tolist()\n",
        "print(top_labels)"
      ],
      "execution_count": 0,
      "outputs": [
        {
          "output_type": "stream",
          "text": [
            "count        2.000000\n",
            "mean     14778.000000\n",
            "std        340.825469\n",
            "min      14537.000000\n",
            "25%      14657.500000\n",
            "50%      14778.000000\n",
            "75%      14898.500000\n",
            "max      15019.000000\n",
            "Name: claim_label, dtype: float64\n",
            "1    15019\n",
            "0    14537\n",
            "Name: claim_label, dtype: int64\n"
          ],
          "name": "stdout"
        }
      ]
    },
    {
      "cell_type": "markdown",
      "metadata": {
        "id": "TFbvI4f2beb7",
        "colab_type": "text"
      },
      "source": [
        "## Create Training and Test Data for the model"
      ]
    },
    {
      "cell_type": "code",
      "metadata": {
        "id": "Y9z-kvW6T6iQ",
        "colab_type": "code",
        "colab": {}
      },
      "source": [
        "# Get Train, Test and validation\n",
        "fact['pred_bin'] = claim_label\n",
        "input_train_in,input_test,label_train_in,label_test = train_test_split(fact, claim_label, test_size=0.2, random_state=8)"
      ],
      "execution_count": 0,
      "outputs": []
    },
    {
      "cell_type": "code",
      "metadata": {
        "id": "hcwwpFRK5X9a",
        "colab_type": "code",
        "outputId": "d3afca37-99ab-47d0-9683-f02a802b6d6e",
        "colab": {
          "base_uri": "https://localhost:8080/",
          "height": 35
        }
      },
      "source": [
        "# Code to check how many unique claims are present in the test set.\n",
        "# Code found here: https://stackoverflow.com/questions/23460345/selecting-unique-rows-between-two-dataframes-in-pandas\n",
        "unique_test = input_test[~input_test['claim_text'].isin(input_train_in['claim_text'])]\n",
        "uniq_set=set(unique_test['claim_text'].tolist())\n",
        "print(\"There are %d unique claims in the test set\" % (len(uniq_set)))"
      ],
      "execution_count": 0,
      "outputs": [
        {
          "output_type": "stream",
          "text": [
            "There are 138 unique claims in the test set\n"
          ],
          "name": "stdout"
        }
      ]
    },
    {
      "cell_type": "code",
      "metadata": {
        "id": "m52mEgHCT6aO",
        "colab_type": "code",
        "colab": {}
      },
      "source": [
        "input_train,input_val,label_train,label_val = train_test_split(input_train_in, label_train_in, test_size=0.2, random_state=8)"
      ],
      "execution_count": 0,
      "outputs": []
    },
    {
      "cell_type": "code",
      "metadata": {
        "id": "ICqL31-Vaskv",
        "colab_type": "code",
        "outputId": "9db84305-3383-4c73-9888-57a54f03f12c",
        "colab": {
          "base_uri": "https://localhost:8080/",
          "height": 225
        }
      },
      "source": [
        "# Check the statistics of the test data\n",
        "test_claim_label = input_test['pred_bin']\n",
        "col = ['pred_bin']\n",
        "lbl = pd.DataFrame(test_claim_label,columns=col)\n",
        "label_counts = lbl['pred_bin'].value_counts()\n",
        "print(label_counts.describe())\n",
        "top_labels = label_counts.nlargest(10)\n",
        "top_labels_list = top_labels.index.tolist()\n",
        "print(top_labels)"
      ],
      "execution_count": 0,
      "outputs": [
        {
          "output_type": "stream",
          "text": [
            "count       2.000000\n",
            "mean     2956.000000\n",
            "std        53.740115\n",
            "min      2918.000000\n",
            "25%      2937.000000\n",
            "50%      2956.000000\n",
            "75%      2975.000000\n",
            "max      2994.000000\n",
            "Name: pred_bin, dtype: float64\n",
            "1    2994\n",
            "0    2918\n",
            "Name: pred_bin, dtype: int64\n"
          ],
          "name": "stdout"
        }
      ]
    },
    {
      "cell_type": "code",
      "metadata": {
        "id": "4xkuSLQYUM_T",
        "colab_type": "code",
        "outputId": "40111458-3ae0-40f1-a33a-0fc3c3faef2a",
        "colab": {
          "base_uri": "https://localhost:8080/",
          "height": 35
        }
      },
      "source": [
        "print(len(input_test))\n",
        "# Training data columns as list\n",
        "clm_list = input_train['claim_text'].tolist()\n",
        "art_list = input_train['article'].tolist()\n",
        "clm_src_list = input_train['claim_source'].tolist()\n",
        "art_src_list = input_train['article_source'].tolist()\n",
        "\n",
        "# Test data columns as list\n",
        "test_clm_list = input_test['claim_text'].tolist()\n",
        "test_art_list = input_test['article'].tolist()\n",
        "test_clm_src_list = input_test['claim_source'].tolist()\n",
        "test_art_src_list = input_test['article_source'].tolist()"
      ],
      "execution_count": 0,
      "outputs": [
        {
          "output_type": "stream",
          "text": [
            "5912\n"
          ],
          "name": "stdout"
        }
      ]
    },
    {
      "cell_type": "code",
      "metadata": {
        "id": "hgivlDWNUN89",
        "colab_type": "code",
        "colab": {}
      },
      "source": [
        "#Validation data columns as list\n",
        "val_clm_list = input_val['claim_text'].tolist()\n",
        "val_art_list = input_val['article'].tolist()\n",
        "val_clm_src_list = input_val['claim_source'].tolist()\n",
        "val_art_src_list = input_val['article_source'].tolist()"
      ],
      "execution_count": 0,
      "outputs": []
    },
    {
      "cell_type": "code",
      "metadata": {
        "id": "w4wguQaoUaNc",
        "colab_type": "code",
        "colab": {}
      },
      "source": [
        "# For training data\n",
        "# Article and claim embedding i.e. word embedding. Here the text to sequence conversions occurs\n",
        "t = Tokenizer()\n",
        "t.fit_on_texts(clm_list + art_list)\n",
        "encoded_claim = t.texts_to_sequences(clm_list)\n",
        "encoded_art = t.texts_to_sequences(art_list)\n",
        "\n",
        "max_len = max(encoded_claim, key=len)\n",
        "max_len_c = 100\n",
        "padded_claim = pad_sequences(encoded_claim, maxlen=max_len_c, padding='post')\n",
        "\n",
        "max_len = max(encoded_art, key=len)\n",
        "max_len_a = 100\n",
        "padded_art = pad_sequences(encoded_art, maxlen=max_len_a, padding='post')"
      ],
      "execution_count": 0,
      "outputs": []
    },
    {
      "cell_type": "code",
      "metadata": {
        "id": "bl8Q-IjLUbKS",
        "colab_type": "code",
        "colab": {}
      },
      "source": [
        "# Get the embedding matrix of the vocabulary from Glove 100.\n",
        "vocab_size = len(t.word_index) + 1\n",
        "embedding_dim = 100\n",
        "word_index = t.word_index\n",
        "def create_embed_matrix(vocab_size, embedding_dim,word_index):\n",
        "  embedding_matrix = np.zeros((vocab_size, embedding_dim))\n",
        "  with open('glove.6B.100d.txt') as f:\n",
        "        for line in f:\n",
        "            word, *vector = line.split()\n",
        "            if word in word_index:\n",
        "                idx = word_index[word] \n",
        "                embedding_matrix[idx] = np.array(\n",
        "                    vector, dtype=np.float32)[:embedding_dim]\n",
        "  return embedding_matrix\n",
        "embedding_matrix = create_embed_matrix(vocab_size, embedding_dim, word_index)"
      ],
      "execution_count": 0,
      "outputs": []
    },
    {
      "cell_type": "code",
      "metadata": {
        "id": "a42FYiyQfu9J",
        "colab_type": "code",
        "outputId": "fecca3bd-b248-41e0-ebaa-054a87835349",
        "colab": {
          "base_uri": "https://localhost:8080/",
          "height": 35
        }
      },
      "source": [
        "# To find how many words of the input text the embedding contains \n",
        "nonzero_elements = np.count_nonzero(np.count_nonzero(embedding_matrix, axis=1))\n",
        "nonzero_elements / vocab_size"
      ],
      "execution_count": 0,
      "outputs": [
        {
          "output_type": "execute_result",
          "data": {
            "text/plain": [
              "0.9999682821618878"
            ]
          },
          "metadata": {
            "tags": []
          },
          "execution_count": 16
        }
      ]
    },
    {
      "cell_type": "code",
      "metadata": {
        "id": "J9W51MAVUmFa",
        "colab_type": "code",
        "colab": {}
      },
      "source": [
        "# Claim source embedding\n",
        "t_csrc = Tokenizer()\n",
        "t_csrc.fit_on_texts(clm_src_list)\n",
        "encoded_claim_src = t_csrc.texts_to_sequences(clm_src_list)\n",
        "\n",
        "max_len = max(encoded_claim_src, key=len)\n",
        "max_len_cs = 4\n",
        "padded_claim_src = pad_sequences(encoded_claim_src, maxlen=max_len_cs, padding='post')\n",
        "# Create embedding matrix for claim source\n",
        "vocab_size_csrc = len(t_csrc.word_index) + 1\n",
        "embedding_matrix_csrc = create_embed_matrix(vocab_size_csrc, 4, t_csrc.word_index)\n",
        "    \n",
        "# For article source embedding    \n",
        "t_asrc = Tokenizer()\n",
        "t_asrc.fit_on_texts(art_src_list)\n",
        "encoded_art_src = t_asrc.texts_to_sequences(art_src_list)\n",
        "\n",
        "max_len = max(encoded_art_src, key=len)\n",
        "max_len_as = 4\n",
        "padded_art_src = pad_sequences(encoded_art_src, maxlen=max_len_as, padding='post')\n",
        "# Create embedding matrix for article source\n",
        "vocab_size_asrc = len(t_asrc.word_index) + 1\n",
        "embedding_matrix_asrc = create_embed_matrix(vocab_size_asrc, 4, t_asrc.word_index)"
      ],
      "execution_count": 0,
      "outputs": []
    },
    {
      "cell_type": "code",
      "metadata": {
        "id": "sw73_gMeUuAC",
        "colab_type": "code",
        "colab": {}
      },
      "source": [
        "# Validation data\n",
        "# Claim and article\n",
        "\n",
        "encoded_claim_val = t.texts_to_sequences(val_clm_list)\n",
        "encoded_art_val = t.texts_to_sequences(val_art_list)\n",
        "\n",
        "max_len_val = max(encoded_claim_val, key=len)\n",
        "max_len_c_val = 100\n",
        "padded_claim_val = pad_sequences(encoded_claim_val, maxlen=max_len_c_val, padding='post')\n",
        "\n",
        "max_len_val = max(encoded_art_val, key=len)\n",
        "max_len_a_val = 100\n",
        "padded_art_val = pad_sequences(encoded_art_val, maxlen=max_len_a_val, padding='post')\n",
        "\n",
        "\n",
        "# Claim Sources data\n",
        "encoded_claim_src_val = t_csrc.texts_to_sequences(val_clm_src_list)\n",
        "\n",
        "max_len_val = max(encoded_claim_src_val, key=len)\n",
        "max_len_cs_val = 4\n",
        "padded_claim_src_val = pad_sequences(encoded_claim_src_val, maxlen=max_len_cs_val, padding='post')\n",
        "\n",
        "# Article Sources data\n",
        "encoded_art_src_val = t_asrc.texts_to_sequences(val_art_src_list)\n",
        "\n",
        "max_len_val = max(encoded_art_src_val, key=len)\n",
        "max_len_as_val = 4\n",
        "padded_art_src_val = pad_sequences(encoded_art_src_val, maxlen=max_len_as_val, padding='post')"
      ],
      "execution_count": 0,
      "outputs": []
    },
    {
      "cell_type": "code",
      "metadata": {
        "id": "Uwr47By2Uw-F",
        "colab_type": "code",
        "colab": {}
      },
      "source": [
        "# Test Data\n",
        "# Claim and article\n",
        "\n",
        "encoded_claim_test = t.texts_to_sequences(test_clm_list)\n",
        "encoded_art_test = t.texts_to_sequences(test_art_list)\n",
        "\n",
        "max_len_test = max(encoded_claim_test, key=len)\n",
        "max_len_c_test = 100\n",
        "padded_claim_test = pad_sequences(encoded_claim_test, maxlen=max_len_c_test, padding='post')\n",
        "\n",
        "max_len_test = max(encoded_art_test, key=len)\n",
        "max_len_a_test = 100\n",
        "padded_art_test = pad_sequences(encoded_art_test, maxlen=max_len_a_test, padding='post')\n",
        "\n",
        "\n",
        "# Claim Sources data\n",
        "encoded_claim_src_test = t_csrc.texts_to_sequences(test_clm_src_list)\n",
        "\n",
        "max_len_test = max(encoded_claim_src_test, key=len)\n",
        "max_len_cs_test =4\n",
        "padded_claim_src_test = pad_sequences(encoded_claim_src_test, maxlen=max_len_cs_test, padding='post')\n",
        "\n",
        "# Article sources data\n",
        "encoded_art_src_test = t_asrc.texts_to_sequences(test_art_src_list)\n",
        "\n",
        "max_len_test = max(encoded_art_src_test, key=len)\n",
        "max_len_as_test = 4\n",
        "padded_art_src_test = pad_sequences(encoded_art_src_test, maxlen=max_len_as_test, padding='post')"
      ],
      "execution_count": 0,
      "outputs": []
    },
    {
      "cell_type": "code",
      "metadata": {
        "id": "KB4R2w6lfa1C",
        "colab_type": "code",
        "colab": {}
      },
      "source": [
        "# Method to plot the accuracy and los graph from the history object. Code found in https://realpython.com/python-keras-text-classification/\n",
        "plt.style.use('ggplot')\n",
        "\n",
        "def plot_history(history):\n",
        "    acc = history.history['acc']\n",
        "    val_acc = history.history['val_acc']\n",
        "    loss = history.history['loss']\n",
        "    val_loss = history.history['val_loss']\n",
        "    x = range(1, len(acc) + 1)\n",
        "\n",
        "    plt.figure(figsize=(12, 5))\n",
        "    plt.subplot(1, 2, 1)\n",
        "    plt.plot(x, acc, 'b', label='Training acc')\n",
        "    plt.plot(x, val_acc, 'r', label='Validation acc')\n",
        "    plt.title('Training and validation accuracy')\n",
        "    plt.legend()\n",
        "    plt.subplot(1, 2, 2)\n",
        "    plt.plot(x, loss, 'b', label='Training loss')\n",
        "    plt.plot(x, val_loss, 'r', label='Validation loss')\n",
        "    plt.title('Training and validation loss')\n",
        "    plt.legend()"
      ],
      "execution_count": 0,
      "outputs": []
    },
    {
      "cell_type": "markdown",
      "metadata": {
        "id": "dAivGn08c0di",
        "colab_type": "text"
      },
      "source": [
        "## Bi-LSTM- Simple DeClarE (lr=0.002) & (lr=0.0001)"
      ]
    },
    {
      "cell_type": "code",
      "metadata": {
        "id": "mO9qNUaRczJ9",
        "colab_type": "code",
        "outputId": "edd9a6bc-9a85-4c11-deaa-eecff185f8b0",
        "colab": {
          "base_uri": "https://localhost:8080/",
          "height": 364
        }
      },
      "source": [
        "# This DeCalrE model only uses Bi-LSTM called Simple DeClarE\n",
        "lstm_op_dim = 64\n",
        "art_wrd1 = Input(shape=(max_len_a,))\n",
        "art_wrd_emb1 = Embedding(vocab_size, 100, input_length=max_len_a, weights=[embedding_matrix], trainable=False)(art_wrd1) # article embedding\n",
        "# Bi-LSTM\n",
        "lstm_op2 = Bidirectional(LSTM(lstm_op_dim, return_sequences=True, recurrent_regularizer=l2(0.00001), kernel_regularizer=l2(0.01)),\n",
        "                         merge_mode='concat')(art_wrd_emb1)\n",
        "# Fatten layer\n",
        "flat = Flatten()(lstm_op2)\n",
        "# Claim source embedding\n",
        "clm_src1 = Input(shape=(max_len_cs,))\n",
        "clm_src_emb1 = Embedding(vocab_size_csrc, 4, input_length=max_len_cs, weights=[embedding_matrix_csrc], trainable=False)(clm_src1) # claim source embedding\n",
        "# Flatten layer\n",
        "clm_src_emb_flatten1 = Flatten()(clm_src_emb1)\n",
        "# Article source embedding\n",
        "art_src1 = Input(shape = (max_len_as,))\n",
        "art_src_emb1 = Embedding(vocab_size_asrc, 4, input_length=max_len_as, weights=[embedding_matrix_asrc], trainable=False)(art_src1)\n",
        "art_src_emb_flatten1 = Flatten()(art_src_emb1)\n",
        "\n",
        "# End dense layers\n",
        "dense1 = Dense(8, activation='relu',kernel_regularizer=l2(0.01))(flat)\n",
        "dense1 = Dense(1, activation='sigmoid',kernel_regularizer=l2(0.01))(dense1)\n",
        "\n",
        "model_lstm2 = Model(inputs=art_wrd1, outputs=dense1)\n",
        "adam = Adam(lr=0.0001)\n",
        "#adam = Adam(lr=0.002) # Also used in second run\n",
        "model_lstm2.compile(optimizer=adam,\n",
        "                     loss='binary_crossentropy',\n",
        "                     metrics=['accuracy'])\n",
        "print(model_lstm2.summary())"
      ],
      "execution_count": 0,
      "outputs": [
        {
          "output_type": "stream",
          "text": [
            "_________________________________________________________________\n",
            "Layer (type)                 Output Shape              Param #   \n",
            "=================================================================\n",
            "input_15 (InputLayer)        (None, 100)               0         \n",
            "_________________________________________________________________\n",
            "embedding_15 (Embedding)     (None, 100, 100)          3152800   \n",
            "_________________________________________________________________\n",
            "bidirectional_6 (Bidirection (None, 100, 128)          84480     \n",
            "_________________________________________________________________\n",
            "flatten_15 (Flatten)         (None, 12800)             0         \n",
            "_________________________________________________________________\n",
            "dense_17 (Dense)             (None, 8)                 102408    \n",
            "_________________________________________________________________\n",
            "dense_18 (Dense)             (None, 1)                 9         \n",
            "=================================================================\n",
            "Total params: 3,339,697\n",
            "Trainable params: 186,897\n",
            "Non-trainable params: 3,152,800\n",
            "_________________________________________________________________\n",
            "None\n"
          ],
          "name": "stdout"
        }
      ]
    },
    {
      "cell_type": "code",
      "metadata": {
        "id": "vzq4SKS_SRTV",
        "colab_type": "code",
        "outputId": "e5a1d925-7a61-4191-a1d7-98516d2564a4",
        "colab": {
          "base_uri": "https://localhost:8080/",
          "height": 1000
        }
      },
      "source": [
        "# Train model when learning rate = 0.0001\n",
        "history_001 = model_lstm2.fit(padded_art, label_train,\n",
        "                    epochs=30,\n",
        "                    validation_data=(padded_art_val, label_val),\n",
        "                    batch_size=100)"
      ],
      "execution_count": 0,
      "outputs": [
        {
          "output_type": "stream",
          "text": [
            "Train on 18915 samples, validate on 4729 samples\n",
            "Epoch 1/30\n",
            "18915/18915 [==============================] - 60s 3ms/step - loss: 3.1602 - acc: 0.5890 - val_loss: 2.6573 - val_acc: 0.5959\n",
            "Epoch 2/30\n",
            "18915/18915 [==============================] - 55s 3ms/step - loss: 2.2846 - acc: 0.6289 - val_loss: 1.9575 - val_acc: 0.6490\n",
            "Epoch 3/30\n",
            "18915/18915 [==============================] - 55s 3ms/step - loss: 1.7283 - acc: 0.6425 - val_loss: 1.5170 - val_acc: 0.6568\n",
            "Epoch 4/30\n",
            "18915/18915 [==============================] - 55s 3ms/step - loss: 1.3674 - acc: 0.6502 - val_loss: 1.2436 - val_acc: 0.6471\n",
            "Epoch 5/30\n",
            "18915/18915 [==============================] - 55s 3ms/step - loss: 1.1327 - acc: 0.6558 - val_loss: 1.0445 - val_acc: 0.6644\n",
            "Epoch 6/30\n",
            "18915/18915 [==============================] - 55s 3ms/step - loss: 0.9851 - acc: 0.6593 - val_loss: 0.9346 - val_acc: 0.6589\n",
            "Epoch 7/30\n",
            "18915/18915 [==============================] - 55s 3ms/step - loss: 0.8873 - acc: 0.6614 - val_loss: 0.8539 - val_acc: 0.6650\n",
            "Epoch 8/30\n",
            "18915/18915 [==============================] - 55s 3ms/step - loss: 0.8292 - acc: 0.6602 - val_loss: 0.8152 - val_acc: 0.6549\n",
            "Epoch 9/30\n",
            "18915/18915 [==============================] - 55s 3ms/step - loss: 0.7902 - acc: 0.6620 - val_loss: 0.7893 - val_acc: 0.6566\n",
            "Epoch 10/30\n",
            "18915/18915 [==============================] - 55s 3ms/step - loss: 0.7639 - acc: 0.6685 - val_loss: 0.7590 - val_acc: 0.6695\n",
            "Epoch 11/30\n",
            "18915/18915 [==============================] - 55s 3ms/step - loss: 0.7450 - acc: 0.6689 - val_loss: 0.7455 - val_acc: 0.6629\n",
            "Epoch 12/30\n",
            "18915/18915 [==============================] - 55s 3ms/step - loss: 0.7298 - acc: 0.6745 - val_loss: 0.7341 - val_acc: 0.6691\n",
            "Epoch 13/30\n",
            "18915/18915 [==============================] - 55s 3ms/step - loss: 0.7204 - acc: 0.6749 - val_loss: 0.7343 - val_acc: 0.6629\n",
            "Epoch 14/30\n",
            "18915/18915 [==============================] - 55s 3ms/step - loss: 0.7107 - acc: 0.6782 - val_loss: 0.7214 - val_acc: 0.6691\n",
            "Epoch 15/30\n",
            "18915/18915 [==============================] - 55s 3ms/step - loss: 0.6994 - acc: 0.6843 - val_loss: 0.7247 - val_acc: 0.6625\n",
            "Epoch 16/30\n",
            "18915/18915 [==============================] - 55s 3ms/step - loss: 0.6912 - acc: 0.6886 - val_loss: 0.7014 - val_acc: 0.6794\n",
            "Epoch 17/30\n",
            "18915/18915 [==============================] - 55s 3ms/step - loss: 0.6859 - acc: 0.6919 - val_loss: 0.7329 - val_acc: 0.6536\n",
            "Epoch 18/30\n",
            "18915/18915 [==============================] - 55s 3ms/step - loss: 0.6785 - acc: 0.6941 - val_loss: 0.6922 - val_acc: 0.6858\n",
            "Epoch 19/30\n",
            "18915/18915 [==============================] - 55s 3ms/step - loss: 0.6746 - acc: 0.6984 - val_loss: 0.7060 - val_acc: 0.6672\n",
            "Epoch 20/30\n",
            "18915/18915 [==============================] - 55s 3ms/step - loss: 0.6657 - acc: 0.7030 - val_loss: 0.7157 - val_acc: 0.6593\n",
            "Epoch 21/30\n",
            "18915/18915 [==============================] - 55s 3ms/step - loss: 0.6591 - acc: 0.7055 - val_loss: 0.6794 - val_acc: 0.6892\n",
            "Epoch 22/30\n",
            "18915/18915 [==============================] - 55s 3ms/step - loss: 0.6539 - acc: 0.7104 - val_loss: 0.6933 - val_acc: 0.6790\n",
            "Epoch 23/30\n",
            "18915/18915 [==============================] - 55s 3ms/step - loss: 0.6504 - acc: 0.7096 - val_loss: 0.6842 - val_acc: 0.6877\n",
            "Epoch 24/30\n",
            "18915/18915 [==============================] - 55s 3ms/step - loss: 0.6430 - acc: 0.7148 - val_loss: 0.6736 - val_acc: 0.6898\n",
            "Epoch 25/30\n",
            "18915/18915 [==============================] - 55s 3ms/step - loss: 0.6393 - acc: 0.7180 - val_loss: 0.6725 - val_acc: 0.6856\n",
            "Epoch 26/30\n",
            "18915/18915 [==============================] - 55s 3ms/step - loss: 0.6324 - acc: 0.7224 - val_loss: 0.6730 - val_acc: 0.6936\n",
            "Epoch 27/30\n",
            "18915/18915 [==============================] - 55s 3ms/step - loss: 0.6339 - acc: 0.7219 - val_loss: 0.6670 - val_acc: 0.7008\n",
            "Epoch 28/30\n",
            "18915/18915 [==============================] - 55s 3ms/step - loss: 0.6309 - acc: 0.7245 - val_loss: 0.6711 - val_acc: 0.6887\n",
            "Epoch 29/30\n",
            "18915/18915 [==============================] - 55s 3ms/step - loss: 0.6238 - acc: 0.7281 - val_loss: 0.6674 - val_acc: 0.6963\n",
            "Epoch 30/30\n",
            "18915/18915 [==============================] - 55s 3ms/step - loss: 0.6194 - acc: 0.7321 - val_loss: 0.6647 - val_acc: 0.7012\n"
          ],
          "name": "stdout"
        }
      ]
    },
    {
      "cell_type": "code",
      "metadata": {
        "colab_type": "code",
        "id": "JNnITBhARIAs",
        "outputId": "1671f36c-4b2f-412f-ac16-4cf3a491b834",
        "colab": {
          "base_uri": "https://localhost:8080/",
          "height": 1000
        }
      },
      "source": [
        "# Train model when learning rate = 0.002\n",
        "history_02 = model_lstm2.fit(padded_art, label_train,\n",
        "                    epochs=30,\n",
        "                    validation_data=(padded_art_val, label_val),\n",
        "                    batch_size=100)"
      ],
      "execution_count": 0,
      "outputs": [
        {
          "output_type": "stream",
          "text": [
            "Train on 18915 samples, validate on 4729 samples\n",
            "Epoch 1/30\n",
            "18915/18915 [==============================] - 58s 3ms/step - loss: 1.0460 - acc: 0.5842 - val_loss: 0.6859 - val_acc: 0.6378\n",
            "Epoch 2/30\n",
            "18915/18915 [==============================] - 55s 3ms/step - loss: 0.6859 - acc: 0.6219 - val_loss: 0.6851 - val_acc: 0.6196\n",
            "Epoch 3/30\n",
            "18915/18915 [==============================] - 55s 3ms/step - loss: 0.6783 - acc: 0.6264 - val_loss: 0.6730 - val_acc: 0.6299\n",
            "Epoch 4/30\n",
            "18915/18915 [==============================] - 55s 3ms/step - loss: 0.6632 - acc: 0.6446 - val_loss: 0.6833 - val_acc: 0.6001\n",
            "Epoch 5/30\n",
            "18915/18915 [==============================] - 55s 3ms/step - loss: 0.6637 - acc: 0.6446 - val_loss: 0.6670 - val_acc: 0.6371\n",
            "Epoch 6/30\n",
            "18915/18915 [==============================] - 55s 3ms/step - loss: 0.6538 - acc: 0.6557 - val_loss: 0.6410 - val_acc: 0.6708\n",
            "Epoch 7/30\n",
            "18915/18915 [==============================] - 55s 3ms/step - loss: 0.6512 - acc: 0.6570 - val_loss: 0.6488 - val_acc: 0.6591\n",
            "Epoch 8/30\n",
            "18915/18915 [==============================] - 55s 3ms/step - loss: 0.6503 - acc: 0.6571 - val_loss: 0.6423 - val_acc: 0.6604\n",
            "Epoch 9/30\n",
            "18915/18915 [==============================] - 55s 3ms/step - loss: 0.6480 - acc: 0.6560 - val_loss: 0.6533 - val_acc: 0.6606\n",
            "Epoch 10/30\n",
            "18915/18915 [==============================] - 55s 3ms/step - loss: 0.6463 - acc: 0.6600 - val_loss: 0.6376 - val_acc: 0.6695\n",
            "Epoch 11/30\n",
            "18915/18915 [==============================] - 55s 3ms/step - loss: 0.6435 - acc: 0.6641 - val_loss: 0.6441 - val_acc: 0.6625\n",
            "Epoch 12/30\n",
            "18915/18915 [==============================] - 55s 3ms/step - loss: 0.6446 - acc: 0.6636 - val_loss: 0.6409 - val_acc: 0.6705\n",
            "Epoch 13/30\n",
            "18915/18915 [==============================] - 55s 3ms/step - loss: 0.6450 - acc: 0.6643 - val_loss: 0.6545 - val_acc: 0.6509\n",
            "Epoch 14/30\n",
            "18915/18915 [==============================] - 55s 3ms/step - loss: 0.6414 - acc: 0.6665 - val_loss: 0.6743 - val_acc: 0.6521\n",
            "Epoch 15/30\n",
            "18915/18915 [==============================] - 55s 3ms/step - loss: 0.6439 - acc: 0.6666 - val_loss: 0.6376 - val_acc: 0.6691\n",
            "Epoch 16/30\n",
            "18915/18915 [==============================] - 55s 3ms/step - loss: 0.6385 - acc: 0.6755 - val_loss: 0.6412 - val_acc: 0.6746\n",
            "Epoch 17/30\n",
            "18915/18915 [==============================] - 55s 3ms/step - loss: 0.6406 - acc: 0.6742 - val_loss: 0.6325 - val_acc: 0.6771\n",
            "Epoch 18/30\n",
            "18915/18915 [==============================] - 56s 3ms/step - loss: 0.6355 - acc: 0.6838 - val_loss: 0.6299 - val_acc: 0.6911\n",
            "Epoch 19/30\n",
            "18915/18915 [==============================] - 55s 3ms/step - loss: 0.6405 - acc: 0.6767 - val_loss: 0.6300 - val_acc: 0.6866\n",
            "Epoch 20/30\n",
            "18915/18915 [==============================] - 55s 3ms/step - loss: 0.6339 - acc: 0.6824 - val_loss: 0.6438 - val_acc: 0.6701\n",
            "Epoch 21/30\n",
            "18915/18915 [==============================] - 55s 3ms/step - loss: 0.6273 - acc: 0.6891 - val_loss: 0.6584 - val_acc: 0.6727\n",
            "Epoch 22/30\n",
            "18915/18915 [==============================] - 55s 3ms/step - loss: 0.6338 - acc: 0.6830 - val_loss: 0.6443 - val_acc: 0.6676\n",
            "Epoch 23/30\n",
            "18915/18915 [==============================] - 55s 3ms/step - loss: 0.6324 - acc: 0.6912 - val_loss: 0.6312 - val_acc: 0.6862\n",
            "Epoch 24/30\n",
            "18915/18915 [==============================] - 55s 3ms/step - loss: 0.6284 - acc: 0.6918 - val_loss: 0.6261 - val_acc: 0.6923\n",
            "Epoch 25/30\n",
            "18915/18915 [==============================] - 55s 3ms/step - loss: 0.6206 - acc: 0.6993 - val_loss: 0.6540 - val_acc: 0.6686\n",
            "Epoch 26/30\n",
            "18915/18915 [==============================] - 55s 3ms/step - loss: 0.6252 - acc: 0.7007 - val_loss: 0.6399 - val_acc: 0.6809\n",
            "Epoch 27/30\n",
            "18915/18915 [==============================] - 55s 3ms/step - loss: 0.6174 - acc: 0.7094 - val_loss: 0.6255 - val_acc: 0.7035\n",
            "Epoch 28/30\n",
            "18915/18915 [==============================] - 55s 3ms/step - loss: 0.6192 - acc: 0.7074 - val_loss: 0.6249 - val_acc: 0.7014\n",
            "Epoch 29/30\n",
            "18915/18915 [==============================] - 55s 3ms/step - loss: 0.6211 - acc: 0.7109 - val_loss: 0.6618 - val_acc: 0.6663\n",
            "Epoch 30/30\n",
            "18915/18915 [==============================] - 55s 3ms/step - loss: 0.6204 - acc: 0.7116 - val_loss: 0.6313 - val_acc: 0.7046\n"
          ],
          "name": "stdout"
        }
      ]
    },
    {
      "cell_type": "code",
      "metadata": {
        "id": "e3iSNHfmdP7G",
        "colab_type": "code",
        "outputId": "0db887cc-b297-4db7-bac3-50a013a19e89",
        "colab": {
          "base_uri": "https://localhost:8080/",
          "height": 709
        }
      },
      "source": [
        "# Plot the accuracy and loss graphs for when lr = 0.0001 and 0.002\n",
        "loss, accuracy = model_lstm2.evaluate(padded_art_val, label_val, verbose=False)\n",
        "print(\"Validation Accuracy: {:.4f}\".format(accuracy))\n",
        "loss, accuracy = model_lstm2.evaluate(padded_art_test,label_test)\n",
        "print(\"Testing Accuracy:  {:.4f}\".format(accuracy))\n",
        "plot_history(history_001)\n",
        "plot_history(history_02)"
      ],
      "execution_count": 0,
      "outputs": [
        {
          "output_type": "stream",
          "text": [
            "Validation Accuracy: 0.7012\n",
            "5912/5912 [==============================] - 7s 1ms/step\n",
            "Testing Accuracy:  0.6830\n"
          ],
          "name": "stdout"
        },
        {
          "output_type": "display_data",
          "data": {
            "image/png": "[encoded data removed]",
            "text/plain": [
              "<Figure size 864x360 with 2 Axes>"
            ]
          },
          "metadata": {
            "tags": []
          }
        },
        {
          "output_type": "display_data",
          "data": {
            "image/png": "[encoded data removed]",
            "text/plain": [
              "<Figure size 864x360 with 2 Axes>"
            ]
          },
          "metadata": {
            "tags": []
          }
        }
      ]
    },
    {
      "cell_type": "code",
      "metadata": {
        "id": "SonDZ8LMdSl9",
        "colab_type": "code",
        "colab": {}
      },
      "source": [
        "# Predict the test data\n",
        "y_pred = model_lstm2.predict(padded_art_test)"
      ],
      "execution_count": 0,
      "outputs": []
    },
    {
      "cell_type": "markdown",
      "metadata": {
        "id": "jLrAEhwZdY12",
        "colab_type": "text"
      },
      "source": [
        "### Misc functions"
      ]
    },
    {
      "cell_type": "code",
      "metadata": {
        "id": "ebLaas6OdWJs",
        "colab_type": "code",
        "colab": {}
      },
      "source": [
        "# Convert the predicted values to 0 or 1\n",
        "def get_proper_labels(y_pred):\n",
        "  prop_label = [1 if tuple>=0.5 else 0 for tuple in y_pred]\n",
        "  return prop_label"
      ],
      "execution_count": 0,
      "outputs": []
    },
    {
      "cell_type": "code",
      "metadata": {
        "id": "Wnfv0tvudb7U",
        "colab_type": "code",
        "colab": {}
      },
      "source": [
        "# Method to plot the confusion matrix. Code taken from https://scikit-learn.org/stable/auto_examples/model_selection/plot_confusion_matrix.html\n",
        "def plot_confusion_matrix(y_true, y_pred, classes,\n",
        "                          normalize=False,\n",
        "                          title=None,\n",
        "                          cmap=plt.cm.Greens):\n",
        "    \"\"\"\n",
        "    This function prints and plots the confusion matrix.\n",
        "    Normalization can be applied by setting `normalize=True`.\n",
        "    \"\"\"\n",
        "    if not title:\n",
        "        if normalize:\n",
        "            title = 'Normalized confusion matrix'\n",
        "        else:\n",
        "            title = 'Confusion matrix, without normalization'\n",
        "\n",
        "    # Compute confusion matrix\n",
        "    cm = confusion_matrix(y_true, y_pred)\n",
        "    if normalize:\n",
        "        cm = cm.astype('float') / cm.sum(axis=1)[:, np.newaxis]\n",
        "        print(\"Normalized confusion matrix\")\n",
        "    else:\n",
        "        print('Confusion matrix, without normalization')\n",
        "\n",
        "    print(cm)\n",
        "\n",
        "    fig, ax = plt.subplots()\n",
        "    im = ax.imshow(cm, interpolation='nearest', cmap=cmap)\n",
        "    ax.figure.colorbar(im, ax=ax)\n",
        "    # We want to show all ticks...\n",
        "    ax.set(xticks=np.arange(cm.shape[1]),\n",
        "           yticks=np.arange(cm.shape[0]),\n",
        "           # ... and label them with the respective list entries\n",
        "           xticklabels=['False','True'], yticklabels=['False','True'],\n",
        "           title=title,\n",
        "           ylabel='True label',\n",
        "           xlabel='Predicted label')\n",
        "\n",
        "    # Rotate the tick labels and set their alignment.\n",
        "    plt.setp(ax.get_xticklabels(), rotation=45, ha=\"right\",\n",
        "             rotation_mode=\"anchor\")\n",
        "    plt.grid(False)\n",
        "\n",
        "    # Loop over data dimensions and create text annotations.\n",
        "    fmt = '.2f' if normalize else 'd'\n",
        "    thresh = cm.max() / 2.\n",
        "    for i in range(cm.shape[0]):\n",
        "        for j in range(cm.shape[1]):\n",
        "            ax.text(j, i, format(cm[i, j], fmt),\n",
        "                    ha=\"center\", va=\"center\",\n",
        "                    color=\"white\" if cm[i, j] > thresh else \"black\")\n",
        "    fig.tight_layout()\n",
        "    return ax"
      ],
      "execution_count": 0,
      "outputs": []
    },
    {
      "cell_type": "code",
      "metadata": {
        "id": "8klSG7zZdh6O",
        "colab_type": "code",
        "colab": {}
      },
      "source": [
        "# Code taken from Lab5 of TaD by Jeff Dalton. This method returns the accuarcy, precision, recall and F1 measure values for an input.\n",
        "def evaluation_summary(description, predictions, true_labels):\n",
        "  print(\"Evaluation for: \" + description)\n",
        "  precision = precision_score(predictions, true_labels, average='macro')\n",
        "  recall = recall_score(predictions, true_labels, average='macro')\n",
        "  accuracy = accuracy_score(predictions, true_labels)\n",
        "  f1 = fbeta_score(predictions, true_labels, 1, average='macro') #1 means f_1 measure\n",
        "  print(\"Classifier '%s' has Acc=%0.4f P=%0.4f R=%0.4f F1=%0.4f\" % (description,accuracy,precision,recall,f1))\n",
        "  print(classification_report(predictions, true_labels, digits=3))\n",
        "  print('\\nConfusion matrix:\\n',confusion_matrix(true_labels, predictions))\n",
        "  return precision,recall,accuracy,f1"
      ],
      "execution_count": 0,
      "outputs": []
    },
    {
      "cell_type": "markdown",
      "metadata": {
        "id": "7nmnzA9Ldl8g",
        "colab_type": "text"
      },
      "source": [
        "### Model Evaluation"
      ]
    },
    {
      "cell_type": "code",
      "metadata": {
        "id": "Kd54lN3YdoB4",
        "colab_type": "code",
        "colab": {}
      },
      "source": [
        "# Convert to 0 or 1\n",
        "y_pred_bin = get_proper_labels(y_pred)"
      ],
      "execution_count": 0,
      "outputs": []
    },
    {
      "cell_type": "code",
      "metadata": {
        "id": "LO1uJaic7n5_",
        "colab_type": "code",
        "outputId": "2d1cc62f-8cdf-4de1-dad3-4345f6b529cb",
        "colab": {
          "base_uri": "https://localhost:8080/",
          "height": 699
        }
      },
      "source": [
        "# When lr=0.0001\n",
        "plot_confusion_matrix(label_test,y_pred_bin,[0,1])\n",
        "plot_confusion_matrix(label_test,y_pred_bin,[0,1], normalize=True)"
      ],
      "execution_count": 0,
      "outputs": [
        {
          "output_type": "stream",
          "text": [
            "Confusion matrix, without normalization\n",
            "[[2010  908]\n",
            " [ 966 2028]]\n",
            "Normalized confusion matrix\n",
            "[[0.68882796 0.31117204]\n",
            " [0.32264529 0.67735471]]\n"
          ],
          "name": "stdout"
        },
        {
          "output_type": "execute_result",
          "data": {
            "text/plain": [
              "<matplotlib.axes._subplots.AxesSubplot at 0x7f2da9ef8e48>"
            ]
          },
          "metadata": {
            "tags": []
          },
          "execution_count": 70
        },
        {
          "output_type": "display_data",
          "data": {
            "image/png": "[encoded data removed]",
            "text/plain": [
              "<Figure size 432x288 with 2 Axes>"
            ]
          },
          "metadata": {
            "tags": []
          }
        },
        {
          "output_type": "display_data",
          "data": {
            "image/png": "[encoded data removed]",
            "text/plain": [
              "<Figure size 432x288 with 2 Axes>"
            ]
          },
          "metadata": {
            "tags": []
          }
        }
      ]
    },
    {
      "cell_type": "code",
      "metadata": {
        "id": "17_0GUfZdrTz",
        "colab_type": "code",
        "outputId": "8a28f0b1-c0a0-4e49-f352-f98a941f8068",
        "colab": {
          "base_uri": "https://localhost:8080/",
          "height": 699
        }
      },
      "source": [
        "#When lr=0.002\n",
        "plot_confusion_matrix(label_test,y_pred_bin,[0,1])\n",
        "plot_confusion_matrix(label_test,y_pred_bin,[0,1], normalize=True)"
      ],
      "execution_count": 0,
      "outputs": [
        {
          "output_type": "stream",
          "text": [
            "Confusion matrix, without normalization\n",
            "[[1688 1230]\n",
            " [ 673 2321]]\n",
            "Normalized confusion matrix\n",
            "[[0.57847841 0.42152159]\n",
            " [0.2247829  0.7752171 ]]\n"
          ],
          "name": "stdout"
        },
        {
          "output_type": "execute_result",
          "data": {
            "text/plain": [
              "<matplotlib.axes._subplots.AxesSubplot at 0x7f2db0b83828>"
            ]
          },
          "metadata": {
            "tags": []
          },
          "execution_count": 28
        },
        {
          "output_type": "display_data",
          "data": {
            "image/png": "[encoded data removed]",
            "text/plain": [
              "<Figure size 432x288 with 2 Axes>"
            ]
          },
          "metadata": {
            "tags": []
          }
        },
        {
          "output_type": "display_data",
          "data": {
            "image/png": "[encoded data removed]",
            "text/plain": [
              "<Figure size 432x288 with 2 Axes>"
            ]
          },
          "metadata": {
            "tags": []
          }
        }
      ]
    },
    {
      "cell_type": "code",
      "metadata": {
        "id": "qHRhqEcyTH4e",
        "colab_type": "code",
        "outputId": "ba3b5700-cff9-419c-a45d-08b681a27e89",
        "colab": {
          "base_uri": "https://localhost:8080/",
          "height": 277
        }
      },
      "source": [
        "# This is the outcome of lr=0.0001\n",
        "basic_p,basc_r,basic_a,basic_f1 = evaluation_summary(\"DeClare-Basic\", y_pred_bin, label_test)"
      ],
      "execution_count": 0,
      "outputs": [
        {
          "output_type": "stream",
          "text": [
            "Evaluation for: DeClare-Basic\n",
            "Classifier 'DeClare-Basic' has Acc=0.6830 P=0.6831 R=0.6831 F1=0.6830\n",
            "              precision    recall  f1-score   support\n",
            "\n",
            "           0      0.689     0.675     0.682      2976\n",
            "           1      0.677     0.691     0.684      2936\n",
            "\n",
            "    accuracy                          0.683      5912\n",
            "   macro avg      0.683     0.683     0.683      5912\n",
            "weighted avg      0.683     0.683     0.683      5912\n",
            "\n",
            "\n",
            "Confusion matrix:\n",
            " [[2010  908]\n",
            " [ 966 2028]]\n"
          ],
          "name": "stdout"
        }
      ]
    },
    {
      "cell_type": "code",
      "metadata": {
        "id": "sv0p7NMeTM0k",
        "colab_type": "code",
        "outputId": "a0785959-3dde-44f8-c034-5843a8a68af9",
        "colab": {
          "base_uri": "https://localhost:8080/",
          "height": 35
        }
      },
      "source": [
        "# Calculate the AUC value of the result when lr=0.0001\n",
        "fpr, tpr, thresholds = roc_curve(label_test, y_pred_bin)\n",
        "auc_basic = auc(fpr, tpr)\n",
        "print(\"DeClarE Basic AUC-\",auc_basic)"
      ],
      "execution_count": 0,
      "outputs": [
        {
          "output_type": "stream",
          "text": [
            "DeClarE Basic AUC- 0.6830913368889939\n"
          ],
          "name": "stdout"
        }
      ]
    },
    {
      "cell_type": "code",
      "metadata": {
        "id": "whzw9SofdwvK",
        "colab_type": "code",
        "outputId": "3e48b36a-1061-4763-df40-f564fa7cc7c0",
        "colab": {
          "base_uri": "https://localhost:8080/",
          "height": 277
        }
      },
      "source": [
        "# This is the outcome of lr=0.002\n",
        "basic_p,basc_r,basic_a,basic_f1 = evaluation_summary(\"DeClare-Basic\", y_pred_bin, label_test)"
      ],
      "execution_count": 0,
      "outputs": [
        {
          "output_type": "stream",
          "text": [
            "Evaluation for: DeClare-Basic\n",
            "Classifier 'DeClare-Basic' has Acc=0.6781 P=0.6768 R=0.6843 F1=0.6744\n",
            "              precision    recall  f1-score   support\n",
            "\n",
            "           0      0.578     0.715     0.640      2361\n",
            "           1      0.775     0.654     0.709      3551\n",
            "\n",
            "    accuracy                          0.678      5912\n",
            "   macro avg      0.677     0.684     0.674      5912\n",
            "weighted avg      0.697     0.678     0.681      5912\n",
            "\n",
            "\n",
            "Confusion matrix:\n",
            " [[1688 1230]\n",
            " [ 673 2321]]\n"
          ],
          "name": "stdout"
        }
      ]
    },
    {
      "cell_type": "code",
      "metadata": {
        "id": "dQdSrXnjd3NC",
        "colab_type": "code",
        "outputId": "8e15dc51-07c0-400e-bdc1-108c84fb62d3",
        "colab": {
          "base_uri": "https://localhost:8080/",
          "height": 35
        }
      },
      "source": [
        "# Calculate the AUC value of the result when lr = 0.002\n",
        "fpr, tpr, thresholds = roc_curve(label_test, y_pred_bin)\n",
        "auc_basic = auc(fpr, tpr)\n",
        "print(\"DeClarE Basic AUC-\",auc_basic)"
      ],
      "execution_count": 0,
      "outputs": [
        {
          "output_type": "stream",
          "text": [
            "DeClarE Basic AUC- 0.6768477553690886\n"
          ],
          "name": "stdout"
        }
      ]
    },
    {
      "cell_type": "markdown",
      "metadata": {
        "id": "tmONtc92cCh3",
        "colab_type": "text"
      },
      "source": [
        "## DeClarE Simple + Attn (lr=0.002) & (lr=0.0001)"
      ]
    },
    {
      "cell_type": "code",
      "metadata": {
        "id": "MQ3av-Ery18j",
        "colab_type": "code",
        "outputId": "ef068674-8c6b-460c-87ad-1cd08bb04157",
        "colab": {
          "base_uri": "https://localhost:8080/",
          "height": 849
        }
      },
      "source": [
        "# DeClarE model- Simple + Attention\n",
        "lstm_op_dim = 64\n",
        "\n",
        "clm_wrd = Input(shape=(max_len_c,))\n",
        "clm_wrd_emb = Embedding(vocab_size, 100, input_length=max_len_c, weights=[embedding_matrix], trainable=False)(clm_wrd) # claim embedding\n",
        "mean_clm_wrd_emb = Lambda(lambda xin: mean(xin, axis=1))(clm_wrd_emb) # average of the embedding\n",
        "mean_clm_wrd_emb_exp = RepeatVector(100)(mean_clm_wrd_emb) # Repeat vector to increase the matrix size for flatten\n",
        "mean_clm_wrd_emb_flat = Flatten()(mean_clm_wrd_emb_exp) # Flatten layer\n",
        "\n",
        "art_wrd1 = Input(shape=(max_len_a,))\n",
        "art_wrd_emb1 = Embedding(vocab_size, 100, input_length=max_len_a, weights=[embedding_matrix], trainable=False)(art_wrd1) # article embedding\n",
        "art_wrd_emb_flat = Flatten()(art_wrd_emb1) # Flatten layer\n",
        "\n",
        "ip_to_dense = concatenate(axis=-1, inputs = [mean_clm_wrd_emb_flat, art_wrd_emb_flat]) # concatenation of article and claim embedding\n",
        "# Attention mechanism\n",
        "attn_weights = Dense(128, activation='tanh')(ip_to_dense)\n",
        "attn_weights = Activation('softmax')(attn_weights)\n",
        "\n",
        "model_attn_wts = Model(inputs=[clm_wrd, art_wrd1], outputs=attn_weights)\n",
        "# Bi-LSTM on article embedding\n",
        "lstm_op2 = Bidirectional(LSTM(lstm_op_dim, return_sequences=True, recurrent_regularizer=l2(0.00001), kernel_regularizer=l2(0.01)),\n",
        "                         merge_mode='concat')(art_wrd_emb1)\n",
        "model_lstm = Model(inputs=art_wrd1, outputs=lstm_op2)\n",
        "\n",
        "# Dot product of output of attention mechanism and Bi-LSTM\n",
        "inner_pdt = Dot(axes=-1)([model_attn_wts.output, model_lstm.output])\n",
        "inner_pdt = RepeatVector(3)(inner_pdt)\n",
        "mean_dim = Lambda(lambda xin: mean(xin, axis=-1))(inner_pdt) # Average of the output\n",
        "\n",
        "# End dense layers\n",
        "dense1 = Dense(8, activation='relu',kernel_regularizer=l2(0.01))(mean_dim)\n",
        "drop1 = Dropout(rate = 0.2)(dense1)\n",
        "dense1 = Dense(8, activation='relu',kernel_regularizer=l2(0.01))(drop1)\n",
        "dense1 = Dense(1, activation='sigmoid',kernel_regularizer=l2(0.01))(dense1)\n",
        "\n",
        "model_dec1 = Model(inputs=[clm_wrd,art_wrd1], outputs=dense1)\n",
        "#adam = Adam(lr=0.002) # Also used at second turn\n",
        "adam = Adam(lr=0.0001)\n",
        "model_dec1.compile(optimizer=adam,\n",
        "                     loss='binary_crossentropy',\n",
        "                     metrics=['accuracy'])\n",
        "print(model_dec1.summary())"
      ],
      "execution_count": 0,
      "outputs": [
        {
          "output_type": "stream",
          "text": [
            "__________________________________________________________________________________________________\n",
            "Layer (type)                    Output Shape         Param #     Connected to                     \n",
            "==================================================================================================\n",
            "input_18 (InputLayer)           (None, 100)          0                                            \n",
            "__________________________________________________________________________________________________\n",
            "embedding_18 (Embedding)        (None, 100, 100)     3152800     input_18[0][0]                   \n",
            "__________________________________________________________________________________________________\n",
            "lambda_7 (Lambda)               (None, 100)          0           embedding_18[0][0]               \n",
            "__________________________________________________________________________________________________\n",
            "input_19 (InputLayer)           (None, 100)          0                                            \n",
            "__________________________________________________________________________________________________\n",
            "repeat_vector_7 (RepeatVector)  (None, 100, 100)     0           lambda_7[0][0]                   \n",
            "__________________________________________________________________________________________________\n",
            "embedding_19 (Embedding)        (None, 100, 100)     3152800     input_19[0][0]                   \n",
            "__________________________________________________________________________________________________\n",
            "flatten_18 (Flatten)            (None, 10000)        0           repeat_vector_7[0][0]            \n",
            "__________________________________________________________________________________________________\n",
            "flatten_19 (Flatten)            (None, 10000)        0           embedding_19[0][0]               \n",
            "__________________________________________________________________________________________________\n",
            "concatenate_6 (Concatenate)     (None, 20000)        0           flatten_18[0][0]                 \n",
            "                                                                 flatten_19[0][0]                 \n",
            "__________________________________________________________________________________________________\n",
            "dense_19 (Dense)                (None, 128)          2560128     concatenate_6[0][0]              \n",
            "__________________________________________________________________________________________________\n",
            "activation_4 (Activation)       (None, 128)          0           dense_19[0][0]                   \n",
            "__________________________________________________________________________________________________\n",
            "bidirectional_7 (Bidirectional) (None, 100, 128)     84480       embedding_19[0][0]               \n",
            "__________________________________________________________________________________________________\n",
            "dot_4 (Dot)                     (None, 100)          0           activation_4[0][0]               \n",
            "                                                                 bidirectional_7[0][0]            \n",
            "__________________________________________________________________________________________________\n",
            "repeat_vector_8 (RepeatVector)  (None, 3, 100)       0           dot_4[0][0]                      \n",
            "__________________________________________________________________________________________________\n",
            "lambda_8 (Lambda)               (None, 3)            0           repeat_vector_8[0][0]            \n",
            "__________________________________________________________________________________________________\n",
            "dense_20 (Dense)                (None, 8)            32          lambda_8[0][0]                   \n",
            "__________________________________________________________________________________________________\n",
            "dropout_4 (Dropout)             (None, 8)            0           dense_20[0][0]                   \n",
            "__________________________________________________________________________________________________\n",
            "dense_21 (Dense)                (None, 8)            72          dropout_4[0][0]                  \n",
            "__________________________________________________________________________________________________\n",
            "dense_22 (Dense)                (None, 1)            9           dense_21[0][0]                   \n",
            "==================================================================================================\n",
            "Total params: 8,950,321\n",
            "Trainable params: 2,644,721\n",
            "Non-trainable params: 6,305,600\n",
            "__________________________________________________________________________________________________\n",
            "None\n"
          ],
          "name": "stdout"
        }
      ]
    },
    {
      "cell_type": "code",
      "metadata": {
        "id": "nhM0tQOycvRu",
        "colab_type": "code",
        "colab": {}
      },
      "source": [
        "# Get the image of the model structure\n",
        "plot_model(model_dec1, to_file='declare_art_cl.png')"
      ],
      "execution_count": 0,
      "outputs": []
    },
    {
      "cell_type": "code",
      "metadata": {
        "id": "Xg6qmOKOTbay",
        "colab_type": "code",
        "outputId": "b28f8fef-caee-4f59-e704-e8215f170b9b",
        "colab": {
          "base_uri": "https://localhost:8080/",
          "height": 1000
        }
      },
      "source": [
        "# Model training when lr=0.0001\n",
        "history3 = model_dec1.fit([padded_claim,padded_art], label_train,\n",
        "                    epochs=30,\n",
        "                    validation_data=([padded_claim_val,padded_art_val], label_val),\n",
        "                    batch_size=100)"
      ],
      "execution_count": 0,
      "outputs": [
        {
          "output_type": "stream",
          "text": [
            "Train on 18915 samples, validate on 4729 samples\n",
            "Epoch 1/30\n",
            "18915/18915 [==============================] - 71s 4ms/step - loss: 3.1374 - acc: 0.5365 - val_loss: 2.6419 - val_acc: 0.5786\n",
            "Epoch 2/30\n",
            "18915/18915 [==============================] - 65s 3ms/step - loss: 2.2714 - acc: 0.5979 - val_loss: 1.9425 - val_acc: 0.6287\n",
            "Epoch 3/30\n",
            "18915/18915 [==============================] - 65s 3ms/step - loss: 1.6945 - acc: 0.6371 - val_loss: 1.4838 - val_acc: 0.6354\n",
            "Epoch 4/30\n",
            "18915/18915 [==============================] - 65s 3ms/step - loss: 1.3149 - acc: 0.6769 - val_loss: 1.1884 - val_acc: 0.6308\n",
            "Epoch 5/30\n",
            "18915/18915 [==============================] - 65s 3ms/step - loss: 1.0662 - acc: 0.7308 - val_loss: 0.9992 - val_acc: 0.6401\n",
            "Epoch 6/30\n",
            "18915/18915 [==============================] - 65s 3ms/step - loss: 0.9037 - acc: 0.7688 - val_loss: 0.8807 - val_acc: 0.6543\n",
            "Epoch 7/30\n",
            "18915/18915 [==============================] - 65s 3ms/step - loss: 0.7939 - acc: 0.7959 - val_loss: 0.8087 - val_acc: 0.6593\n",
            "Epoch 8/30\n",
            "18915/18915 [==============================] - 65s 3ms/step - loss: 0.7187 - acc: 0.8210 - val_loss: 0.7681 - val_acc: 0.6557\n",
            "Epoch 9/30\n",
            "18915/18915 [==============================] - 65s 3ms/step - loss: 0.6629 - acc: 0.8413 - val_loss: 0.7463 - val_acc: 0.6564\n",
            "Epoch 10/30\n",
            "18915/18915 [==============================] - 65s 3ms/step - loss: 0.6162 - acc: 0.8610 - val_loss: 0.7314 - val_acc: 0.6585\n",
            "Epoch 11/30\n",
            "18915/18915 [==============================] - 65s 3ms/step - loss: 0.5767 - acc: 0.8781 - val_loss: 0.7300 - val_acc: 0.6604\n",
            "Epoch 12/30\n",
            "18915/18915 [==============================] - 65s 3ms/step - loss: 0.5380 - acc: 0.8957 - val_loss: 0.7305 - val_acc: 0.6606\n",
            "Epoch 13/30\n",
            "18915/18915 [==============================] - 65s 3ms/step - loss: 0.5013 - acc: 0.9120 - val_loss: 0.7364 - val_acc: 0.6644\n",
            "Epoch 14/30\n",
            "18915/18915 [==============================] - 65s 3ms/step - loss: 0.4659 - acc: 0.9237 - val_loss: 0.7443 - val_acc: 0.6665\n",
            "Epoch 15/30\n",
            "18915/18915 [==============================] - 65s 3ms/step - loss: 0.4298 - acc: 0.9387 - val_loss: 0.7654 - val_acc: 0.6634\n",
            "Epoch 16/30\n",
            "18915/18915 [==============================] - 65s 3ms/step - loss: 0.3984 - acc: 0.9500 - val_loss: 0.7774 - val_acc: 0.6665\n",
            "Epoch 17/30\n",
            "18915/18915 [==============================] - 65s 3ms/step - loss: 0.3688 - acc: 0.9587 - val_loss: 0.7906 - val_acc: 0.6665\n",
            "Epoch 18/30\n",
            "18915/18915 [==============================] - 65s 3ms/step - loss: 0.3429 - acc: 0.9663 - val_loss: 0.8071 - val_acc: 0.6642\n",
            "Epoch 19/30\n",
            "18915/18915 [==============================] - 65s 3ms/step - loss: 0.3190 - acc: 0.9725 - val_loss: 0.8263 - val_acc: 0.6636\n",
            "Epoch 20/30\n",
            "18915/18915 [==============================] - 65s 3ms/step - loss: 0.2995 - acc: 0.9782 - val_loss: 0.8463 - val_acc: 0.6644\n",
            "Epoch 21/30\n",
            "18915/18915 [==============================] - 65s 3ms/step - loss: 0.2793 - acc: 0.9823 - val_loss: 0.8542 - val_acc: 0.6672\n",
            "Epoch 22/30\n",
            "18915/18915 [==============================] - 65s 3ms/step - loss: 0.2658 - acc: 0.9856 - val_loss: 0.8715 - val_acc: 0.6608\n",
            "Epoch 23/30\n",
            "18915/18915 [==============================] - 65s 3ms/step - loss: 0.2516 - acc: 0.9881 - val_loss: 0.8841 - val_acc: 0.6615\n",
            "Epoch 24/30\n",
            "18915/18915 [==============================] - 65s 3ms/step - loss: 0.2399 - acc: 0.9910 - val_loss: 0.8976 - val_acc: 0.6623\n",
            "Epoch 25/30\n",
            "18915/18915 [==============================] - 65s 3ms/step - loss: 0.2299 - acc: 0.9929 - val_loss: 0.9080 - val_acc: 0.6627\n",
            "Epoch 26/30\n",
            "18915/18915 [==============================] - 65s 3ms/step - loss: 0.2229 - acc: 0.9939 - val_loss: 0.9265 - val_acc: 0.6659\n",
            "Epoch 27/30\n",
            "18915/18915 [==============================] - 65s 3ms/step - loss: 0.2153 - acc: 0.9948 - val_loss: 0.9222 - val_acc: 0.6657\n",
            "Epoch 28/30\n",
            "18915/18915 [==============================] - 65s 3ms/step - loss: 0.2109 - acc: 0.9944 - val_loss: 0.9293 - val_acc: 0.6650\n",
            "Epoch 29/30\n",
            "18915/18915 [==============================] - 65s 3ms/step - loss: 0.2047 - acc: 0.9960 - val_loss: 0.9290 - val_acc: 0.6760\n",
            "Epoch 30/30\n",
            "18915/18915 [==============================] - 65s 3ms/step - loss: 0.1983 - acc: 0.9960 - val_loss: 0.9275 - val_acc: 0.6708\n"
          ],
          "name": "stdout"
        }
      ]
    },
    {
      "cell_type": "code",
      "metadata": {
        "id": "hIz4ZE-Vgkkf",
        "colab_type": "code",
        "outputId": "e3e4a7e7-09c7-41a0-c094-7ade7bb4a4ff",
        "colab": {
          "base_uri": "https://localhost:8080/",
          "height": 1000
        }
      },
      "source": [
        "# Model training when lr=0.002\n",
        "history3_02 = model_dec1.fit([padded_claim,padded_art], label_train,\n",
        "                    epochs=30,\n",
        "                    validation_data=([padded_claim_val,padded_art_val], label_val),\n",
        "                    batch_size=100)"
      ],
      "execution_count": 0,
      "outputs": [
        {
          "output_type": "stream",
          "text": [
            "Train on 18915 samples, validate on 4729 samples\n",
            "Epoch 1/30\n",
            "18915/18915 [==============================] - 70s 4ms/step - loss: 1.0628 - acc: 0.5464 - val_loss: 0.7216 - val_acc: 0.5035\n",
            "Epoch 2/30\n",
            "18915/18915 [==============================] - 66s 3ms/step - loss: 0.7058 - acc: 0.5406 - val_loss: 0.6981 - val_acc: 0.5035\n",
            "Epoch 3/30\n",
            "18915/18915 [==============================] - 66s 3ms/step - loss: 0.6953 - acc: 0.5099 - val_loss: 0.6942 - val_acc: 0.5035\n",
            "Epoch 4/30\n",
            "18915/18915 [==============================] - 66s 4ms/step - loss: 0.6935 - acc: 0.5099 - val_loss: 0.6933 - val_acc: 0.5035\n",
            "Epoch 5/30\n",
            "18915/18915 [==============================] - 66s 4ms/step - loss: 0.6931 - acc: 0.5099 - val_loss: 0.6932 - val_acc: 0.5035\n",
            "Epoch 6/30\n",
            "18915/18915 [==============================] - 66s 3ms/step - loss: 0.6930 - acc: 0.5099 - val_loss: 0.6932 - val_acc: 0.5035\n",
            "Epoch 7/30\n",
            "18915/18915 [==============================] - 66s 4ms/step - loss: 0.6930 - acc: 0.5099 - val_loss: 0.6932 - val_acc: 0.5035\n",
            "Epoch 8/30\n",
            "18915/18915 [==============================] - 66s 4ms/step - loss: 0.6930 - acc: 0.5099 - val_loss: 0.6933 - val_acc: 0.5035\n",
            "Epoch 9/30\n",
            "18915/18915 [==============================] - 66s 4ms/step - loss: 0.6931 - acc: 0.5099 - val_loss: 0.6932 - val_acc: 0.5035\n",
            "Epoch 10/30\n",
            "18915/18915 [==============================] - 66s 4ms/step - loss: 0.6930 - acc: 0.5099 - val_loss: 0.6931 - val_acc: 0.5035\n",
            "Epoch 11/30\n",
            "18915/18915 [==============================] - 66s 4ms/step - loss: 0.6930 - acc: 0.5099 - val_loss: 0.6932 - val_acc: 0.5035\n",
            "Epoch 12/30\n",
            "18915/18915 [==============================] - 66s 3ms/step - loss: 0.6930 - acc: 0.5099 - val_loss: 0.6932 - val_acc: 0.5035\n",
            "Epoch 13/30\n",
            "18915/18915 [==============================] - 66s 3ms/step - loss: 0.6930 - acc: 0.5099 - val_loss: 0.6932 - val_acc: 0.5035\n",
            "Epoch 14/30\n",
            "18915/18915 [==============================] - 66s 3ms/step - loss: 0.6930 - acc: 0.5099 - val_loss: 0.6932 - val_acc: 0.5035\n",
            "Epoch 15/30\n",
            "18915/18915 [==============================] - 66s 3ms/step - loss: 0.6930 - acc: 0.5099 - val_loss: 0.6933 - val_acc: 0.5035\n",
            "Epoch 16/30\n",
            "18915/18915 [==============================] - 66s 3ms/step - loss: 0.6930 - acc: 0.5099 - val_loss: 0.6932 - val_acc: 0.5035\n",
            "Epoch 17/30\n",
            "18915/18915 [==============================] - 66s 3ms/step - loss: 0.6930 - acc: 0.5099 - val_loss: 0.6932 - val_acc: 0.5035\n",
            "Epoch 18/30\n",
            "18915/18915 [==============================] - 66s 3ms/step - loss: 0.6930 - acc: 0.5099 - val_loss: 0.6933 - val_acc: 0.5035\n",
            "Epoch 19/30\n",
            "18915/18915 [==============================] - 66s 3ms/step - loss: 0.6930 - acc: 0.5099 - val_loss: 0.6933 - val_acc: 0.5035\n",
            "Epoch 20/30\n",
            "18915/18915 [==============================] - 66s 3ms/step - loss: 0.6930 - acc: 0.5099 - val_loss: 0.6932 - val_acc: 0.5035\n",
            "Epoch 21/30\n",
            "18915/18915 [==============================] - 66s 3ms/step - loss: 0.6930 - acc: 0.5099 - val_loss: 0.6932 - val_acc: 0.5035\n",
            "Epoch 22/30\n",
            "18915/18915 [==============================] - 66s 3ms/step - loss: 0.6930 - acc: 0.5099 - val_loss: 0.6933 - val_acc: 0.5035\n",
            "Epoch 23/30\n",
            "18915/18915 [==============================] - 66s 4ms/step - loss: 0.6930 - acc: 0.5099 - val_loss: 0.6932 - val_acc: 0.5035\n",
            "Epoch 24/30\n",
            "18915/18915 [==============================] - 67s 4ms/step - loss: 0.6930 - acc: 0.5099 - val_loss: 0.6932 - val_acc: 0.5035\n",
            "Epoch 25/30\n",
            "18915/18915 [==============================] - 66s 3ms/step - loss: 0.6930 - acc: 0.5099 - val_loss: 0.6932 - val_acc: 0.5035\n",
            "Epoch 26/30\n",
            "18915/18915 [==============================] - 66s 3ms/step - loss: 0.6930 - acc: 0.5099 - val_loss: 0.6932 - val_acc: 0.5035\n",
            "Epoch 27/30\n",
            "18915/18915 [==============================] - 66s 3ms/step - loss: 0.6930 - acc: 0.5099 - val_loss: 0.6932 - val_acc: 0.5035\n",
            "Epoch 28/30\n",
            "18915/18915 [==============================] - 66s 4ms/step - loss: 0.6930 - acc: 0.5099 - val_loss: 0.6932 - val_acc: 0.5035\n",
            "Epoch 29/30\n",
            "18915/18915 [==============================] - 66s 4ms/step - loss: 0.6930 - acc: 0.5099 - val_loss: 0.6932 - val_acc: 0.5035\n",
            "Epoch 30/30\n",
            "18915/18915 [==============================] - 66s 3ms/step - loss: 0.6930 - acc: 0.5099 - val_loss: 0.6932 - val_acc: 0.5035\n"
          ],
          "name": "stdout"
        }
      ]
    },
    {
      "cell_type": "code",
      "metadata": {
        "colab_type": "code",
        "id": "FXIxKesQhRi9",
        "outputId": "be97f0c6-76c6-4f04-bc8c-613decbbd34c",
        "colab": {
          "base_uri": "https://localhost:8080/",
          "height": 727
        }
      },
      "source": [
        "# Get the accuracy and loss graphs for both learning rates\n",
        "loss, accuracy = model_dec1.evaluate([padded_claim_val,padded_art_val], label_val, verbose=False)\n",
        "print(\"Validation Accuracy: {:.4f}\".format(accuracy))\n",
        "loss, accuracy = model_dec1.evaluate([padded_claim_test,padded_art_test],label_test)\n",
        "print(\"Testing Accuracy:  {:.4f}\".format(accuracy))\n",
        "plot_history(history3)\n",
        "print('LR=0.0001,LR=0.002')\n",
        "plot_history(history3_02)"
      ],
      "execution_count": 0,
      "outputs": [
        {
          "output_type": "stream",
          "text": [
            "Validation Accuracy: 0.6708\n",
            "5912/5912 [==============================] - 8s 1ms/step\n",
            "Testing Accuracy:  0.6649\n",
            "LR=0.0001,LR=0.002\n"
          ],
          "name": "stdout"
        },
        {
          "output_type": "display_data",
          "data": {
            "image/png": "[encoded data removed]",
            "text/plain": [
              "<Figure size 864x360 with 2 Axes>"
            ]
          },
          "metadata": {
            "tags": []
          }
        },
        {
          "output_type": "display_data",
          "data": {
            "image/png": "[encoded data removed]",
            "text/plain": [
              "<Figure size 864x360 with 2 Axes>"
            ]
          },
          "metadata": {
            "tags": []
          }
        }
      ]
    },
    {
      "cell_type": "code",
      "metadata": {
        "colab_type": "code",
        "id": "giTTZjdIhRjB",
        "colab": {}
      },
      "source": [
        "# predict the test data\n",
        "y_pred3 = model_dec1.predict([padded_claim_test,padded_art_test])\n",
        "y_pred_bin3 = get_proper_labels(y_pred3)"
      ],
      "execution_count": 0,
      "outputs": []
    },
    {
      "cell_type": "code",
      "metadata": {
        "colab_type": "code",
        "id": "APhbP6-lhLEF",
        "outputId": "bc12e553-229b-4644-ece6-2c03ab996b81",
        "colab": {
          "base_uri": "https://localhost:8080/",
          "height": 699
        }
      },
      "source": [
        "#When lr=0.0001\n",
        "plot_confusion_matrix(label_test,y_pred_bin3,[0,1])\n",
        "plot_confusion_matrix(label_test,y_pred_bin3,[0,1], normalize=True)"
      ],
      "execution_count": 0,
      "outputs": [
        {
          "output_type": "stream",
          "text": [
            "Confusion matrix, without normalization\n",
            "[[1884 1034]\n",
            " [ 947 2047]]\n",
            "Normalized confusion matrix\n",
            "[[0.6456477  0.3543523 ]\n",
            " [0.31629927 0.68370073]]\n"
          ],
          "name": "stdout"
        },
        {
          "output_type": "execute_result",
          "data": {
            "text/plain": [
              "<matplotlib.axes._subplots.AxesSubplot at 0x7f2da8549da0>"
            ]
          },
          "metadata": {
            "tags": []
          },
          "execution_count": 77
        },
        {
          "output_type": "display_data",
          "data": {
            "image/png": "[encoded data removed]",
            "text/plain": [
              "<Figure size 432x288 with 2 Axes>"
            ]
          },
          "metadata": {
            "tags": []
          }
        },
        {
          "output_type": "display_data",
          "data": {
            "image/png": "[encoded data removed]",
            "text/plain": [
              "<Figure size 432x288 with 2 Axes>"
            ]
          },
          "metadata": {
            "tags": []
          }
        }
      ]
    },
    {
      "cell_type": "code",
      "metadata": {
        "id": "t6VFpOh6XF4e",
        "colab_type": "code",
        "outputId": "caffb60f-2c37-4586-a3ea-acb9c6eea19c",
        "colab": {
          "base_uri": "https://localhost:8080/",
          "height": 277
        }
      },
      "source": [
        "#When lr=0.0001\n",
        "basic_att_p,basc_att_r,basic_att_a,basic_att_f1 = evaluation_summary(\"DeClare-Attn+BiLSTM\", y_pred_bin3, label_test)"
      ],
      "execution_count": 0,
      "outputs": [
        {
          "output_type": "stream",
          "text": [
            "Evaluation for: DeClare-Attn+BiLSTM\n",
            "Classifier 'DeClare-Attn+BiLSTM' has Acc=0.6649 P=0.6647 R=0.6649 F1=0.6647\n",
            "              precision    recall  f1-score   support\n",
            "\n",
            "           0      0.646     0.665     0.655      2831\n",
            "           1      0.684     0.664     0.674      3081\n",
            "\n",
            "    accuracy                          0.665      5912\n",
            "   macro avg      0.665     0.665     0.665      5912\n",
            "weighted avg      0.665     0.665     0.665      5912\n",
            "\n",
            "\n",
            "Confusion matrix:\n",
            " [[1884 1034]\n",
            " [ 947 2047]]\n"
          ],
          "name": "stdout"
        }
      ]
    },
    {
      "cell_type": "code",
      "metadata": {
        "id": "vz9BdD2lXND5",
        "colab_type": "code",
        "outputId": "a1613300-2b98-4043-cb14-4059f3c012a3",
        "colab": {
          "base_uri": "https://localhost:8080/",
          "height": 35
        }
      },
      "source": [
        "#When lr=0.0001\n",
        "fpr, tpr, thresholds = roc_curve(label_test, y_pred_bin3)\n",
        "auc_basic_att = auc(fpr, tpr)\n",
        "print(\"DeClarE Basic_Attn AUC-\",auc_basic_att)"
      ],
      "execution_count": 0,
      "outputs": [
        {
          "output_type": "stream",
          "text": [
            "DeClarE Basic_Attn AUC- 0.6646742193548624\n"
          ],
          "name": "stdout"
        }
      ]
    },
    {
      "cell_type": "code",
      "metadata": {
        "colab_type": "code",
        "id": "2ZewiDyNhLEa",
        "outputId": "63ba85fd-1266-401e-d65e-ebda14193ec2",
        "colab": {
          "base_uri": "https://localhost:8080/",
          "height": 401
        }
      },
      "source": [
        "# When lr=0.002\n",
        "basic_att_p,basc_att_r,basic_att_a,basic_att_f1 = evaluation_summary(\"DeClare-Basic_Attn\", y_pred_bin3, label_test)"
      ],
      "execution_count": 0,
      "outputs": [
        {
          "output_type": "stream",
          "text": [
            "Evaluation for: DeClare-Basic_Attn\n",
            "Classifier 'DeClare-Basic_Attn' has Acc=0.5064 P=0.5000 R=0.2532 F1=0.3362\n",
            "              precision    recall  f1-score   support\n",
            "\n",
            "           0      0.000     0.000     0.000         0\n",
            "           1      1.000     0.506     0.672      5912\n",
            "\n",
            "    accuracy                          0.506      5912\n",
            "   macro avg      0.500     0.253     0.336      5912\n",
            "weighted avg      1.000     0.506     0.672      5912\n",
            "\n",
            "\n",
            "Confusion matrix:\n",
            " [[   0 2918]\n",
            " [   0 2994]]\n"
          ],
          "name": "stdout"
        },
        {
          "output_type": "stream",
          "text": [
            "/usr/local/lib/python3.6/dist-packages/sklearn/metrics/classification.py:1439: UndefinedMetricWarning: Recall is ill-defined and being set to 0.0 in labels with no true samples.\n",
            "  'recall', 'true', average, warn_for)\n",
            "/usr/local/lib/python3.6/dist-packages/sklearn/metrics/classification.py:1439: UndefinedMetricWarning: F-score is ill-defined and being set to 0.0 in labels with no true samples.\n",
            "  'recall', 'true', average, warn_for)\n",
            "/usr/local/lib/python3.6/dist-packages/sklearn/metrics/classification.py:1439: UndefinedMetricWarning: Recall and F-score are ill-defined and being set to 0.0 in labels with no true samples.\n",
            "  'recall', 'true', average, warn_for)\n"
          ],
          "name": "stderr"
        }
      ]
    },
    {
      "cell_type": "code",
      "metadata": {
        "colab_type": "code",
        "id": "CqLiuVk4hLEe",
        "outputId": "cab81bed-6692-4b3d-dc1f-12820d4ea5fa",
        "colab": {
          "base_uri": "https://localhost:8080/",
          "height": 35
        }
      },
      "source": [
        "# when lr=0.002\n",
        "fpr, tpr, thresholds = roc_curve(label_test, y_pred_bin3)\n",
        "auc_basic_att = auc(fpr, tpr)\n",
        "print(\"DeClarE Basic_Attn AUC-\",auc_basic_att)"
      ],
      "execution_count": 0,
      "outputs": [
        {
          "output_type": "stream",
          "text": [
            "DeClarE Basic_Attn AUC- 0.5\n"
          ],
          "name": "stdout"
        }
      ]
    },
    {
      "cell_type": "markdown",
      "metadata": {
        "id": "YbbNmHbxjl1x",
        "colab_type": "text"
      },
      "source": [
        "## Bi-LSTM- Simple + SourceEmb DeClarE (lr=0.002) & (lr = 0.0001)"
      ]
    },
    {
      "cell_type": "code",
      "metadata": {
        "id": "ibKYY98bjo3L",
        "colab_type": "code",
        "outputId": "92cf8055-97ea-432a-d17f-ec510655e189",
        "colab": {
          "base_uri": "https://localhost:8080/",
          "height": 641
        }
      },
      "source": [
        "# DeClarE Model- Simple + Source Embeddings\n",
        "lstm_op_dim = 64\n",
        "art_wrd1 = Input(shape=(max_len_a,))\n",
        "art_wrd_emb1 = Embedding(vocab_size, 100, input_length=max_len_a, weights=[embedding_matrix], trainable=False)(art_wrd1) # article embedding\n",
        "lstm_op2 = Bidirectional(LSTM(lstm_op_dim, return_sequences=True, recurrent_regularizer=l2(0.00001), kernel_regularizer=l2(0.01)),\n",
        "                         merge_mode='concat')(art_wrd_emb1) # Bi-LSTM layer\n",
        "# Fatten layer\n",
        "flat = Flatten()(lstm_op2)\n",
        "# Claim embedding\n",
        "clm_src1 = Input(shape=(max_len_cs,))\n",
        "clm_src_emb1 = Embedding(vocab_size_csrc, 4, input_length=max_len_cs, weights=[embedding_matrix_csrc], trainable=False)(clm_src1)\n",
        "clm_src_emb_flatten1 = Flatten()(clm_src_emb1)\n",
        "# Article embedding\n",
        "art_src1 = Input(shape = (max_len_as,))\n",
        "art_src_emb1 = Embedding(vocab_size_asrc, 4, input_length=max_len_as, weights=[embedding_matrix_asrc], trainable=False)(art_src1)\n",
        "art_src_emb_flatten1 = Flatten()(art_src_emb1)\n",
        "\n",
        "#Concatenate the article with the source embeddings\n",
        "con = concatenate(inputs = [clm_src_emb_flatten1, flat, art_src_emb_flatten1])\n",
        "\n",
        "# End dense layers\n",
        "dense1 = Dense(8, activation='relu',kernel_regularizer=l2(0.01))(con)\n",
        "dense1 = Dense(1, activation='sigmoid',kernel_regularizer=l2(0.01))(dense1)\n",
        "\n",
        "model_lstm3 = Model(inputs=[clm_src1,art_wrd1,art_src1], outputs=dense1)\n",
        "#adam = Adam(lr=0.002) # Also used in the second round\n",
        "adam = Adam(lr=0.0001)\n",
        "model_lstm3.compile(optimizer=adam,\n",
        "                     loss='binary_crossentropy',\n",
        "                     metrics=['accuracy'])\n",
        "print(model_lstm3.summary())"
      ],
      "execution_count": 0,
      "outputs": [
        {
          "output_type": "stream",
          "text": [
            "__________________________________________________________________________________________________\n",
            "Layer (type)                    Output Shape         Param #     Connected to                     \n",
            "==================================================================================================\n",
            "input_20 (InputLayer)           (None, 100)          0                                            \n",
            "__________________________________________________________________________________________________\n",
            "input_21 (InputLayer)           (None, 4)            0                                            \n",
            "__________________________________________________________________________________________________\n",
            "embedding_20 (Embedding)        (None, 100, 100)     3152800     input_20[0][0]                   \n",
            "__________________________________________________________________________________________________\n",
            "input_22 (InputLayer)           (None, 4)            0                                            \n",
            "__________________________________________________________________________________________________\n",
            "embedding_21 (Embedding)        (None, 4, 4)         3980        input_21[0][0]                   \n",
            "__________________________________________________________________________________________________\n",
            "bidirectional_8 (Bidirectional) (None, 100, 128)     84480       embedding_20[0][0]               \n",
            "__________________________________________________________________________________________________\n",
            "embedding_22 (Embedding)        (None, 4, 4)         14132       input_22[0][0]                   \n",
            "__________________________________________________________________________________________________\n",
            "flatten_21 (Flatten)            (None, 16)           0           embedding_21[0][0]               \n",
            "__________________________________________________________________________________________________\n",
            "flatten_20 (Flatten)            (None, 12800)        0           bidirectional_8[0][0]            \n",
            "__________________________________________________________________________________________________\n",
            "flatten_22 (Flatten)            (None, 16)           0           embedding_22[0][0]               \n",
            "__________________________________________________________________________________________________\n",
            "concatenate_7 (Concatenate)     (None, 12832)        0           flatten_21[0][0]                 \n",
            "                                                                 flatten_20[0][0]                 \n",
            "                                                                 flatten_22[0][0]                 \n",
            "__________________________________________________________________________________________________\n",
            "dense_23 (Dense)                (None, 8)            102664      concatenate_7[0][0]              \n",
            "__________________________________________________________________________________________________\n",
            "dense_24 (Dense)                (None, 1)            9           dense_23[0][0]                   \n",
            "==================================================================================================\n",
            "Total params: 3,358,065\n",
            "Trainable params: 187,153\n",
            "Non-trainable params: 3,170,912\n",
            "__________________________________________________________________________________________________\n",
            "None\n"
          ],
          "name": "stdout"
        }
      ]
    },
    {
      "cell_type": "code",
      "metadata": {
        "id": "D88NR4oQXyOw",
        "colab_type": "code",
        "outputId": "42dadc70-f8bd-4421-8864-5d969a5ad7fc",
        "colab": {
          "base_uri": "https://localhost:8080/",
          "height": 1000
        }
      },
      "source": [
        "# Model training when lr=0.0001\n",
        "history2_01 = model_lstm3.fit([padded_claim_src,padded_art,padded_art_src], label_train,\n",
        "                    epochs=30,\n",
        "                    validation_data=([padded_claim_src_val,padded_art_val,padded_art_src_val], label_val),\n",
        "                    batch_size=100)"
      ],
      "execution_count": 0,
      "outputs": [
        {
          "output_type": "stream",
          "text": [
            "Train on 18915 samples, validate on 4729 samples\n",
            "Epoch 1/30\n",
            "18915/18915 [==============================] - 62s 3ms/step - loss: 3.1554 - acc: 0.5782 - val_loss: 2.6318 - val_acc: 0.6348\n",
            "Epoch 2/30\n",
            "18915/18915 [==============================] - 56s 3ms/step - loss: 2.2749 - acc: 0.6315 - val_loss: 1.9546 - val_acc: 0.6530\n",
            "Epoch 3/30\n",
            "18915/18915 [==============================] - 56s 3ms/step - loss: 1.7265 - acc: 0.6552 - val_loss: 1.5184 - val_acc: 0.6758\n",
            "Epoch 4/30\n",
            "18915/18915 [==============================] - 56s 3ms/step - loss: 1.3726 - acc: 0.6649 - val_loss: 1.2422 - val_acc: 0.6703\n",
            "Epoch 5/30\n",
            "18915/18915 [==============================] - 56s 3ms/step - loss: 1.1393 - acc: 0.6731 - val_loss: 1.0532 - val_acc: 0.6801\n",
            "Epoch 6/30\n",
            "18915/18915 [==============================] - 56s 3ms/step - loss: 0.9912 - acc: 0.6745 - val_loss: 0.9354 - val_acc: 0.6815\n",
            "Epoch 7/30\n",
            "18915/18915 [==============================] - 56s 3ms/step - loss: 0.8903 - acc: 0.6791 - val_loss: 0.8591 - val_acc: 0.6843\n",
            "Epoch 8/30\n",
            "18915/18915 [==============================] - 56s 3ms/step - loss: 0.8288 - acc: 0.6822 - val_loss: 0.8262 - val_acc: 0.6648\n",
            "Epoch 9/30\n",
            "18915/18915 [==============================] - 56s 3ms/step - loss: 0.7888 - acc: 0.6844 - val_loss: 0.7773 - val_acc: 0.6921\n",
            "Epoch 10/30\n",
            "18915/18915 [==============================] - 56s 3ms/step - loss: 0.7592 - acc: 0.6877 - val_loss: 0.7561 - val_acc: 0.6883\n",
            "Epoch 11/30\n",
            "18915/18915 [==============================] - 56s 3ms/step - loss: 0.7387 - acc: 0.6910 - val_loss: 0.7384 - val_acc: 0.6938\n",
            "Epoch 12/30\n",
            "18915/18915 [==============================] - 56s 3ms/step - loss: 0.7232 - acc: 0.6949 - val_loss: 0.7252 - val_acc: 0.6953\n",
            "Epoch 13/30\n",
            "18915/18915 [==============================] - 56s 3ms/step - loss: 0.7116 - acc: 0.6960 - val_loss: 0.7269 - val_acc: 0.6777\n",
            "Epoch 14/30\n",
            "18915/18915 [==============================] - 56s 3ms/step - loss: 0.7006 - acc: 0.7003 - val_loss: 0.7094 - val_acc: 0.6942\n",
            "Epoch 15/30\n",
            "18915/18915 [==============================] - 56s 3ms/step - loss: 0.6926 - acc: 0.7039 - val_loss: 0.7026 - val_acc: 0.6957\n",
            "Epoch 16/30\n",
            "18915/18915 [==============================] - 55s 3ms/step - loss: 0.6871 - acc: 0.7028 - val_loss: 0.6970 - val_acc: 0.6993\n",
            "Epoch 17/30\n",
            "18915/18915 [==============================] - 56s 3ms/step - loss: 0.6806 - acc: 0.7061 - val_loss: 0.6930 - val_acc: 0.6963\n",
            "Epoch 18/30\n",
            "18915/18915 [==============================] - 56s 3ms/step - loss: 0.6702 - acc: 0.7126 - val_loss: 0.6860 - val_acc: 0.6978\n",
            "Epoch 19/30\n",
            "18915/18915 [==============================] - 56s 3ms/step - loss: 0.6655 - acc: 0.7168 - val_loss: 0.6875 - val_acc: 0.6923\n",
            "Epoch 20/30\n",
            "18915/18915 [==============================] - 56s 3ms/step - loss: 0.6581 - acc: 0.7188 - val_loss: 0.6804 - val_acc: 0.7054\n",
            "Epoch 21/30\n",
            "18915/18915 [==============================] - 55s 3ms/step - loss: 0.6538 - acc: 0.7194 - val_loss: 0.6835 - val_acc: 0.7061\n",
            "Epoch 22/30\n",
            "18915/18915 [==============================] - 56s 3ms/step - loss: 0.6446 - acc: 0.7236 - val_loss: 0.6766 - val_acc: 0.7031\n",
            "Epoch 23/30\n",
            "18915/18915 [==============================] - 56s 3ms/step - loss: 0.6398 - acc: 0.7284 - val_loss: 0.6717 - val_acc: 0.7054\n",
            "Epoch 24/30\n",
            "18915/18915 [==============================] - 56s 3ms/step - loss: 0.6354 - acc: 0.7287 - val_loss: 0.6692 - val_acc: 0.7122\n",
            "Epoch 25/30\n",
            "18915/18915 [==============================] - 56s 3ms/step - loss: 0.6366 - acc: 0.7282 - val_loss: 0.6694 - val_acc: 0.7061\n",
            "Epoch 26/30\n",
            "18915/18915 [==============================] - 56s 3ms/step - loss: 0.6255 - acc: 0.7378 - val_loss: 0.6718 - val_acc: 0.7120\n",
            "Epoch 27/30\n",
            "18915/18915 [==============================] - 56s 3ms/step - loss: 0.6219 - acc: 0.7375 - val_loss: 0.6742 - val_acc: 0.7069\n",
            "Epoch 28/30\n",
            "18915/18915 [==============================] - 56s 3ms/step - loss: 0.6173 - acc: 0.7431 - val_loss: 0.6662 - val_acc: 0.7099\n",
            "Epoch 29/30\n",
            "18915/18915 [==============================] - 56s 3ms/step - loss: 0.6159 - acc: 0.7410 - val_loss: 0.6647 - val_acc: 0.7075\n",
            "Epoch 30/30\n",
            "18915/18915 [==============================] - 56s 3ms/step - loss: 0.6062 - acc: 0.7447 - val_loss: 0.6620 - val_acc: 0.7139\n"
          ],
          "name": "stdout"
        }
      ]
    },
    {
      "cell_type": "code",
      "metadata": {
        "id": "2ivNRVHmjzV3",
        "colab_type": "code",
        "outputId": "0e59ce78-adb1-484f-81bc-ccefebbd8c4d",
        "colab": {
          "base_uri": "https://localhost:8080/",
          "height": 1000
        }
      },
      "source": [
        "#Model training when lr=0.002\n",
        "history2 = model_lstm3.fit([padded_claim_src,padded_art,padded_art_src], label_train,\n",
        "                    epochs=30,\n",
        "                    validation_data=([padded_claim_src_val,padded_art_val,padded_art_src_val], label_val),\n",
        "                    batch_size=100)"
      ],
      "execution_count": 0,
      "outputs": [
        {
          "output_type": "stream",
          "text": [
            "Train on 18915 samples, validate on 4729 samples\n",
            "Epoch 1/30\n",
            "18915/18915 [==============================] - 60s 3ms/step - loss: 1.1330 - acc: 0.5098 - val_loss: 0.7272 - val_acc: 0.5035\n",
            "Epoch 2/30\n",
            "18915/18915 [==============================] - 56s 3ms/step - loss: 0.7098 - acc: 0.5099 - val_loss: 0.7028 - val_acc: 0.5035\n",
            "Epoch 3/30\n",
            "18915/18915 [==============================] - 56s 3ms/step - loss: 0.7030 - acc: 0.5095 - val_loss: 0.6997 - val_acc: 0.5035\n",
            "Epoch 4/30\n",
            "18915/18915 [==============================] - 56s 3ms/step - loss: 0.6986 - acc: 0.5099 - val_loss: 0.6979 - val_acc: 0.5035\n",
            "Epoch 5/30\n",
            "18915/18915 [==============================] - 56s 3ms/step - loss: 0.6991 - acc: 0.5099 - val_loss: 0.6972 - val_acc: 0.5035\n",
            "Epoch 6/30\n",
            "18915/18915 [==============================] - 56s 3ms/step - loss: 0.6976 - acc: 0.5059 - val_loss: 0.6955 - val_acc: 0.5035\n",
            "Epoch 7/30\n",
            "18915/18915 [==============================] - 56s 3ms/step - loss: 0.6950 - acc: 0.5089 - val_loss: 0.6947 - val_acc: 0.5035\n",
            "Epoch 8/30\n",
            "18915/18915 [==============================] - 56s 3ms/step - loss: 0.6943 - acc: 0.5101 - val_loss: 0.6940 - val_acc: 0.5035\n",
            "Epoch 9/30\n",
            "18915/18915 [==============================] - 56s 3ms/step - loss: 0.6942 - acc: 0.5081 - val_loss: 0.6940 - val_acc: 0.5035\n",
            "Epoch 10/30\n",
            "18915/18915 [==============================] - 56s 3ms/step - loss: 0.6937 - acc: 0.5086 - val_loss: 0.6937 - val_acc: 0.5035\n",
            "Epoch 11/30\n",
            "18915/18915 [==============================] - 56s 3ms/step - loss: 0.6933 - acc: 0.5099 - val_loss: 0.6934 - val_acc: 0.5035\n",
            "Epoch 12/30\n",
            "18915/18915 [==============================] - 56s 3ms/step - loss: 0.6932 - acc: 0.5099 - val_loss: 0.6928 - val_acc: 0.5035\n",
            "Epoch 13/30\n",
            "18915/18915 [==============================] - 56s 3ms/step - loss: 0.6965 - acc: 0.5156 - val_loss: 0.6939 - val_acc: 0.4965\n",
            "Epoch 14/30\n",
            "18915/18915 [==============================] - 56s 3ms/step - loss: 0.6941 - acc: 0.5289 - val_loss: 0.6900 - val_acc: 0.5494\n",
            "Epoch 15/30\n",
            "18915/18915 [==============================] - 56s 3ms/step - loss: 0.6978 - acc: 0.5256 - val_loss: 0.6932 - val_acc: 0.5031\n",
            "Epoch 16/30\n",
            "18915/18915 [==============================] - 56s 3ms/step - loss: 0.6958 - acc: 0.5354 - val_loss: 0.6953 - val_acc: 0.4965\n",
            "Epoch 17/30\n",
            "18915/18915 [==============================] - 56s 3ms/step - loss: 0.6927 - acc: 0.5554 - val_loss: 0.6944 - val_acc: 0.5819\n",
            "Epoch 18/30\n",
            "18915/18915 [==============================] - 56s 3ms/step - loss: 0.6956 - acc: 0.5667 - val_loss: 0.6967 - val_acc: 0.5792\n",
            "Epoch 19/30\n",
            "18915/18915 [==============================] - 56s 3ms/step - loss: 0.6811 - acc: 0.6063 - val_loss: 0.6736 - val_acc: 0.6270\n",
            "Epoch 20/30\n",
            "18915/18915 [==============================] - 56s 3ms/step - loss: 0.6644 - acc: 0.6363 - val_loss: 0.6542 - val_acc: 0.6595\n",
            "Epoch 21/30\n",
            "18915/18915 [==============================] - 56s 3ms/step - loss: 0.6552 - acc: 0.6527 - val_loss: 0.6405 - val_acc: 0.6705\n",
            "Epoch 22/30\n",
            "18915/18915 [==============================] - 56s 3ms/step - loss: 0.6463 - acc: 0.6565 - val_loss: 0.6478 - val_acc: 0.6519\n",
            "Epoch 23/30\n",
            "18915/18915 [==============================] - 56s 3ms/step - loss: 0.6444 - acc: 0.6596 - val_loss: 0.6643 - val_acc: 0.6441\n",
            "Epoch 24/30\n",
            "18915/18915 [==============================] - 56s 3ms/step - loss: 0.6431 - acc: 0.6620 - val_loss: 0.6335 - val_acc: 0.6746\n",
            "Epoch 25/30\n",
            "18915/18915 [==============================] - 56s 3ms/step - loss: 0.6361 - acc: 0.6688 - val_loss: 0.6389 - val_acc: 0.6748\n",
            "Epoch 26/30\n",
            "18915/18915 [==============================] - 56s 3ms/step - loss: 0.6331 - acc: 0.6735 - val_loss: 0.6257 - val_acc: 0.6889\n",
            "Epoch 27/30\n",
            "18915/18915 [==============================] - 56s 3ms/step - loss: 0.6346 - acc: 0.6733 - val_loss: 0.6218 - val_acc: 0.6930\n",
            "Epoch 28/30\n",
            "18915/18915 [==============================] - 56s 3ms/step - loss: 0.6262 - acc: 0.6822 - val_loss: 0.6183 - val_acc: 0.7014\n",
            "Epoch 29/30\n",
            "18915/18915 [==============================] - 56s 3ms/step - loss: 0.6264 - acc: 0.6828 - val_loss: 0.6206 - val_acc: 0.7004\n",
            "Epoch 30/30\n",
            "18915/18915 [==============================] - 56s 3ms/step - loss: 0.6309 - acc: 0.6829 - val_loss: 0.6210 - val_acc: 0.6911\n"
          ],
          "name": "stdout"
        }
      ]
    },
    {
      "cell_type": "code",
      "metadata": {
        "id": "ZVbz5_xPj2U0",
        "colab_type": "code",
        "outputId": "faa1f612-2dc5-4d9f-a925-e348ba416966",
        "colab": {
          "base_uri": "https://localhost:8080/",
          "height": 709
        }
      },
      "source": [
        "# Get the accuracy and loss graphs for both learning rates\n",
        "loss, accuracy = model_lstm3.evaluate([padded_claim_src_val,padded_art_val,padded_art_src_val], label_val, verbose=False)\n",
        "print(\"Validation Accuracy: {:.4f}\".format(accuracy))\n",
        "loss, accuracy = model_lstm3.evaluate([padded_claim_src_test,padded_art_test,padded_art_src_test],label_test)\n",
        "print(\"Testing Accuracy:  {:.4f}\".format(accuracy))\n",
        "plot_history(history2_01)\n",
        "plot_history(history2)"
      ],
      "execution_count": 0,
      "outputs": [
        {
          "output_type": "stream",
          "text": [
            "Validation Accuracy: 0.7139\n",
            "5912/5912 [==============================] - 7s 1ms/step\n",
            "Testing Accuracy:  0.6964\n"
          ],
          "name": "stdout"
        },
        {
          "output_type": "display_data",
          "data": {
            "image/png": "[encoded data removed]",
            "text/plain": [
              "<Figure size 864x360 with 2 Axes>"
            ]
          },
          "metadata": {
            "tags": []
          }
        },
        {
          "output_type": "display_data",
          "data": {
            "image/png": "[encoded data removed]",
            "text/plain": [
              "<Figure size 864x360 with 2 Axes>"
            ]
          },
          "metadata": {
            "tags": []
          }
        }
      ]
    },
    {
      "cell_type": "code",
      "metadata": {
        "id": "qVB8InB5j46q",
        "colab_type": "code",
        "colab": {}
      },
      "source": [
        "# Predict the test data and get the values as 0 or 1\n",
        "y_pred2 = model_lstm3.predict([padded_claim_src_test,padded_art_test,padded_art_src_test])\n",
        "y_pred_bin2 = get_proper_labels(y_pred2)"
      ],
      "execution_count": 0,
      "outputs": []
    },
    {
      "cell_type": "code",
      "metadata": {
        "id": "P236_tslj7mv",
        "colab_type": "code",
        "outputId": "73195079-6d4b-4356-946b-43a95d1ce8f2",
        "colab": {
          "base_uri": "https://localhost:8080/",
          "height": 699
        }
      },
      "source": [
        "# When lr=0.0001\n",
        "plot_confusion_matrix(label_test,y_pred_bin2,[0,1])\n",
        "plot_confusion_matrix(label_test,y_pred_bin2,[0,1], normalize=True)"
      ],
      "execution_count": 0,
      "outputs": [
        {
          "output_type": "stream",
          "text": [
            "Confusion matrix, without normalization\n",
            "[[2090  828]\n",
            " [ 967 2027]]\n",
            "Normalized confusion matrix\n",
            "[[0.716244   0.283756  ]\n",
            " [0.32297929 0.67702071]]\n"
          ],
          "name": "stdout"
        },
        {
          "output_type": "execute_result",
          "data": {
            "text/plain": [
              "<matplotlib.axes._subplots.AxesSubplot at 0x7f2da6c3b048>"
            ]
          },
          "metadata": {
            "tags": []
          },
          "execution_count": 84
        },
        {
          "output_type": "display_data",
          "data": {
            "image/png": "[encoded data removed]",
            "text/plain": [
              "<Figure size 432x288 with 2 Axes>"
            ]
          },
          "metadata": {
            "tags": []
          }
        },
        {
          "output_type": "display_data",
          "data": {
            "image/png": "[encoded data removed]",
            "text/plain": [
              "<Figure size 432x288 with 2 Axes>"
            ]
          },
          "metadata": {
            "tags": []
          }
        }
      ]
    },
    {
      "cell_type": "code",
      "metadata": {
        "id": "DtVAzAeJbmgO",
        "colab_type": "code",
        "outputId": "61c91afe-50e1-4602-8119-a21e995fceaf",
        "colab": {
          "base_uri": "https://localhost:8080/",
          "height": 277
        }
      },
      "source": [
        "# When lr=0.0001\n",
        "basic_src_p,basc_src_r,basic_src_a,basic_src_f1 = evaluation_summary(\"DeClare-Basic_srcEmb\", y_pred_bin2, label_test)"
      ],
      "execution_count": 0,
      "outputs": [
        {
          "output_type": "stream",
          "text": [
            "Evaluation for: DeClare-Basic_srcEmb\n",
            "Classifier 'DeClare-Basic_srcEmb' has Acc=0.6964 P=0.6966 R=0.6968 F1=0.6963\n",
            "              precision    recall  f1-score   support\n",
            "\n",
            "           0      0.716     0.684     0.700      3057\n",
            "           1      0.677     0.710     0.693      2855\n",
            "\n",
            "    accuracy                          0.696      5912\n",
            "   macro avg      0.697     0.697     0.696      5912\n",
            "weighted avg      0.697     0.696     0.696      5912\n",
            "\n",
            "\n",
            "Confusion matrix:\n",
            " [[2090  828]\n",
            " [ 967 2027]]\n"
          ],
          "name": "stdout"
        }
      ]
    },
    {
      "cell_type": "code",
      "metadata": {
        "id": "Gbrt-DGtbv_N",
        "colab_type": "code",
        "outputId": "9900eff5-8741-4e11-a119-f92513cbb885",
        "colab": {
          "base_uri": "https://localhost:8080/",
          "height": 35
        }
      },
      "source": [
        "# When lr=0.0001\n",
        "fpr, tpr, thresholds = roc_curve(label_test, y_pred_bin2)\n",
        "auc_basic_src = auc(fpr, tpr)\n",
        "print(\"DeClarE Basic_srcEmb AUC-\",auc_basic_src)"
      ],
      "execution_count": 0,
      "outputs": [
        {
          "output_type": "stream",
          "text": [
            "DeClarE Basic_srcEmb AUC- 0.6966323554122181\n"
          ],
          "name": "stdout"
        }
      ]
    },
    {
      "cell_type": "code",
      "metadata": {
        "id": "_hLsczyFj_v6",
        "colab_type": "code",
        "outputId": "7ec0c0ef-cacf-45ba-ad10-3911a7a4a7b0",
        "colab": {
          "base_uri": "https://localhost:8080/",
          "height": 277
        }
      },
      "source": [
        "# When lr=0.002\n",
        "basic_src_p,basc_src_r,basic_src_a,basic_src_f1 = evaluation_summary(\"DeClare-Basic_srcEmb\", y_pred_bin2, label_test)"
      ],
      "execution_count": 0,
      "outputs": [
        {
          "output_type": "stream",
          "text": [
            "Evaluation for: DeClare-Basic_srcEmb\n",
            "Classifier 'DeClare-Basic_srcEmb' has Acc=0.6712 P=0.6723 R=0.6778 F1=0.6690\n",
            "              precision    recall  f1-score   support\n",
            "\n",
            "           0      0.762     0.640     0.696      3474\n",
            "           1      0.582     0.715     0.642      2438\n",
            "\n",
            "    accuracy                          0.671      5912\n",
            "   macro avg      0.672     0.678     0.669      5912\n",
            "weighted avg      0.688     0.671     0.674      5912\n",
            "\n",
            "\n",
            "Confusion matrix:\n",
            " [[2224  694]\n",
            " [1250 1744]]\n"
          ],
          "name": "stdout"
        }
      ]
    },
    {
      "cell_type": "code",
      "metadata": {
        "id": "dLohv8XLkCT9",
        "colab_type": "code",
        "outputId": "638c07ae-3ccd-474e-a5e1-106570ff0ed0",
        "colab": {
          "base_uri": "https://localhost:8080/",
          "height": 35
        }
      },
      "source": [
        "# When lr=0.002\n",
        "fpr, tpr, thresholds = roc_curve(label_test, y_pred_bin2)\n",
        "auc_basic_src = auc(fpr, tpr)\n",
        "print(\"DeClarE Basic_srcEmb AUC-\",auc_basic_src)"
      ],
      "execution_count": 0,
      "outputs": [
        {
          "output_type": "stream",
          "text": [
            "DeClarE Basic_srcEmb AUC- 0.6723320985127669\n"
          ],
          "name": "stdout"
        }
      ]
    },
    {
      "cell_type": "markdown",
      "metadata": {
        "id": "DkRSQ9sLb0eG",
        "colab_type": "text"
      },
      "source": [
        "## DeClarE Full Model (lr=0.002) & (lr=0.0001)"
      ]
    },
    {
      "cell_type": "code",
      "metadata": {
        "id": "wtcwRo5_jFwe",
        "colab_type": "code",
        "outputId": "693b3a57-feab-46aa-b4de-be24deaeb66b",
        "colab": {
          "base_uri": "https://localhost:8080/",
          "height": 1000
        }
      },
      "source": [
        "# From https://github.com/connectsoumya/declare/blob/master/network.py\n",
        "# DeClarE Full\n",
        "from keras.layers import Lambda\n",
        "lstm_op_dim = 50\n",
        "\n",
        "clm_wrd = Input(shape=(max_len_c,))\n",
        "clm_wrd_emb = Embedding(vocab_size, 100, input_length=max_len_c, weights=[embedding_matrix], trainable=False)(clm_wrd) # Claim embedding\n",
        "# Average layer created through a lambda function \n",
        "mean_clm_wrd_emb = Lambda(lambda xin: mean(xin, axis=1))(clm_wrd_emb)\n",
        "mean_clm_wrd_emb_exp = RepeatVector(100)(mean_clm_wrd_emb) # Repeat vector to increase the the output dimensions for flatten\n",
        "mean_clm_wrd_emb_flat = Flatten()(mean_clm_wrd_emb_exp) # Flatten layer\n",
        "\n",
        "art_wrd1 = Input(shape=(max_len_a,))\n",
        "art_wrd_emb1 = Embedding(vocab_size, 100, input_length=max_len_a, weights=[embedding_matrix], trainable=False)(art_wrd1) # Artcle emebdding\n",
        "art_wrd_emb_flat = Flatten()(art_wrd_emb1)\n",
        "\n",
        "ip_to_dense = concatenate(inputs = [mean_clm_wrd_emb_flat, art_wrd_emb_flat]) # concatenate article and claim embedding\n",
        "# Attention mechanism\n",
        "attn_weights = Dense(100, activation='tanh')(ip_to_dense)\n",
        "attn_weights = Activation('softmax')(attn_weights)\n",
        "\n",
        "model_attn_wts = Model(inputs=[clm_wrd, art_wrd1], outputs=attn_weights)\n",
        "# Bi-LSTM on article embedding\n",
        "lstm_op2 = Bidirectional(LSTM(lstm_op_dim, return_sequences=True, recurrent_regularizer=l2(0.00001), kernel_regularizer=l2(0.01)),\n",
        "                         merge_mode='concat')(art_wrd_emb1)\n",
        "model_lstm = Model(inputs=art_wrd1, outputs=lstm_op2)\n",
        "# Dot product between the output of Bi-LSTM and attention mechanism\n",
        "inner_pdt = Dot(axes=-1)([model_attn_wts.output, model_lstm.output])\n",
        "inner_pdt = RepeatVector(3)(inner_pdt)\n",
        "mean_dim = Lambda(lambda xin: mean(xin, axis=-1))(inner_pdt) # Average of the output\n",
        "# Claim source embedding\n",
        "clm_src1 = Input(shape=(max_len_cs,))\n",
        "clm_src_emb1 = Embedding(vocab_size_csrc, 4, input_length=max_len_cs, weights=[embedding_matrix_csrc], trainable=False)(clm_src1)\n",
        "clm_src_emb_flatten1 = Flatten()(clm_src_emb1)\n",
        "# Article source embedding\n",
        "art_src1 = Input(shape = (max_len_as,))\n",
        "art_src_emb1 = Embedding(vocab_size_asrc, 4, input_length=max_len_as, weights=[embedding_matrix_asrc], trainable=False)(art_src1)\n",
        "art_src_emb_flatten1 = Flatten()(art_src_emb1)\n",
        "\n",
        "#Concatenate source embedding with the result of the dot product mean\n",
        "con = concatenate(inputs = [clm_src_emb_flatten1, mean_dim, art_src_emb_flatten1])\n",
        "\n",
        "dense1 = Dense(8, activation='relu',kernel_regularizer=l2(0.01))(con)\n",
        "drop1 = Dropout(rate = 0.2)(dense1)\n",
        "dense1 = Dense(8, activation='relu',kernel_regularizer=l2(0.01))(dense1)\n",
        "dense1 = Dense(1, activation='sigmoid',kernel_regularizer=l2(0.01))(dense1)\n",
        "model_dec2 = Model(inputs=[clm_wrd,art_wrd1,clm_src1,art_src1], outputs=dense1)\n",
        "#adam = Adam(lr=0.002) # Also used on the second run\n",
        "adam = Adam(lr=0.0001)\n",
        "model_dec2.compile(optimizer=adam,\n",
        "                     loss='binary_crossentropy',\n",
        "                     metrics=['accuracy'])\n",
        "print(model_dec2.summary())"
      ],
      "execution_count": 0,
      "outputs": [
        {
          "output_type": "stream",
          "text": [
            "__________________________________________________________________________________________________\n",
            "Layer (type)                    Output Shape         Param #     Connected to                     \n",
            "==================================================================================================\n",
            "input_23 (InputLayer)           (None, 100)          0                                            \n",
            "__________________________________________________________________________________________________\n",
            "embedding_23 (Embedding)        (None, 100, 100)     3152800     input_23[0][0]                   \n",
            "__________________________________________________________________________________________________\n",
            "lambda_9 (Lambda)               (None, 100)          0           embedding_23[0][0]               \n",
            "__________________________________________________________________________________________________\n",
            "input_24 (InputLayer)           (None, 100)          0                                            \n",
            "__________________________________________________________________________________________________\n",
            "repeat_vector_9 (RepeatVector)  (None, 100, 100)     0           lambda_9[0][0]                   \n",
            "__________________________________________________________________________________________________\n",
            "embedding_24 (Embedding)        (None, 100, 100)     3152800     input_24[0][0]                   \n",
            "__________________________________________________________________________________________________\n",
            "flatten_23 (Flatten)            (None, 10000)        0           repeat_vector_9[0][0]            \n",
            "__________________________________________________________________________________________________\n",
            "flatten_24 (Flatten)            (None, 10000)        0           embedding_24[0][0]               \n",
            "__________________________________________________________________________________________________\n",
            "concatenate_8 (Concatenate)     (None, 20000)        0           flatten_23[0][0]                 \n",
            "                                                                 flatten_24[0][0]                 \n",
            "__________________________________________________________________________________________________\n",
            "dense_25 (Dense)                (None, 100)          2000100     concatenate_8[0][0]              \n",
            "__________________________________________________________________________________________________\n",
            "activation_5 (Activation)       (None, 100)          0           dense_25[0][0]                   \n",
            "__________________________________________________________________________________________________\n",
            "bidirectional_9 (Bidirectional) (None, 100, 100)     60400       embedding_24[0][0]               \n",
            "__________________________________________________________________________________________________\n",
            "input_25 (InputLayer)           (None, 4)            0                                            \n",
            "__________________________________________________________________________________________________\n",
            "dot_5 (Dot)                     (None, 100)          0           activation_5[0][0]               \n",
            "                                                                 bidirectional_9[0][0]            \n",
            "__________________________________________________________________________________________________\n",
            "input_26 (InputLayer)           (None, 4)            0                                            \n",
            "__________________________________________________________________________________________________\n",
            "embedding_25 (Embedding)        (None, 4, 4)         3980        input_25[0][0]                   \n",
            "__________________________________________________________________________________________________\n",
            "repeat_vector_10 (RepeatVector) (None, 3, 100)       0           dot_5[0][0]                      \n",
            "__________________________________________________________________________________________________\n",
            "embedding_26 (Embedding)        (None, 4, 4)         14132       input_26[0][0]                   \n",
            "__________________________________________________________________________________________________\n",
            "flatten_25 (Flatten)            (None, 16)           0           embedding_25[0][0]               \n",
            "__________________________________________________________________________________________________\n",
            "lambda_10 (Lambda)              (None, 3)            0           repeat_vector_10[0][0]           \n",
            "__________________________________________________________________________________________________\n",
            "flatten_26 (Flatten)            (None, 16)           0           embedding_26[0][0]               \n",
            "__________________________________________________________________________________________________\n",
            "concatenate_9 (Concatenate)     (None, 35)           0           flatten_25[0][0]                 \n",
            "                                                                 lambda_10[0][0]                  \n",
            "                                                                 flatten_26[0][0]                 \n",
            "__________________________________________________________________________________________________\n",
            "dense_26 (Dense)                (None, 8)            288         concatenate_9[0][0]              \n",
            "__________________________________________________________________________________________________\n",
            "dense_27 (Dense)                (None, 8)            72          dense_26[0][0]                   \n",
            "__________________________________________________________________________________________________\n",
            "dense_28 (Dense)                (None, 1)            9           dense_27[0][0]                   \n",
            "==================================================================================================\n",
            "Total params: 8,384,581\n",
            "Trainable params: 2,060,869\n",
            "Non-trainable params: 6,323,712\n",
            "__________________________________________________________________________________________________\n",
            "None\n"
          ],
          "name": "stdout"
        }
      ]
    },
    {
      "cell_type": "code",
      "metadata": {
        "id": "3pvpwfqwlaL5",
        "colab_type": "code",
        "colab": {}
      },
      "source": [
        "# get the model structure as png\n",
        "plot_model(model_dec2, to_file='declare_full.png')"
      ],
      "execution_count": 0,
      "outputs": []
    },
    {
      "cell_type": "code",
      "metadata": {
        "id": "5AJpMlMGcBxs",
        "colab_type": "code",
        "outputId": "a7005f1d-9b6a-47ee-eb64-b8a6c99d6a67",
        "colab": {
          "base_uri": "https://localhost:8080/",
          "height": 1000
        }
      },
      "source": [
        "# Model training when lr=0.0001\n",
        "history4 = model_dec2.fit([padded_claim,padded_art,padded_claim_src,padded_art_src], label_train,\n",
        "                    epochs=30,\n",
        "                    validation_data=([padded_claim_val,padded_art_val,padded_claim_src_val,padded_art_src_val], label_val),\n",
        "                    batch_size=100)"
      ],
      "execution_count": 0,
      "outputs": [
        {
          "output_type": "stream",
          "text": [
            "Train on 18915 samples, validate on 4729 samples\n",
            "Epoch 1/30\n",
            "18915/18915 [==============================] - 65s 3ms/step - loss: 3.1203 - acc: 0.4718 - val_loss: 2.6782 - val_acc: 0.4720\n",
            "Epoch 2/30\n",
            "18915/18915 [==============================] - 58s 3ms/step - loss: 2.3421 - acc: 0.4806 - val_loss: 2.0391 - val_acc: 0.4819\n",
            "Epoch 3/30\n",
            "18915/18915 [==============================] - 58s 3ms/step - loss: 1.8076 - acc: 0.4927 - val_loss: 1.5993 - val_acc: 0.5050\n",
            "Epoch 4/30\n",
            "18915/18915 [==============================] - 58s 3ms/step - loss: 1.4410 - acc: 0.5411 - val_loss: 1.2999 - val_acc: 0.5585\n",
            "Epoch 5/30\n",
            "18915/18915 [==============================] - 58s 3ms/step - loss: 1.1915 - acc: 0.5810 - val_loss: 1.0985 - val_acc: 0.5678\n",
            "Epoch 6/30\n",
            "18915/18915 [==============================] - 59s 3ms/step - loss: 1.0223 - acc: 0.6236 - val_loss: 0.9621 - val_acc: 0.6096\n",
            "Epoch 7/30\n",
            "18915/18915 [==============================] - 59s 3ms/step - loss: 0.9034 - acc: 0.6733 - val_loss: 0.8680 - val_acc: 0.6240\n",
            "Epoch 8/30\n",
            "18915/18915 [==============================] - 58s 3ms/step - loss: 0.8135 - acc: 0.7117 - val_loss: 0.8024 - val_acc: 0.6534\n",
            "Epoch 9/30\n",
            "18915/18915 [==============================] - 59s 3ms/step - loss: 0.7414 - acc: 0.7484 - val_loss: 0.7598 - val_acc: 0.6684\n",
            "Epoch 10/30\n",
            "18915/18915 [==============================] - 59s 3ms/step - loss: 0.6810 - acc: 0.7815 - val_loss: 0.7384 - val_acc: 0.6722\n",
            "Epoch 11/30\n",
            "18915/18915 [==============================] - 59s 3ms/step - loss: 0.6298 - acc: 0.8094 - val_loss: 0.7259 - val_acc: 0.6731\n",
            "Epoch 12/30\n",
            "18915/18915 [==============================] - 59s 3ms/step - loss: 0.5826 - acc: 0.8405 - val_loss: 0.7143 - val_acc: 0.6786\n",
            "Epoch 13/30\n",
            "18915/18915 [==============================] - 59s 3ms/step - loss: 0.5389 - acc: 0.8667 - val_loss: 0.7166 - val_acc: 0.6805\n",
            "Epoch 14/30\n",
            "18915/18915 [==============================] - 59s 3ms/step - loss: 0.4990 - acc: 0.8874 - val_loss: 0.7295 - val_acc: 0.6782\n",
            "Epoch 15/30\n",
            "18915/18915 [==============================] - 59s 3ms/step - loss: 0.4632 - acc: 0.9045 - val_loss: 0.7331 - val_acc: 0.6790\n",
            "Epoch 16/30\n",
            "18915/18915 [==============================] - 59s 3ms/step - loss: 0.4258 - acc: 0.9220 - val_loss: 0.7492 - val_acc: 0.6782\n",
            "Epoch 17/30\n",
            "18915/18915 [==============================] - 59s 3ms/step - loss: 0.3928 - acc: 0.9353 - val_loss: 0.7617 - val_acc: 0.6737\n",
            "Epoch 18/30\n",
            "18915/18915 [==============================] - 59s 3ms/step - loss: 0.3617 - acc: 0.9486 - val_loss: 0.7793 - val_acc: 0.6746\n",
            "Epoch 19/30\n",
            "18915/18915 [==============================] - 59s 3ms/step - loss: 0.3328 - acc: 0.9588 - val_loss: 0.7818 - val_acc: 0.6794\n",
            "Epoch 20/30\n",
            "18915/18915 [==============================] - 59s 3ms/step - loss: 0.3083 - acc: 0.9659 - val_loss: 0.8189 - val_acc: 0.6714\n",
            "Epoch 21/30\n",
            "18915/18915 [==============================] - 59s 3ms/step - loss: 0.2855 - acc: 0.9731 - val_loss: 0.8267 - val_acc: 0.6743\n",
            "Epoch 22/30\n",
            "18915/18915 [==============================] - 59s 3ms/step - loss: 0.2665 - acc: 0.9794 - val_loss: 0.8416 - val_acc: 0.6727\n",
            "Epoch 23/30\n",
            "18915/18915 [==============================] - 59s 3ms/step - loss: 0.2510 - acc: 0.9836 - val_loss: 0.8462 - val_acc: 0.6790\n",
            "Epoch 24/30\n",
            "18915/18915 [==============================] - 59s 3ms/step - loss: 0.2369 - acc: 0.9870 - val_loss: 0.8708 - val_acc: 0.6733\n",
            "Epoch 25/30\n",
            "18915/18915 [==============================] - 59s 3ms/step - loss: 0.2248 - acc: 0.9896 - val_loss: 0.8789 - val_acc: 0.6763\n",
            "Epoch 26/30\n",
            "18915/18915 [==============================] - 58s 3ms/step - loss: 0.2146 - acc: 0.9915 - val_loss: 0.8845 - val_acc: 0.6792\n",
            "Epoch 27/30\n",
            "18915/18915 [==============================] - 59s 3ms/step - loss: 0.2063 - acc: 0.9930 - val_loss: 0.8921 - val_acc: 0.6777\n",
            "Epoch 28/30\n",
            "18915/18915 [==============================] - 59s 3ms/step - loss: 0.1992 - acc: 0.9943 - val_loss: 0.8929 - val_acc: 0.6748\n",
            "Epoch 29/30\n",
            "18915/18915 [==============================] - 58s 3ms/step - loss: 0.1929 - acc: 0.9956 - val_loss: 0.9053 - val_acc: 0.6782\n",
            "Epoch 30/30\n",
            "18915/18915 [==============================] - 58s 3ms/step - loss: 0.1872 - acc: 0.9964 - val_loss: 0.9204 - val_acc: 0.6782\n"
          ],
          "name": "stdout"
        }
      ]
    },
    {
      "cell_type": "code",
      "metadata": {
        "id": "IaFb9IC7cOGs",
        "colab_type": "code",
        "outputId": "ccbf2323-b9ba-433d-df5a-b6e088e6dc04",
        "colab": {
          "base_uri": "https://localhost:8080/",
          "height": 1000
        }
      },
      "source": [
        "# Model training when lr=0.002\n",
        "history4_02 = model_dec2.fit([padded_claim,padded_art,padded_claim_src,padded_art_src], label_train,\n",
        "                    epochs=30,\n",
        "                    validation_data=([padded_claim_val,padded_art_val,padded_claim_src_val,padded_art_src_val], label_val),\n",
        "                    batch_size=100)"
      ],
      "execution_count": 0,
      "outputs": [
        {
          "output_type": "stream",
          "text": [
            "Train on 18915 samples, validate on 4729 samples\n",
            "Epoch 1/30\n",
            "18915/18915 [==============================] - 64s 3ms/step - loss: 1.0581 - acc: 0.5799 - val_loss: 0.7042 - val_acc: 0.6137\n",
            "Epoch 2/30\n",
            "18915/18915 [==============================] - 59s 3ms/step - loss: 0.6933 - acc: 0.5940 - val_loss: 0.6854 - val_acc: 0.6060\n",
            "Epoch 3/30\n",
            "18915/18915 [==============================] - 59s 3ms/step - loss: 0.6850 - acc: 0.5904 - val_loss: 0.6814 - val_acc: 0.6012\n",
            "Epoch 4/30\n",
            "18915/18915 [==============================] - 59s 3ms/step - loss: 0.6835 - acc: 0.5909 - val_loss: 0.6795 - val_acc: 0.6088\n",
            "Epoch 5/30\n",
            "18915/18915 [==============================] - 59s 3ms/step - loss: 0.6831 - acc: 0.5906 - val_loss: 0.6792 - val_acc: 0.6046\n",
            "Epoch 6/30\n",
            "18915/18915 [==============================] - 59s 3ms/step - loss: 0.6827 - acc: 0.5915 - val_loss: 0.6792 - val_acc: 0.6035\n",
            "Epoch 7/30\n",
            "18915/18915 [==============================] - 59s 3ms/step - loss: 0.6824 - acc: 0.5921 - val_loss: 0.6790 - val_acc: 0.6067\n",
            "Epoch 8/30\n",
            "18915/18915 [==============================] - 59s 3ms/step - loss: 0.6825 - acc: 0.5930 - val_loss: 0.6794 - val_acc: 0.6027\n",
            "Epoch 9/30\n",
            "18915/18915 [==============================] - 59s 3ms/step - loss: 0.6823 - acc: 0.5909 - val_loss: 0.6787 - val_acc: 0.6029\n",
            "Epoch 10/30\n",
            "18915/18915 [==============================] - 59s 3ms/step - loss: 0.6824 - acc: 0.5922 - val_loss: 0.6787 - val_acc: 0.6105\n",
            "Epoch 11/30\n",
            "18915/18915 [==============================] - 59s 3ms/step - loss: 0.6821 - acc: 0.5913 - val_loss: 0.6800 - val_acc: 0.6120\n",
            "Epoch 12/30\n",
            "18915/18915 [==============================] - 59s 3ms/step - loss: 0.6820 - acc: 0.5905 - val_loss: 0.6788 - val_acc: 0.6029\n",
            "Epoch 13/30\n",
            "18915/18915 [==============================] - 59s 3ms/step - loss: 0.6821 - acc: 0.5923 - val_loss: 0.6783 - val_acc: 0.6063\n",
            "Epoch 14/30\n",
            "18915/18915 [==============================] - 59s 3ms/step - loss: 0.6819 - acc: 0.5906 - val_loss: 0.6782 - val_acc: 0.6016\n",
            "Epoch 15/30\n",
            "18915/18915 [==============================] - 59s 3ms/step - loss: 0.6819 - acc: 0.5916 - val_loss: 0.6784 - val_acc: 0.6099\n",
            "Epoch 16/30\n",
            "18915/18915 [==============================] - 59s 3ms/step - loss: 0.6821 - acc: 0.5917 - val_loss: 0.6782 - val_acc: 0.6109\n",
            "Epoch 17/30\n",
            "18915/18915 [==============================] - 59s 3ms/step - loss: 0.6820 - acc: 0.5907 - val_loss: 0.6789 - val_acc: 0.6037\n",
            "Epoch 18/30\n",
            "18915/18915 [==============================] - 59s 3ms/step - loss: 0.6818 - acc: 0.5940 - val_loss: 0.6780 - val_acc: 0.6035\n",
            "Epoch 19/30\n",
            "18915/18915 [==============================] - 60s 3ms/step - loss: 0.6823 - acc: 0.5941 - val_loss: 0.6785 - val_acc: 0.6012\n",
            "Epoch 20/30\n",
            "18915/18915 [==============================] - 59s 3ms/step - loss: 0.6819 - acc: 0.5916 - val_loss: 0.6785 - val_acc: 0.6018\n",
            "Epoch 21/30\n",
            "18915/18915 [==============================] - 59s 3ms/step - loss: 0.6821 - acc: 0.5902 - val_loss: 0.6780 - val_acc: 0.6086\n",
            "Epoch 22/30\n",
            "18915/18915 [==============================] - 59s 3ms/step - loss: 0.6819 - acc: 0.5949 - val_loss: 0.6786 - val_acc: 0.6107\n",
            "Epoch 23/30\n",
            "18915/18915 [==============================] - 59s 3ms/step - loss: 0.6820 - acc: 0.5915 - val_loss: 0.6787 - val_acc: 0.6099\n",
            "Epoch 24/30\n",
            "18915/18915 [==============================] - 60s 3ms/step - loss: 0.6817 - acc: 0.5957 - val_loss: 0.6782 - val_acc: 0.6080\n",
            "Epoch 25/30\n",
            "18915/18915 [==============================] - 59s 3ms/step - loss: 0.6820 - acc: 0.5910 - val_loss: 0.6784 - val_acc: 0.6014\n",
            "Epoch 26/30\n",
            "18915/18915 [==============================] - 59s 3ms/step - loss: 0.6821 - acc: 0.5921 - val_loss: 0.6790 - val_acc: 0.6109\n",
            "Epoch 27/30\n",
            "18915/18915 [==============================] - 59s 3ms/step - loss: 0.6820 - acc: 0.5918 - val_loss: 0.6781 - val_acc: 0.6037\n",
            "Epoch 28/30\n",
            "18915/18915 [==============================] - 59s 3ms/step - loss: 0.6820 - acc: 0.5938 - val_loss: 0.6779 - val_acc: 0.6044\n",
            "Epoch 29/30\n",
            "18915/18915 [==============================] - 59s 3ms/step - loss: 0.6820 - acc: 0.5910 - val_loss: 0.6790 - val_acc: 0.6046\n",
            "Epoch 30/30\n",
            "18915/18915 [==============================] - 59s 3ms/step - loss: 0.6820 - acc: 0.5930 - val_loss: 0.6780 - val_acc: 0.6018\n"
          ],
          "name": "stdout"
        }
      ]
    },
    {
      "cell_type": "code",
      "metadata": {
        "id": "H14DvYBC0n3p",
        "colab_type": "code",
        "outputId": "70800a42-0c34-4e77-931c-eea4c45c9e20",
        "colab": {
          "base_uri": "https://localhost:8080/",
          "height": 709
        }
      },
      "source": [
        "# GEt the loss and accuracy graphs for both learning rates\n",
        "loss, accuracy = model_dec2.evaluate([padded_claim_val,padded_art_val,padded_claim_src_val,padded_art_src_val], label_val, verbose=False)\n",
        "print(\"Validation Accuracy: {:.4f}\".format(accuracy))\n",
        "loss, accuracy = model_dec2.evaluate([padded_claim_test,padded_art_test,padded_claim_src_test,padded_art_src_test],label_test)\n",
        "print(\"Testing Accuracy:  {:.4f}\".format(accuracy))\n",
        "plot_history(history4)\n",
        "plot_history(history4_02)"
      ],
      "execution_count": 0,
      "outputs": [
        {
          "output_type": "stream",
          "text": [
            "Validation Accuracy: 0.6782\n",
            "5912/5912 [==============================] - 8s 1ms/step\n",
            "Testing Accuracy:  0.6768\n"
          ],
          "name": "stdout"
        },
        {
          "output_type": "display_data",
          "data": {
            "image/png": "[encoded data removed]",
            "text/plain": [
              "<Figure size 864x360 with 2 Axes>"
            ]
          },
          "metadata": {
            "tags": []
          }
        },
        {
          "output_type": "display_data",
          "data": {
            "image/png": "[encoded data removed]",
            "text/plain": [
              "<Figure size 864x360 with 2 Axes>"
            ]
          },
          "metadata": {
            "tags": []
          }
        }
      ]
    },
    {
      "cell_type": "code",
      "metadata": {
        "id": "D9TJjIjv0q1A",
        "colab_type": "code",
        "colab": {}
      },
      "source": [
        "# Predict for test data and convert toeithe r0 or 1\n",
        "y_pred4 = model_dec2.predict([padded_claim_test,padded_art_test,padded_claim_src_test,padded_art_src_test])\n",
        "y_pred_bin4 = get_proper_labels(y_pred4)"
      ],
      "execution_count": 0,
      "outputs": []
    },
    {
      "cell_type": "code",
      "metadata": {
        "id": "iUmE1f-OfHzq",
        "colab_type": "code",
        "outputId": "c73f8b0f-7038-4633-b5e2-c45e5c8457fb",
        "colab": {
          "base_uri": "https://localhost:8080/",
          "height": 699
        }
      },
      "source": [
        "#When lr=0.0001\n",
        "plot_confusion_matrix(label_test,y_pred_bin4,[0,1])\n",
        "plot_confusion_matrix(label_test,y_pred_bin4,[0,1], normalize=True)"
      ],
      "execution_count": 0,
      "outputs": [
        {
          "output_type": "stream",
          "text": [
            "Confusion matrix, without normalization\n",
            "[[1995  923]\n",
            " [ 988 2006]]\n",
            "Normalized confusion matrix\n",
            "[[0.68368746 0.31631254]\n",
            " [0.32999332 0.67000668]]\n"
          ],
          "name": "stdout"
        },
        {
          "output_type": "execute_result",
          "data": {
            "text/plain": [
              "<matplotlib.axes._subplots.AxesSubplot at 0x7f2da541a978>"
            ]
          },
          "metadata": {
            "tags": []
          },
          "execution_count": 91
        },
        {
          "output_type": "display_data",
          "data": {
            "image/png": "[encoded data removed]",
            "text/plain": [
              "<Figure size 432x288 with 2 Axes>"
            ]
          },
          "metadata": {
            "tags": []
          }
        },
        {
          "output_type": "display_data",
          "data": {
            "image/png": "[encoded data removed]",
            "text/plain": [
              "<Figure size 432x288 with 2 Axes>"
            ]
          },
          "metadata": {
            "tags": []
          }
        }
      ]
    },
    {
      "cell_type": "code",
      "metadata": {
        "id": "XZyA4590k8S1",
        "colab_type": "code",
        "outputId": "c9ae6cad-99ef-4d76-ae7a-9ef860dad4c7",
        "colab": {
          "base_uri": "https://localhost:8080/",
          "height": 699
        }
      },
      "source": [
        "#When lr=0.002\n",
        "plot_confusion_matrix(label_test,y_pred_bin4,[0,1])\n",
        "plot_confusion_matrix(label_test,y_pred_bin4,[0,1], normalize=True)"
      ],
      "execution_count": 0,
      "outputs": [
        {
          "output_type": "stream",
          "text": [
            "Confusion matrix, without normalization\n",
            "[[1931  987]\n",
            " [1383 1611]]\n",
            "Normalized confusion matrix\n",
            "[[0.66175463 0.33824537]\n",
            " [0.46192385 0.53807615]]\n"
          ],
          "name": "stdout"
        },
        {
          "output_type": "execute_result",
          "data": {
            "text/plain": [
              "<matplotlib.axes._subplots.AxesSubplot at 0x7f2dab7f06a0>"
            ]
          },
          "metadata": {
            "tags": []
          },
          "execution_count": 53
        },
        {
          "output_type": "display_data",
          "data": {
            "image/png": "[encoded data removed]",
            "text/plain": [
              "<Figure size 432x288 with 2 Axes>"
            ]
          },
          "metadata": {
            "tags": []
          }
        },
        {
          "output_type": "display_data",
          "data": {
            "image/png": "[encoded data removed]",
            "text/plain": [
              "<Figure size 432x288 with 2 Axes>"
            ]
          },
          "metadata": {
            "tags": []
          }
        }
      ]
    },
    {
      "cell_type": "code",
      "metadata": {
        "id": "mxjf7FUvetmW",
        "colab_type": "code",
        "outputId": "235297cb-98a1-4ecc-bf52-ee9331332e61",
        "colab": {
          "base_uri": "https://localhost:8080/",
          "height": 277
        }
      },
      "source": [
        "#When lr=0.0001\n",
        "decalre_p,declare_r,declare_a,declare_f1 = evaluation_summary(\"DeClarE-Full\", y_pred_bin4, label_test)"
      ],
      "execution_count": 0,
      "outputs": [
        {
          "output_type": "stream",
          "text": [
            "Evaluation for: DeClarE-Full\n",
            "Classifier 'DeClarE-Full' has Acc=0.6768 P=0.6768 R=0.6768 F1=0.6768\n",
            "              precision    recall  f1-score   support\n",
            "\n",
            "           0      0.684     0.669     0.676      2983\n",
            "           1      0.670     0.685     0.677      2929\n",
            "\n",
            "    accuracy                          0.677      5912\n",
            "   macro avg      0.677     0.677     0.677      5912\n",
            "weighted avg      0.677     0.677     0.677      5912\n",
            "\n",
            "\n",
            "Confusion matrix:\n",
            " [[1995  923]\n",
            " [ 988 2006]]\n"
          ],
          "name": "stdout"
        }
      ]
    },
    {
      "cell_type": "code",
      "metadata": {
        "id": "KzwWH52ne4vM",
        "colab_type": "code",
        "outputId": "e6464d9c-f212-4e39-ef98-e0153fbf0e7d",
        "colab": {
          "base_uri": "https://localhost:8080/",
          "height": 35
        }
      },
      "source": [
        "#When lr=0.0001\n",
        "fpr, tpr, thresholds = roc_curve(label_test, y_pred_bin4)\n",
        "auc_declare = auc(fpr, tpr)\n",
        "print(\"DeClarE Full AUC-\",auc_declare)"
      ],
      "execution_count": 0,
      "outputs": [
        {
          "output_type": "stream",
          "text": [
            "DeClarE Full AUC- 0.6768470685945801\n"
          ],
          "name": "stdout"
        }
      ]
    },
    {
      "cell_type": "code",
      "metadata": {
        "id": "LTuFWVgVk-jh",
        "colab_type": "code",
        "outputId": "c6445f42-93f7-44a2-cf35-b9a7fb55c4c5",
        "colab": {
          "base_uri": "https://localhost:8080/",
          "height": 277
        }
      },
      "source": [
        "#When lr=0.002\n",
        "decalre_p,declare_r,declare_a,declare_f1 = evaluation_summary(\"DeClarE-Full\", y_pred_bin4, label_test)"
      ],
      "execution_count": 0,
      "outputs": [
        {
          "output_type": "stream",
          "text": [
            "Evaluation for: DeClarE-Full\n",
            "Classifier 'DeClarE-Full' has Acc=0.5991 P=0.5999 R=0.6014 F1=0.5979\n",
            "              precision    recall  f1-score   support\n",
            "\n",
            "           0      0.662     0.583     0.620      3314\n",
            "           1      0.538     0.620     0.576      2598\n",
            "\n",
            "    accuracy                          0.599      5912\n",
            "   macro avg      0.600     0.601     0.598      5912\n",
            "weighted avg      0.607     0.599     0.601      5912\n",
            "\n",
            "\n",
            "Confusion matrix:\n",
            " [[1931  987]\n",
            " [1383 1611]]\n"
          ],
          "name": "stdout"
        }
      ]
    },
    {
      "cell_type": "code",
      "metadata": {
        "id": "zFRPuAp9lBtE",
        "colab_type": "code",
        "outputId": "144fdeda-953d-44ad-c02f-4d291e8c2a16",
        "colab": {
          "base_uri": "https://localhost:8080/",
          "height": 35
        }
      },
      "source": [
        "#When lr=0.002\n",
        "fpr, tpr, thresholds = roc_curve(label_test, y_pred_bin4)\n",
        "auc_declare = auc(fpr, tpr)\n",
        "print(\"DeClarE Full AUC-\",auc_declare)"
      ],
      "execution_count": 0,
      "outputs": [
        {
          "output_type": "stream",
          "text": [
            "DeClarE Full AUC- 0.5999153893805432\n"
          ],
          "name": "stdout"
        }
      ]
    },
    {
      "cell_type": "code",
      "metadata": {
        "id": "qAVPpD_AlEpg",
        "colab_type": "code",
        "colab": {}
      },
      "source": [
        "# Visulaisation\n",
        "#Creates and HTML file which show the attention weights visulaization on the article. This code taken from: https://github.com/kaushalshetty/Structured-Self-Attention/blob/master\n",
        "def createHTML(texts, weights, fileName):\n",
        "    \"\"\"\n",
        "    Creates a html file with text heat.\n",
        "\tweights: attention weights for visualizing\n",
        "\ttexts: text on which attention weights are to be visualized\n",
        "    \"\"\"\n",
        "    fileName = \"visualization/\"+fileName\n",
        "    fOut = open(fileName, \"w\", encoding=\"utf-8\")\n",
        "    part1 = \"\"\"\n",
        "    <html lang=\"en\">\n",
        "    <head>\n",
        "    <meta http-equiv=\"content-type\" content=\"text/html; charset=utf-8\">\n",
        "    <style>\n",
        "    body {\n",
        "    font-family: Sans-Serif;\n",
        "    }\n",
        "    </style>\n",
        "    </head>\n",
        "    <body>\n",
        "    <h3>\n",
        "    Heatmaps\n",
        "    </h3>\n",
        "    </body>\n",
        "    <script>\n",
        "    \"\"\"\n",
        "    part2 = \"\"\"\n",
        "    var color = \"255,0,0\";\n",
        "    var ngram_length = 3;\n",
        "    var half_ngram = 1;\n",
        "    for (var k=0; k < any_text.length; k++) {\n",
        "    var tokens = any_text[k].split(\" \");\n",
        "    var intensity = new Array(tokens.length);\n",
        "    var max_intensity = Number.MIN_SAFE_INTEGER;\n",
        "    var min_intensity = Number.MAX_SAFE_INTEGER;\n",
        "    for (var i = 0; i < intensity.length; i++) {\n",
        "    intensity[i] = 0.0;\n",
        "    for (var j = -half_ngram; j < ngram_length-half_ngram; j++) {\n",
        "    if (i+j < intensity.length && i+j > -1) {\n",
        "    intensity[i] += trigram_weights[k][i + j];\n",
        "    }\n",
        "    }\n",
        "    if (i == 0 || i == intensity.length-1) {\n",
        "    intensity[i] /= 2.0;\n",
        "    } else {\n",
        "    intensity[i] /= 3.0;\n",
        "    }\n",
        "    if (intensity[i] > max_intensity) {\n",
        "    max_intensity = intensity[i];\n",
        "    }\n",
        "    if (intensity[i] < min_intensity) {\n",
        "    min_intensity = intensity[i];\n",
        "    }\n",
        "    }\n",
        "    var denominator = max_intensity - min_intensity;\n",
        "    for (var i = 0; i < intensity.length; i++) {\n",
        "    intensity[i] = (intensity[i] - min_intensity) / denominator;\n",
        "    }\n",
        "    if (k%2 == 0) {\n",
        "    var heat_text = \"<p><br><b>Example:</b><br>\";\n",
        "    } else {\n",
        "    var heat_text = \"<b>Example:</b><br>\";\n",
        "    }\n",
        "    var space = \"\";\n",
        "    for (var i = 0; i < tokens.length; i++) {\n",
        "    heat_text += \"<span style='background-color:rgba(\" + color + \",\" + intensity[i] + \")'>\" + space + tokens[i] + \"</span>\";\n",
        "    if (space == \"\") {\n",
        "    space = \" \";\n",
        "    }\n",
        "    }\n",
        "    //heat_text += \"<p>\";\n",
        "    document.body.innerHTML += heat_text;\n",
        "    }\n",
        "    </script>\n",
        "    </html>\"\"\"\n",
        "    putQuote = lambda x: \"\\\"%s\\\"\"%x\n",
        "    textsString = \"var any_text = [%s];\\n\"%(\",\".join(map(putQuote, texts)))\n",
        "    weightsString = \"var trigram_weights = [%s];\\n\"%(\",\".join(map(str,weights)))\n",
        "    fOut.write(part1)\n",
        "    fOut.write(textsString)\n",
        "    fOut.write(weightsString)\n",
        "    fOut.write(part2)\n",
        "    fOut.close()\n",
        "  \n",
        "    return"
      ],
      "execution_count": 0,
      "outputs": []
    },
    {
      "cell_type": "code",
      "metadata": {
        "id": "FLXpBiu2lHh8",
        "colab_type": "code",
        "colab": {}
      },
      "source": [
        "# Create a new directory called visualization \n",
        "!mkdir visualization"
      ],
      "execution_count": 0,
      "outputs": []
    },
    {
      "cell_type": "code",
      "metadata": {
        "id": "kspdos94lKlB",
        "colab_type": "code",
        "colab": {}
      },
      "source": [
        "#Method to process the article and the attention weights then create the HTML file.\n",
        "def visualize_attention(wts,x_test_pad,word_to_id,filename):\n",
        "    wts_add = wts\n",
        "    wts_add_list = wts_add.tolist()\n",
        "    id_to_word = {v:k for k,v in word_to_id.items()}\n",
        "    text= []\n",
        "    for test in x_test_pad:\n",
        "        line=list()\n",
        "        for i in test:\n",
        "          if i == 0.0:\n",
        "            word = '<UNK>'\n",
        "          else:\n",
        "            word = id_to_word.get(i)\n",
        "          line.append(word)\n",
        "        text.append(\" \".join(line))\n",
        "    \n",
        "    createHTML(text, wts_add_list, filename)\n",
        "    print(\"Attention visualization created for {} samples\".format(len(x_test_pad)))\n",
        "    return"
      ],
      "execution_count": 0,
      "outputs": []
    },
    {
      "cell_type": "code",
      "metadata": {
        "id": "okCEharFlNKZ",
        "colab_type": "code",
        "colab": {}
      },
      "source": [
        "# Get the activations of all layers of the model\n",
        "test_last_idx = 15\n",
        "activations = get_activations(model_dec2, [padded_claim_test[:test_last_idx,:],padded_art_test[:test_last_idx,:],\n",
        "                                           padded_claim_src_test[:test_last_idx,:],padded_art_src_test[:test_last_idx,:]])"
      ],
      "execution_count": 0,
      "outputs": []
    },
    {
      "cell_type": "code",
      "metadata": {
        "id": "BgLM4g7MlQBG",
        "colab_type": "code",
        "outputId": "33d2e7db-f927-4cf0-a169-425af61f374b",
        "colab": {
          "base_uri": "https://localhost:8080/",
          "height": 451
        }
      },
      "source": [
        "# Display the layer structures\n",
        "from keract import display_activations\n",
        "display_activations(activations, cmap=\"gray\", save=False)"
      ],
      "execution_count": 0,
      "outputs": [
        {
          "output_type": "stream",
          "text": [
            "input_18:0 (15, 100) -> Skipped. First dimension is not 1.\n",
            "input_19:0 (15, 100) -> Skipped. First dimension is not 1.\n",
            "input_20:0 (15, 4) -> Skipped. First dimension is not 1.\n",
            "input_21:0 (15, 4) -> Skipped. First dimension is not 1.\n",
            "embedding_18/embedding_lookup/Identity:0 (15, 100, 100) -> Skipped. First dimension is not 1.\n",
            "lambda_7/Mean:0 (15, 100) -> Skipped. First dimension is not 1.\n",
            "repeat_vector_7/Tile:0 (15, 100, 100) -> Skipped. First dimension is not 1.\n",
            "embedding_19/embedding_lookup/Identity:0 (15, 100, 100) -> Skipped. First dimension is not 1.\n",
            "flatten_18/Reshape:0 (15, 10000) -> Skipped. First dimension is not 1.\n",
            "flatten_19/Reshape:0 (15, 10000) -> Skipped. First dimension is not 1.\n",
            "concatenate_6/concat:0 (15, 20000) -> Skipped. First dimension is not 1.\n",
            "dense_19/Tanh:0 (15, 100) -> Skipped. First dimension is not 1.\n",
            "activation_4/Softmax:0 (15, 100) -> Skipped. First dimension is not 1.\n",
            "bidirectional_7/concat:0 (15, 100, 100) -> Skipped. First dimension is not 1.\n",
            "dot_4/Squeeze:0 (15, 100) -> Skipped. First dimension is not 1.\n",
            "embedding_20/embedding_lookup/Identity:0 (15, 4, 4) -> Skipped. First dimension is not 1.\n",
            "repeat_vector_8/Tile:0 (15, 3, 100) -> Skipped. First dimension is not 1.\n",
            "embedding_21/embedding_lookup/Identity:0 (15, 4, 4) -> Skipped. First dimension is not 1.\n",
            "flatten_20/Reshape:0 (15, 16) -> Skipped. First dimension is not 1.\n",
            "lambda_8/Mean:0 (15, 3) -> Skipped. First dimension is not 1.\n",
            "flatten_21/Reshape:0 (15, 16) -> Skipped. First dimension is not 1.\n",
            "concatenate_7/concat:0 (15, 35) -> Skipped. First dimension is not 1.\n",
            "dense_20/Relu:0 (15, 8) -> Skipped. First dimension is not 1.\n",
            "dense_21/Relu:0 (15, 8) -> Skipped. First dimension is not 1.\n",
            "dense_22/Sigmoid:0 (15, 1) -> Skipped. First dimension is not 1.\n"
          ],
          "name": "stdout"
        }
      ]
    },
    {
      "cell_type": "code",
      "metadata": {
        "id": "s3XS8yLPlWHt",
        "colab_type": "code",
        "outputId": "8e73e9a2-e939-4425-9472-7e770cdb89c7",
        "colab": {
          "base_uri": "https://localhost:8080/",
          "height": 35
        }
      },
      "source": [
        "# get weights of the activation layer\n",
        "wts = activations.get('activation_4/Softmax:0')\n",
        "wts.shape"
      ],
      "execution_count": 0,
      "outputs": [
        {
          "output_type": "execute_result",
          "data": {
            "text/plain": [
              "(15, 100)"
            ]
          },
          "metadata": {
            "tags": []
          },
          "execution_count": 129
        }
      ]
    },
    {
      "cell_type": "code",
      "metadata": {
        "id": "KE40-fOllXLd",
        "colab_type": "code",
        "outputId": "d4ffa819-60a5-473d-bcc6-d69e936d1fb3",
        "colab": {
          "base_uri": "https://localhost:8080/",
          "height": 35
        }
      },
      "source": [
        "# Create the weight visualization HTML file\n",
        "word_to_id = t.word_index\n",
        "visualize_attention(wts,padded_claim_test[:test_last_idx,:],word_to_id,filename='declare_pol_cl.html')"
      ],
      "execution_count": 0,
      "outputs": [
        {
          "output_type": "stream",
          "text": [
            "Attention visualization created for 15 samples\n"
          ],
          "name": "stdout"
        }
      ]
    },
    {
      "cell_type": "markdown",
      "metadata": {
        "id": "W7HT6Wv5ngq1",
        "colab_type": "text"
      },
      "source": [
        "## Testing for Unique Claims"
      ]
    },
    {
      "cell_type": "markdown",
      "metadata": {
        "id": "IppiZSetAQys",
        "colab_type": "text"
      },
      "source": [
        "Due to the problem of experimental bias introduced into the model, we test the performance of the Hybrid model on unique claims. This bias is introduced because a claim can be associated with many articles and hence can be repeated in traning and test data making it seen data for the model when testing."
      ]
    },
    {
      "cell_type": "code",
      "metadata": {
        "id": "IT2DhrDSUfDG",
        "colab_type": "code",
        "outputId": "9caedabe-4d3d-4136-ad2a-5f8d0bee8f01",
        "colab": {
          "base_uri": "https://localhost:8080/",
          "height": 479
        }
      },
      "source": [
        "# For the Full DeClarE model, when lr = 0.0001\n",
        "input_test['model_pred2'] = y_pred_bin4\n",
        "input_test.head()"
      ],
      "execution_count": 0,
      "outputs": [
        {
          "output_type": "stream",
          "text": [
            "/usr/local/lib/python3.6/dist-packages/ipykernel_launcher.py:1: SettingWithCopyWarning: \n",
            "A value is trying to be set on a copy of a slice from a DataFrame.\n",
            "Try using .loc[row_indexer,col_indexer] = value instead\n",
            "\n",
            "See the caveats in the documentation: http://pandas.pydata.org/pandas-docs/stable/indexing.html#indexing-view-versus-copy\n",
            "  \"\"\"Entry point for launching an IPython kernel.\n"
          ],
          "name": "stderr"
        },
        {
          "output_type": "execute_result",
          "data": {
            "text/html": [
              "<div>\n",
              "<style scoped>\n",
              "    .dataframe tbody tr th:only-of-type {\n",
              "        vertical-align: middle;\n",
              "    }\n",
              "\n",
              "    .dataframe tbody tr th {\n",
              "        vertical-align: top;\n",
              "    }\n",
              "\n",
              "    .dataframe thead th {\n",
              "        text-align: right;\n",
              "    }\n",
              "</style>\n",
              "<table border=\"1\" class=\"dataframe\">\n",
              "  <thead>\n",
              "    <tr style=\"text-align: right;\">\n",
              "      <th></th>\n",
              "      <th>cred_label</th>\n",
              "      <th>claim_id</th>\n",
              "      <th>claim_text</th>\n",
              "      <th>claim_source</th>\n",
              "      <th>article</th>\n",
              "      <th>article_source</th>\n",
              "      <th>pred_bin</th>\n",
              "      <th>model_pred</th>\n",
              "      <th>model_pred2</th>\n",
              "    </tr>\n",
              "  </thead>\n",
              "  <tbody>\n",
              "    <tr>\n",
              "      <th>21584</th>\n",
              "      <td>Half-True</td>\n",
              "      <td>2013_feb_12_barack-obama_barack-obama-touts-ad...</td>\n",
              "      <td>says administration made progress border enfor...</td>\n",
              "      <td>barack obama</td>\n",
              "      <td>obama said the overhaul measure should cut wai...</td>\n",
              "      <td>bna.com</td>\n",
              "      <td>1</td>\n",
              "      <td>1</td>\n",
              "      <td>1</td>\n",
              "    </tr>\n",
              "    <tr>\n",
              "      <th>13380</th>\n",
              "      <td>Mostly True</td>\n",
              "      <td>2008_jul_18_barack-obama_senator-did-you-check...</td>\n",
              "      <td>weve heard talk curbing use fossil fuels nearl...</td>\n",
              "      <td>barack obama</td>\n",
              "      <td>oil in our time in this generation this is a d...</td>\n",
              "      <td>calcars.org</td>\n",
              "      <td>1</td>\n",
              "      <td>1</td>\n",
              "      <td>1</td>\n",
              "    </tr>\n",
              "    <tr>\n",
              "      <th>15592</th>\n",
              "      <td>True</td>\n",
              "      <td>512.json</td>\n",
              "      <td>john mccain decided stand george bush 95 perce...</td>\n",
              "      <td>barack obama</td>\n",
              "      <td>september previewing the battle ahead obama la...</td>\n",
              "      <td>cnn.com</td>\n",
              "      <td>1</td>\n",
              "      <td>1</td>\n",
              "      <td>1</td>\n",
              "    </tr>\n",
              "    <tr>\n",
              "      <th>10646</th>\n",
              "      <td>False</td>\n",
              "      <td>2013_mar_21_harry-reid_harry-reid-says-deficit...</td>\n",
              "      <td>last two years reduced deficit 25 trillion</td>\n",
              "      <td>harry reid</td>\n",
              "      <td>reality check 25 trillion in deficit cuts how ...</td>\n",
              "      <td>cnn.com</td>\n",
              "      <td>0</td>\n",
              "      <td>0</td>\n",
              "      <td>1</td>\n",
              "    </tr>\n",
              "    <tr>\n",
              "      <th>17377</th>\n",
              "      <td>True</td>\n",
              "      <td>2012_oct_05_barack-obama_obama-says-romney-wou...</td>\n",
              "      <td>says mitt romney wants add 2 trillion defense ...</td>\n",
              "      <td>barack obama</td>\n",
              "      <td>how much should we spend on defense has propos...</td>\n",
              "      <td>latimes.com</td>\n",
              "      <td>1</td>\n",
              "      <td>1</td>\n",
              "      <td>1</td>\n",
              "    </tr>\n",
              "  </tbody>\n",
              "</table>\n",
              "</div>"
            ],
            "text/plain": [
              "        cred_label  ... model_pred2\n",
              "21584    Half-True  ...           1\n",
              "13380  Mostly True  ...           1\n",
              "15592         True  ...           1\n",
              "10646        False  ...           1\n",
              "17377         True  ...           1\n",
              "\n",
              "[5 rows x 9 columns]"
            ]
          },
          "metadata": {
            "tags": []
          },
          "execution_count": 94
        }
      ]
    },
    {
      "cell_type": "code",
      "metadata": {
        "id": "9bZhN5BeUluu",
        "colab_type": "code",
        "outputId": "f4cbaf93-073b-4086-93b3-7cfe9e3548cf",
        "colab": {
          "base_uri": "https://localhost:8080/",
          "height": 375
        }
      },
      "source": [
        "# When lr=0.0001\n",
        "unique_test_or2 = input_test[~input_test['claim_text'].isin(input_train_in['claim_text'])]\n",
        "unique_test_or2.head()"
      ],
      "execution_count": 0,
      "outputs": [
        {
          "output_type": "execute_result",
          "data": {
            "text/html": [
              "<div>\n",
              "<style scoped>\n",
              "    .dataframe tbody tr th:only-of-type {\n",
              "        vertical-align: middle;\n",
              "    }\n",
              "\n",
              "    .dataframe tbody tr th {\n",
              "        vertical-align: top;\n",
              "    }\n",
              "\n",
              "    .dataframe thead th {\n",
              "        text-align: right;\n",
              "    }\n",
              "</style>\n",
              "<table border=\"1\" class=\"dataframe\">\n",
              "  <thead>\n",
              "    <tr style=\"text-align: right;\">\n",
              "      <th></th>\n",
              "      <th>cred_label</th>\n",
              "      <th>claim_id</th>\n",
              "      <th>claim_text</th>\n",
              "      <th>claim_source</th>\n",
              "      <th>article</th>\n",
              "      <th>article_source</th>\n",
              "      <th>pred_bin</th>\n",
              "      <th>model_pred</th>\n",
              "      <th>model_pred2</th>\n",
              "    </tr>\n",
              "  </thead>\n",
              "  <tbody>\n",
              "    <tr>\n",
              "      <th>11976</th>\n",
              "      <td>Pants on Fire!</td>\n",
              "      <td>2017_apr_11_sean-spicer_did-adolf-hitler-use-c...</td>\n",
              "      <td>says adolf hitler didnt even using chemical we...</td>\n",
              "      <td>sean spicer</td>\n",
              "      <td>even hitler didnt sink to using chemical weapo...</td>\n",
              "      <td>independent.co.uk</td>\n",
              "      <td>0</td>\n",
              "      <td>0</td>\n",
              "      <td>0</td>\n",
              "    </tr>\n",
              "    <tr>\n",
              "      <th>2760</th>\n",
              "      <td>Half-True</td>\n",
              "      <td>2010_dec_03_michael-steele_rnc-chair-michael-s...</td>\n",
              "      <td>elections chairman since 1938</td>\n",
              "      <td>michael steele</td>\n",
              "      <td>strengthening constitutional publications the ...</td>\n",
              "      <td>ashbrook.org</td>\n",
              "      <td>1</td>\n",
              "      <td>0</td>\n",
              "      <td>0</td>\n",
              "    </tr>\n",
              "    <tr>\n",
              "      <th>24400</th>\n",
              "      <td>False</td>\n",
              "      <td>2011_jun_28_jim-demint_jim-demint-says-federal...</td>\n",
              "      <td>weve got revenue ever</td>\n",
              "      <td>jim demint</td>\n",
              "      <td>12th out of 13 conference usa athletic departm...</td>\n",
              "      <td>hattiesburgamerican.com</td>\n",
              "      <td>0</td>\n",
              "      <td>1</td>\n",
              "      <td>1</td>\n",
              "    </tr>\n",
              "    <tr>\n",
              "      <th>8775</th>\n",
              "      <td>False</td>\n",
              "      <td>2010_nov_11_rand-paul_rand-paul-says-federal-w...</td>\n",
              "      <td>average federal employee makes year average pr...</td>\n",
              "      <td>rand paul</td>\n",
              "      <td>represent federal workers say on average they ...</td>\n",
              "      <td>factcheck.org</td>\n",
              "      <td>0</td>\n",
              "      <td>1</td>\n",
              "      <td>1</td>\n",
              "    </tr>\n",
              "    <tr>\n",
              "      <th>15203</th>\n",
              "      <td>False</td>\n",
              "      <td>2011_jan_07_steny-hoyer_steny-hoyer-says-gop-d...</td>\n",
              "      <td>preparing rules package 112th congress gop no ...</td>\n",
              "      <td>steny hoyer</td>\n",
              "      <td>online ahead of a slated jan 4 organizational ...</td>\n",
              "      <td>washingtonpost.com</td>\n",
              "      <td>0</td>\n",
              "      <td>0</td>\n",
              "      <td>0</td>\n",
              "    </tr>\n",
              "  </tbody>\n",
              "</table>\n",
              "</div>"
            ],
            "text/plain": [
              "           cred_label  ... model_pred2\n",
              "11976  Pants on Fire!  ...           0\n",
              "2760        Half-True  ...           0\n",
              "24400           False  ...           1\n",
              "8775            False  ...           1\n",
              "15203           False  ...           0\n",
              "\n",
              "[5 rows x 9 columns]"
            ]
          },
          "metadata": {
            "tags": []
          },
          "execution_count": 95
        }
      ]
    },
    {
      "cell_type": "code",
      "metadata": {
        "id": "_YqCOMTUUpbm",
        "colab_type": "code",
        "outputId": "ed56efb6-80b0-4a6b-9013-e80d9b5900fb",
        "colab": {
          "base_uri": "https://localhost:8080/",
          "height": 699
        }
      },
      "source": [
        "# When lr = 0.0001\n",
        "bin_pred2=unique_test_or2['pred_bin'].tolist()\n",
        "pred_val2=unique_test_or2['model_pred2'].tolist()\n",
        "plot_confusion_matrix(bin_pred2,pred_val2,[0,1])\n",
        "plot_confusion_matrix(bin_pred2,pred_val2,[0,1], normalize=True)"
      ],
      "execution_count": 0,
      "outputs": [
        {
          "output_type": "stream",
          "text": [
            "Confusion matrix, without normalization\n",
            "[[56 38]\n",
            " [35 30]]\n",
            "Normalized confusion matrix\n",
            "[[0.59574468 0.40425532]\n",
            " [0.53846154 0.46153846]]\n"
          ],
          "name": "stdout"
        },
        {
          "output_type": "execute_result",
          "data": {
            "text/plain": [
              "<matplotlib.axes._subplots.AxesSubplot at 0x7f2da5627240>"
            ]
          },
          "metadata": {
            "tags": []
          },
          "execution_count": 96
        },
        {
          "output_type": "display_data",
          "data": {
            "image/png": "[encoded data removed]",
            "text/plain": [
              "<Figure size 432x288 with 2 Axes>"
            ]
          },
          "metadata": {
            "tags": []
          }
        },
        {
          "output_type": "display_data",
          "data": {
            "image/png": "[encoded data removed]",
            "text/plain": [
              "<Figure size 432x288 with 2 Axes>"
            ]
          },
          "metadata": {
            "tags": []
          }
        }
      ]
    },
    {
      "cell_type": "code",
      "metadata": {
        "id": "dt9FZkNjUz-C",
        "colab_type": "code",
        "outputId": "97fe21d5-2132-4328-b726-df5a3d6ebb90",
        "colab": {
          "base_uri": "https://localhost:8080/",
          "height": 277
        }
      },
      "source": [
        "# When lr =0.0001\n",
        "uq_p,uq_r,uq_a,uq_f1 = evaluation_summary(\"Self Attention-Full\", pred_val2, bin_pred2)"
      ],
      "execution_count": 0,
      "outputs": [
        {
          "output_type": "stream",
          "text": [
            "Evaluation for: Self Attention-Full\n",
            "Classifier 'Self Attention-Full' has Acc=0.5409 P=0.5286 R=0.5283 F1=0.5283\n",
            "              precision    recall  f1-score   support\n",
            "\n",
            "           0      0.596     0.615     0.605        91\n",
            "           1      0.462     0.441     0.451        68\n",
            "\n",
            "    accuracy                          0.541       159\n",
            "   macro avg      0.529     0.528     0.528       159\n",
            "weighted avg      0.538     0.541     0.539       159\n",
            "\n",
            "\n",
            "Confusion matrix:\n",
            " [[56 38]\n",
            " [35 30]]\n"
          ],
          "name": "stdout"
        }
      ]
    },
    {
      "cell_type": "code",
      "metadata": {
        "id": "zxzg_wakU7VD",
        "colab_type": "code",
        "outputId": "473ef8a9-a33a-4d54-ba84-9202e2b5a9a5",
        "colab": {
          "base_uri": "https://localhost:8080/",
          "height": 35
        }
      },
      "source": [
        "# When lr=0.0001\n",
        "fpr, tpr, thresholds = roc_curve(bin_pred2, pred_val2)\n",
        "auc_basic = auc(fpr, tpr)\n",
        "print(\"Self Attention-Full AUC-\",auc_basic)"
      ],
      "execution_count": 0,
      "outputs": [
        {
          "output_type": "stream",
          "text": [
            "Self Attention-Full AUC- 0.5286415711947627\n"
          ],
          "name": "stdout"
        }
      ]
    },
    {
      "cell_type": "code",
      "metadata": {
        "id": "SbgawmEFnk9G",
        "colab_type": "code",
        "outputId": "3f68b6aa-6f1b-4796-cd13-e983ff0b356d",
        "colab": {
          "base_uri": "https://localhost:8080/",
          "height": 410
        }
      },
      "source": [
        "# DeClarE Full model when lr = 0.002\n",
        "input_test['model_pred'] = y_pred_bin4\n",
        "input_test.head()"
      ],
      "execution_count": 0,
      "outputs": [
        {
          "output_type": "stream",
          "text": [
            "/usr/local/lib/python3.6/dist-packages/ipykernel_launcher.py:1: SettingWithCopyWarning: \n",
            "A value is trying to be set on a copy of a slice from a DataFrame.\n",
            "Try using .loc[row_indexer,col_indexer] = value instead\n",
            "\n",
            "See the caveats in the documentation: http://pandas.pydata.org/pandas-docs/stable/indexing.html#indexing-view-versus-copy\n",
            "  \"\"\"Entry point for launching an IPython kernel.\n"
          ],
          "name": "stderr"
        },
        {
          "output_type": "execute_result",
          "data": {
            "text/html": [
              "<div>\n",
              "<style scoped>\n",
              "    .dataframe tbody tr th:only-of-type {\n",
              "        vertical-align: middle;\n",
              "    }\n",
              "\n",
              "    .dataframe tbody tr th {\n",
              "        vertical-align: top;\n",
              "    }\n",
              "\n",
              "    .dataframe thead th {\n",
              "        text-align: right;\n",
              "    }\n",
              "</style>\n",
              "<table border=\"1\" class=\"dataframe\">\n",
              "  <thead>\n",
              "    <tr style=\"text-align: right;\">\n",
              "      <th></th>\n",
              "      <th>cred_label</th>\n",
              "      <th>claim_id</th>\n",
              "      <th>claim_text</th>\n",
              "      <th>claim_source</th>\n",
              "      <th>article</th>\n",
              "      <th>article_source</th>\n",
              "      <th>pred_bin</th>\n",
              "      <th>model_pred</th>\n",
              "    </tr>\n",
              "  </thead>\n",
              "  <tbody>\n",
              "    <tr>\n",
              "      <th>21584</th>\n",
              "      <td>Half-True</td>\n",
              "      <td>2013_feb_12_barack-obama_barack-obama-touts-ad...</td>\n",
              "      <td>says administration made progress border enfor...</td>\n",
              "      <td>barack obama</td>\n",
              "      <td>obama said the overhaul measure should cut wai...</td>\n",
              "      <td>bna.com</td>\n",
              "      <td>1</td>\n",
              "      <td>1</td>\n",
              "    </tr>\n",
              "    <tr>\n",
              "      <th>13380</th>\n",
              "      <td>Mostly True</td>\n",
              "      <td>2008_jul_18_barack-obama_senator-did-you-check...</td>\n",
              "      <td>weve heard talk curbing use fossil fuels nearl...</td>\n",
              "      <td>barack obama</td>\n",
              "      <td>oil in our time in this generation this is a d...</td>\n",
              "      <td>calcars.org</td>\n",
              "      <td>1</td>\n",
              "      <td>1</td>\n",
              "    </tr>\n",
              "    <tr>\n",
              "      <th>15592</th>\n",
              "      <td>True</td>\n",
              "      <td>512.json</td>\n",
              "      <td>john mccain decided stand george bush 95 perce...</td>\n",
              "      <td>barack obama</td>\n",
              "      <td>september previewing the battle ahead obama la...</td>\n",
              "      <td>cnn.com</td>\n",
              "      <td>1</td>\n",
              "      <td>1</td>\n",
              "    </tr>\n",
              "    <tr>\n",
              "      <th>10646</th>\n",
              "      <td>False</td>\n",
              "      <td>2013_mar_21_harry-reid_harry-reid-says-deficit...</td>\n",
              "      <td>last two years reduced deficit 25 trillion</td>\n",
              "      <td>harry reid</td>\n",
              "      <td>reality check 25 trillion in deficit cuts how ...</td>\n",
              "      <td>cnn.com</td>\n",
              "      <td>0</td>\n",
              "      <td>0</td>\n",
              "    </tr>\n",
              "    <tr>\n",
              "      <th>17377</th>\n",
              "      <td>True</td>\n",
              "      <td>2012_oct_05_barack-obama_obama-says-romney-wou...</td>\n",
              "      <td>says mitt romney wants add 2 trillion defense ...</td>\n",
              "      <td>barack obama</td>\n",
              "      <td>how much should we spend on defense has propos...</td>\n",
              "      <td>latimes.com</td>\n",
              "      <td>1</td>\n",
              "      <td>1</td>\n",
              "    </tr>\n",
              "  </tbody>\n",
              "</table>\n",
              "</div>"
            ],
            "text/plain": [
              "        cred_label  ... model_pred\n",
              "21584    Half-True  ...          1\n",
              "13380  Mostly True  ...          1\n",
              "15592         True  ...          1\n",
              "10646        False  ...          0\n",
              "17377         True  ...          1\n",
              "\n",
              "[5 rows x 8 columns]"
            ]
          },
          "metadata": {
            "tags": []
          },
          "execution_count": 58
        }
      ]
    },
    {
      "cell_type": "code",
      "metadata": {
        "id": "RNTdiBYunrZt",
        "colab_type": "code",
        "outputId": "d75ea887-1ecf-48fd-f844-5689c222b8a0",
        "colab": {
          "base_uri": "https://localhost:8080/",
          "height": 358
        }
      },
      "source": [
        "# When lr=0.002\n",
        "unique_test_or = input_test[~input_test['claim_text'].isin(input_train_in['claim_text'])]\n",
        "unique_test_or.head()"
      ],
      "execution_count": 0,
      "outputs": [
        {
          "output_type": "execute_result",
          "data": {
            "text/html": [
              "<div>\n",
              "<style scoped>\n",
              "    .dataframe tbody tr th:only-of-type {\n",
              "        vertical-align: middle;\n",
              "    }\n",
              "\n",
              "    .dataframe tbody tr th {\n",
              "        vertical-align: top;\n",
              "    }\n",
              "\n",
              "    .dataframe thead th {\n",
              "        text-align: right;\n",
              "    }\n",
              "</style>\n",
              "<table border=\"1\" class=\"dataframe\">\n",
              "  <thead>\n",
              "    <tr style=\"text-align: right;\">\n",
              "      <th></th>\n",
              "      <th>cred_label</th>\n",
              "      <th>claim_id</th>\n",
              "      <th>claim_text</th>\n",
              "      <th>claim_source</th>\n",
              "      <th>article</th>\n",
              "      <th>article_source</th>\n",
              "      <th>pred_bin</th>\n",
              "      <th>model_pred</th>\n",
              "    </tr>\n",
              "  </thead>\n",
              "  <tbody>\n",
              "    <tr>\n",
              "      <th>11976</th>\n",
              "      <td>Pants on Fire!</td>\n",
              "      <td>2017_apr_11_sean-spicer_did-adolf-hitler-use-c...</td>\n",
              "      <td>says adolf hitler didnt even using chemical we...</td>\n",
              "      <td>sean spicer</td>\n",
              "      <td>even hitler didnt sink to using chemical weapo...</td>\n",
              "      <td>independent.co.uk</td>\n",
              "      <td>0</td>\n",
              "      <td>0</td>\n",
              "    </tr>\n",
              "    <tr>\n",
              "      <th>2760</th>\n",
              "      <td>Half-True</td>\n",
              "      <td>2010_dec_03_michael-steele_rnc-chair-michael-s...</td>\n",
              "      <td>elections chairman since 1938</td>\n",
              "      <td>michael steele</td>\n",
              "      <td>strengthening constitutional publications the ...</td>\n",
              "      <td>ashbrook.org</td>\n",
              "      <td>1</td>\n",
              "      <td>0</td>\n",
              "    </tr>\n",
              "    <tr>\n",
              "      <th>24400</th>\n",
              "      <td>False</td>\n",
              "      <td>2011_jun_28_jim-demint_jim-demint-says-federal...</td>\n",
              "      <td>weve got revenue ever</td>\n",
              "      <td>jim demint</td>\n",
              "      <td>12th out of 13 conference usa athletic departm...</td>\n",
              "      <td>hattiesburgamerican.com</td>\n",
              "      <td>0</td>\n",
              "      <td>1</td>\n",
              "    </tr>\n",
              "    <tr>\n",
              "      <th>8775</th>\n",
              "      <td>False</td>\n",
              "      <td>2010_nov_11_rand-paul_rand-paul-says-federal-w...</td>\n",
              "      <td>average federal employee makes year average pr...</td>\n",
              "      <td>rand paul</td>\n",
              "      <td>represent federal workers say on average they ...</td>\n",
              "      <td>factcheck.org</td>\n",
              "      <td>0</td>\n",
              "      <td>1</td>\n",
              "    </tr>\n",
              "    <tr>\n",
              "      <th>15203</th>\n",
              "      <td>False</td>\n",
              "      <td>2011_jan_07_steny-hoyer_steny-hoyer-says-gop-d...</td>\n",
              "      <td>preparing rules package 112th congress gop no ...</td>\n",
              "      <td>steny hoyer</td>\n",
              "      <td>online ahead of a slated jan 4 organizational ...</td>\n",
              "      <td>washingtonpost.com</td>\n",
              "      <td>0</td>\n",
              "      <td>0</td>\n",
              "    </tr>\n",
              "  </tbody>\n",
              "</table>\n",
              "</div>"
            ],
            "text/plain": [
              "           cred_label  ... model_pred\n",
              "11976  Pants on Fire!  ...          0\n",
              "2760        Half-True  ...          0\n",
              "24400           False  ...          1\n",
              "8775            False  ...          1\n",
              "15203           False  ...          0\n",
              "\n",
              "[5 rows x 8 columns]"
            ]
          },
          "metadata": {
            "tags": []
          },
          "execution_count": 59
        }
      ]
    },
    {
      "cell_type": "code",
      "metadata": {
        "id": "D3RkjQnynye1",
        "colab_type": "code",
        "outputId": "4c96a605-2781-4436-89a9-1ee7d0b15cf2",
        "colab": {
          "base_uri": "https://localhost:8080/",
          "height": 699
        }
      },
      "source": [
        "# When lr=0.002\n",
        "bin_pred=unique_test_or['pred_bin'].tolist()\n",
        "pred_val=unique_test_or['model_pred'].tolist()\n",
        "plot_confusion_matrix(bin_pred,pred_val,[0,1])\n",
        "plot_confusion_matrix(bin_pred,pred_val,[0,1], normalize=True)"
      ],
      "execution_count": 0,
      "outputs": [
        {
          "output_type": "stream",
          "text": [
            "Confusion matrix, without normalization\n",
            "[[59 35]\n",
            " [29 36]]\n",
            "Normalized confusion matrix\n",
            "[[0.62765957 0.37234043]\n",
            " [0.44615385 0.55384615]]\n"
          ],
          "name": "stdout"
        },
        {
          "output_type": "execute_result",
          "data": {
            "text/plain": [
              "<matplotlib.axes._subplots.AxesSubplot at 0x7f2dab887320>"
            ]
          },
          "metadata": {
            "tags": []
          },
          "execution_count": 60
        },
        {
          "output_type": "display_data",
          "data": {
            "image/png": "[encoded data removed]",
            "text/plain": [
              "<Figure size 432x288 with 2 Axes>"
            ]
          },
          "metadata": {
            "tags": []
          }
        },
        {
          "output_type": "display_data",
          "data": {
            "image/png": "[encoded data removed]",
            "text/plain": [
              "<Figure size 432x288 with 2 Axes>"
            ]
          },
          "metadata": {
            "tags": []
          }
        }
      ]
    },
    {
      "cell_type": "code",
      "metadata": {
        "id": "SbcPrcqfn00m",
        "colab_type": "code",
        "outputId": "9c78072e-ec84-4488-f690-20d678cdfd3f",
        "colab": {
          "base_uri": "https://localhost:8080/",
          "height": 277
        }
      },
      "source": [
        "# When lr=0.002\n",
        "uq_p,uq_r,uq_a,uq_f1 = evaluation_summary(\"Self Attention-Full\", pred_val, bin_pred)"
      ],
      "execution_count": 0,
      "outputs": [
        {
          "output_type": "stream",
          "text": [
            "Evaluation for: Self Attention-Full\n",
            "Classifier 'Self Attention-Full' has Acc=0.5975 P=0.5908 R=0.5887 F1=0.5889\n",
            "              precision    recall  f1-score   support\n",
            "\n",
            "           0      0.628     0.670     0.648        88\n",
            "           1      0.554     0.507     0.529        71\n",
            "\n",
            "    accuracy                          0.597       159\n",
            "   macro avg      0.591     0.589     0.589       159\n",
            "weighted avg      0.595     0.597     0.595       159\n",
            "\n",
            "\n",
            "Confusion matrix:\n",
            " [[59 35]\n",
            " [29 36]]\n"
          ],
          "name": "stdout"
        }
      ]
    },
    {
      "cell_type": "code",
      "metadata": {
        "id": "wIzF2FkQn3lW",
        "colab_type": "code",
        "outputId": "3bf18f27-19a8-45f7-b5b2-b8d9e7ad7257",
        "colab": {
          "base_uri": "https://localhost:8080/",
          "height": 35
        }
      },
      "source": [
        "# When lr=0.002\n",
        "fpr, tpr, thresholds = roc_curve(bin_pred, pred_val)\n",
        "auc_basic = auc(fpr, tpr)\n",
        "print(\"Self Attention-Full AUC-\",auc_basic)"
      ],
      "execution_count": 0,
      "outputs": [
        {
          "output_type": "stream",
          "text": [
            "Self Attention-Full AUC- 0.5907528641571195\n"
          ],
          "name": "stdout"
        }
      ]
    },
    {
      "cell_type": "code",
      "metadata": {
        "id": "q12f0j0tn6Yy",
        "colab_type": "code",
        "outputId": "f483478a-5549-4081-c524-ca952214c506",
        "colab": {
          "base_uri": "https://localhost:8080/",
          "height": 225
        }
      },
      "source": [
        "# Get the statistics of the unique claims\n",
        "label_counts = unique_test_or['pred_bin'].value_counts()\n",
        "print(label_counts.describe())\n",
        "top_labels = label_counts.nlargest(5)\n",
        "top_labels_list = top_labels.index.tolist()\n",
        "print(top_labels)"
      ],
      "execution_count": 0,
      "outputs": [
        {
          "output_type": "stream",
          "text": [
            "count     2.000000\n",
            "mean     79.500000\n",
            "std      20.506097\n",
            "min      65.000000\n",
            "25%      72.250000\n",
            "50%      79.500000\n",
            "75%      86.750000\n",
            "max      94.000000\n",
            "Name: pred_bin, dtype: float64\n",
            "0    94\n",
            "1    65\n",
            "Name: pred_bin, dtype: int64\n"
          ],
          "name": "stdout"
        }
      ]
    },
    {
      "cell_type": "code",
      "metadata": {
        "id": "dAo8yDWYn9Cn",
        "colab_type": "code",
        "outputId": "3171df8c-d50b-4bda-90a0-73f18fcaf8b5",
        "colab": {
          "base_uri": "https://localhost:8080/",
          "height": 1000
        }
      },
      "source": [
        "incorrect = unique_test_or[unique_test_or['pred_bin']!=unique_test_or['model_pred'].astype(int)]\n",
        "incorrect"
      ],
      "execution_count": 0,
      "outputs": [
        {
          "output_type": "execute_result",
          "data": {
            "text/html": [
              "<div>\n",
              "<style scoped>\n",
              "    .dataframe tbody tr th:only-of-type {\n",
              "        vertical-align: middle;\n",
              "    }\n",
              "\n",
              "    .dataframe tbody tr th {\n",
              "        vertical-align: top;\n",
              "    }\n",
              "\n",
              "    .dataframe thead th {\n",
              "        text-align: right;\n",
              "    }\n",
              "</style>\n",
              "<table border=\"1\" class=\"dataframe\">\n",
              "  <thead>\n",
              "    <tr style=\"text-align: right;\">\n",
              "      <th></th>\n",
              "      <th>cred_label</th>\n",
              "      <th>claim_id</th>\n",
              "      <th>claim_text</th>\n",
              "      <th>claim_source</th>\n",
              "      <th>article</th>\n",
              "      <th>article_source</th>\n",
              "      <th>pred_bin</th>\n",
              "      <th>model_pred</th>\n",
              "    </tr>\n",
              "  </thead>\n",
              "  <tbody>\n",
              "    <tr>\n",
              "      <th>2760</th>\n",
              "      <td>Half-True</td>\n",
              "      <td>2010_dec_03_michael-steele_rnc-chair-michael-s...</td>\n",
              "      <td>elections chairman since 1938</td>\n",
              "      <td>michael steele</td>\n",
              "      <td>strengthening constitutional publications the ...</td>\n",
              "      <td>ashbrook.org</td>\n",
              "      <td>1</td>\n",
              "      <td>0</td>\n",
              "    </tr>\n",
              "    <tr>\n",
              "      <th>24400</th>\n",
              "      <td>False</td>\n",
              "      <td>2011_jun_28_jim-demint_jim-demint-says-federal...</td>\n",
              "      <td>weve got revenue ever</td>\n",
              "      <td>jim demint</td>\n",
              "      <td>12th out of 13 conference usa athletic departm...</td>\n",
              "      <td>hattiesburgamerican.com</td>\n",
              "      <td>0</td>\n",
              "      <td>1</td>\n",
              "    </tr>\n",
              "    <tr>\n",
              "      <th>8775</th>\n",
              "      <td>False</td>\n",
              "      <td>2010_nov_11_rand-paul_rand-paul-says-federal-w...</td>\n",
              "      <td>average federal employee makes year average pr...</td>\n",
              "      <td>rand paul</td>\n",
              "      <td>represent federal workers say on average they ...</td>\n",
              "      <td>factcheck.org</td>\n",
              "      <td>0</td>\n",
              "      <td>1</td>\n",
              "    </tr>\n",
              "    <tr>\n",
              "      <th>24968</th>\n",
              "      <td>Mostly True</td>\n",
              "      <td>2011_feb_22_donna-brazile_donna-brazile-said-w...</td>\n",
              "      <td>wisconsin governor proposed tax giveaways corp...</td>\n",
              "      <td>donna brazile</td>\n",
              "      <td>value of future dollars meaning the real dolla...</td>\n",
              "      <td>isthmus.com</td>\n",
              "      <td>1</td>\n",
              "      <td>0</td>\n",
              "    </tr>\n",
              "    <tr>\n",
              "      <th>4483</th>\n",
              "      <td>Mostly False</td>\n",
              "      <td>2011_jun_24_tim-pawlenty_pawlenty-says-obama-g...</td>\n",
              "      <td>says president barack obama promised would cut...</td>\n",
              "      <td>tim pawlenty</td>\n",
              "      <td>long after that that i lost interest i would r...</td>\n",
              "      <td>wordpress.com</td>\n",
              "      <td>0</td>\n",
              "      <td>1</td>\n",
              "    </tr>\n",
              "    <tr>\n",
              "      <th>20475</th>\n",
              "      <td>Half-True</td>\n",
              "      <td>2009_jul_30_bill-pascrell_pascrell-says-53-per...</td>\n",
              "      <td>53 percent americans cut back health care last...</td>\n",
              "      <td>bill pascrell</td>\n",
              "      <td>before their natural deaths as the dutch data ...</td>\n",
              "      <td>nejm.org</td>\n",
              "      <td>1</td>\n",
              "      <td>0</td>\n",
              "    </tr>\n",
              "    <tr>\n",
              "      <th>627</th>\n",
              "      <td>Mostly True</td>\n",
              "      <td>2007_aug_23_john-edwards_correct-but-he-uses-t...</td>\n",
              "      <td>estimated 56 million americans dont bank accounts</td>\n",
              "      <td>john edwards</td>\n",
              "      <td>missing assets unclaimed pension and retiremen...</td>\n",
              "      <td>missingassets.com</td>\n",
              "      <td>1</td>\n",
              "      <td>0</td>\n",
              "    </tr>\n",
              "    <tr>\n",
              "      <th>2786</th>\n",
              "      <td>Pants on Fire!</td>\n",
              "      <td>2010_dec_16_tim-pawlenty_tim-pawlenty-repeats-...</td>\n",
              "      <td>since january 2008 private sector lost nearly ...</td>\n",
              "      <td>tim pawlenty</td>\n",
              "      <td>up to 24 days of unpaid furlough days while ou...</td>\n",
              "      <td>chicagotribune.com</td>\n",
              "      <td>0</td>\n",
              "      <td>1</td>\n",
              "    </tr>\n",
              "    <tr>\n",
              "      <th>8995</th>\n",
              "      <td>Mostly False</td>\n",
              "      <td>2012_sep_14_mitt-romney_romney-claims-5-studie...</td>\n",
              "      <td>says five studies show tax plan cut rates stil...</td>\n",
              "      <td>mitt romney</td>\n",
              "      <td>0 points 5 years ago 3 children this is semant...</td>\n",
              "      <td>reddit.com</td>\n",
              "      <td>0</td>\n",
              "      <td>1</td>\n",
              "    </tr>\n",
              "    <tr>\n",
              "      <th>17132</th>\n",
              "      <td>Half-True</td>\n",
              "      <td>2017_nov_30_kevin-brady_does-70-percent-tax-bi...</td>\n",
              "      <td>house republican bill 70 percent tax relief go...</td>\n",
              "      <td>kevin brady</td>\n",
              "      <td>50 percent in 2027 and if you factor in the im...</td>\n",
              "      <td>mystatesman.com</td>\n",
              "      <td>1</td>\n",
              "      <td>0</td>\n",
              "    </tr>\n",
              "    <tr>\n",
              "      <th>8517</th>\n",
              "      <td>Mostly False</td>\n",
              "      <td>2012_sep_28_bill-clinton_bill-clinton-says-tar...</td>\n",
              "      <td>says government gotten tarp money back plus pr...</td>\n",
              "      <td>bill clinton</td>\n",
              "      <td>and 2 billion to stabilize multifamily propert...</td>\n",
              "      <td>reason.org</td>\n",
              "      <td>0</td>\n",
              "      <td>1</td>\n",
              "    </tr>\n",
              "    <tr>\n",
              "      <th>16958</th>\n",
              "      <td>Half-True</td>\n",
              "      <td>2012_jun_05_eric-fehrnstrom_mitt-romney-campai...</td>\n",
              "      <td>massachusetts gov mitt romney initially ranked...</td>\n",
              "      <td>eric fehrnstrom</td>\n",
              "      <td>rated the claim half true saying that while th...</td>\n",
              "      <td>newsadvance.com</td>\n",
              "      <td>1</td>\n",
              "      <td>0</td>\n",
              "    </tr>\n",
              "    <tr>\n",
              "      <th>5583</th>\n",
              "      <td>False</td>\n",
              "      <td>2011_may_11_barack-obama_barack-obama-says-us-...</td>\n",
              "      <td>president barack obama united states doubled e...</td>\n",
              "      <td>barack obama</td>\n",
              "      <td>refugees for us resettlement to 10000 by gardi...</td>\n",
              "      <td>nytimes.com</td>\n",
              "      <td>0</td>\n",
              "      <td>1</td>\n",
              "    </tr>\n",
              "    <tr>\n",
              "      <th>9627</th>\n",
              "      <td>Mostly False</td>\n",
              "      <td>2014_feb_05_john-boehner_john-boehner-says-oba...</td>\n",
              "      <td>says president barack obamas health care law e...</td>\n",
              "      <td>john boehner</td>\n",
              "      <td>calendar 19 dec 2pm est 20 dec 12pm est 21 dec...</td>\n",
              "      <td>reddit.com</td>\n",
              "      <td>0</td>\n",
              "      <td>1</td>\n",
              "    </tr>\n",
              "    <tr>\n",
              "      <th>6208</th>\n",
              "      <td>Pants on Fire!</td>\n",
              "      <td>2008_oct_22_republican-national-committee-repu...</td>\n",
              "      <td>barack obama thinks terrorists need good talking</td>\n",
              "      <td>republican national committee</td>\n",
              "      <td>the front of an airplane an apparent reference...</td>\n",
              "      <td>typepad.com</td>\n",
              "      <td>0</td>\n",
              "      <td>1</td>\n",
              "    </tr>\n",
              "    <tr>\n",
              "      <th>6209</th>\n",
              "      <td>Pants on Fire!</td>\n",
              "      <td>2008_oct_22_republican-national-committee-repu...</td>\n",
              "      <td>barack obama thinks terrorists need good talking</td>\n",
              "      <td>republican national committee</td>\n",
              "      <td>national committee is out with a vicious attac...</td>\n",
              "      <td>huffingtonpost.com</td>\n",
              "      <td>0</td>\n",
              "      <td>1</td>\n",
              "    </tr>\n",
              "    <tr>\n",
              "      <th>969</th>\n",
              "      <td>False</td>\n",
              "      <td>2015_apr_16_hillary-clinton_hillary-clinton-fl...</td>\n",
              "      <td>says grandparents immigrated america</td>\n",
              "      <td>hillary clinton</td>\n",
              "      <td>sections shows live news network 2017 abc news...</td>\n",
              "      <td>go.com</td>\n",
              "      <td>0</td>\n",
              "      <td>1</td>\n",
              "    </tr>\n",
              "    <tr>\n",
              "      <th>6207</th>\n",
              "      <td>Pants on Fire!</td>\n",
              "      <td>2008_oct_22_republican-national-committee-repu...</td>\n",
              "      <td>barack obama thinks terrorists need good talking</td>\n",
              "      <td>republican national committee</td>\n",
              "      <td>photos and the text of a flyer being sent to v...</td>\n",
              "      <td>rightwingwatch.org</td>\n",
              "      <td>0</td>\n",
              "      <td>1</td>\n",
              "    </tr>\n",
              "    <tr>\n",
              "      <th>28602</th>\n",
              "      <td>False</td>\n",
              "      <td>2011_oct_18_mitt-romney_romney-says-barack-oba...</td>\n",
              "      <td>says barack obama never worked private sector ...</td>\n",
              "      <td>mitt romney</td>\n",
              "      <td>10 per game he became a radio announcer before...</td>\n",
              "      <td>cnn.com</td>\n",
              "      <td>0</td>\n",
              "      <td>1</td>\n",
              "    </tr>\n",
              "    <tr>\n",
              "      <th>20676</th>\n",
              "      <td>Mostly True</td>\n",
              "      <td>2017_dec_04_jeff-sessions_violent-crime-some-s...</td>\n",
              "      <td>violent crime rate risen homicide rate risen 2...</td>\n",
              "      <td>jeff sessions</td>\n",
              "      <td>the increasing murder rate may be the start of...</td>\n",
              "      <td>ajc.com</td>\n",
              "      <td>1</td>\n",
              "      <td>0</td>\n",
              "    </tr>\n",
              "    <tr>\n",
              "      <th>11605</th>\n",
              "      <td>Mostly True</td>\n",
              "      <td>2010_jul_13_david-axelrod_republicans-supporte...</td>\n",
              "      <td>republicans extended unemployment insurance pr...</td>\n",
              "      <td>david axelrod</td>\n",
              "      <td>1050 p f saxby chambliss georgia 1040 p f john...</td>\n",
              "      <td>change.org</td>\n",
              "      <td>1</td>\n",
              "      <td>0</td>\n",
              "    </tr>\n",
              "    <tr>\n",
              "      <th>20954</th>\n",
              "      <td>Mostly False</td>\n",
              "      <td>2009_may_29_barack-obama_150000-jobs-created-o...</td>\n",
              "      <td>100 days since passage economic stimulus saved...</td>\n",
              "      <td>barack obama</td>\n",
              "      <td>obama says stimulus plan saved jobs afp pti la...</td>\n",
              "      <td>business-standard.com</td>\n",
              "      <td>0</td>\n",
              "      <td>1</td>\n",
              "    </tr>\n",
              "    <tr>\n",
              "      <th>7930</th>\n",
              "      <td>Mostly False</td>\n",
              "      <td>2011_jul_20_mitt-romney_mitt-romney-says-presi...</td>\n",
              "      <td>first year president obama said going visit ki...</td>\n",
              "      <td>mitt romney</td>\n",
              "      <td>needed to be i think they saw weakness where t...</td>\n",
              "      <td>politico.com</td>\n",
              "      <td>0</td>\n",
              "      <td>1</td>\n",
              "    </tr>\n",
              "    <tr>\n",
              "      <th>15419</th>\n",
              "      <td>Mostly True</td>\n",
              "      <td>2009_nov_05_debbie-wasserman-schultz_wasserman...</td>\n",
              "      <td>gop health care plan would allow health insura...</td>\n",
              "      <td>debbie wasserman schultz</td>\n",
              "      <td>response to the news that congressional republ...</td>\n",
              "      <td>highbeam.com</td>\n",
              "      <td>1</td>\n",
              "      <td>0</td>\n",
              "    </tr>\n",
              "    <tr>\n",
              "      <th>18297</th>\n",
              "      <td>True</td>\n",
              "      <td>2009_jul_30_chain-email_health-care-exchange-g...</td>\n",
              "      <td>private healthcare plans must conform governme...</td>\n",
              "      <td>chain email</td>\n",
              "      <td>an ebay for health insurance a organization de...</td>\n",
              "      <td>2parse.com</td>\n",
              "      <td>1</td>\n",
              "      <td>0</td>\n",
              "    </tr>\n",
              "    <tr>\n",
              "      <th>9230</th>\n",
              "      <td>False</td>\n",
              "      <td>2011_may_11_newt-gingrich_newt-gingrich-inaccu...</td>\n",
              "      <td>four years balanced budget paid 405 billion debt</td>\n",
              "      <td>newt gingrich</td>\n",
              "      <td>for upcoming obligations its on track to end t...</td>\n",
              "      <td>cnn.com</td>\n",
              "      <td>0</td>\n",
              "      <td>1</td>\n",
              "    </tr>\n",
              "    <tr>\n",
              "      <th>13098</th>\n",
              "      <td>Mostly True</td>\n",
              "      <td>2016_jul_26_luis-gutierrez_rep-gutierrez-says-...</td>\n",
              "      <td>fewer people crossing southwest border last 30...</td>\n",
              "      <td>luis gutierrez</td>\n",
              "      <td>the convention we rate the rnc s statement tru...</td>\n",
              "      <td>theindychannel.com</td>\n",
              "      <td>1</td>\n",
              "      <td>0</td>\n",
              "    </tr>\n",
              "    <tr>\n",
              "      <th>20573</th>\n",
              "      <td>Mostly False</td>\n",
              "      <td>2011_oct_18_mitt-romney_illegal-immigrants-did...</td>\n",
              "      <td>dont think ive ever hired illegal life</td>\n",
              "      <td>mitt romney</td>\n",
              "      <td>easy as it looks so id appreciate it if you wo...</td>\n",
              "      <td>imdb.com</td>\n",
              "      <td>0</td>\n",
              "      <td>1</td>\n",
              "    </tr>\n",
              "    <tr>\n",
              "      <th>5779</th>\n",
              "      <td>True</td>\n",
              "      <td>2017_feb_02_keith-ellison_rep-keith-ellison-co...</td>\n",
              "      <td>syrian refugees women children full third kids...</td>\n",
              "      <td>keith ellison</td>\n",
              "      <td>be in the sidebar but is not please message th...</td>\n",
              "      <td>reddit.com</td>\n",
              "      <td>1</td>\n",
              "      <td>0</td>\n",
              "    </tr>\n",
              "    <tr>\n",
              "      <th>9677</th>\n",
              "      <td>Half-True</td>\n",
              "      <td>2008_sep_03_sarah-palin_obamas-taxes-hit-only-...</td>\n",
              "      <td>barack obama supports plans raise income taxes...</td>\n",
              "      <td>sarah palin</td>\n",
              "      <td>get breaking news in your browser click here t...</td>\n",
              "      <td>denverpost.com</td>\n",
              "      <td>1</td>\n",
              "      <td>0</td>\n",
              "    </tr>\n",
              "    <tr>\n",
              "      <th>...</th>\n",
              "      <td>...</td>\n",
              "      <td>...</td>\n",
              "      <td>...</td>\n",
              "      <td>...</td>\n",
              "      <td>...</td>\n",
              "      <td>...</td>\n",
              "      <td>...</td>\n",
              "      <td>...</td>\n",
              "    </tr>\n",
              "    <tr>\n",
              "      <th>22820</th>\n",
              "      <td>Mostly False</td>\n",
              "      <td>2012_apr_24_mitt-romney_mitt-romney-says-hispa...</td>\n",
              "      <td>total unemployment rate hispanic latino worker...</td>\n",
              "      <td>mitt romney</td>\n",
              "      <td>27 so romneys team finds a statistic on unempl...</td>\n",
              "      <td>sheldensays.com</td>\n",
              "      <td>0</td>\n",
              "      <td>1</td>\n",
              "    </tr>\n",
              "    <tr>\n",
              "      <th>9229</th>\n",
              "      <td>Pants on Fire!</td>\n",
              "      <td>2012_mar_07_mitt-romney_mitt-romney-says-iran-...</td>\n",
              "      <td>ronald reagans philosophy peace strength irani...</td>\n",
              "      <td>mitt romney</td>\n",
              "      <td>outside the beltway online journal of politics...</td>\n",
              "      <td>outsidethebeltway.com</td>\n",
              "      <td>0</td>\n",
              "      <td>1</td>\n",
              "    </tr>\n",
              "    <tr>\n",
              "      <th>16610</th>\n",
              "      <td>Mostly True</td>\n",
              "      <td>2016_jul_21_donald-trump_donald-trump-largely-...</td>\n",
              "      <td>household incomes 4000 since year 2000</td>\n",
              "      <td>donald trump</td>\n",
              "      <td>in cleveland what about our economy he asked r...</td>\n",
              "      <td>medium.com</td>\n",
              "      <td>1</td>\n",
              "      <td>0</td>\n",
              "    </tr>\n",
              "    <tr>\n",
              "      <th>28532</th>\n",
              "      <td>False</td>\n",
              "      <td>2011_feb_15_barack-obama_barack-obama-says-whi...</td>\n",
              "      <td>white houses budget proposal not adding nation...</td>\n",
              "      <td>barack obama</td>\n",
              "      <td>the release of the budget feb 14 and continued...</td>\n",
              "      <td>factcheck.org</td>\n",
              "      <td>0</td>\n",
              "      <td>1</td>\n",
              "    </tr>\n",
              "    <tr>\n",
              "      <th>16293</th>\n",
              "      <td>True</td>\n",
              "      <td>2015_sep_13_scott-walker_scott-walker-im-only-...</td>\n",
              "      <td>im governor america signed law says needs inde...</td>\n",
              "      <td>scott walker</td>\n",
              "      <td>about the hamilton investigation for that matt...</td>\n",
              "      <td>urbanmilwaukee.com</td>\n",
              "      <td>1</td>\n",
              "      <td>0</td>\n",
              "    </tr>\n",
              "    <tr>\n",
              "      <th>18296</th>\n",
              "      <td>True</td>\n",
              "      <td>2009_jul_30_chain-email_health-care-exchange-g...</td>\n",
              "      <td>private healthcare plans must conform governme...</td>\n",
              "      <td>chain email</td>\n",
              "      <td>former employers or employee associations as w...</td>\n",
              "      <td>factcheck.org</td>\n",
              "      <td>1</td>\n",
              "      <td>0</td>\n",
              "    </tr>\n",
              "    <tr>\n",
              "      <th>8516</th>\n",
              "      <td>Mostly False</td>\n",
              "      <td>2012_sep_28_bill-clinton_bill-clinton-says-tar...</td>\n",
              "      <td>says government gotten tarp money back plus pr...</td>\n",
              "      <td>bill clinton</td>\n",
              "      <td>of its acquisition of wachovia in december 200...</td>\n",
              "      <td>publicintegrity.org</td>\n",
              "      <td>0</td>\n",
              "      <td>1</td>\n",
              "    </tr>\n",
              "    <tr>\n",
              "      <th>17642</th>\n",
              "      <td>Mostly False</td>\n",
              "      <td>2014_feb_14_patriot-majority-usa_demcratic-gro...</td>\n",
              "      <td>says north carolina republican senate candidat...</td>\n",
              "      <td>patriot majority usa</td>\n",
              "      <td>tpm dc in it but not of it this republican rev...</td>\n",
              "      <td>talkingpointsmemo.com</td>\n",
              "      <td>0</td>\n",
              "      <td>1</td>\n",
              "    </tr>\n",
              "    <tr>\n",
              "      <th>3785</th>\n",
              "      <td>Mostly True</td>\n",
              "      <td>2013_feb_08_zoe-lofgren_rep-zoe-lofgren-says-u...</td>\n",
              "      <td>exception slavery chinese exclusion act laws n...</td>\n",
              "      <td>zoe lofgren</td>\n",
              "      <td>be clear that the immigration system currently...</td>\n",
              "      <td>kqed.org</td>\n",
              "      <td>1</td>\n",
              "      <td>0</td>\n",
              "    </tr>\n",
              "    <tr>\n",
              "      <th>25901</th>\n",
              "      <td>True</td>\n",
              "      <td>2007_oct_17_joe-biden_richardson-now-opposes-r...</td>\n",
              "      <td>first said would leave residual forces iraq sa...</td>\n",
              "      <td>joe biden</td>\n",
              "      <td>just want to know she said with all due respec...</td>\n",
              "      <td>thehill.com</td>\n",
              "      <td>1</td>\n",
              "      <td>0</td>\n",
              "    </tr>\n",
              "    <tr>\n",
              "      <th>14344</th>\n",
              "      <td>Mostly True</td>\n",
              "      <td>2011_mar_02_deval-patrick_deval-patrick-said-m...</td>\n",
              "      <td>2006 massachusetts health care law added 1 per...</td>\n",
              "      <td>deval patrick</td>\n",
              "      <td>1 billion in massachusetts primarily due to af...</td>\n",
              "      <td>masslive.com</td>\n",
              "      <td>1</td>\n",
              "      <td>0</td>\n",
              "    </tr>\n",
              "    <tr>\n",
              "      <th>9213</th>\n",
              "      <td>Half-True</td>\n",
              "      <td>2013_sep_25_tom-graves_rep-graves-says-obama-h...</td>\n",
              "      <td>says president barack obama amended delayed re...</td>\n",
              "      <td>tom graves</td>\n",
              "      <td>jerry moran left and sen pat roberts 2016 file...</td>\n",
              "      <td>cjonline.com</td>\n",
              "      <td>1</td>\n",
              "      <td>0</td>\n",
              "    </tr>\n",
              "    <tr>\n",
              "      <th>16292</th>\n",
              "      <td>True</td>\n",
              "      <td>2015_sep_13_scott-walker_scott-walker-im-only-...</td>\n",
              "      <td>im governor america signed law says needs inde...</td>\n",
              "      <td>scott walker</td>\n",
              "      <td>country i know the overwhelming majority of th...</td>\n",
              "      <td>ontheissues.org</td>\n",
              "      <td>1</td>\n",
              "      <td>0</td>\n",
              "    </tr>\n",
              "    <tr>\n",
              "      <th>5582</th>\n",
              "      <td>False</td>\n",
              "      <td>2011_may_11_barack-obama_barack-obama-says-us-...</td>\n",
              "      <td>president barack obama united states doubled e...</td>\n",
              "      <td>barack obama</td>\n",
              "      <td>barack obama illinois state senator us senator...</td>\n",
              "      <td>wikipedia.org</td>\n",
              "      <td>0</td>\n",
              "      <td>1</td>\n",
              "    </tr>\n",
              "    <tr>\n",
              "      <th>6955</th>\n",
              "      <td>False</td>\n",
              "      <td>2008_jan_11_john-mccain_mccain-led-the-charge-...</td>\n",
              "      <td>supported surge argued im one stage</td>\n",
              "      <td>john mccain</td>\n",
              "      <td>true thus again at the south carolina debate o...</td>\n",
              "      <td>townhall.com</td>\n",
              "      <td>0</td>\n",
              "      <td>1</td>\n",
              "    </tr>\n",
              "    <tr>\n",
              "      <th>4131</th>\n",
              "      <td>True</td>\n",
              "      <td>2017_aug_08_donald-trump_renovations-Trump-out...</td>\n",
              "      <td>says time away washington coincides long plann...</td>\n",
              "      <td>donald trump</td>\n",
              "      <td>degrees with no air conditioning walters assur...</td>\n",
              "      <td>cleveland.com</td>\n",
              "      <td>1</td>\n",
              "      <td>0</td>\n",
              "    </tr>\n",
              "    <tr>\n",
              "      <th>23458</th>\n",
              "      <td>Pants on Fire!</td>\n",
              "      <td>2011_dec_21_newt-gingrich_newt-gingrich-says-n...</td>\n",
              "      <td>no federal official level currently allowed sa...</td>\n",
              "      <td>newt gingrich</td>\n",
              "      <td>19 gingrich revealed the results of something ...</td>\n",
              "      <td>salon.com</td>\n",
              "      <td>0</td>\n",
              "      <td>1</td>\n",
              "    </tr>\n",
              "    <tr>\n",
              "      <th>6640</th>\n",
              "      <td>False</td>\n",
              "      <td>2011_feb_08_barack-obama_president-obama-says-...</td>\n",
              "      <td>twelve judges thrown legal challenges health c...</td>\n",
              "      <td>barack obama</td>\n",
              "      <td>white house s budget proposal we will not be a...</td>\n",
              "      <td>ning.com</td>\n",
              "      <td>0</td>\n",
              "      <td>1</td>\n",
              "    </tr>\n",
              "    <tr>\n",
              "      <th>14129</th>\n",
              "      <td>False</td>\n",
              "      <td>2009_feb_27_john-mccain_mccain-says-obama-will...</td>\n",
              "      <td>presidents plan even end withdrawal timeline r...</td>\n",
              "      <td>john mccain</td>\n",
              "      <td>told marines at camp lejeune north carolina un...</td>\n",
              "      <td>cnn.com</td>\n",
              "      <td>0</td>\n",
              "      <td>1</td>\n",
              "    </tr>\n",
              "    <tr>\n",
              "      <th>16611</th>\n",
              "      <td>Mostly True</td>\n",
              "      <td>2016_jul_21_donald-trump_donald-trump-largely-...</td>\n",
              "      <td>household incomes 4000 since year 2000</td>\n",
              "      <td>donald trump</td>\n",
              "      <td>share was 145 the lowest on record the bottom ...</td>\n",
              "      <td>epi.org</td>\n",
              "      <td>1</td>\n",
              "      <td>0</td>\n",
              "    </tr>\n",
              "    <tr>\n",
              "      <th>14730</th>\n",
              "      <td>False</td>\n",
              "      <td>425.json</td>\n",
              "      <td>democrats budget resolution would raise americ...</td>\n",
              "      <td>john mccain</td>\n",
              "      <td>see a rate cut ryan said middle class taxpayer...</td>\n",
              "      <td>bloomberg.com</td>\n",
              "      <td>0</td>\n",
              "      <td>1</td>\n",
              "    </tr>\n",
              "    <tr>\n",
              "      <th>15586</th>\n",
              "      <td>Mostly True</td>\n",
              "      <td>2016_jul_05_elizabeth-warren_warren-says-trump...</td>\n",
              "      <td>says donald trumps position isto roll back fin...</td>\n",
              "      <td>elizabeth warren</td>\n",
              "      <td>her on his pence pick she tweeted of course a ...</td>\n",
              "      <td>politicususa.com</td>\n",
              "      <td>1</td>\n",
              "      <td>0</td>\n",
              "    </tr>\n",
              "    <tr>\n",
              "      <th>14716</th>\n",
              "      <td>False</td>\n",
              "      <td>2009_jul_14_republican-national-committee-repu...</td>\n",
              "      <td>obama administration offered 900 million hamas...</td>\n",
              "      <td>republican national committee</td>\n",
              "      <td>lie not every victim of september 11th 2001 di...</td>\n",
              "      <td>911billofrights.blogspot.com</td>\n",
              "      <td>0</td>\n",
              "      <td>1</td>\n",
              "    </tr>\n",
              "    <tr>\n",
              "      <th>11980</th>\n",
              "      <td>Half-True</td>\n",
              "      <td>2014_aug_31_peter-king_peter-king-us-had-allie...</td>\n",
              "      <td>united states allies lined air strikes syria o...</td>\n",
              "      <td>peter king</td>\n",
              "      <td>in syria and we had allies lined up and then t...</td>\n",
              "      <td>thedailybeast.com</td>\n",
              "      <td>1</td>\n",
              "      <td>0</td>\n",
              "    </tr>\n",
              "    <tr>\n",
              "      <th>21160</th>\n",
              "      <td>Mostly False</td>\n",
              "      <td>2009_may_13_newt-gingrich_gingrich-wrong-democ...</td>\n",
              "      <td>democrats congress control since january 2007 ...</td>\n",
              "      <td>newt gingrich</td>\n",
              "      <td>with the president this past week to discuss e...</td>\n",
              "      <td>huffingtonpost.com</td>\n",
              "      <td>0</td>\n",
              "      <td>1</td>\n",
              "    </tr>\n",
              "    <tr>\n",
              "      <th>11981</th>\n",
              "      <td>Half-True</td>\n",
              "      <td>2014_aug_31_peter-king_peter-king-us-had-allie...</td>\n",
              "      <td>united states allies lined air strikes syria o...</td>\n",
              "      <td>peter king</td>\n",
              "      <td>and now they dont trust the president and that...</td>\n",
              "      <td>crooksandliars.com</td>\n",
              "      <td>1</td>\n",
              "      <td>0</td>\n",
              "    </tr>\n",
              "    <tr>\n",
              "      <th>25310</th>\n",
              "      <td>False</td>\n",
              "      <td>2009_mar_24_house-republicans_Republicans-accu...</td>\n",
              "      <td>obama nominee dawn johnsen called motherhood i...</td>\n",
              "      <td>house republican conference</td>\n",
              "      <td>found a smear forward it to smear dawn johnsen...</td>\n",
              "      <td>mediamattersaction.org</td>\n",
              "      <td>0</td>\n",
              "      <td>1</td>\n",
              "    </tr>\n",
              "    <tr>\n",
              "      <th>7931</th>\n",
              "      <td>Mostly False</td>\n",
              "      <td>2011_jul_20_mitt-romney_mitt-romney-says-presi...</td>\n",
              "      <td>first year president obama said going visit ki...</td>\n",
              "      <td>mitt romney</td>\n",
              "      <td>skipped israel romney added that the relations...</td>\n",
              "      <td>townhall.com</td>\n",
              "      <td>0</td>\n",
              "      <td>1</td>\n",
              "    </tr>\n",
              "    <tr>\n",
              "      <th>20486</th>\n",
              "      <td>False</td>\n",
              "      <td>2010_mar_15_mitt-romney_obama-remarks-never-tr...</td>\n",
              "      <td>several times obama apologized deems american ...</td>\n",
              "      <td>mitt romney</td>\n",
              "      <td>worst mark possible in its it included this ki...</td>\n",
              "      <td>denverpost.com</td>\n",
              "      <td>0</td>\n",
              "      <td>1</td>\n",
              "    </tr>\n",
              "    <tr>\n",
              "      <th>13124</th>\n",
              "      <td>Mostly True</td>\n",
              "      <td>2010_apr_12_robert-gates_gates-said-leaked-mil...</td>\n",
              "      <td>video doesnt show broader picture firing going...</td>\n",
              "      <td>robert gates</td>\n",
              "      <td>out anything they want and theyre never held a...</td>\n",
              "      <td>wikipedia.org</td>\n",
              "      <td>1</td>\n",
              "      <td>0</td>\n",
              "    </tr>\n",
              "  </tbody>\n",
              "</table>\n",
              "<p>64 rows × 8 columns</p>\n",
              "</div>"
            ],
            "text/plain": [
              "           cred_label  ... model_pred\n",
              "2760        Half-True  ...          0\n",
              "24400           False  ...          1\n",
              "8775            False  ...          1\n",
              "24968     Mostly True  ...          0\n",
              "4483     Mostly False  ...          1\n",
              "20475       Half-True  ...          0\n",
              "627       Mostly True  ...          0\n",
              "2786   Pants on Fire!  ...          1\n",
              "8995     Mostly False  ...          1\n",
              "17132       Half-True  ...          0\n",
              "8517     Mostly False  ...          1\n",
              "16958       Half-True  ...          0\n",
              "5583            False  ...          1\n",
              "9627     Mostly False  ...          1\n",
              "6208   Pants on Fire!  ...          1\n",
              "6209   Pants on Fire!  ...          1\n",
              "969             False  ...          1\n",
              "6207   Pants on Fire!  ...          1\n",
              "28602           False  ...          1\n",
              "20676     Mostly True  ...          0\n",
              "11605     Mostly True  ...          0\n",
              "20954    Mostly False  ...          1\n",
              "7930     Mostly False  ...          1\n",
              "15419     Mostly True  ...          0\n",
              "18297            True  ...          0\n",
              "9230            False  ...          1\n",
              "13098     Mostly True  ...          0\n",
              "20573    Mostly False  ...          1\n",
              "5779             True  ...          0\n",
              "9677        Half-True  ...          0\n",
              "...               ...  ...        ...\n",
              "22820    Mostly False  ...          1\n",
              "9229   Pants on Fire!  ...          1\n",
              "16610     Mostly True  ...          0\n",
              "28532           False  ...          1\n",
              "16293            True  ...          0\n",
              "18296            True  ...          0\n",
              "8516     Mostly False  ...          1\n",
              "17642    Mostly False  ...          1\n",
              "3785      Mostly True  ...          0\n",
              "25901            True  ...          0\n",
              "14344     Mostly True  ...          0\n",
              "9213        Half-True  ...          0\n",
              "16292            True  ...          0\n",
              "5582            False  ...          1\n",
              "6955            False  ...          1\n",
              "4131             True  ...          0\n",
              "23458  Pants on Fire!  ...          1\n",
              "6640            False  ...          1\n",
              "14129           False  ...          1\n",
              "16611     Mostly True  ...          0\n",
              "14730           False  ...          1\n",
              "15586     Mostly True  ...          0\n",
              "14716           False  ...          1\n",
              "11980       Half-True  ...          0\n",
              "21160    Mostly False  ...          1\n",
              "11981       Half-True  ...          0\n",
              "25310           False  ...          1\n",
              "7931     Mostly False  ...          1\n",
              "20486           False  ...          1\n",
              "13124     Mostly True  ...          0\n",
              "\n",
              "[64 rows x 8 columns]"
            ]
          },
          "metadata": {
            "tags": []
          },
          "execution_count": 64
        }
      ]
    },
    {
      "cell_type": "code",
      "metadata": {
        "id": "nLFbavcDn_69",
        "colab_type": "code",
        "colab": {}
      },
      "source": [
        "# Write to csv\n",
        "unique_test_or.to_csv('declare_politifact.csv', sep='\\t')"
      ],
      "execution_count": 0,
      "outputs": []
    },
    {
      "cell_type": "markdown",
      "metadata": {
        "id": "PKivsdrIA4A1",
        "colab_type": "text"
      },
      "source": [
        "## Bibliography"
      ]
    },
    {
      "cell_type": "markdown",
      "metadata": {
        "id": "dFhjf8kJA6ll",
        "colab_type": "text"
      },
      "source": [
        "Kashyap Popat, Subhabrata Mukherjee, Andrew Yates and Gerhard Weikum, <i>DeClarE: Debunking Fake News and False Claims using Evidence-Aware Deep Learning</i>, Proceedings of the 2018 Conference on Empirical Methods in Natural Language Processing, Pages 22-32, 2018."
      ]
    }
  ]
}